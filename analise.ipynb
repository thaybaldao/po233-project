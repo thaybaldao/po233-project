{
 "metadata": {
  "language_info": {
   "codemirror_mode": {
    "name": "ipython",
    "version": 3
   },
   "file_extension": ".py",
   "mimetype": "text/x-python",
   "name": "python",
   "nbconvert_exporter": "python",
   "pygments_lexer": "ipython3",
   "version": "3.8.8"
  },
  "orig_nbformat": 4,
  "kernelspec": {
   "name": "python3",
   "display_name": "Python 3.8.8 64-bit ('ct213': conda)"
  },
  "interpreter": {
   "hash": "144762e96ae07dfd72ac09e6b5ab033ed6d8ce30e36c5e495fd9bc099278cfa7"
  }
 },
 "nbformat": 4,
 "nbformat_minor": 2,
 "cells": [
  {
   "source": [
    "# Algoritmos a serem utilizados\n",
    "# k-Nearest Neighbors (kNN), Random Fo-rests, XGBoost, Support Vector Regression (SVR) e Neural Networks."
   ],
   "cell_type": "code",
   "metadata": {},
   "execution_count": 1,
   "outputs": []
  },
  {
   "cell_type": "code",
   "execution_count": 12,
   "metadata": {},
   "outputs": [],
   "source": [
    "# Importando os pacotes necessários para a análise\n",
    "\n",
    "import os\n",
    "\n",
    "import pandas            as pd\n",
    "# import geopandas         as gpd\n",
    "import numpy             as np\n",
    "import scipy             as sc\n",
    "import matplotlib.pyplot as plt\n",
    "from sklearn.model_selection import train_test_split, GridSearchCV\n",
    "from sklearn.metrics import mean_squared_log_error,make_scorer\n",
    "# import seaborn           as sns\n",
    "\n",
    "# from google_drive_downloader import GoogleDriveDownloader as gdd\n",
    "# from sklearn.preprocessing import OneHotEncoder\n",
    "# from sklearn.preprocessing import OrdinalEncoder\n",
    "\n",
    "# import mapclassify\n",
    "\n",
    "pd.set_option('display.max_columns', None)  \n",
    "pd.set_option('display.expand_frame_repr', False)\n",
    "pd.reset_option('max_colwidth')"
   ]
  },
  {
   "cell_type": "code",
   "execution_count": 8,
   "metadata": {},
   "outputs": [
    {
     "output_type": "stream",
     "name": "stdout",
     "text": [
      "Formato dos dados:  (449633, 11)\n#Exemplos: 449633\n#Atributos: 11\n"
     ]
    }
   ],
   "source": [
    "# Lendo a base de dados\n",
    "\n",
    "df = pd.read_csv('dataset.csv')\n",
    "df = df.drop('PH',1)\n",
    "print(\"Formato dos dados: \", df.shape)\n",
    "print(\"#Exemplos: {}\".format(df.shape[0]))\n",
    "print(\"#Atributos: {}\".format(df.shape[1]))"
   ]
  },
  {
   "cell_type": "code",
   "execution_count": 9,
   "metadata": {},
   "outputs": [
    {
     "output_type": "execute_result",
     "data": {
      "text/plain": [
       "created_on               float64\n",
       "lat                      float64\n",
       "lon                      float64\n",
       "surface_total_in_m2      float64\n",
       "surface_covered_in_m2    float64\n",
       "rooms                    float64\n",
       "expenses                 float64\n",
       "apartment                float64\n",
       "house                    float64\n",
       "store                    float64\n",
       "price                    float64\n",
       "dtype: object"
      ]
     },
     "metadata": {},
     "execution_count": 9
    }
   ],
   "source": [
    "df.dtypes"
   ]
  },
  {
   "cell_type": "code",
   "execution_count": 10,
   "metadata": {},
   "outputs": [
    {
     "output_type": "execute_result",
     "data": {
      "text/plain": [
       "   created_on       lat       lon  surface_total_in_m2  surface_covered_in_m2  rooms  expenses  apartment  house  store     price\n",
       "0    0.786688  0.311355  0.664401            -0.001542              -0.001534    0.2  0.005237        1.0    0.0    0.0  900000.0\n",
       "1    0.808340  0.124457  0.537113            -0.001539              -0.001531    0.2 -0.026410        1.0    0.0    0.0  750000.0\n",
       "2    0.455493  0.259170  0.591096            -0.001515              -0.001507    0.2 -0.026410        0.0    1.0    0.0  880000.0\n",
       "3    0.605453  0.312925  0.668791            -0.001522              -0.001514    0.2 -0.026410        0.0    1.0    0.0  580000.0\n",
       "4    0.612670  0.363826  0.668130            -0.001524              -0.001478    0.4 -0.026410        1.0    0.0    0.0  420000.0"
      ],
      "text/html": "<div>\n<style scoped>\n    .dataframe tbody tr th:only-of-type {\n        vertical-align: middle;\n    }\n\n    .dataframe tbody tr th {\n        vertical-align: top;\n    }\n\n    .dataframe thead th {\n        text-align: right;\n    }\n</style>\n<table border=\"1\" class=\"dataframe\">\n  <thead>\n    <tr style=\"text-align: right;\">\n      <th></th>\n      <th>created_on</th>\n      <th>lat</th>\n      <th>lon</th>\n      <th>surface_total_in_m2</th>\n      <th>surface_covered_in_m2</th>\n      <th>rooms</th>\n      <th>expenses</th>\n      <th>apartment</th>\n      <th>house</th>\n      <th>store</th>\n      <th>price</th>\n    </tr>\n  </thead>\n  <tbody>\n    <tr>\n      <th>0</th>\n      <td>0.786688</td>\n      <td>0.311355</td>\n      <td>0.664401</td>\n      <td>-0.001542</td>\n      <td>-0.001534</td>\n      <td>0.2</td>\n      <td>0.005237</td>\n      <td>1.0</td>\n      <td>0.0</td>\n      <td>0.0</td>\n      <td>900000.0</td>\n    </tr>\n    <tr>\n      <th>1</th>\n      <td>0.808340</td>\n      <td>0.124457</td>\n      <td>0.537113</td>\n      <td>-0.001539</td>\n      <td>-0.001531</td>\n      <td>0.2</td>\n      <td>-0.026410</td>\n      <td>1.0</td>\n      <td>0.0</td>\n      <td>0.0</td>\n      <td>750000.0</td>\n    </tr>\n    <tr>\n      <th>2</th>\n      <td>0.455493</td>\n      <td>0.259170</td>\n      <td>0.591096</td>\n      <td>-0.001515</td>\n      <td>-0.001507</td>\n      <td>0.2</td>\n      <td>-0.026410</td>\n      <td>0.0</td>\n      <td>1.0</td>\n      <td>0.0</td>\n      <td>880000.0</td>\n    </tr>\n    <tr>\n      <th>3</th>\n      <td>0.605453</td>\n      <td>0.312925</td>\n      <td>0.668791</td>\n      <td>-0.001522</td>\n      <td>-0.001514</td>\n      <td>0.2</td>\n      <td>-0.026410</td>\n      <td>0.0</td>\n      <td>1.0</td>\n      <td>0.0</td>\n      <td>580000.0</td>\n    </tr>\n    <tr>\n      <th>4</th>\n      <td>0.612670</td>\n      <td>0.363826</td>\n      <td>0.668130</td>\n      <td>-0.001524</td>\n      <td>-0.001478</td>\n      <td>0.4</td>\n      <td>-0.026410</td>\n      <td>1.0</td>\n      <td>0.0</td>\n      <td>0.0</td>\n      <td>420000.0</td>\n    </tr>\n  </tbody>\n</table>\n</div>"
     },
     "metadata": {},
     "execution_count": 10
    }
   ],
   "source": [
    "df.head()"
   ]
  },
  {
   "source": [
    "# k-Nearest Neighbors (kNN)"
   ],
   "cell_type": "markdown",
   "metadata": {}
  },
  {
   "cell_type": "code",
   "execution_count": 12,
   "metadata": {},
   "outputs": [],
   "source": [
    "from sklearn.neighbors import KNeighborsRegressor"
   ]
  },
  {
   "cell_type": "code",
   "execution_count": 30,
   "metadata": {},
   "outputs": [],
   "source": [
    "n_neighbors = 5\n",
    "X = df.drop(\"price\",1)\n",
    "y = df.price\n",
    "X_train, X_test, y_train, y_test = train_test_split(X, y, test_size=0.33)"
   ]
  },
  {
   "cell_type": "code",
   "execution_count": 31,
   "metadata": {},
   "outputs": [],
   "source": [
    "model = KNeighborsRegressor(n_neighbors=11,weights='distance',p=1,n_jobs=-1,algorithm='auto')\n",
    "y_predicted = model.fit(X_train, y_train).predict(X_test)"
   ]
  },
  {
   "cell_type": "code",
   "execution_count": 32,
   "metadata": {},
   "outputs": [
    {
     "output_type": "execute_result",
     "data": {
      "text/plain": [
       "0.4934027111616297"
      ]
     },
     "metadata": {},
     "execution_count": 32
    }
   ],
   "source": [
    "np.sqrt(mean_squared_log_error(y_test,y_predicted))"
   ]
  },
  {
   "cell_type": "code",
   "execution_count": 15,
   "metadata": {},
   "outputs": [],
   "source": [
    "grid_params = {\n",
    "    \n",
    "'n_neighbors': [3,5,11,19],\n",
    "'p': [1,2,3,4],\n",
    "\n",
    "}\n",
    "\n",
    "scorer = make_scorer(mean_squared_log_error,greater_is_better=False)\n",
    "\n",
    "gs = GridSearchCV(KNeighborsRegressor(algorithm='auto',weights='distance'),grid_params,verbose=4,n_jobs=-1,scoring=scorer,return_train_score=True)"
   ]
  },
  {
   "cell_type": "code",
   "execution_count": 16,
   "metadata": {},
   "outputs": [
    {
     "output_type": "stream",
     "name": "stdout",
     "text": [
      "Fitting 5 folds for each of 16 candidates, totalling 80 fits\n"
     ]
    }
   ],
   "source": [
    "gs_results = gs.fit(X_train,y_train)"
   ]
  },
  {
   "cell_type": "code",
   "execution_count": 17,
   "metadata": {},
   "outputs": [
    {
     "output_type": "execute_result",
     "data": {
      "text/plain": [
       "-0.2613317576746265"
      ]
     },
     "metadata": {},
     "execution_count": 17
    }
   ],
   "source": [
    "gs_results.best_score_"
   ]
  },
  {
   "cell_type": "code",
   "execution_count": 18,
   "metadata": {},
   "outputs": [
    {
     "output_type": "execute_result",
     "data": {
      "text/plain": [
       "KNeighborsRegressor(n_neighbors=11, p=1, weights='distance')"
      ]
     },
     "metadata": {},
     "execution_count": 18
    }
   ],
   "source": [
    "gs_results.best_estimator_"
   ]
  },
  {
   "cell_type": "code",
   "execution_count": 19,
   "metadata": {},
   "outputs": [
    {
     "output_type": "execute_result",
     "data": {
      "text/plain": [
       "{'n_neighbors': 11, 'p': 1}"
      ]
     },
     "metadata": {},
     "execution_count": 19
    }
   ],
   "source": [
    "gs_results.best_params_"
   ]
  },
  {
   "cell_type": "code",
   "execution_count": 21,
   "metadata": {},
   "outputs": [
    {
     "output_type": "execute_result",
     "data": {
      "text/plain": [
       "{'mean_fit_time': array([155.65409689, 138.71263227, 125.54477477,  92.60155334,\n",
       "        123.56682987, 108.43741112, 100.94873357,  81.83847842,\n",
       "         98.41120105, 105.65081134,  93.66024442,  70.88209281,\n",
       "         86.04334865,  95.97713847,  92.76323152,  71.78684978]),\n",
       " 'std_fit_time': array([69.51261602, 77.48664065, 47.71108339, 51.62037566, 60.51779879,\n",
       "        64.73771596, 57.9755436 , 40.74859141, 68.91742898, 62.58419161,\n",
       "        55.77248816, 43.83014909, 55.25336807, 63.14066005, 57.27041544,\n",
       "        44.82143194]),\n",
       " 'mean_score_time': array([ 77.44248667,  79.09174151, 216.5306376 , 220.66417241,\n",
       "         79.57625108,  79.70739946, 243.84156795, 260.24075799,\n",
       "         86.22830782,  85.7026288 , 271.26244512, 256.54212604,\n",
       "         92.70610199,  94.61576734, 305.41920619, 296.17921791]),\n",
       " 'std_score_time': array([21.66035565, 23.03979471, 54.53025379, 57.16198608, 20.5400987 ,\n",
       "        21.8697517 , 65.58642716, 75.80449118, 22.63495634, 22.12637591,\n",
       "        68.52555229, 66.14047386, 21.58256072, 24.60187297, 76.77112227,\n",
       "        67.3840401 ]),\n",
       " 'param_n_neighbors': masked_array(data=[3, 3, 3, 3, 5, 5, 5, 5, 11, 11, 11, 11, 19, 19, 19, 19],\n",
       "              mask=[False, False, False, False, False, False, False, False,\n",
       "                    False, False, False, False, False, False, False, False],\n",
       "        fill_value='?',\n",
       "             dtype=object),\n",
       " 'param_p': masked_array(data=[1, 2, 3, 4, 1, 2, 3, 4, 1, 2, 3, 4, 1, 2, 3, 4],\n",
       "              mask=[False, False, False, False, False, False, False, False,\n",
       "                    False, False, False, False, False, False, False, False],\n",
       "        fill_value='?',\n",
       "             dtype=object),\n",
       " 'params': [{'n_neighbors': 3, 'p': 1},\n",
       "  {'n_neighbors': 3, 'p': 2},\n",
       "  {'n_neighbors': 3, 'p': 3},\n",
       "  {'n_neighbors': 3, 'p': 4},\n",
       "  {'n_neighbors': 5, 'p': 1},\n",
       "  {'n_neighbors': 5, 'p': 2},\n",
       "  {'n_neighbors': 5, 'p': 3},\n",
       "  {'n_neighbors': 5, 'p': 4},\n",
       "  {'n_neighbors': 11, 'p': 1},\n",
       "  {'n_neighbors': 11, 'p': 2},\n",
       "  {'n_neighbors': 11, 'p': 3},\n",
       "  {'n_neighbors': 11, 'p': 4},\n",
       "  {'n_neighbors': 19, 'p': 1},\n",
       "  {'n_neighbors': 19, 'p': 2},\n",
       "  {'n_neighbors': 19, 'p': 3},\n",
       "  {'n_neighbors': 19, 'p': 4}],\n",
       " 'split0_test_score': array([-0.27618061, -0.29297557, -0.29686941, -0.2988531 , -0.2668998 ,\n",
       "        -0.28226011, -0.28664014, -0.28785678, -0.26201705, -0.27611144,\n",
       "        -0.27947097, -0.28094968, -0.26554774, -0.27787866, -0.28100953,\n",
       "        -0.28244606]),\n",
       " 'split1_test_score': array([-0.27888915, -0.29294594, -0.29823128, -0.30079438, -0.26637707,\n",
       "        -0.28062969, -0.28443132, -0.28625021, -0.26166593, -0.2745332 ,\n",
       "        -0.27743202, -0.27830919, -0.26435104, -0.27600635, -0.27868346,\n",
       "        -0.27974446]),\n",
       " 'split2_test_score': array([-0.27981117, -0.29511957, -0.30063846, -0.30199379, -0.26653683,\n",
       "        -0.28110131, -0.28538583, -0.28651944, -0.26072942, -0.27412028,\n",
       "        -0.27736806, -0.27834346, -0.26426389, -0.27666894, -0.2797195 ,\n",
       "        -0.28062087]),\n",
       " 'split3_test_score': array([-0.275183  , -0.29155716, -0.29581029, -0.29687417, -0.26508454,\n",
       "        -0.27859729, -0.28289451, -0.28416905, -0.26128672, -0.27471524,\n",
       "        -0.27790451, -0.27961703, -0.26454102, -0.27717245, -0.2801653 ,\n",
       "        -0.281406  ]),\n",
       " 'split4_test_score': array([-0.2789973 , -0.2936428 , -0.29708315, -0.29908646, -0.26664767,\n",
       "        -0.28124985, -0.28457001, -0.28589678, -0.26095967, -0.27462741,\n",
       "        -0.27808462, -0.27945073, -0.26325539, -0.2759687 , -0.27939514,\n",
       "        -0.28049126]),\n",
       " 'mean_test_score': array([-0.27781224, -0.29324821, -0.29772652, -0.29952038, -0.26630918,\n",
       "        -0.28076765, -0.28478436, -0.28613845, -0.26133176, -0.27482151,\n",
       "        -0.27805204, -0.27933402, -0.26439182, -0.27673902, -0.27979459,\n",
       "        -0.28094173]),\n",
       " 'std_test_score': array([0.00179638, 0.00115612, 0.00164649, 0.00175367, 0.00063554,\n",
       "        0.00120837, 0.00122864, 0.0011872 , 0.00046574, 0.00067642,\n",
       "        0.00076006, 0.0009732 , 0.00073047, 0.00072412, 0.00077631,\n",
       "        0.00091846]),\n",
       " 'rank_test_score': array([ 6, 14, 15, 16,  3, 10, 12, 13,  1,  4,  7,  8,  2,  5,  9, 11]),\n",
       " 'split0_train_score': array([-0.00097207, -0.00097207, -0.00097207, -0.00097207, -0.00092103,\n",
       "        -0.00092103, -0.00092103, -0.00092103, -0.00091759, -0.00091759,\n",
       "        -0.00091759, -0.00091759, -0.00091742, -0.00091742, -0.00091742,\n",
       "        -0.00091742]),\n",
       " 'split1_train_score': array([-0.00102871, -0.00102871, -0.00102871, -0.00102871, -0.0009903 ,\n",
       "        -0.0009903 , -0.0009903 , -0.0009903 , -0.00098463, -0.00098463,\n",
       "        -0.00098463, -0.00098463, -0.00098429, -0.00098429, -0.00098429,\n",
       "        -0.00098429]),\n",
       " 'split2_train_score': array([-0.00100334, -0.00100334, -0.00100334, -0.00100334, -0.00096546,\n",
       "        -0.00096546, -0.00096546, -0.00096546, -0.00096694, -0.00096694,\n",
       "        -0.00096694, -0.00096694, -0.00096693, -0.00096693, -0.00096693,\n",
       "        -0.00096693]),\n",
       " 'split3_train_score': array([-0.00105762, -0.00105762, -0.00105762, -0.00105762, -0.00101055,\n",
       "        -0.00101055, -0.00101055, -0.00101055, -0.00101474, -0.00101474,\n",
       "        -0.00101474, -0.00101474, -0.00101394, -0.00101394, -0.00101394,\n",
       "        -0.00101394]),\n",
       " 'split4_train_score': array([-0.00080431, -0.00080431, -0.00080431, -0.00080431, -0.00077312,\n",
       "        -0.00077312, -0.00077312, -0.00077312, -0.00076825, -0.00076825,\n",
       "        -0.00076825, -0.00076825, -0.00076939, -0.00076939, -0.00076939,\n",
       "        -0.00076939]),\n",
       " 'mean_train_score': array([-0.00097321, -0.00097321, -0.00097321, -0.00097321, -0.00093209,\n",
       "        -0.00093209, -0.00093209, -0.00093209, -0.00093043, -0.00093043,\n",
       "        -0.00093043, -0.00093043, -0.00093039, -0.00093039, -0.00093039,\n",
       "        -0.00093039]),\n",
       " 'std_train_score': array([8.90408512e-05, 8.90408512e-05, 8.90408512e-05, 8.90408512e-05,\n",
       "        8.49112988e-05, 8.49112988e-05, 8.49112988e-05, 8.49112988e-05,\n",
       "        8.70003272e-05, 8.70003272e-05, 8.70003272e-05, 8.70003272e-05,\n",
       "        8.63802318e-05, 8.63802318e-05, 8.63802318e-05, 8.63802318e-05])}"
      ]
     },
     "metadata": {},
     "execution_count": 21
    }
   ],
   "source": [
    "gs_results.cv_results_"
   ]
  },
  {
   "source": [
    "# Random Forest"
   ],
   "cell_type": "markdown",
   "metadata": {}
  },
  {
   "cell_type": "code",
   "execution_count": 82,
   "metadata": {},
   "outputs": [],
   "source": [
    "from sklearn.ensemble import RandomForestRegressor"
   ]
  },
  {
   "cell_type": "code",
   "execution_count": 81,
   "metadata": {},
   "outputs": [],
   "source": [
    "X = df.drop(\"price\",1)\n",
    "y = df.price\n",
    "X_train, X_test, y_train, y_test = train_test_split(X, y, test_size=0.33)"
   ]
  },
  {
   "cell_type": "code",
   "execution_count": 83,
   "metadata": {},
   "outputs": [],
   "source": [
    "model = RandomForestRegressor(n_jobs=-1)\n",
    "y_predicted = model.fit(X_train, y_train).predict(X_test)"
   ]
  },
  {
   "cell_type": "code",
   "execution_count": 84,
   "metadata": {},
   "outputs": [
    {
     "output_type": "execute_result",
     "data": {
      "text/plain": [
       "0.27724964768158555"
      ]
     },
     "metadata": {},
     "execution_count": 84
    }
   ],
   "source": [
    "np.sqrt(mean_squared_log_error(y_test,y_predicted))"
   ]
  },
  {
   "source": [
    "# Support Vector Regression (SVR)"
   ],
   "cell_type": "markdown",
   "metadata": {}
  },
  {
   "cell_type": "code",
   "execution_count": 39,
   "metadata": {},
   "outputs": [],
   "source": [
    "from sklearn.svm import SVR"
   ]
  },
  {
   "cell_type": "code",
   "execution_count": 40,
   "metadata": {},
   "outputs": [],
   "source": [
    "X = df.drop(\"price\",1)\n",
    "y = df.price\n",
    "X_train, X_test, y_train, y_test = train_test_split(X, y, test_size=0.33)"
   ]
  },
  {
   "cell_type": "code",
   "execution_count": 42,
   "metadata": {},
   "outputs": [],
   "source": [
    "model = SVR()\n",
    "y_predicted = model.fit(X_train, y_train).predict(X_test)"
   ]
  },
  {
   "cell_type": "code",
   "execution_count": null,
   "metadata": {},
   "outputs": [],
   "source": [
    "np.sqrt(mean_squared_log_error(y_test,y_predicted))"
   ]
  },
  {
   "source": [
    "# XGBoost"
   ],
   "cell_type": "markdown",
   "metadata": {}
  },
  {
   "cell_type": "code",
   "execution_count": 52,
   "metadata": {},
   "outputs": [],
   "source": [
    "from xgboost import XGBRegressor"
   ]
  },
  {
   "cell_type": "code",
   "execution_count": 77,
   "metadata": {},
   "outputs": [],
   "source": [
    "X = df.drop(\"price\",1)\n",
    "y = df.price\n",
    "X_train, X_test, y_train, y_test = train_test_split(X, y, test_size=0.33)"
   ]
  },
  {
   "cell_type": "code",
   "execution_count": 78,
   "metadata": {},
   "outputs": [],
   "source": [
    "model = XGBRegressor(n_jobs=-1)\n",
    "y_predicted = model.fit(X_train, y_train).predict(X_test)"
   ]
  },
  {
   "cell_type": "code",
   "execution_count": 75,
   "metadata": {},
   "outputs": [
    {
     "output_type": "execute_result",
     "data": {
      "text/plain": [
       "0"
      ]
     },
     "metadata": {},
     "execution_count": 75
    }
   ],
   "source": [
    "sum(y_test < 0)"
   ]
  },
  {
   "cell_type": "code",
   "execution_count": 76,
   "metadata": {},
   "outputs": [
    {
     "output_type": "execute_result",
     "data": {
      "text/plain": [
       "103"
      ]
     },
     "metadata": {},
     "execution_count": 76
    }
   ],
   "source": [
    "sum(y_predicted < 0)"
   ]
  },
  {
   "cell_type": "code",
   "execution_count": 80,
   "metadata": {},
   "outputs": [
    {
     "output_type": "execute_result",
     "data": {
      "text/plain": [
       "0.3828730620423367"
      ]
     },
     "metadata": {},
     "execution_count": 80
    }
   ],
   "source": [
    "np.sqrt(mean_squared_log_error(y_test,y_predicted))"
   ]
  },
  {
   "source": [
    "# Neural Networks\n",
    "## Will use the same NN as shown in https://www.kaggle.com/luckeciano/nn-with-tabular-data-baseline"
   ],
   "cell_type": "markdown",
   "metadata": {}
  },
  {
   "cell_type": "code",
   "execution_count": 35,
   "metadata": {},
   "outputs": [],
   "source": [
    "#Import Keras \n",
    "from keras.layers import Input, Dense, BatchNormalization\n",
    "from keras.models import Model, Sequential\n",
    "from keras.layers import LeakyReLU\n",
    "from keras.optimizers import Adam\n",
    "from keras import backend as K\n",
    "from keras.utils.vis_utils import plot_model\n",
    "from keras.callbacks import LearningRateScheduler, TensorBoard\n",
    "from sklearn.metrics import mean_squared_error\n",
    "from keras.losses import MeanSquaredLogarithmicError\n",
    "from keras.metrics import mean_squared_logarithmic_error"
   ]
  },
  {
   "cell_type": "code",
   "execution_count": 43,
   "metadata": {},
   "outputs": [],
   "source": [
    "#Hyperparameters\n",
    "ACTIVATION = 'relu'\n",
    "EPOCHS = 2\n",
    "BATCH_SIZE = 128\n",
    "LEARNING_RATE= 0.01\n",
    "LOSS_FUNCTION = 'mean_squared_error'\n",
    "BETA_1 = 0.9\n",
    "BETA_2 = 0.999\n",
    "EPSILON = 1e-08\n",
    "EPOCHS_DROP = 20\n",
    "DROP = 0.8"
   ]
  },
  {
   "cell_type": "code",
   "execution_count": 13,
   "metadata": {},
   "outputs": [],
   "source": [
    "X = df.drop(\"price\",1)\n",
    "y = df.price\n",
    "X_train, X_test, y_train, y_test = train_test_split(X, y, test_size=0.33)"
   ]
  },
  {
   "cell_type": "code",
   "execution_count": 18,
   "metadata": {},
   "outputs": [],
   "source": [
    "#Build Neural Network\n",
    "model =  Sequential()\n",
    "model.add(Dense(128,  input_dim=10,  activation = ACTIVATION))\n",
    "model.add(Dense(128, activation = ACTIVATION))\n",
    "model.add(Dense(64,  activation = ACTIVATION))\n",
    "model.add(Dense(1))"
   ]
  },
  {
   "cell_type": "code",
   "execution_count": 27,
   "metadata": {},
   "outputs": [],
   "source": [
    "#Define loss metric\n",
    "def root_mean_squared_error(y_true, y_pred):\n",
    "    return np.sqrt(mean_squared_log_error(y_true,y_pred))"
   ]
  },
  {
   "cell_type": "code",
   "execution_count": 44,
   "metadata": {},
   "outputs": [
    {
     "output_type": "stream",
     "name": "stdout",
     "text": [
      "Epoch 1/2\n",
      "2119/2119 [==============================] - 4s 2ms/step - loss: 0.3581 - val_loss: 0.3522\n",
      "Epoch 2/2\n",
      "2119/2119 [==============================] - 4s 2ms/step - loss: 0.3582 - val_loss: 0.3508\n"
     ]
    },
    {
     "output_type": "execute_result",
     "data": {
      "text/plain": [
       "<tensorflow.python.keras.callbacks.History at 0x1c4745f8af0>"
      ]
     },
     "metadata": {},
     "execution_count": 44
    }
   ],
   "source": [
    "# adam = Adam(lr=LEARNING_RATE, beta_1=BETA_1, beta_2=BETA_2, epsilon=EPSILON)\n",
    "# model.compile (loss = MeanSquaredLogarithmicError(), optimizer = adam)\n",
    "# model.fit (X_train, y_train, epochs = EPOCHS, batch_size = BATCH_SIZE, verbose = 1, validation_split=0.1)"
   ]
  },
  {
   "cell_type": "code",
   "execution_count": 46,
   "metadata": {},
   "outputs": [
    {
     "output_type": "stream",
     "name": "stdout",
     "text": [
      "Model: \"sequential_3\"\n_________________________________________________________________\nLayer (type)                 Output Shape              Param #   \n=================================================================\ndense_12 (Dense)             (None, 128)               1408      \n_________________________________________________________________\ndense_13 (Dense)             (None, 256)               33024     \n_________________________________________________________________\ndense_14 (Dense)             (None, 256)               65792     \n_________________________________________________________________\ndense_15 (Dense)             (None, 256)               65792     \n_________________________________________________________________\ndense_16 (Dense)             (None, 1)                 257       \n=================================================================\nTotal params: 166,273\nTrainable params: 166,273\nNon-trainable params: 0\n_________________________________________________________________\n"
     ]
    }
   ],
   "source": [
    "model = Sequential()\n",
    "\n",
    "# The Input Layer :\n",
    "model.add(Dense(128, kernel_initializer='normal',input_dim = 10, activation='relu'))\n",
    "\n",
    "# The Hidden Layers :\n",
    "model.add(Dense(256, kernel_initializer='normal',activation='relu'))\n",
    "model.add(Dense(256, kernel_initializer='normal',activation='relu'))\n",
    "model.add(Dense(256, kernel_initializer='normal',activation='relu'))\n",
    "\n",
    "# The Output Layer :\n",
    "model.add(Dense(1, kernel_initializer='normal',activation='linear'))\n",
    "\n",
    "# Compile the network :\n",
    "model.compile(loss=MeanSquaredLogarithmicError(), optimizer='adam', metrics=['mean_squared_error'])\n",
    "model.summary()"
   ]
  },
  {
   "cell_type": "code",
   "execution_count": 50,
   "metadata": {},
   "outputs": [
    {
     "output_type": "stream",
     "name": "stdout",
     "text": [
      "Epoch 1/15\n",
      "7532/7532 [==============================] - 20s 3ms/step - loss: 0.3790 - mean_squared_error: 2262695673856.0000 - val_loss: 0.3839 - val_mean_squared_error: 47172785453137920.0000\n",
      "Epoch 2/15\n",
      "7532/7532 [==============================] - 23s 3ms/step - loss: 0.3777 - mean_squared_error: 2252686753792.0000 - val_loss: 0.3800 - val_mean_squared_error: 55737577306587136.0000\n",
      "Epoch 3/15\n",
      "7532/7532 [==============================] - 24s 3ms/step - loss: 0.3759 - mean_squared_error: 2243038019584.0000 - val_loss: 0.3746 - val_mean_squared_error: 64208618613899264.0000\n",
      "Epoch 4/15\n",
      "7532/7532 [==============================] - 24s 3ms/step - loss: 0.3747 - mean_squared_error: 2234653081600.0000 - val_loss: 0.3761 - val_mean_squared_error: 72057903275573248.0000\n",
      "Epoch 5/15\n",
      "7532/7532 [==============================] - 24s 3ms/step - loss: 0.3730 - mean_squared_error: 2227799588864.0000 - val_loss: 0.3739 - val_mean_squared_error: 71138535461093376.0000\n",
      "Epoch 6/15\n",
      "7532/7532 [==============================] - 20s 3ms/step - loss: 0.3716 - mean_squared_error: 2220971786240.0000 - val_loss: 0.3773 - val_mean_squared_error: 71301344786382848.0000\n",
      "Epoch 7/15\n",
      "7532/7532 [==============================] - 19s 3ms/step - loss: 0.3704 - mean_squared_error: 2214188810240.0000 - val_loss: 0.3703 - val_mean_squared_error: 70934687723290624.0000\n",
      "Epoch 8/15\n",
      "7532/7532 [==============================] - 19s 2ms/step - loss: 0.3691 - mean_squared_error: 2212683841536.0000 - val_loss: 0.3665 - val_mean_squared_error: 69889541791547392.0000\n",
      "Epoch 9/15\n",
      "7532/7532 [==============================] - 19s 2ms/step - loss: 0.3671 - mean_squared_error: 2204334817280.0000 - val_loss: 0.3662 - val_mean_squared_error: 52703453494902784.0000\n",
      "Epoch 10/15\n",
      "7532/7532 [==============================] - 19s 2ms/step - loss: 0.3653 - mean_squared_error: 2197758541824.0000 - val_loss: 0.3713 - val_mean_squared_error: 40724205590806528.0000\n",
      "Epoch 11/15\n",
      "7532/7532 [==============================] - 19s 2ms/step - loss: 0.3629 - mean_squared_error: 2189225754624.0000 - val_loss: 0.3703 - val_mean_squared_error: 24414022187089920.0000\n",
      "Epoch 12/15\n",
      "7532/7532 [==============================] - 19s 2ms/step - loss: 0.3608 - mean_squared_error: 2183101153280.0000 - val_loss: 0.3591 - val_mean_squared_error: 16176355443998720.0000\n",
      "Epoch 13/15\n",
      "7532/7532 [==============================] - 19s 3ms/step - loss: 0.3593 - mean_squared_error: 2177656291328.0000 - val_loss: 0.3916 - val_mean_squared_error: 11333311666323456.0000\n",
      "Epoch 14/15\n",
      "7532/7532 [==============================] - 19s 3ms/step - loss: 0.3578 - mean_squared_error: 2173383606272.0000 - val_loss: 0.3637 - val_mean_squared_error: 9211717007441920.0000\n",
      "Epoch 15/15\n",
      "7532/7532 [==============================] - 19s 2ms/step - loss: 0.3559 - mean_squared_error: 2169025200128.0000 - val_loss: 0.3602 - val_mean_squared_error: 5864070783696896.0000\n"
     ]
    },
    {
     "output_type": "execute_result",
     "data": {
      "text/plain": [
       "<tensorflow.python.keras.callbacks.History at 0x1c4793ded90>"
      ]
     },
     "metadata": {},
     "execution_count": 50
    }
   ],
   "source": [
    "model.fit(X_train, y_train, epochs=15, batch_size=32, validation_split = 0.2)"
   ]
  },
  {
   "cell_type": "code",
   "execution_count": 51,
   "metadata": {},
   "outputs": [
    {
     "output_type": "execute_result",
     "data": {
      "text/plain": [
       "0.5995757353337279"
      ]
     },
     "metadata": {},
     "execution_count": 51
    }
   ],
   "source": [
    "y_predicted = model.predict(X_test)\n",
    "np.sqrt(mean_squared_log_error(y_test,y_predicted))"
   ]
  }
 ]
}
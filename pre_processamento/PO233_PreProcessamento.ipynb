{
 "cells": [
  {
   "cell_type": "markdown",
   "metadata": {},
   "source": [
    "# Pré-Processamento dos Dados\n",
    "\n",
    "## Título:\n",
    "\n",
    "**Predição de preço de imóveis**\n",
    "\n",
    "## Membros:\n",
    "\n",
    "*   Adrisson Rogério Samersla\n",
    "*   Nickolas Batista Mendonça Machado\n",
    "*   Thayna Pires Baldão\n",
    "\n"
   ]
  },
  {
   "cell_type": "markdown",
   "metadata": {},
   "source": [
    "# Setup"
   ]
  },
  {
   "cell_type": "code",
   "execution_count": 109,
   "metadata": {},
   "outputs": [],
   "source": [
    "# Importando os pacotes necessários para a análise\n",
    "\n",
    "import os\n",
    "\n",
    "import pandas            as pd\n",
    "import geopandas         as gpd\n",
    "import numpy             as np\n",
    "import scipy             as sc\n",
    "import matplotlib.pyplot as plt\n",
    "import seaborn           as sns\n",
    "\n",
    "from google_drive_downloader import GoogleDriveDownloader as gdd\n",
    "\n",
    "import mapclassify\n",
    "\n",
    "pd.set_option('display.max_columns', None)  \n",
    "pd.set_option('display.expand_frame_repr', False)\n",
    "pd.reset_option('max_colwidth')"
   ]
  },
  {
   "cell_type": "code",
   "execution_count": 110,
   "metadata": {},
   "outputs": [],
   "source": [
    "# Baixando o dataset\n",
    "\n",
    "dataset_dir = \"../dataset\"\n",
    "has_dataset_dir = os.path.isdir(dataset_dir)\n",
    "if (not has_dataset_dir):\n",
    "  # Link of dataset folder: \n",
    "  # https://drive.google.com/file/d/1S4rBgtuogAGr_WIcF-FIPaULfGlB9MRs/view?usp=sharing\n",
    "  gdd.download_file_from_google_drive(file_id='1S4rBgtuogAGr_WIcF-FIPaULfGlB9MRs',\n",
    "                                      dest_path='../dataset.zip',\n",
    "                                      showsize=True,\n",
    "                                      unzip=True)"
   ]
  },
  {
   "cell_type": "code",
   "execution_count": 111,
   "metadata": {},
   "outputs": [
    {
     "output_type": "stream",
     "name": "stdout",
     "text": [
      "Formato dos dados:  (1000000, 24)\n#Exemplos: 1000000\n#Atributos: 24\n"
     ]
    }
   ],
   "source": [
    "# Lendo a base de dados\n",
    "\n",
    "df = pd.read_csv(dataset_dir + '/dataset.csv')\n",
    "print(\"Formato dos dados: \", df.shape)\n",
    "print(\"#Exemplos: {}\".format(df.shape[0]))\n",
    "print(\"#Atributos: {}\".format(df.shape[1]))"
   ]
  },
  {
   "cell_type": "code",
   "execution_count": 112,
   "metadata": {},
   "outputs": [
    {
     "output_type": "execute_result",
     "data": {
      "text/plain": [
       "id                           int64\n",
       "property_id                 object\n",
       "created_on                  object\n",
       "operation                   object\n",
       "property_type               object\n",
       "place_name                  object\n",
       "place_with_parent_names     object\n",
       "country_name                object\n",
       "state_name                  object\n",
       "geonames_id                float64\n",
       "lat_lon                     object\n",
       "lat                        float64\n",
       "lon                        float64\n",
       "currency                    object\n",
       "surface_total_in_m2        float64\n",
       "surface_covered_in_m2      float64\n",
       "floor                      float64\n",
       "rooms                      float64\n",
       "expenses                   float64\n",
       "description                 object\n",
       "title                       object\n",
       "image_thumbnail             object\n",
       "collected_on                object\n",
       "price                      float64\n",
       "dtype: object"
      ]
     },
     "metadata": {},
     "execution_count": 112
    }
   ],
   "source": [
    "df.dtypes"
   ]
  },
  {
   "cell_type": "code",
   "execution_count": 113,
   "metadata": {},
   "outputs": [
    {
     "output_type": "execute_result",
     "data": {
      "text/plain": [
       "         id                               property_id  created_on operation property_type    place_name                    place_with_parent_names country_name         state_name  geonames_id                lat_lon        lat        lon currency  surface_total_in_m2  surface_covered_in_m2  floor  rooms  expenses                                        description                                              title                                    image_thumbnail collected_on     price\n",
       "0   9641098  9e065715d8b6c69bc930c185901aaf71e3be3d54  2017-04-28      sell     apartment    Campo Belo    |Brasil|São Paulo|São Paulo|Campo Belo|       Brasil          São Paulo          NaN   -23.616325,-46.67662 -23.616325 -46.676620      BRL                  NaN                   80.0    NaN    NaN    1065.0  Atualizado em 05/06/2017. O projeto arquitetôn...  Apartamento com 2 quartos e 2 Suites, São Paul...  https://thumbs4.properati.com/2/tQXG8R8vA-PsM4...      2017-08  900000.0\n",
       "1   7965368  f6b640522dd15dd3667850718f52aa02516b04ff  2017-05-25      sell     apartment  Porto Alegre    |Brasil|Rio Grande do Sul|Porto Alegre|       Brasil  Rio Grande do Sul          NaN   -30.05175,-51.182068 -30.051750 -51.182068      BRL                 91.0                   91.0    NaN    NaN       NaN  APARTAMENTO com 3 dormitórios , sendo 1 suíte,...                          Apartamento em Petrópolis  https://thumbs4.properati.com/6/gy-6GDbU5Ccx_I...      2017-07  750000.0\n",
       "2   6779668  39a954f5d56137f6fe547af707626eafa6a3869c  2015-06-26      sell     apartment         Bessa         |Brasil|Paraíba|João Pessoa|Bessa|       Brasil            Paraíba          NaN                    NaN        NaN        NaN      BRL                  NaN                    NaN    NaN    NaN       NaN  Edifcio: 10(dez) apartamentos; 01(uma) vaga ga...  Venda Apartamento Joo Pessoa/Paraba: 3 quartos...  https://thumbs4.properati.com/8/DL8fMA8z1oRVgv...      2015-12  235000.0\n",
       "3  10187959  ae0282c0e20210cfaf030e57edf85b9d5d6c13f4  2016-02-22      sell     apartment  São Lourenço      |Brasil|Paraná|Curitiba|São Lourenço|       Brasil             Paraná          NaN  -25.413214,-49.271294 -25.413214 -49.271294      BRL                  NaN                  168.0    NaN    NaN       NaN  Linda cobertura no bairro São Lourenço com uma...  Linda Cobertura duplex - 168 m² - 2 suítes, 2 ...  https://thumbs4.properati.com/2/J6USW1fALKsXov...      2016-06  880000.0\n",
       "4   1147630  f83c204dd1baf29c6460826ee829be00f751f676  2016-09-09      sell         house  Vila Formosa  |Brasil|São Paulo|São Paulo|Vila Formosa|       Brasil          São Paulo          NaN   -23.56229,-46.521248 -23.562290 -46.521248      BRL                  NaN                  145.0    NaN    2.0       NaN  Lindo sobrado, muito bem construído com ótimo ...          Sobrado novo para  venda na Vila Formosa.  https://thumbs4.properati.com/0/bXqmIc-TKt1wua...      2017-03  580000.0"
      ],
      "text/html": "<div>\n<style scoped>\n    .dataframe tbody tr th:only-of-type {\n        vertical-align: middle;\n    }\n\n    .dataframe tbody tr th {\n        vertical-align: top;\n    }\n\n    .dataframe thead th {\n        text-align: right;\n    }\n</style>\n<table border=\"1\" class=\"dataframe\">\n  <thead>\n    <tr style=\"text-align: right;\">\n      <th></th>\n      <th>id</th>\n      <th>property_id</th>\n      <th>created_on</th>\n      <th>operation</th>\n      <th>property_type</th>\n      <th>place_name</th>\n      <th>place_with_parent_names</th>\n      <th>country_name</th>\n      <th>state_name</th>\n      <th>geonames_id</th>\n      <th>lat_lon</th>\n      <th>lat</th>\n      <th>lon</th>\n      <th>currency</th>\n      <th>surface_total_in_m2</th>\n      <th>surface_covered_in_m2</th>\n      <th>floor</th>\n      <th>rooms</th>\n      <th>expenses</th>\n      <th>description</th>\n      <th>title</th>\n      <th>image_thumbnail</th>\n      <th>collected_on</th>\n      <th>price</th>\n    </tr>\n  </thead>\n  <tbody>\n    <tr>\n      <th>0</th>\n      <td>9641098</td>\n      <td>9e065715d8b6c69bc930c185901aaf71e3be3d54</td>\n      <td>2017-04-28</td>\n      <td>sell</td>\n      <td>apartment</td>\n      <td>Campo Belo</td>\n      <td>|Brasil|São Paulo|São Paulo|Campo Belo|</td>\n      <td>Brasil</td>\n      <td>São Paulo</td>\n      <td>NaN</td>\n      <td>-23.616325,-46.67662</td>\n      <td>-23.616325</td>\n      <td>-46.676620</td>\n      <td>BRL</td>\n      <td>NaN</td>\n      <td>80.0</td>\n      <td>NaN</td>\n      <td>NaN</td>\n      <td>1065.0</td>\n      <td>Atualizado em 05/06/2017. O projeto arquitetôn...</td>\n      <td>Apartamento com 2 quartos e 2 Suites, São Paul...</td>\n      <td>https://thumbs4.properati.com/2/tQXG8R8vA-PsM4...</td>\n      <td>2017-08</td>\n      <td>900000.0</td>\n    </tr>\n    <tr>\n      <th>1</th>\n      <td>7965368</td>\n      <td>f6b640522dd15dd3667850718f52aa02516b04ff</td>\n      <td>2017-05-25</td>\n      <td>sell</td>\n      <td>apartment</td>\n      <td>Porto Alegre</td>\n      <td>|Brasil|Rio Grande do Sul|Porto Alegre|</td>\n      <td>Brasil</td>\n      <td>Rio Grande do Sul</td>\n      <td>NaN</td>\n      <td>-30.05175,-51.182068</td>\n      <td>-30.051750</td>\n      <td>-51.182068</td>\n      <td>BRL</td>\n      <td>91.0</td>\n      <td>91.0</td>\n      <td>NaN</td>\n      <td>NaN</td>\n      <td>NaN</td>\n      <td>APARTAMENTO com 3 dormitórios , sendo 1 suíte,...</td>\n      <td>Apartamento em Petrópolis</td>\n      <td>https://thumbs4.properati.com/6/gy-6GDbU5Ccx_I...</td>\n      <td>2017-07</td>\n      <td>750000.0</td>\n    </tr>\n    <tr>\n      <th>2</th>\n      <td>6779668</td>\n      <td>39a954f5d56137f6fe547af707626eafa6a3869c</td>\n      <td>2015-06-26</td>\n      <td>sell</td>\n      <td>apartment</td>\n      <td>Bessa</td>\n      <td>|Brasil|Paraíba|João Pessoa|Bessa|</td>\n      <td>Brasil</td>\n      <td>Paraíba</td>\n      <td>NaN</td>\n      <td>NaN</td>\n      <td>NaN</td>\n      <td>NaN</td>\n      <td>BRL</td>\n      <td>NaN</td>\n      <td>NaN</td>\n      <td>NaN</td>\n      <td>NaN</td>\n      <td>NaN</td>\n      <td>Edifcio: 10(dez) apartamentos; 01(uma) vaga ga...</td>\n      <td>Venda Apartamento Joo Pessoa/Paraba: 3 quartos...</td>\n      <td>https://thumbs4.properati.com/8/DL8fMA8z1oRVgv...</td>\n      <td>2015-12</td>\n      <td>235000.0</td>\n    </tr>\n    <tr>\n      <th>3</th>\n      <td>10187959</td>\n      <td>ae0282c0e20210cfaf030e57edf85b9d5d6c13f4</td>\n      <td>2016-02-22</td>\n      <td>sell</td>\n      <td>apartment</td>\n      <td>São Lourenço</td>\n      <td>|Brasil|Paraná|Curitiba|São Lourenço|</td>\n      <td>Brasil</td>\n      <td>Paraná</td>\n      <td>NaN</td>\n      <td>-25.413214,-49.271294</td>\n      <td>-25.413214</td>\n      <td>-49.271294</td>\n      <td>BRL</td>\n      <td>NaN</td>\n      <td>168.0</td>\n      <td>NaN</td>\n      <td>NaN</td>\n      <td>NaN</td>\n      <td>Linda cobertura no bairro São Lourenço com uma...</td>\n      <td>Linda Cobertura duplex - 168 m² - 2 suítes, 2 ...</td>\n      <td>https://thumbs4.properati.com/2/J6USW1fALKsXov...</td>\n      <td>2016-06</td>\n      <td>880000.0</td>\n    </tr>\n    <tr>\n      <th>4</th>\n      <td>1147630</td>\n      <td>f83c204dd1baf29c6460826ee829be00f751f676</td>\n      <td>2016-09-09</td>\n      <td>sell</td>\n      <td>house</td>\n      <td>Vila Formosa</td>\n      <td>|Brasil|São Paulo|São Paulo|Vila Formosa|</td>\n      <td>Brasil</td>\n      <td>São Paulo</td>\n      <td>NaN</td>\n      <td>-23.56229,-46.521248</td>\n      <td>-23.562290</td>\n      <td>-46.521248</td>\n      <td>BRL</td>\n      <td>NaN</td>\n      <td>145.0</td>\n      <td>NaN</td>\n      <td>2.0</td>\n      <td>NaN</td>\n      <td>Lindo sobrado, muito bem construído com ótimo ...</td>\n      <td>Sobrado novo para  venda na Vila Formosa.</td>\n      <td>https://thumbs4.properati.com/0/bXqmIc-TKt1wua...</td>\n      <td>2017-03</td>\n      <td>580000.0</td>\n    </tr>\n  </tbody>\n</table>\n</div>"
     },
     "metadata": {},
     "execution_count": 113
    }
   ],
   "source": [
    "df.head()"
   ]
  },
  {
   "source": [
    "# Seleção Manual de Atributos\n",
    "\n",
    "Atributos a serem eliminados:\n",
    "\n",
    "* id "
   ],
   "cell_type": "markdown",
   "metadata": {}
  },
  {
   "cell_type": "code",
   "execution_count": 114,
   "metadata": {},
   "outputs": [],
   "source": [
    "ignore_columns = [\n",
    "    'id',\n",
    "    'property_id',\n",
    "    'operation',\n",
    "    'place_with_parent_names',\n",
    "    'country_name',\n",
    "    'geonames_id',\n",
    "    'lat_lon',\n",
    "    'currency',\n",
    "    'floor',\n",
    "    'description',\n",
    "    'title',\n",
    "    'image_thumbnail',\n",
    "    'collected_on'\n",
    "]\n",
    "\n",
    "def manual_selection(dataset):\n",
    "    return dataset.drop(columns=ignore_columns)\n",
    "\n",
    "# filtered = manual_selection(df)\n",
    "# for col in ignore_columns:\n",
    "#     assert col not in manual_selection(df).columns"
   ]
  },
  {
   "cell_type": "markdown",
   "metadata": {},
   "source": [
    "# Eliminando Inconsistências"
   ]
  },
  {
   "cell_type": "markdown",
   "metadata": {},
   "source": [
    "## Moedas Estrangeiras"
   ]
  },
  {
   "cell_type": "code",
   "execution_count": 115,
   "metadata": {},
   "outputs": [
    {
     "output_type": "execute_result",
     "data": {
      "text/plain": [
       "BRL    999806\n",
       "MXN       103\n",
       "USD        87\n",
       "COP         4\n",
       "Name: currency, dtype: int64"
      ]
     },
     "metadata": {},
     "execution_count": 115
    }
   ],
   "source": [
    "df.currency.astype('str').value_counts()"
   ]
  },
  {
   "cell_type": "code",
   "execution_count": 116,
   "metadata": {},
   "outputs": [],
   "source": [
    "def filter_currency(dataset):\n",
    "    positions = dataset['currency'] == 'BRL'\n",
    "    return dataset[positions]\n",
    "\n",
    "# filter_currency(df).currency.astype('str').value_counts()"
   ]
  },
  {
   "cell_type": "markdown",
   "metadata": {},
   "source": [
    "## Pontos Fora do Brasil"
   ]
  },
  {
   "cell_type": "code",
   "execution_count": 117,
   "metadata": {},
   "outputs": [
    {
     "output_type": "execute_result",
     "data": {
      "text/plain": [
       "São Paulo              704145\n",
       "Rio Grande do Sul       90626\n",
       "Rio de Janeiro          71693\n",
       "Santa Catarina          27613\n",
       "Minas Gerais            27401\n",
       "Paraná                  18083\n",
       "Ceará                   11472\n",
       "Espírito Santo          11056\n",
       "Paraíba                 10599\n",
       "Bahia                    8578\n",
       "Rio Grande do Norte      4981\n",
       "Goiás                    2929\n",
       "Pernambuco               2645\n",
       "Distrito Federal         2300\n",
       "Pará                     1346\n",
       "Mato Grosso               899\n",
       "Amazonas                  831\n",
       "Tocantins                 714\n",
       "Alagoas                   610\n",
       "Maranhão                  568\n",
       "Sergipe                   314\n",
       "Mato Grosso do Sul        190\n",
       "Rondônia                  139\n",
       "Piauí                     123\n",
       "Amapá                     123\n",
       "Acre                       16\n",
       "Outros países               4\n",
       "Roraima                     2\n",
       "Name: state_name, dtype: int64"
      ]
     },
     "metadata": {},
     "execution_count": 117
    }
   ],
   "source": [
    "df.state_name.astype('str').value_counts()"
   ]
  },
  {
   "cell_type": "code",
   "execution_count": 118,
   "metadata": {},
   "outputs": [],
   "source": [
    "def filter_latlon(dataset):\n",
    "    data = dataset[['lat', 'lon']]\n",
    "\n",
    "    # data = data.dropna()\n",
    "    # points = gpd.points_from_xy(data.lon, data.lat, crs=map_df.crs)\n",
    "    # points = gpd.GeoSeries(points)\n",
    "    # positions_in = map_df.contains(points)\n",
    "\n",
    "    positions = data.lat.notna().squeeze() & data.lon.notna().squeeze()\n",
    "\n",
    "    lon_max = -30.0\n",
    "    lon_min = -80.0\n",
    "    lat_min = -40.0\n",
    "    lat_max = 10.0\n",
    "    return dataset.loc[\n",
    "        positions & \n",
    "        (dataset.state_name != \"Outros países\") &\n",
    "        ((data.lat > lat_min) & (data.lat < lat_max)) & \n",
    "        ((data.lon > lon_min) & (data.lon < lon_max))\n",
    "    ]\n",
    "\n",
    "# filter_latlon(df).state_name.astype('str').value_counts()"
   ]
  },
  {
   "cell_type": "markdown",
   "metadata": {},
   "source": [
    "# Aplicando o Pré-Processamento"
   ]
  },
  {
   "cell_type": "code",
   "execution_count": 119,
   "metadata": {},
   "outputs": [
    {
     "output_type": "stream",
     "name": "stdout",
     "text": [
      "Formato dos dados:  (495836, 11)\n#Exemplos: 495836\n#Atributos: 11\n\n"
     ]
    },
    {
     "output_type": "execute_result",
     "data": {
      "text/plain": [
       "created_on                object\n",
       "property_type             object\n",
       "place_name                object\n",
       "state_name                object\n",
       "lat                      float64\n",
       "lon                      float64\n",
       "surface_total_in_m2      float64\n",
       "surface_covered_in_m2    float64\n",
       "rooms                    float64\n",
       "expenses                 float64\n",
       "price                    float64\n",
       "dtype: object"
      ]
     },
     "metadata": {},
     "execution_count": 119
    }
   ],
   "source": [
    "df = filter_currency(df)\n",
    "df = filter_latlon(df)\n",
    "\n",
    "df = manual_selection(df)\n",
    "print(\"Formato dos dados: \", df.shape)\n",
    "print(\"#Exemplos: {}\".format(df.shape[0]))\n",
    "print(\"#Atributos: {}\".format(df.shape[1]))\n",
    "print()\n",
    "\n",
    "df.dtypes"
   ]
  },
  {
   "cell_type": "code",
   "execution_count": 120,
   "metadata": {},
   "outputs": [],
   "source": [
    "df.to_csv(dataset_dir + \"/preprocessed.csv\", index=False)"
   ]
  }
 ],
 "metadata": {
  "kernelspec": {
   "name": "python388jvsc74a57bd039a99e6402a5e3089e52d8af32288dc93e4162e81faf72116ca75d773f310577",
   "display_name": "Python 3.8.8 64-bit (conda)"
  },
  "language_info": {
   "codemirror_mode": {
    "name": "ipython",
    "version": 3
   },
   "file_extension": ".py",
   "mimetype": "text/x-python",
   "name": "python",
   "nbconvert_exporter": "python",
   "pygments_lexer": "ipython3",
   "version": "3.8.8"
  },
  "metadata": {
   "interpreter": {
    "hash": "39a99e6402a5e3089e52d8af32288dc93e4162e81faf72116ca75d773f310577"
   }
  }
 },
 "nbformat": 4,
 "nbformat_minor": 2
}
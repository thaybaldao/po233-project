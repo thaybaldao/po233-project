{
 "cells": [
  {
   "cell_type": "markdown",
   "metadata": {},
   "source": [
    "# Pré-Processamento dos Dados\n",
    "\n",
    "## Título:\n",
    "\n",
    "**Predição de preço de imóveis**\n",
    "\n",
    "## Membros:\n",
    "\n",
    "*   Adrisson Rogério Samersla\n",
    "*   Nickolas Batista Mendonça Machado\n",
    "*   Thayna Pires Baldão\n",
    "\n"
   ]
  },
  {
   "cell_type": "markdown",
   "metadata": {},
   "source": [
    "# Setup"
   ]
  },
  {
   "cell_type": "code",
   "execution_count": 1,
   "metadata": {
    "scrolled": true
   },
   "outputs": [],
   "source": [
    "# Importando os pacotes necessários para a análise\n",
    "\n",
    "import os\n",
    "\n",
    "import pandas            as pd\n",
    "# import geopandas         as gpd\n",
    "import numpy             as np\n",
    "import scipy             as sc\n",
    "import matplotlib.pyplot as plt\n",
    "import seaborn           as sns\n",
    "\n",
    "from google_drive_downloader import GoogleDriveDownloader as gdd\n",
    "from sklearn.preprocessing import OneHotEncoder\n",
    "from sklearn.preprocessing import OrdinalEncoder\n",
    "\n",
    "import mapclassify\n",
    "\n",
    "pd.set_option('display.max_columns', None)  \n",
    "pd.set_option('display.expand_frame_repr', False)\n",
    "pd.reset_option('max_colwidth')"
   ]
  },
  {
   "cell_type": "code",
   "execution_count": 2,
   "metadata": {
    "scrolled": true
   },
   "outputs": [],
   "source": [
    "# Baixando o dataset\n",
    "\n",
    "dataset_dir = \"../dataset\"\n",
    "has_dataset_dir = os.path.isdir(dataset_dir)\n",
    "if (not has_dataset_dir):\n",
    "  # Link of dataset folder: \n",
    "  # https://drive.google.com/file/d/1S4rBgtuogAGr_WIcF-FIPaULfGlB9MRs/view?usp=sharing\n",
    "  gdd.download_file_from_google_drive(file_id='1S4rBgtuogAGr_WIcF-FIPaULfGlB9MRs',\n",
    "                                      dest_path='../dataset.zip',\n",
    "                                      showsize=True,\n",
    "                                      unzip=True)"
   ]
  },
  {
   "cell_type": "code",
   "execution_count": 3,
   "metadata": {
    "scrolled": true
   },
   "outputs": [
    {
     "output_type": "stream",
     "name": "stdout",
     "text": [
      "Formato dos dados:  (1000000, 24)\n#Exemplos: 1000000\n#Atributos: 24\n"
     ]
    }
   ],
   "source": [
    "# Lendo a base de dados\n",
    "\n",
    "df = pd.read_csv(dataset_dir + '/dataset.csv')\n",
    "print(\"Formato dos dados: \", df.shape)\n",
    "print(\"#Exemplos: {}\".format(df.shape[0]))\n",
    "print(\"#Atributos: {}\".format(df.shape[1]))"
   ]
  },
  {
   "cell_type": "code",
   "execution_count": 4,
   "metadata": {
    "scrolled": true
   },
   "outputs": [
    {
     "output_type": "execute_result",
     "data": {
      "text/plain": [
       "id                           int64\n",
       "property_id                 object\n",
       "created_on                  object\n",
       "operation                   object\n",
       "property_type               object\n",
       "place_name                  object\n",
       "place_with_parent_names     object\n",
       "country_name                object\n",
       "state_name                  object\n",
       "geonames_id                float64\n",
       "lat_lon                     object\n",
       "lat                        float64\n",
       "lon                        float64\n",
       "currency                    object\n",
       "surface_total_in_m2        float64\n",
       "surface_covered_in_m2      float64\n",
       "floor                      float64\n",
       "rooms                      float64\n",
       "expenses                   float64\n",
       "description                 object\n",
       "title                       object\n",
       "image_thumbnail             object\n",
       "collected_on                object\n",
       "price                      float64\n",
       "dtype: object"
      ]
     },
     "metadata": {},
     "execution_count": 4
    }
   ],
   "source": [
    "df.dtypes"
   ]
  },
  {
   "cell_type": "code",
   "execution_count": 5,
   "metadata": {
    "scrolled": true
   },
   "outputs": [
    {
     "output_type": "execute_result",
     "data": {
      "text/plain": [
       "         id                               property_id  created_on operation property_type    place_name                    place_with_parent_names country_name         state_name  geonames_id                lat_lon        lat        lon currency  surface_total_in_m2  surface_covered_in_m2  floor  rooms  expenses                                        description                                              title                                    image_thumbnail collected_on     price\n",
       "0   9641098  9e065715d8b6c69bc930c185901aaf71e3be3d54  2017-04-28      sell     apartment    Campo Belo    |Brasil|São Paulo|São Paulo|Campo Belo|       Brasil          São Paulo          NaN   -23.616325,-46.67662 -23.616325 -46.676620      BRL                  NaN                   80.0    NaN    NaN    1065.0  Atualizado em 05/06/2017. O projeto arquitetôn...  Apartamento com 2 quartos e 2 Suites, São Paul...  https://thumbs4.properati.com/2/tQXG8R8vA-PsM4...      2017-08  900000.0\n",
       "1   7965368  f6b640522dd15dd3667850718f52aa02516b04ff  2017-05-25      sell     apartment  Porto Alegre    |Brasil|Rio Grande do Sul|Porto Alegre|       Brasil  Rio Grande do Sul          NaN   -30.05175,-51.182068 -30.051750 -51.182068      BRL                 91.0                   91.0    NaN    NaN       NaN  APARTAMENTO com 3 dormitórios , sendo 1 suíte,...                          Apartamento em Petrópolis  https://thumbs4.properati.com/6/gy-6GDbU5Ccx_I...      2017-07  750000.0\n",
       "2   6779668  39a954f5d56137f6fe547af707626eafa6a3869c  2015-06-26      sell     apartment         Bessa         |Brasil|Paraíba|João Pessoa|Bessa|       Brasil            Paraíba          NaN                    NaN        NaN        NaN      BRL                  NaN                    NaN    NaN    NaN       NaN  Edifcio: 10(dez) apartamentos; 01(uma) vaga ga...  Venda Apartamento Joo Pessoa/Paraba: 3 quartos...  https://thumbs4.properati.com/8/DL8fMA8z1oRVgv...      2015-12  235000.0\n",
       "3  10187959  ae0282c0e20210cfaf030e57edf85b9d5d6c13f4  2016-02-22      sell     apartment  São Lourenço      |Brasil|Paraná|Curitiba|São Lourenço|       Brasil             Paraná          NaN  -25.413214,-49.271294 -25.413214 -49.271294      BRL                  NaN                  168.0    NaN    NaN       NaN  Linda cobertura no bairro São Lourenço com uma...  Linda Cobertura duplex - 168 m² - 2 suítes, 2 ...  https://thumbs4.properati.com/2/J6USW1fALKsXov...      2016-06  880000.0\n",
       "4   1147630  f83c204dd1baf29c6460826ee829be00f751f676  2016-09-09      sell         house  Vila Formosa  |Brasil|São Paulo|São Paulo|Vila Formosa|       Brasil          São Paulo          NaN   -23.56229,-46.521248 -23.562290 -46.521248      BRL                  NaN                  145.0    NaN    2.0       NaN  Lindo sobrado, muito bem construído com ótimo ...          Sobrado novo para  venda na Vila Formosa.  https://thumbs4.properati.com/0/bXqmIc-TKt1wua...      2017-03  580000.0"
      ],
      "text/html": "<div>\n<style scoped>\n    .dataframe tbody tr th:only-of-type {\n        vertical-align: middle;\n    }\n\n    .dataframe tbody tr th {\n        vertical-align: top;\n    }\n\n    .dataframe thead th {\n        text-align: right;\n    }\n</style>\n<table border=\"1\" class=\"dataframe\">\n  <thead>\n    <tr style=\"text-align: right;\">\n      <th></th>\n      <th>id</th>\n      <th>property_id</th>\n      <th>created_on</th>\n      <th>operation</th>\n      <th>property_type</th>\n      <th>place_name</th>\n      <th>place_with_parent_names</th>\n      <th>country_name</th>\n      <th>state_name</th>\n      <th>geonames_id</th>\n      <th>lat_lon</th>\n      <th>lat</th>\n      <th>lon</th>\n      <th>currency</th>\n      <th>surface_total_in_m2</th>\n      <th>surface_covered_in_m2</th>\n      <th>floor</th>\n      <th>rooms</th>\n      <th>expenses</th>\n      <th>description</th>\n      <th>title</th>\n      <th>image_thumbnail</th>\n      <th>collected_on</th>\n      <th>price</th>\n    </tr>\n  </thead>\n  <tbody>\n    <tr>\n      <th>0</th>\n      <td>9641098</td>\n      <td>9e065715d8b6c69bc930c185901aaf71e3be3d54</td>\n      <td>2017-04-28</td>\n      <td>sell</td>\n      <td>apartment</td>\n      <td>Campo Belo</td>\n      <td>|Brasil|São Paulo|São Paulo|Campo Belo|</td>\n      <td>Brasil</td>\n      <td>São Paulo</td>\n      <td>NaN</td>\n      <td>-23.616325,-46.67662</td>\n      <td>-23.616325</td>\n      <td>-46.676620</td>\n      <td>BRL</td>\n      <td>NaN</td>\n      <td>80.0</td>\n      <td>NaN</td>\n      <td>NaN</td>\n      <td>1065.0</td>\n      <td>Atualizado em 05/06/2017. O projeto arquitetôn...</td>\n      <td>Apartamento com 2 quartos e 2 Suites, São Paul...</td>\n      <td>https://thumbs4.properati.com/2/tQXG8R8vA-PsM4...</td>\n      <td>2017-08</td>\n      <td>900000.0</td>\n    </tr>\n    <tr>\n      <th>1</th>\n      <td>7965368</td>\n      <td>f6b640522dd15dd3667850718f52aa02516b04ff</td>\n      <td>2017-05-25</td>\n      <td>sell</td>\n      <td>apartment</td>\n      <td>Porto Alegre</td>\n      <td>|Brasil|Rio Grande do Sul|Porto Alegre|</td>\n      <td>Brasil</td>\n      <td>Rio Grande do Sul</td>\n      <td>NaN</td>\n      <td>-30.05175,-51.182068</td>\n      <td>-30.051750</td>\n      <td>-51.182068</td>\n      <td>BRL</td>\n      <td>91.0</td>\n      <td>91.0</td>\n      <td>NaN</td>\n      <td>NaN</td>\n      <td>NaN</td>\n      <td>APARTAMENTO com 3 dormitórios , sendo 1 suíte,...</td>\n      <td>Apartamento em Petrópolis</td>\n      <td>https://thumbs4.properati.com/6/gy-6GDbU5Ccx_I...</td>\n      <td>2017-07</td>\n      <td>750000.0</td>\n    </tr>\n    <tr>\n      <th>2</th>\n      <td>6779668</td>\n      <td>39a954f5d56137f6fe547af707626eafa6a3869c</td>\n      <td>2015-06-26</td>\n      <td>sell</td>\n      <td>apartment</td>\n      <td>Bessa</td>\n      <td>|Brasil|Paraíba|João Pessoa|Bessa|</td>\n      <td>Brasil</td>\n      <td>Paraíba</td>\n      <td>NaN</td>\n      <td>NaN</td>\n      <td>NaN</td>\n      <td>NaN</td>\n      <td>BRL</td>\n      <td>NaN</td>\n      <td>NaN</td>\n      <td>NaN</td>\n      <td>NaN</td>\n      <td>NaN</td>\n      <td>Edifcio: 10(dez) apartamentos; 01(uma) vaga ga...</td>\n      <td>Venda Apartamento Joo Pessoa/Paraba: 3 quartos...</td>\n      <td>https://thumbs4.properati.com/8/DL8fMA8z1oRVgv...</td>\n      <td>2015-12</td>\n      <td>235000.0</td>\n    </tr>\n    <tr>\n      <th>3</th>\n      <td>10187959</td>\n      <td>ae0282c0e20210cfaf030e57edf85b9d5d6c13f4</td>\n      <td>2016-02-22</td>\n      <td>sell</td>\n      <td>apartment</td>\n      <td>São Lourenço</td>\n      <td>|Brasil|Paraná|Curitiba|São Lourenço|</td>\n      <td>Brasil</td>\n      <td>Paraná</td>\n      <td>NaN</td>\n      <td>-25.413214,-49.271294</td>\n      <td>-25.413214</td>\n      <td>-49.271294</td>\n      <td>BRL</td>\n      <td>NaN</td>\n      <td>168.0</td>\n      <td>NaN</td>\n      <td>NaN</td>\n      <td>NaN</td>\n      <td>Linda cobertura no bairro São Lourenço com uma...</td>\n      <td>Linda Cobertura duplex - 168 m² - 2 suítes, 2 ...</td>\n      <td>https://thumbs4.properati.com/2/J6USW1fALKsXov...</td>\n      <td>2016-06</td>\n      <td>880000.0</td>\n    </tr>\n    <tr>\n      <th>4</th>\n      <td>1147630</td>\n      <td>f83c204dd1baf29c6460826ee829be00f751f676</td>\n      <td>2016-09-09</td>\n      <td>sell</td>\n      <td>house</td>\n      <td>Vila Formosa</td>\n      <td>|Brasil|São Paulo|São Paulo|Vila Formosa|</td>\n      <td>Brasil</td>\n      <td>São Paulo</td>\n      <td>NaN</td>\n      <td>-23.56229,-46.521248</td>\n      <td>-23.562290</td>\n      <td>-46.521248</td>\n      <td>BRL</td>\n      <td>NaN</td>\n      <td>145.0</td>\n      <td>NaN</td>\n      <td>2.0</td>\n      <td>NaN</td>\n      <td>Lindo sobrado, muito bem construído com ótimo ...</td>\n      <td>Sobrado novo para  venda na Vila Formosa.</td>\n      <td>https://thumbs4.properati.com/0/bXqmIc-TKt1wua...</td>\n      <td>2017-03</td>\n      <td>580000.0</td>\n    </tr>\n  </tbody>\n</table>\n</div>"
     },
     "metadata": {},
     "execution_count": 5
    }
   ],
   "source": [
    "df.head()"
   ]
  },
  {
   "cell_type": "markdown",
   "metadata": {},
   "source": [
    "# Seleção Manual de Atributos\n"
   ]
  },
  {
   "cell_type": "code",
   "execution_count": 6,
   "metadata": {
    "scrolled": true
   },
   "outputs": [],
   "source": [
    "ignore_columns = [\n",
    "    'id',\n",
    "    'property_id',\n",
    "    'operation',\n",
    "    'place_name',\n",
    "    'place_with_parent_names',\n",
    "    'country_name',\n",
    "    'state_name',\n",
    "    'geonames_id',\n",
    "    'lat_lon',\n",
    "    'currency',\n",
    "    'floor',\n",
    "    'description',\n",
    "    'title',\n",
    "    'image_thumbnail',\n",
    "    'collected_on'\n",
    "]\n",
    "\n",
    "def manual_selection(dataset):\n",
    "    return dataset.drop(columns=ignore_columns)\n",
    "\n",
    "#filtered = manual_selection(df)\n",
    "# for col in ignore_columns:\n",
    "#     assert col not in manual_selection(df).columns"
   ]
  },
  {
   "cell_type": "markdown",
   "metadata": {},
   "source": [
    "# Limpeza de dados"
   ]
  },
  {
   "cell_type": "markdown",
   "metadata": {},
   "source": [
    "## Eliminando Inconsistências"
   ]
  },
  {
   "cell_type": "markdown",
   "metadata": {},
   "source": [
    "- Moedas Estrangeiras"
   ]
  },
  {
   "cell_type": "code",
   "execution_count": 7,
   "metadata": {
    "scrolled": true
   },
   "outputs": [
    {
     "output_type": "execute_result",
     "data": {
      "text/plain": [
       "BRL    999806\n",
       "MXN       103\n",
       "USD        87\n",
       "COP         4\n",
       "Name: currency, dtype: int64"
      ]
     },
     "metadata": {},
     "execution_count": 7
    }
   ],
   "source": [
    "df.currency.astype('str').value_counts()"
   ]
  },
  {
   "cell_type": "code",
   "execution_count": 8,
   "metadata": {
    "scrolled": true
   },
   "outputs": [],
   "source": [
    "def filter_currency(dataset):\n",
    "    positions = dataset['currency'] == 'BRL'\n",
    "    return dataset[positions]\n",
    "\n",
    "#df = filter_currency(df).currency.astype('str').value_counts()"
   ]
  },
  {
   "cell_type": "markdown",
   "metadata": {},
   "source": [
    "- Objetos Fora do Brasil"
   ]
  },
  {
   "cell_type": "code",
   "execution_count": 9,
   "metadata": {
    "scrolled": true
   },
   "outputs": [
    {
     "output_type": "execute_result",
     "data": {
      "text/plain": [
       "São Paulo              704145\n",
       "Rio Grande do Sul       90626\n",
       "Rio de Janeiro          71693\n",
       "Santa Catarina          27613\n",
       "Minas Gerais            27401\n",
       "Paraná                  18083\n",
       "Ceará                   11472\n",
       "Espírito Santo          11056\n",
       "Paraíba                 10599\n",
       "Bahia                    8578\n",
       "Rio Grande do Norte      4981\n",
       "Goiás                    2929\n",
       "Pernambuco               2645\n",
       "Distrito Federal         2300\n",
       "Pará                     1346\n",
       "Mato Grosso               899\n",
       "Amazonas                  831\n",
       "Tocantins                 714\n",
       "Alagoas                   610\n",
       "Maranhão                  568\n",
       "Sergipe                   314\n",
       "Mato Grosso do Sul        190\n",
       "Rondônia                  139\n",
       "Piauí                     123\n",
       "Amapá                     123\n",
       "Acre                       16\n",
       "Outros países               4\n",
       "Roraima                     2\n",
       "Name: state_name, dtype: int64"
      ]
     },
     "metadata": {},
     "execution_count": 9
    }
   ],
   "source": [
    "df.state_name.astype('str').value_counts()"
   ]
  },
  {
   "cell_type": "code",
   "execution_count": 10,
   "metadata": {
    "scrolled": true
   },
   "outputs": [],
   "source": [
    "def filter_latlon(dataset):\n",
    "    data = dataset[['lat', 'lon']]\n",
    "\n",
    "    # data = data.dropna()\n",
    "    # points = gpd.points_from_xy(data.lon, data.lat, crs=map_df.crs)\n",
    "    # points = gpd.GeoSeries(points)\n",
    "    # positions_in = map_df.contains(points)\n",
    "\n",
    "    positions = data.lat.notna().squeeze() & data.lon.notna().squeeze()\n",
    "\n",
    "    lon_max = -30.0\n",
    "    lon_min = -80.0\n",
    "    lat_min = -40.0\n",
    "    lat_max = 10.0\n",
    "    return dataset.loc[\n",
    "        positions & \n",
    "        (dataset.state_name != \"Outros países\") &\n",
    "        ((data.lat > lat_min) & (data.lat < lat_max)) & \n",
    "        ((data.lon > lon_min) & (data.lon < lon_max))\n",
    "    ]\n",
    "\n",
    "#filter_latlon(df).state_name.astype('str').value_counts()"
   ]
  },
  {
   "cell_type": "markdown",
   "metadata": {},
   "source": [
    "## Eliminando Outliers"
   ]
  },
  {
   "cell_type": "code",
   "execution_count": 11,
   "metadata": {
    "scrolled": true
   },
   "outputs": [],
   "source": [
    "def remove_outliers(dataset, cols):\n",
    "    Q1 = dataset[cols].quantile(0.25)\n",
    "    Q3 = dataset[cols].quantile(0.75)\n",
    "    IQR = Q3 - Q1\n",
    "    return dataset[~((dataset[cols] < (Q1 - 1.5 * IQR)) |(dataset[cols] > (Q3 + 1.5 * IQR))).any(axis=1)]"
   ]
  },
  {
   "cell_type": "markdown",
   "metadata": {},
   "source": [
    "## Lidando com dados incompletos"
   ]
  },
  {
   "cell_type": "markdown",
   "metadata": {},
   "source": [
    "- `expenses`"
   ]
  },
  {
   "cell_type": "code",
   "execution_count": 12,
   "metadata": {
    "scrolled": true
   },
   "outputs": [],
   "source": [
    "def fill_expenses(dataset):\n",
    "    dataset['expenses'].fillna(0.0, inplace=True)\n",
    "    return dataset"
   ]
  },
  {
   "cell_type": "markdown",
   "metadata": {},
   "source": [
    "- `surface_total_in_m2` e `surface_covered_in_m2`"
   ]
  },
  {
   "cell_type": "code",
   "execution_count": 13,
   "metadata": {
    "scrolled": true
   },
   "outputs": [],
   "source": [
    "def fill_surface_total_with_surface_covered(dataset):\n",
    "    dataset['surface_total_in_m2'].fillna(dataset['surface_covered_in_m2'], inplace=True)\n",
    "    return dataset\n",
    "\n",
    "def fill_surface_covered_with_surface_total(dataset):\n",
    "    dataset['surface_covered_in_m2'].fillna(dataset['surface_total_in_m2'], inplace=True)\n",
    "    return dataset\n",
    "\n",
    "def fill_remaining_objects_without_surfaces(dataset):\n",
    "    dataset['surface_total_in_m2'].fillna(dataset['surface_total_in_m2'].mean(), inplace=True)\n",
    "    dataset['surface_covered_in_m2'].fillna(dataset['surface_covered_in_m2'].mean(), inplace=True)\n",
    "    return dataset\n",
    "\n",
    "def drop_remaining_objects_without_surfaces(dataset):\n",
    "    dataset.dropna(subset=['surface_total_in_m2'], how='all', inplace=True)\n",
    "    return dataset"
   ]
  },
  {
   "cell_type": "markdown",
   "metadata": {},
   "source": [
    "- `rooms`"
   ]
  },
  {
   "cell_type": "code",
   "execution_count": 14,
   "metadata": {
    "scrolled": true
   },
   "outputs": [],
   "source": [
    "def fill_rooms(dataset):\n",
    "    dataset['surface_category'] = pd.qcut(dataset['surface_covered_in_m2'],4)\n",
    "    dataset['rooms'] = dataset['rooms'].fillna(dataset.groupby('surface_category')['rooms'].transform('mean').round())\n",
    "    return dataset.drop(columns=['surface_category'])"
   ]
  },
  {
   "cell_type": "markdown",
   "metadata": {},
   "source": [
    "# Transformando dados"
   ]
  },
  {
   "cell_type": "markdown",
   "metadata": {},
   "source": [
    "## Conversão simbólico-numérico"
   ]
  },
  {
   "cell_type": "markdown",
   "metadata": {},
   "source": [
    "- `property_type`"
   ]
  },
  {
   "cell_type": "code",
   "execution_count": 15,
   "metadata": {},
   "outputs": [],
   "source": [
    "def convert_property_type(dataset):\n",
    "    oe_style = OneHotEncoder(sparse=False)\n",
    "    oe_results =  oe_style.fit_transform(dataset[['property_type']])\n",
    "    pd_results = pd.DataFrame(oe_results, columns= oe_style.categories_)\n",
    "\n",
    "    dataset.reset_index(drop=True, inplace=True)    # While filtering, pandas keeps the old indexes\n",
    "    dataset = dataset.join(pd_results)              # which breaks the join\n",
    "\n",
    "    dataset.rename(columns=lambda s : str(s).replace(\",\", \"\").replace(\"(\", \"\").replace(\")\", \"\").replace(\"\\'\", \"\"), inplace=True)\n",
    "    dataset = dataset.drop(columns=['property_type'])\n",
    "    return dataset[[c for c in dataset if c not in ['price']] + ['price']]"
   ]
  },
  {
   "cell_type": "markdown",
   "metadata": {},
   "source": [
    "- `created_on`"
   ]
  },
  {
   "cell_type": "code",
   "execution_count": 16,
   "metadata": {},
   "outputs": [],
   "source": [
    "def convert_created_on(dataset):\n",
    "    ord_enc = OrdinalEncoder()\n",
    "    print(dataset.head(),dataset.tail())\n",
    "    dataset['created_on'] = ord_enc.fit_transform(dataset[['created_on']])\n",
    "    return dataset"
   ]
  },
  {
   "cell_type": "markdown",
   "metadata": {},
   "source": [
    "# Normalização"
   ]
  },
  {
   "cell_type": "markdown",
   "metadata": {},
   "source": [
    "## Por reescala"
   ]
  },
  {
   "cell_type": "code",
   "execution_count": 17,
   "metadata": {},
   "outputs": [],
   "source": [
    "def normalize_max_min(dataset, cols):\n",
    "    for feature in cols:\n",
    "        max_value = dataset[feature].max()\n",
    "        min_value = dataset[feature].min()\n",
    "        dataset[feature] = (dataset[feature] - min_value) / (max_value - min_value)\n",
    "    return dataset"
   ]
  },
  {
   "cell_type": "markdown",
   "metadata": {},
   "source": [
    "## Por padronização"
   ]
  },
  {
   "cell_type": "code",
   "execution_count": 18,
   "metadata": {},
   "outputs": [],
   "source": [
    "def standardizate(dataset, cols):\n",
    "    for feature in cols:\n",
    "        dataset[feature] = (dataset[feature] - dataset[feature].mean()) / (dataset[feature].std())\n",
    "    return dataset"
   ]
  },
  {
   "cell_type": "markdown",
   "metadata": {},
   "source": [
    "# Aplicando o Pré-Processamento"
   ]
  },
  {
   "cell_type": "code",
   "execution_count": 19,
   "metadata": {
    "scrolled": true
   },
   "outputs": [
    {
     "output_type": "stream",
     "name": "stdout",
     "text": [
      "#Exemplos: 1000000\n",
      "#Atributos: 24\n",
      "#Exemplos: 495836\n",
      "#Atributos: 9\n"
     ]
    },
    {
     "output_type": "execute_result",
     "data": {
      "text/plain": [
       "created_on                object\n",
       "property_type             object\n",
       "lat                      float64\n",
       "lon                      float64\n",
       "surface_total_in_m2      float64\n",
       "surface_covered_in_m2    float64\n",
       "rooms                    float64\n",
       "expenses                 float64\n",
       "price                    float64\n",
       "dtype: object"
      ]
     },
     "metadata": {},
     "execution_count": 19
    }
   ],
   "source": [
    "print(\"#Exemplos: {}\".format(df.shape[0]))\n",
    "print(\"#Atributos: {}\".format(df.shape[1]))\n",
    "df = filter_currency(df)\n",
    "df = filter_latlon(df)\n",
    "\n",
    "df = manual_selection(df)\n",
    "print(\"#Exemplos: {}\".format(df.shape[0]))\n",
    "print(\"#Atributos: {}\".format(df.shape[1]))\n",
    "df.dtypes"
   ]
  },
  {
   "cell_type": "code",
   "execution_count": 20,
   "metadata": {
    "scrolled": true
   },
   "outputs": [
    {
     "output_type": "execute_result",
     "data": {
      "text/plain": [
       "created_on                    0\n",
       "property_type                 0\n",
       "lat                           0\n",
       "lon                           0\n",
       "surface_total_in_m2      346725\n",
       "surface_covered_in_m2     91855\n",
       "rooms                    184491\n",
       "expenses                 315895\n",
       "price                         0\n",
       "dtype: int64"
      ]
     },
     "metadata": {},
     "execution_count": 20
    }
   ],
   "source": [
    "df.isnull().sum()"
   ]
  },
  {
   "cell_type": "code",
   "execution_count": 21,
   "metadata": {},
   "outputs": [
    {
     "output_type": "stream",
     "name": "stdout",
     "text": [
      "   created_on        lat        lon  surface_total_in_m2  surface_covered_in_m2  rooms  expenses   PH  apartment  house  store     price\n0  2017-04-28 -23.616325 -46.676620                  NaN                   80.0    NaN    1065.0  0.0        1.0    0.0    0.0  900000.0\n1  2017-05-25 -30.051750 -51.182068                 91.0                   91.0    NaN       NaN  0.0        1.0    0.0    0.0  750000.0\n2  2016-02-22 -25.413214 -49.271294                  NaN                  168.0    NaN       NaN  0.0        1.0    0.0    0.0  880000.0\n3  2016-09-09 -23.562290 -46.521248                  NaN                  145.0    2.0       NaN  0.0        0.0    1.0    0.0  580000.0\n4  2016-09-18 -21.809600 -46.544624                138.0                  260.0    NaN       NaN  0.0        0.0    1.0    0.0  420000.0         created_on        lat        lon  surface_total_in_m2  surface_covered_in_m2  rooms  expenses   PH  apartment  house  store      price\n495831  2016-05-11 -23.023577 -43.471703                  NaN                   75.0    NaN     680.0  0.0        1.0    0.0    0.0   530000.0\n495832  2016-06-09 -23.577942 -46.662556                  NaN                  315.0    3.0       NaN  0.0        0.0    1.0    0.0  1800000.0\n495833  2017-09-06 -30.022842 -51.193993                151.0                  102.0    NaN       NaN  0.0        1.0    0.0    0.0   798000.0\n495834  2015-07-02 -22.883080 -42.027451                  NaN                    NaN    2.0       NaN  0.0        0.0    1.0    0.0   250000.0\n495835  2017-08-18 -12.941992 -38.403465                  NaN                  112.0    1.0     941.0  0.0        1.0    0.0    0.0   760000.0\n"
     ]
    },
    {
     "output_type": "execute_result",
     "data": {
      "text/plain": [
       "   created_on        lat        lon  surface_total_in_m2  surface_covered_in_m2  rooms  expenses   PH  apartment  house  store     price\n",
       "0       981.0 -23.616325 -46.676620                  NaN                   80.0    NaN    1065.0  0.0        1.0    0.0    0.0  900000.0\n",
       "1      1008.0 -30.051750 -51.182068                 91.0                   91.0    NaN       NaN  0.0        1.0    0.0    0.0  750000.0\n",
       "2       568.0 -25.413214 -49.271294                  NaN                  168.0    NaN       NaN  0.0        1.0    0.0    0.0  880000.0\n",
       "3       755.0 -23.562290 -46.521248                  NaN                  145.0    2.0       NaN  0.0        0.0    1.0    0.0  580000.0\n",
       "4       764.0 -21.809600 -46.544624                138.0                  260.0    NaN       NaN  0.0        0.0    1.0    0.0  420000.0"
      ],
      "text/html": "<div>\n<style scoped>\n    .dataframe tbody tr th:only-of-type {\n        vertical-align: middle;\n    }\n\n    .dataframe tbody tr th {\n        vertical-align: top;\n    }\n\n    .dataframe thead th {\n        text-align: right;\n    }\n</style>\n<table border=\"1\" class=\"dataframe\">\n  <thead>\n    <tr style=\"text-align: right;\">\n      <th></th>\n      <th>created_on</th>\n      <th>lat</th>\n      <th>lon</th>\n      <th>surface_total_in_m2</th>\n      <th>surface_covered_in_m2</th>\n      <th>rooms</th>\n      <th>expenses</th>\n      <th>PH</th>\n      <th>apartment</th>\n      <th>house</th>\n      <th>store</th>\n      <th>price</th>\n    </tr>\n  </thead>\n  <tbody>\n    <tr>\n      <th>0</th>\n      <td>981.0</td>\n      <td>-23.616325</td>\n      <td>-46.676620</td>\n      <td>NaN</td>\n      <td>80.0</td>\n      <td>NaN</td>\n      <td>1065.0</td>\n      <td>0.0</td>\n      <td>1.0</td>\n      <td>0.0</td>\n      <td>0.0</td>\n      <td>900000.0</td>\n    </tr>\n    <tr>\n      <th>1</th>\n      <td>1008.0</td>\n      <td>-30.051750</td>\n      <td>-51.182068</td>\n      <td>91.0</td>\n      <td>91.0</td>\n      <td>NaN</td>\n      <td>NaN</td>\n      <td>0.0</td>\n      <td>1.0</td>\n      <td>0.0</td>\n      <td>0.0</td>\n      <td>750000.0</td>\n    </tr>\n    <tr>\n      <th>2</th>\n      <td>568.0</td>\n      <td>-25.413214</td>\n      <td>-49.271294</td>\n      <td>NaN</td>\n      <td>168.0</td>\n      <td>NaN</td>\n      <td>NaN</td>\n      <td>0.0</td>\n      <td>1.0</td>\n      <td>0.0</td>\n      <td>0.0</td>\n      <td>880000.0</td>\n    </tr>\n    <tr>\n      <th>3</th>\n      <td>755.0</td>\n      <td>-23.562290</td>\n      <td>-46.521248</td>\n      <td>NaN</td>\n      <td>145.0</td>\n      <td>2.0</td>\n      <td>NaN</td>\n      <td>0.0</td>\n      <td>0.0</td>\n      <td>1.0</td>\n      <td>0.0</td>\n      <td>580000.0</td>\n    </tr>\n    <tr>\n      <th>4</th>\n      <td>764.0</td>\n      <td>-21.809600</td>\n      <td>-46.544624</td>\n      <td>138.0</td>\n      <td>260.0</td>\n      <td>NaN</td>\n      <td>NaN</td>\n      <td>0.0</td>\n      <td>0.0</td>\n      <td>1.0</td>\n      <td>0.0</td>\n      <td>420000.0</td>\n    </tr>\n  </tbody>\n</table>\n</div>"
     },
     "metadata": {},
     "execution_count": 21
    }
   ],
   "source": [
    "df = convert_property_type(df)\n",
    "df = convert_created_on(df)\n",
    "df.head()"
   ]
  },
  {
   "cell_type": "code",
   "execution_count": 22,
   "metadata": {},
   "outputs": [
    {
     "output_type": "execute_result",
     "data": {
      "text/plain": [
       "        created_on        lat        lon  surface_total_in_m2  surface_covered_in_m2  rooms  expenses   PH  apartment  house  store      price\n",
       "495831       637.0 -23.023577 -43.471703                  NaN                   75.0    NaN     680.0  0.0        1.0    0.0    0.0   530000.0\n",
       "495832       666.0 -23.577942 -46.662556                  NaN                  315.0    3.0       NaN  0.0        0.0    1.0    0.0  1800000.0\n",
       "495833      1107.0 -30.022842 -51.193993                151.0                  102.0    NaN       NaN  0.0        1.0    0.0    0.0   798000.0\n",
       "495834       340.0 -22.883080 -42.027451                  NaN                    NaN    2.0       NaN  0.0        0.0    1.0    0.0   250000.0\n",
       "495835      1088.0 -12.941992 -38.403465                  NaN                  112.0    1.0     941.0  0.0        1.0    0.0    0.0   760000.0"
      ],
      "text/html": "<div>\n<style scoped>\n    .dataframe tbody tr th:only-of-type {\n        vertical-align: middle;\n    }\n\n    .dataframe tbody tr th {\n        vertical-align: top;\n    }\n\n    .dataframe thead th {\n        text-align: right;\n    }\n</style>\n<table border=\"1\" class=\"dataframe\">\n  <thead>\n    <tr style=\"text-align: right;\">\n      <th></th>\n      <th>created_on</th>\n      <th>lat</th>\n      <th>lon</th>\n      <th>surface_total_in_m2</th>\n      <th>surface_covered_in_m2</th>\n      <th>rooms</th>\n      <th>expenses</th>\n      <th>PH</th>\n      <th>apartment</th>\n      <th>house</th>\n      <th>store</th>\n      <th>price</th>\n    </tr>\n  </thead>\n  <tbody>\n    <tr>\n      <th>495831</th>\n      <td>637.0</td>\n      <td>-23.023577</td>\n      <td>-43.471703</td>\n      <td>NaN</td>\n      <td>75.0</td>\n      <td>NaN</td>\n      <td>680.0</td>\n      <td>0.0</td>\n      <td>1.0</td>\n      <td>0.0</td>\n      <td>0.0</td>\n      <td>530000.0</td>\n    </tr>\n    <tr>\n      <th>495832</th>\n      <td>666.0</td>\n      <td>-23.577942</td>\n      <td>-46.662556</td>\n      <td>NaN</td>\n      <td>315.0</td>\n      <td>3.0</td>\n      <td>NaN</td>\n      <td>0.0</td>\n      <td>0.0</td>\n      <td>1.0</td>\n      <td>0.0</td>\n      <td>1800000.0</td>\n    </tr>\n    <tr>\n      <th>495833</th>\n      <td>1107.0</td>\n      <td>-30.022842</td>\n      <td>-51.193993</td>\n      <td>151.0</td>\n      <td>102.0</td>\n      <td>NaN</td>\n      <td>NaN</td>\n      <td>0.0</td>\n      <td>1.0</td>\n      <td>0.0</td>\n      <td>0.0</td>\n      <td>798000.0</td>\n    </tr>\n    <tr>\n      <th>495834</th>\n      <td>340.0</td>\n      <td>-22.883080</td>\n      <td>-42.027451</td>\n      <td>NaN</td>\n      <td>NaN</td>\n      <td>2.0</td>\n      <td>NaN</td>\n      <td>0.0</td>\n      <td>0.0</td>\n      <td>1.0</td>\n      <td>0.0</td>\n      <td>250000.0</td>\n    </tr>\n    <tr>\n      <th>495835</th>\n      <td>1088.0</td>\n      <td>-12.941992</td>\n      <td>-38.403465</td>\n      <td>NaN</td>\n      <td>112.0</td>\n      <td>1.0</td>\n      <td>941.0</td>\n      <td>0.0</td>\n      <td>1.0</td>\n      <td>0.0</td>\n      <td>0.0</td>\n      <td>760000.0</td>\n    </tr>\n  </tbody>\n</table>\n</div>"
     },
     "metadata": {},
     "execution_count": 22
    }
   ],
   "source": [
    "df.tail()"
   ]
  },
  {
   "cell_type": "code",
   "execution_count": 23,
   "metadata": {
    "scrolled": true
   },
   "outputs": [
    {
     "output_type": "execute_result",
     "data": {
      "text/plain": [
       "created_on                0.000000\n",
       "lat                       0.000000\n",
       "lon                       0.000000\n",
       "surface_total_in_m2       0.000000\n",
       "surface_covered_in_m2     0.000000\n",
       "rooms                    36.198835\n",
       "expenses                  0.000000\n",
       "PH                        0.000000\n",
       "apartment                 0.000000\n",
       "house                     0.000000\n",
       "store                     0.000000\n",
       "price                     0.000000\n",
       "dtype: float64"
      ]
     },
     "metadata": {},
     "execution_count": 23
    }
   ],
   "source": [
    "df = fill_expenses(df)\n",
    "df = fill_surface_total_with_surface_covered(df)\n",
    "df = fill_surface_covered_with_surface_total(df)\n",
    "df = drop_remaining_objects_without_surfaces(df)\n",
    "df.isnull().sum()*100/df.shape[0]"
   ]
  },
  {
   "cell_type": "code",
   "execution_count": 24,
   "metadata": {
    "scrolled": true
   },
   "outputs": [
    {
     "output_type": "execute_result",
     "data": {
      "text/plain": [
       "created_on               0.0\n",
       "lat                      0.0\n",
       "lon                      0.0\n",
       "surface_total_in_m2      0.0\n",
       "surface_covered_in_m2    0.0\n",
       "rooms                    0.0\n",
       "expenses                 0.0\n",
       "PH                       0.0\n",
       "apartment                0.0\n",
       "house                    0.0\n",
       "store                    0.0\n",
       "price                    0.0\n",
       "dtype: float64"
      ]
     },
     "metadata": {},
     "execution_count": 24
    }
   ],
   "source": [
    "df = fill_rooms(df)\n",
    "df.isnull().sum()*100/df.shape[0]"
   ]
  },
  {
   "cell_type": "code",
   "execution_count": 25,
   "metadata": {
    "scrolled": true
   },
   "outputs": [
    {
     "output_type": "stream",
     "name": "stdout",
     "text": [
      "#Exemplos: 449633\n"
     ]
    }
   ],
   "source": [
    "cols = ['rooms']\n",
    "df = remove_outliers(df, cols)\n",
    "print(\"#Exemplos: {}\".format(df.shape[0]))"
   ]
  },
  {
   "cell_type": "code",
   "execution_count": 26,
   "metadata": {},
   "outputs": [
    {
     "output_type": "stream",
     "name": "stdout",
     "text": [
      "created_on               float64\nlat                      float64\nlon                      float64\nsurface_total_in_m2      float64\nsurface_covered_in_m2    float64\nrooms                    float64\nexpenses                 float64\nPH                       float64\napartment                float64\nhouse                    float64\nstore                    float64\nprice                    float64\ndtype: object\n"
     ]
    },
    {
     "output_type": "execute_result",
     "data": {
      "text/plain": [
       "   created_on        lat        lon  surface_total_in_m2  surface_covered_in_m2  rooms  expenses   PH  apartment  house  store     price\n",
       "0       981.0 -23.616325 -46.676620                 80.0                   80.0    2.0    1065.0  0.0        1.0    0.0    0.0  900000.0\n",
       "1      1008.0 -30.051750 -51.182068                 91.0                   91.0    2.0       0.0  0.0        1.0    0.0    0.0  750000.0\n",
       "2       568.0 -25.413214 -49.271294                168.0                  168.0    2.0       0.0  0.0        1.0    0.0    0.0  880000.0\n",
       "3       755.0 -23.562290 -46.521248                145.0                  145.0    2.0       0.0  0.0        0.0    1.0    0.0  580000.0\n",
       "4       764.0 -21.809600 -46.544624                138.0                  260.0    3.0       0.0  0.0        0.0    1.0    0.0  420000.0"
      ],
      "text/html": "<div>\n<style scoped>\n    .dataframe tbody tr th:only-of-type {\n        vertical-align: middle;\n    }\n\n    .dataframe tbody tr th {\n        vertical-align: top;\n    }\n\n    .dataframe thead th {\n        text-align: right;\n    }\n</style>\n<table border=\"1\" class=\"dataframe\">\n  <thead>\n    <tr style=\"text-align: right;\">\n      <th></th>\n      <th>created_on</th>\n      <th>lat</th>\n      <th>lon</th>\n      <th>surface_total_in_m2</th>\n      <th>surface_covered_in_m2</th>\n      <th>rooms</th>\n      <th>expenses</th>\n      <th>PH</th>\n      <th>apartment</th>\n      <th>house</th>\n      <th>store</th>\n      <th>price</th>\n    </tr>\n  </thead>\n  <tbody>\n    <tr>\n      <th>0</th>\n      <td>981.0</td>\n      <td>-23.616325</td>\n      <td>-46.676620</td>\n      <td>80.0</td>\n      <td>80.0</td>\n      <td>2.0</td>\n      <td>1065.0</td>\n      <td>0.0</td>\n      <td>1.0</td>\n      <td>0.0</td>\n      <td>0.0</td>\n      <td>900000.0</td>\n    </tr>\n    <tr>\n      <th>1</th>\n      <td>1008.0</td>\n      <td>-30.051750</td>\n      <td>-51.182068</td>\n      <td>91.0</td>\n      <td>91.0</td>\n      <td>2.0</td>\n      <td>0.0</td>\n      <td>0.0</td>\n      <td>1.0</td>\n      <td>0.0</td>\n      <td>0.0</td>\n      <td>750000.0</td>\n    </tr>\n    <tr>\n      <th>2</th>\n      <td>568.0</td>\n      <td>-25.413214</td>\n      <td>-49.271294</td>\n      <td>168.0</td>\n      <td>168.0</td>\n      <td>2.0</td>\n      <td>0.0</td>\n      <td>0.0</td>\n      <td>1.0</td>\n      <td>0.0</td>\n      <td>0.0</td>\n      <td>880000.0</td>\n    </tr>\n    <tr>\n      <th>3</th>\n      <td>755.0</td>\n      <td>-23.562290</td>\n      <td>-46.521248</td>\n      <td>145.0</td>\n      <td>145.0</td>\n      <td>2.0</td>\n      <td>0.0</td>\n      <td>0.0</td>\n      <td>0.0</td>\n      <td>1.0</td>\n      <td>0.0</td>\n      <td>580000.0</td>\n    </tr>\n    <tr>\n      <th>4</th>\n      <td>764.0</td>\n      <td>-21.809600</td>\n      <td>-46.544624</td>\n      <td>138.0</td>\n      <td>260.0</td>\n      <td>3.0</td>\n      <td>0.0</td>\n      <td>0.0</td>\n      <td>0.0</td>\n      <td>1.0</td>\n      <td>0.0</td>\n      <td>420000.0</td>\n    </tr>\n  </tbody>\n</table>\n</div>"
     },
     "metadata": {},
     "execution_count": 26
    }
   ],
   "source": [
    "print(df.dtypes)\n",
    "df.head()"
   ]
  },
  {
   "cell_type": "code",
   "execution_count": 27,
   "metadata": {},
   "outputs": [],
   "source": [
    "df.dtypes\n",
    "df.to_csv(dataset_dir + \"/preprocessed.csv\", index=False)"
   ]
  },
  {
   "source": [
    "## E se tivesse normalizado"
   ],
   "cell_type": "markdown",
   "metadata": {}
  },
  {
   "cell_type": "code",
   "execution_count": 28,
   "metadata": {},
   "outputs": [
    {
     "output_type": "execute_result",
     "data": {
      "text/plain": [
       "   created_on       lat       lon  surface_total_in_m2  surface_covered_in_m2  rooms  expenses   PH  apartment  house  store     price\n",
       "0    0.786688  0.311355  0.664401            -0.001542              -0.001534    0.2  0.005237  0.0        1.0    0.0    0.0  900000.0\n",
       "1    0.808340  0.124457  0.537113            -0.001539              -0.001531    0.2 -0.026410  0.0        1.0    0.0    0.0  750000.0\n",
       "2    0.455493  0.259170  0.591096            -0.001515              -0.001507    0.2 -0.026410  0.0        1.0    0.0    0.0  880000.0\n",
       "3    0.605453  0.312925  0.668791            -0.001522              -0.001514    0.2 -0.026410  0.0        0.0    1.0    0.0  580000.0\n",
       "4    0.612670  0.363826  0.668130            -0.001524              -0.001478    0.4 -0.026410  0.0        0.0    1.0    0.0  420000.0"
      ],
      "text/html": "<div>\n<style scoped>\n    .dataframe tbody tr th:only-of-type {\n        vertical-align: middle;\n    }\n\n    .dataframe tbody tr th {\n        vertical-align: top;\n    }\n\n    .dataframe thead th {\n        text-align: right;\n    }\n</style>\n<table border=\"1\" class=\"dataframe\">\n  <thead>\n    <tr style=\"text-align: right;\">\n      <th></th>\n      <th>created_on</th>\n      <th>lat</th>\n      <th>lon</th>\n      <th>surface_total_in_m2</th>\n      <th>surface_covered_in_m2</th>\n      <th>rooms</th>\n      <th>expenses</th>\n      <th>PH</th>\n      <th>apartment</th>\n      <th>house</th>\n      <th>store</th>\n      <th>price</th>\n    </tr>\n  </thead>\n  <tbody>\n    <tr>\n      <th>0</th>\n      <td>0.786688</td>\n      <td>0.311355</td>\n      <td>0.664401</td>\n      <td>-0.001542</td>\n      <td>-0.001534</td>\n      <td>0.2</td>\n      <td>0.005237</td>\n      <td>0.0</td>\n      <td>1.0</td>\n      <td>0.0</td>\n      <td>0.0</td>\n      <td>900000.0</td>\n    </tr>\n    <tr>\n      <th>1</th>\n      <td>0.808340</td>\n      <td>0.124457</td>\n      <td>0.537113</td>\n      <td>-0.001539</td>\n      <td>-0.001531</td>\n      <td>0.2</td>\n      <td>-0.026410</td>\n      <td>0.0</td>\n      <td>1.0</td>\n      <td>0.0</td>\n      <td>0.0</td>\n      <td>750000.0</td>\n    </tr>\n    <tr>\n      <th>2</th>\n      <td>0.455493</td>\n      <td>0.259170</td>\n      <td>0.591096</td>\n      <td>-0.001515</td>\n      <td>-0.001507</td>\n      <td>0.2</td>\n      <td>-0.026410</td>\n      <td>0.0</td>\n      <td>1.0</td>\n      <td>0.0</td>\n      <td>0.0</td>\n      <td>880000.0</td>\n    </tr>\n    <tr>\n      <th>3</th>\n      <td>0.605453</td>\n      <td>0.312925</td>\n      <td>0.668791</td>\n      <td>-0.001522</td>\n      <td>-0.001514</td>\n      <td>0.2</td>\n      <td>-0.026410</td>\n      <td>0.0</td>\n      <td>0.0</td>\n      <td>1.0</td>\n      <td>0.0</td>\n      <td>580000.0</td>\n    </tr>\n    <tr>\n      <th>4</th>\n      <td>0.612670</td>\n      <td>0.363826</td>\n      <td>0.668130</td>\n      <td>-0.001524</td>\n      <td>-0.001478</td>\n      <td>0.4</td>\n      <td>-0.026410</td>\n      <td>0.0</td>\n      <td>0.0</td>\n      <td>1.0</td>\n      <td>0.0</td>\n      <td>420000.0</td>\n    </tr>\n  </tbody>\n</table>\n</div>"
     },
     "metadata": {},
     "execution_count": 28
    }
   ],
   "source": [
    "cols = ['created_on', 'lat', 'lon', 'rooms']\n",
    "df = normalize_max_min(df, cols)\n",
    "\n",
    "cols = ['surface_total_in_m2', 'surface_covered_in_m2', 'expenses']\n",
    "df = standardizate(df, cols)\n",
    "df.head()"
   ]
  }
 ],
 "metadata": {
  "kernelspec": {
   "name": "python3",
   "display_name": "Python 3.8.8 64-bit (conda)"
  },
  "language_info": {
   "codemirror_mode": {
    "name": "ipython",
    "version": 3
   },
   "file_extension": ".py",
   "mimetype": "text/x-python",
   "name": "python",
   "nbconvert_exporter": "python",
   "pygments_lexer": "ipython3",
   "version": "3.8.8"
  },
  "metadata": {
   "interpreter": {
    "hash": "39a99e6402a5e3089e52d8af32288dc93e4162e81faf72116ca75d773f310577"
   }
  },
  "interpreter": {
   "hash": "39a99e6402a5e3089e52d8af32288dc93e4162e81faf72116ca75d773f310577"
  }
 },
 "nbformat": 4,
 "nbformat_minor": 2
}
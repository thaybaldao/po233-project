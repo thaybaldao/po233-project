{
  "nbformat": 4,
  "nbformat_minor": 0,
  "metadata": {
    "colab": {
      "name": "PO233_AnaliseDescritiva.ipynb",
      "provenance": [],
      "collapsed_sections": [],
      "toc_visible": true
    },
    "kernelspec": {
      "name": "python388jvsc74a57bd0144762e96ae07dfd72ac09e6b5ab033ed6d8ce30e36c5e495fd9bc099278cfa7",
      "display_name": "Python 3.8.8 64-bit ('ct213': conda)"
    },
    "language_info": {
      "name": "python",
      "version": "3.8.8"
    }
  },
  "cells": [
    {
      "cell_type": "markdown",
      "metadata": {
        "id": "y40PalnFrwGT"
      },
      "source": [
        "# Análise Descritiva dos Dados\n",
        "\n",
        "## Título:\n",
        "\n",
        "**Predição de preço de imóveis**\n",
        "\n",
        "## Membros:\n",
        "\n",
        "*   Adrisson Rogério Samersla\n",
        "*   Nickolas Batista Mendonça Machado\n",
        "*   Thayna Pires Baldão\n",
        "\n",
        "## Checklist de análises univariadas\n",
        "\n",
        "*   Classificar os atributos\n",
        "*   Número de elementos faltantes & distribuição de classes\n",
        "*   Boxplot/Histograma\n",
        "*   Média/Desvpad/Mediana/Min/Max/\n",
        "\n",
        "## Checklist de análises multivariadas\n",
        "\n",
        "*   Correlação com a saída (e entre si)\n",
        "*   Heatmap/Scatter plot\n",
        "\n"
      ]
    },
    {
      "cell_type": "markdown",
      "metadata": {
        "id": "as1SgF6i-3uZ"
      },
      "source": [
        "## Setup"
      ]
    },
    {
      "cell_type": "code",
      "metadata": {
        "colab": {
          "base_uri": "https://localhost:8080/"
        },
        "id": "Hg-yZnAI_EnI",
        "outputId": "22c875e4-3267-4679-f649-233a700d89f6"
      },
      "source": [
        "# from google.colab import drive\n",
        "# drive.mount('/content/drive')\n",
        "# dataset_dir = '/content/drive/MyDrive/PO233/dataset'"
      ],
      "execution_count": 1,
      "outputs": []
    },
    {
      "cell_type": "code",
      "metadata": {
        "id": "W5huXHPK-zbp"
      },
      "source": [
        "import pandas as pd\n",
        "import numpy as np\n",
        "import seaborn as sns\n",
        "pd.set_option('display.max_columns', None)  \n",
        "pd.set_option('display.expand_frame_repr', False)\n",
        "pd.reset_option('max_colwidth')"
      ],
      "execution_count": 2,
      "outputs": []
    },
    {
      "cell_type": "markdown",
      "metadata": {
        "id": "O-eEqrR4vk-F"
      },
      "source": [
        "# Entendendo a Base de Dados"
      ]
    },
    {
      "cell_type": "code",
      "metadata": {
        "colab": {
          "base_uri": "https://localhost:8080/"
        },
        "id": "uNz5BC6k-_yY",
        "outputId": "348593b1-fda9-497f-f6f8-3c93d294665f"
      },
      "source": [
        "# df = pd.read_csv(dataset_dir + '/reduced-training.csv')\n",
        "df = pd.read_csv('dataset.csv')\n",
        "df.shape"
      ],
      "execution_count": 3,
      "outputs": [
        {
          "output_type": "execute_result",
          "data": {
            "text/plain": [
              "(1000000, 24)"
            ]
          },
          "metadata": {},
          "execution_count": 3
        }
      ]
    },
    {
      "cell_type": "code",
      "metadata": {
        "colab": {
          "base_uri": "https://localhost:8080/"
        },
        "id": "4BNidWOkAFXj",
        "outputId": "afe37f95-0cd0-45d8-ac6f-e47acf323e50"
      },
      "source": [
        "df.dtypes"
      ],
      "execution_count": 4,
      "outputs": [
        {
          "output_type": "execute_result",
          "data": {
            "text/plain": [
              "id                           int64\n",
              "property_id                 object\n",
              "created_on                  object\n",
              "operation                   object\n",
              "property_type               object\n",
              "place_name                  object\n",
              "place_with_parent_names     object\n",
              "country_name                object\n",
              "state_name                  object\n",
              "geonames_id                float64\n",
              "lat_lon                     object\n",
              "lat                        float64\n",
              "lon                        float64\n",
              "currency                    object\n",
              "surface_total_in_m2        float64\n",
              "surface_covered_in_m2      float64\n",
              "floor                      float64\n",
              "rooms                      float64\n",
              "expenses                   float64\n",
              "description                 object\n",
              "title                       object\n",
              "image_thumbnail             object\n",
              "collected_on                object\n",
              "price                      float64\n",
              "dtype: object"
            ]
          },
          "metadata": {},
          "execution_count": 4
        }
      ]
    },
    {
      "cell_type": "code",
      "execution_count": 5,
      "metadata": {},
      "outputs": [
        {
          "output_type": "execute_result",
          "data": {
            "text/plain": [
              "         id                               property_id  created_on operation property_type    place_name                    place_with_parent_names country_name         state_name  geonames_id                lat_lon        lat        lon currency  surface_total_in_m2  surface_covered_in_m2  floor  rooms  expenses                                        description                                              title                                    image_thumbnail collected_on     price\n",
              "0   9641098  9e065715d8b6c69bc930c185901aaf71e3be3d54  2017-04-28      sell     apartment    Campo Belo    |Brasil|São Paulo|São Paulo|Campo Belo|       Brasil          São Paulo          NaN   -23.616325,-46.67662 -23.616325 -46.676620      BRL                  NaN                   80.0    NaN    NaN    1065.0  Atualizado em 05/06/2017. O projeto arquitetôn...  Apartamento com 2 quartos e 2 Suites, São Paul...  https://thumbs4.properati.com/2/tQXG8R8vA-PsM4...      2017-08  900000.0\n",
              "1   7965368  f6b640522dd15dd3667850718f52aa02516b04ff  2017-05-25      sell     apartment  Porto Alegre    |Brasil|Rio Grande do Sul|Porto Alegre|       Brasil  Rio Grande do Sul          NaN   -30.05175,-51.182068 -30.051750 -51.182068      BRL                 91.0                   91.0    NaN    NaN       NaN  APARTAMENTO com 3 dormitórios , sendo 1 suíte,...                          Apartamento em Petrópolis  https://thumbs4.properati.com/6/gy-6GDbU5Ccx_I...      2017-07  750000.0\n",
              "2   6779668  39a954f5d56137f6fe547af707626eafa6a3869c  2015-06-26      sell     apartment         Bessa         |Brasil|Paraíba|João Pessoa|Bessa|       Brasil            Paraíba          NaN                    NaN        NaN        NaN      BRL                  NaN                    NaN    NaN    NaN       NaN  Edifcio: 10(dez) apartamentos; 01(uma) vaga ga...  Venda Apartamento Joo Pessoa/Paraba: 3 quartos...  https://thumbs4.properati.com/8/DL8fMA8z1oRVgv...      2015-12  235000.0\n",
              "3  10187959  ae0282c0e20210cfaf030e57edf85b9d5d6c13f4  2016-02-22      sell     apartment  São Lourenço      |Brasil|Paraná|Curitiba|São Lourenço|       Brasil             Paraná          NaN  -25.413214,-49.271294 -25.413214 -49.271294      BRL                  NaN                  168.0    NaN    NaN       NaN  Linda cobertura no bairro São Lourenço com uma...  Linda Cobertura duplex - 168 m² - 2 suítes, 2 ...  https://thumbs4.properati.com/2/J6USW1fALKsXov...      2016-06  880000.0\n",
              "4   1147630  f83c204dd1baf29c6460826ee829be00f751f676  2016-09-09      sell         house  Vila Formosa  |Brasil|São Paulo|São Paulo|Vila Formosa|       Brasil          São Paulo          NaN   -23.56229,-46.521248 -23.562290 -46.521248      BRL                  NaN                  145.0    NaN    2.0       NaN  Lindo sobrado, muito bem construído com ótimo ...          Sobrado novo para  venda na Vila Formosa.  https://thumbs4.properati.com/0/bXqmIc-TKt1wua...      2017-03  580000.0"
            ],
            "text/html": "<div>\n<style scoped>\n    .dataframe tbody tr th:only-of-type {\n        vertical-align: middle;\n    }\n\n    .dataframe tbody tr th {\n        vertical-align: top;\n    }\n\n    .dataframe thead th {\n        text-align: right;\n    }\n</style>\n<table border=\"1\" class=\"dataframe\">\n  <thead>\n    <tr style=\"text-align: right;\">\n      <th></th>\n      <th>id</th>\n      <th>property_id</th>\n      <th>created_on</th>\n      <th>operation</th>\n      <th>property_type</th>\n      <th>place_name</th>\n      <th>place_with_parent_names</th>\n      <th>country_name</th>\n      <th>state_name</th>\n      <th>geonames_id</th>\n      <th>lat_lon</th>\n      <th>lat</th>\n      <th>lon</th>\n      <th>currency</th>\n      <th>surface_total_in_m2</th>\n      <th>surface_covered_in_m2</th>\n      <th>floor</th>\n      <th>rooms</th>\n      <th>expenses</th>\n      <th>description</th>\n      <th>title</th>\n      <th>image_thumbnail</th>\n      <th>collected_on</th>\n      <th>price</th>\n    </tr>\n  </thead>\n  <tbody>\n    <tr>\n      <th>0</th>\n      <td>9641098</td>\n      <td>9e065715d8b6c69bc930c185901aaf71e3be3d54</td>\n      <td>2017-04-28</td>\n      <td>sell</td>\n      <td>apartment</td>\n      <td>Campo Belo</td>\n      <td>|Brasil|São Paulo|São Paulo|Campo Belo|</td>\n      <td>Brasil</td>\n      <td>São Paulo</td>\n      <td>NaN</td>\n      <td>-23.616325,-46.67662</td>\n      <td>-23.616325</td>\n      <td>-46.676620</td>\n      <td>BRL</td>\n      <td>NaN</td>\n      <td>80.0</td>\n      <td>NaN</td>\n      <td>NaN</td>\n      <td>1065.0</td>\n      <td>Atualizado em 05/06/2017. O projeto arquitetôn...</td>\n      <td>Apartamento com 2 quartos e 2 Suites, São Paul...</td>\n      <td>https://thumbs4.properati.com/2/tQXG8R8vA-PsM4...</td>\n      <td>2017-08</td>\n      <td>900000.0</td>\n    </tr>\n    <tr>\n      <th>1</th>\n      <td>7965368</td>\n      <td>f6b640522dd15dd3667850718f52aa02516b04ff</td>\n      <td>2017-05-25</td>\n      <td>sell</td>\n      <td>apartment</td>\n      <td>Porto Alegre</td>\n      <td>|Brasil|Rio Grande do Sul|Porto Alegre|</td>\n      <td>Brasil</td>\n      <td>Rio Grande do Sul</td>\n      <td>NaN</td>\n      <td>-30.05175,-51.182068</td>\n      <td>-30.051750</td>\n      <td>-51.182068</td>\n      <td>BRL</td>\n      <td>91.0</td>\n      <td>91.0</td>\n      <td>NaN</td>\n      <td>NaN</td>\n      <td>NaN</td>\n      <td>APARTAMENTO com 3 dormitórios , sendo 1 suíte,...</td>\n      <td>Apartamento em Petrópolis</td>\n      <td>https://thumbs4.properati.com/6/gy-6GDbU5Ccx_I...</td>\n      <td>2017-07</td>\n      <td>750000.0</td>\n    </tr>\n    <tr>\n      <th>2</th>\n      <td>6779668</td>\n      <td>39a954f5d56137f6fe547af707626eafa6a3869c</td>\n      <td>2015-06-26</td>\n      <td>sell</td>\n      <td>apartment</td>\n      <td>Bessa</td>\n      <td>|Brasil|Paraíba|João Pessoa|Bessa|</td>\n      <td>Brasil</td>\n      <td>Paraíba</td>\n      <td>NaN</td>\n      <td>NaN</td>\n      <td>NaN</td>\n      <td>NaN</td>\n      <td>BRL</td>\n      <td>NaN</td>\n      <td>NaN</td>\n      <td>NaN</td>\n      <td>NaN</td>\n      <td>NaN</td>\n      <td>Edifcio: 10(dez) apartamentos; 01(uma) vaga ga...</td>\n      <td>Venda Apartamento Joo Pessoa/Paraba: 3 quartos...</td>\n      <td>https://thumbs4.properati.com/8/DL8fMA8z1oRVgv...</td>\n      <td>2015-12</td>\n      <td>235000.0</td>\n    </tr>\n    <tr>\n      <th>3</th>\n      <td>10187959</td>\n      <td>ae0282c0e20210cfaf030e57edf85b9d5d6c13f4</td>\n      <td>2016-02-22</td>\n      <td>sell</td>\n      <td>apartment</td>\n      <td>São Lourenço</td>\n      <td>|Brasil|Paraná|Curitiba|São Lourenço|</td>\n      <td>Brasil</td>\n      <td>Paraná</td>\n      <td>NaN</td>\n      <td>-25.413214,-49.271294</td>\n      <td>-25.413214</td>\n      <td>-49.271294</td>\n      <td>BRL</td>\n      <td>NaN</td>\n      <td>168.0</td>\n      <td>NaN</td>\n      <td>NaN</td>\n      <td>NaN</td>\n      <td>Linda cobertura no bairro São Lourenço com uma...</td>\n      <td>Linda Cobertura duplex - 168 m² - 2 suítes, 2 ...</td>\n      <td>https://thumbs4.properati.com/2/J6USW1fALKsXov...</td>\n      <td>2016-06</td>\n      <td>880000.0</td>\n    </tr>\n    <tr>\n      <th>4</th>\n      <td>1147630</td>\n      <td>f83c204dd1baf29c6460826ee829be00f751f676</td>\n      <td>2016-09-09</td>\n      <td>sell</td>\n      <td>house</td>\n      <td>Vila Formosa</td>\n      <td>|Brasil|São Paulo|São Paulo|Vila Formosa|</td>\n      <td>Brasil</td>\n      <td>São Paulo</td>\n      <td>NaN</td>\n      <td>-23.56229,-46.521248</td>\n      <td>-23.562290</td>\n      <td>-46.521248</td>\n      <td>BRL</td>\n      <td>NaN</td>\n      <td>145.0</td>\n      <td>NaN</td>\n      <td>2.0</td>\n      <td>NaN</td>\n      <td>Lindo sobrado, muito bem construído com ótimo ...</td>\n      <td>Sobrado novo para  venda na Vila Formosa.</td>\n      <td>https://thumbs4.properati.com/0/bXqmIc-TKt1wua...</td>\n      <td>2017-03</td>\n      <td>580000.0</td>\n    </tr>\n  </tbody>\n</table>\n</div>"
          },
          "metadata": {},
          "execution_count": 5
        }
      ],
      "source": [
        "df.head()"
      ]
    },
    {
      "cell_type": "code",
      "execution_count": 6,
      "metadata": {},
      "outputs": [],
      "source": [
        "X = df.drop(columns=['id','property_id'])"
      ]
    },
    {
      "cell_type": "code",
      "execution_count": 7,
      "metadata": {},
      "outputs": [
        {
          "output_type": "execute_result",
          "data": {
            "text/plain": [
              "created_on                  object\n",
              "operation                   object\n",
              "property_type               object\n",
              "place_name                  object\n",
              "place_with_parent_names     object\n",
              "country_name                object\n",
              "state_name                  object\n",
              "geonames_id                float64\n",
              "lat_lon                     object\n",
              "lat                        float64\n",
              "lon                        float64\n",
              "currency                    object\n",
              "surface_total_in_m2        float64\n",
              "surface_covered_in_m2      float64\n",
              "floor                      float64\n",
              "rooms                      float64\n",
              "expenses                   float64\n",
              "description                 object\n",
              "title                       object\n",
              "image_thumbnail             object\n",
              "collected_on                object\n",
              "price                      float64\n",
              "dtype: object"
            ]
          },
          "metadata": {},
          "execution_count": 7
        }
      ],
      "source": [
        "X.dtypes"
      ]
    },
    {
      "source": [
        "# Tipos de Atributos"
      ],
      "cell_type": "markdown",
      "metadata": {}
    },
    {
      "source": [
        "## Qualitativos Nominais"
      ],
      "cell_type": "markdown",
      "metadata": {}
    },
    {
      "cell_type": "code",
      "execution_count": 8,
      "metadata": {},
      "outputs": [
        {
          "output_type": "execute_result",
          "data": {
            "text/plain": [
              "array(['sell'], dtype=object)"
            ]
          },
          "metadata": {},
          "execution_count": 8
        }
      ],
      "source": [
        "pd.unique(X.operation)"
      ]
    },
    {
      "cell_type": "code",
      "execution_count": 9,
      "metadata": {},
      "outputs": [
        {
          "output_type": "execute_result",
          "data": {
            "text/plain": [
              "sell    1000000\n",
              "Name: operation, dtype: int64"
            ]
          },
          "metadata": {},
          "execution_count": 9
        }
      ],
      "source": [
        "X.operation.astype('str').value_counts()"
      ]
    },
    {
      "cell_type": "code",
      "execution_count": 10,
      "metadata": {},
      "outputs": [
        {
          "output_type": "execute_result",
          "data": {
            "text/plain": [
              "array(['apartment', 'house', 'store', 'PH'], dtype=object)"
            ]
          },
          "metadata": {},
          "execution_count": 10
        }
      ],
      "source": [
        "pd.unique(X.property_type)"
      ]
    },
    {
      "source": [
        "X.property_type.astype('str').value_counts()"
      ],
      "cell_type": "code",
      "metadata": {},
      "execution_count": 11,
      "outputs": [
        {
          "output_type": "execute_result",
          "data": {
            "text/plain": [
              "apartment    651175\n",
              "house        318243\n",
              "store         25142\n",
              "PH             5440\n",
              "Name: property_type, dtype: int64"
            ]
          },
          "metadata": {},
          "execution_count": 11
        }
      ]
    },
    {
      "cell_type": "code",
      "execution_count": 12,
      "metadata": {},
      "outputs": [
        {
          "output_type": "execute_result",
          "data": {
            "text/plain": [
              "array(['Campo Belo', 'Porto Alegre', 'Bessa', ..., 'Cipó',\n",
              "       'Parque São José', 'Feijó'], dtype=object)"
            ]
          },
          "metadata": {},
          "execution_count": 12
        }
      ],
      "source": [
        "pd.unique(X.place_name)"
      ]
    },
    {
      "cell_type": "code",
      "execution_count": 13,
      "metadata": {},
      "outputs": [
        {
          "output_type": "execute_result",
          "data": {
            "text/plain": [
              "Praia Grande                46953\n",
              "Centro                      32584\n",
              "Santo André                 31783\n",
              "Porto Alegre                26248\n",
              "São Paulo                   17527\n",
              "                            ...  \n",
              "Residencial Sol Nascente        1\n",
              "Ipuiúna                         1\n",
              "Porteiras                       1\n",
              "São Luiz Gonzaga                1\n",
              "Parque Bitaru                   1\n",
              "Name: place_name, Length: 5135, dtype: int64"
            ]
          },
          "metadata": {},
          "execution_count": 13
        }
      ],
      "source": [
        "X.place_name.astype('str').value_counts()"
      ]
    },
    {
      "cell_type": "code",
      "execution_count": 14,
      "metadata": {},
      "outputs": [
        {
          "output_type": "execute_result",
          "data": {
            "text/plain": [
              "array(['|Brasil|São Paulo|São Paulo|Campo Belo|',\n",
              "       '|Brasil|Rio Grande do Sul|Porto Alegre|',\n",
              "       '|Brasil|Paraíba|João Pessoa|Bessa|', ...,\n",
              "       '|Brasil|São Paulo|São Bernardo do Campo|Parque São José|',\n",
              "       '|Brasil|Rio Grande do Norte|Rio do Fogo|Centro|',\n",
              "       '|Brasil|Acre|Feijó|'], dtype=object)"
            ]
          },
          "metadata": {},
          "execution_count": 14
        }
      ],
      "source": [
        "pd.unique(X.place_with_parent_names)"
      ]
    },
    {
      "cell_type": "code",
      "execution_count": 15,
      "metadata": {},
      "outputs": [
        {
          "output_type": "execute_result",
          "data": {
            "text/plain": [
              "|Brasil|São Paulo|Praia Grande|               46869\n",
              "|Brasil|São Paulo|Santo André|                31722\n",
              "|Brasil|Rio Grande do Sul|Porto Alegre|       26248\n",
              "|Brasil|São Paulo|São Paulo|                  14994\n",
              "|Brasil|São Paulo|São Paulo|Campo Belo|       10527\n",
              "                                              ...  \n",
              "|Brasil|São Paulo|Cajamar|Jardim Adelaide|        1\n",
              "|Brasil|Goiás|Caldas Novas|Nova Vila|             1\n",
              "|Brasil|Minas Gerais|Ilicínea|                    1\n",
              "|Brasil|Santa Catarina|Guatambú|                  1\n",
              "|Brasil|São Paulo|Monteiro Lobato|                1\n",
              "Name: place_with_parent_names, Length: 6634, dtype: int64"
            ]
          },
          "metadata": {},
          "execution_count": 15
        }
      ],
      "source": [
        "X.place_with_parent_names.astype('str').value_counts()"
      ]
    },
    {
      "cell_type": "code",
      "execution_count": 16,
      "metadata": {},
      "outputs": [
        {
          "output_type": "execute_result",
          "data": {
            "text/plain": [
              "array(['Brasil'], dtype=object)"
            ]
          },
          "metadata": {},
          "execution_count": 16
        }
      ],
      "source": [
        "pd.unique(X.country_name)"
      ]
    },
    {
      "cell_type": "code",
      "execution_count": 17,
      "metadata": {},
      "outputs": [
        {
          "output_type": "execute_result",
          "data": {
            "text/plain": [
              "Brasil    1000000\n",
              "Name: country_name, dtype: int64"
            ]
          },
          "metadata": {},
          "execution_count": 17
        }
      ],
      "source": [
        "X.country_name.astype('str').value_counts()"
      ]
    },
    {
      "cell_type": "code",
      "execution_count": 18,
      "metadata": {},
      "outputs": [
        {
          "output_type": "execute_result",
          "data": {
            "text/plain": [
              "array(['São Paulo', 'Rio Grande do Sul', 'Paraíba', 'Paraná',\n",
              "       'Minas Gerais', 'Ceará', 'Rio de Janeiro', 'Espírito Santo',\n",
              "       'Santa Catarina', 'Bahia', 'Goiás', 'Sergipe',\n",
              "       'Rio Grande do Norte', 'Pará', 'Distrito Federal', 'Alagoas',\n",
              "       'Mato Grosso', 'Pernambuco', 'Tocantins', 'Mato Grosso do Sul',\n",
              "       'Amazonas', 'Piauí', 'Maranhão', 'Rondônia', 'Amapá', 'Acre',\n",
              "       'Outros países', 'Roraima'], dtype=object)"
            ]
          },
          "metadata": {},
          "execution_count": 18
        }
      ],
      "source": [
        "pd.unique(X.state_name)"
      ]
    },
    {
      "cell_type": "code",
      "execution_count": 19,
      "metadata": {},
      "outputs": [
        {
          "output_type": "execute_result",
          "data": {
            "text/plain": [
              "São Paulo              704145\n",
              "Rio Grande do Sul       90626\n",
              "Rio de Janeiro          71693\n",
              "Santa Catarina          27613\n",
              "Minas Gerais            27401\n",
              "Paraná                  18083\n",
              "Ceará                   11472\n",
              "Espírito Santo          11056\n",
              "Paraíba                 10599\n",
              "Bahia                    8578\n",
              "Rio Grande do Norte      4981\n",
              "Goiás                    2929\n",
              "Pernambuco               2645\n",
              "Distrito Federal         2300\n",
              "Pará                     1346\n",
              "Mato Grosso               899\n",
              "Amazonas                  831\n",
              "Tocantins                 714\n",
              "Alagoas                   610\n",
              "Maranhão                  568\n",
              "Sergipe                   314\n",
              "Mato Grosso do Sul        190\n",
              "Rondônia                  139\n",
              "Amapá                     123\n",
              "Piauí                     123\n",
              "Acre                       16\n",
              "Outros países               4\n",
              "Roraima                     2\n",
              "Name: state_name, dtype: int64"
            ]
          },
          "metadata": {},
          "execution_count": 19
        }
      ],
      "source": [
        "X.state_name.astype('str').value_counts()"
      ]
    },
    {
      "cell_type": "code",
      "execution_count": 20,
      "metadata": {},
      "outputs": [
        {
          "output_type": "execute_result",
          "data": {
            "text/plain": [
              "array(['BRL', 'MXN', 'USD', 'COP'], dtype=object)"
            ]
          },
          "metadata": {},
          "execution_count": 20
        }
      ],
      "source": [
        "pd.unique(X.currency)"
      ]
    },
    {
      "cell_type": "code",
      "execution_count": 21,
      "metadata": {},
      "outputs": [
        {
          "output_type": "execute_result",
          "data": {
            "text/plain": [
              "BRL    999806\n",
              "MXN       103\n",
              "USD        87\n",
              "COP         4\n",
              "Name: currency, dtype: int64"
            ]
          },
          "metadata": {},
          "execution_count": 21
        }
      ],
      "source": [
        "X.currency.astype('str').value_counts()"
      ]
    },
    {
      "cell_type": "code",
      "execution_count": 22,
      "metadata": {},
      "outputs": [
        {
          "output_type": "execute_result",
          "data": {
            "text/plain": [
              "array(['Atualizado em 05/06/2017. O projeto arquitetônico do apartamento oferece a privacidade e segurança tão desejadas. O Edifício foi idealizado para proporcionar instalações modernas, belas, seguras e funcionais para seus moradores. A área de lazer completíssima em ambientes agradáveis e espaçosos. Apartamento com 2 dormitórios, ambos suítes, 2 vagas e depósito.',\n",
              "       'APARTAMENTO com 3 dormitórios , sendo 1 suíte,living amplo bem iluminado e com linda vista definida, churrasqueira na cozinha e área de serviço separada. Porcelanato no living e laminado na parte íntima.Prédio com salão de festas e churrasqueira.3 vagas, box duplo 701 e box 714.Ficam os móveis sob medida.   ',\n",
              "       'Edifcio: 10(dez) apartamentos; 01(uma) vaga garagem por mentos:* Trreo 1: Sala nica para 2 ambientes, solarium, 3 quartos sendo 1 sute, wc social, cozinha e rea de servio. Garagem coberta. rea Privativa de 69,70m2.* Trreo 2: Sala nica para 2 ambientes, solarium, 3 quartos sendo 1 sute, wc social, cozinha e rea de servio. Garagem coberta. rea Privativa de 70,40m2.* Tipo 1: Sala nica para 2 ambientes, varanda, 3 quartos sendo 1 sute, wc social, cozinha e rea de servio. Garagem semi-coberta. rea Privativa de 69,70m2.* Tipo 2 e 3: Sala nica para 2 ambientes, varanda, 2 quartos sendo 1 sute, wc social, cozinha americana e rea de servio. Garagem descoberta. rea Privativa de 55,40m2.* Tipo 4: Sala para 2 ambientes, varanda, 3 quartos sendo 1 sute, wc social, cozinha e rea de servio. Garagem semi-coberta. rea Privativa de 75,50m2. OBS.: Apartamento trreo do tipo 1 no possui varanda, no entanto possui rea descoberta privativa de 58,00m2Apartamento',\n",
              "       ...,\n",
              "       'Ref.: 480Ótima casa em condomínio sendo 3 dormitórios  com uma suite, sala, cozinha, banheiro social,lavanderia, dormitório de empregada com suite, quintal, churrasqueira com banheiro,A.T. 420 m² A.C. 120 m² com 4 vagas de garagem.Aceita proposta.',\n",
              "       'ÓTIMO APARTAMENTO DE 3 DORMITÓRIOS, SENDO 3 SUÍTES, SENDO 2 AMERICANAS, COM LIVING PARA 2 AMBIENTES COM LAREIRA, CHURRASQUEIRA, COPA/COZINHA, ÁGUA QUENTE, ÁREA DE SERVIÇO, ESPERA PARA SPLIT E 2 VAGAS DE GARAGEM ESCRITURADAS + DEPÓSITO INDIVIDUAL.   EDIFÍCIO COM 2 ELEVADORES, CIRCUITO DE TV, ESPAÇO GOURMET, GÁS CENTRAL, PISCINA ADULTO E INFANTIL, PLAYGROUND, QUADRA DE ESPORTES, SALA DE FITNESS, SALÃO DE FESTAS COM CHURRASQUEIRA, ZELADOR, PORTARIA 24 HORAS, . . .   - PARA FACILITAR SUA COMPRA, AVALIAMOS SEU IMÓVEL E ESTUDAMOS JUNTO AO PROPRIETÁRIO A POSSIBILIDADE DE ENTRAR COMO PARTE DO PAGAMENTO, BEM COMO, INDICAMOS ALTERNATIVAS DE FINANCIAMENTO QUE PODEM CHEGAR ATÉ 90% DO VALOR TOTAL DO IMÓVEL A SER ADQUIRIDO, CONSULTE-NOS.   O proprietário estuda receber seu imóvel como parte de pagamento.Aceita financiamento bancário. Use seu FGTS!Avaliamos gratuitamente o seu imóvel.Acesse o nosso site ***  ***Atendimento WhatsApp 24 horas (51) 9 Atualizado em 28.09.2017',\n",
              "       'Excelente apartamento com 4 quartos, sendo 2 suítes. 2 vagas. Le Parc para venda e locação, Paralela, Salvador.'],\n",
              "      dtype=object)"
            ]
          },
          "metadata": {},
          "execution_count": 22
        }
      ],
      "source": [
        "pd.unique(X.description)"
      ]
    },
    {
      "cell_type": "code",
      "execution_count": 23,
      "metadata": {},
      "outputs": [
        {
          "output_type": "execute_result",
          "data": {
            "text/plain": [
              "array(['Apartamento com 2 quartos e 2 Suites, São Paulo, Campo Belo, por R$ 900.000',\n",
              "       'Apartamento em Petrópolis',\n",
              "       'Venda Apartamento Joo Pessoa/Paraba: 3 quartos, 1 sute, 1 vaga',\n",
              "       ...,\n",
              "       'Apartamento , 04 dormitórios (2 suítes) para venda em Riviera de São Lourenço, Bertioga, São Paulo: ',\n",
              "       'Casa com 5 quartos e Copa na AV BRIGADEIRO LUÍS ANTÔNIO, São Paulo, Jardim Paulista, por R$ 1.800.000',\n",
              "       'Excelente apartamento com 4 quartos, sendo 2 suítes. 2 vagas. Le Parc para venda e locação, Paralela, Salvador.'],\n",
              "      dtype=object)"
            ]
          },
          "metadata": {},
          "execution_count": 23
        }
      ],
      "source": [
        "pd.unique(X.title)"
      ]
    },
    {
      "cell_type": "code",
      "execution_count": 24,
      "metadata": {},
      "outputs": [
        {
          "output_type": "execute_result",
          "data": {
            "text/plain": [
              "array(['https://thumbs4.properati.com/2/tQXG8R8vA-PsM4MAI1hFlybtdRA=/trim/198x0/smart/filters:strip_icc()/images2.brbrokers.com.br/CRM/792358/Medium42811.6809732523_4b941592fdfa45f0816969067ff8cab3.jpg',\n",
              "       'https://thumbs4.properati.com/6/gy-6GDbU5Ccx_IN7vnSWlJuZEP0=/trim/198x0/smart/filters:strip_icc()/www.imoobe.com.br/vista.imobi/fotos/381736/iimoobe11381736_11750.jpg',\n",
              "       'https://thumbs4.properati.com/8/DL8fMA8z1oRVgvmeyVNlGiP51E0=/trim/198x0/smart/filters:strip_icc()/img.bemdireto.com.br/users/s_7873p/imovel/s_800n3/74933_1415702830097_o.jpg',\n",
              "       ...,\n",
              "       'https://thumbs4.properati.com/5/YcgXsscft5LbhzWIqvYrjS7vz4o=/trim/198x0/smart/filters:strip_icc()/www.lvimobiliaria.com.br/exportacao/fotos/5550.jpg',\n",
              "       'https://thumbs4.properati.com/1/RM6-TFL_5qWVHbZUG3QuSKIqJjU=/trim/198x0/smart/filters:strip_icc()/www.imobiliarianobilitare.com.br/vista.imobi/fotos/imoveis/36862585.jpg',\n",
              "       'https://thumbs4.properati.com/1/cUUkwPE3W9ubYL9-JSW0xLy-2KY=/trim/198x0/smart/filters:strip_icc()/lh3.googleusercontent.com/Pl9NLw40EHhy7qMiREd_zsvlnWhPcFrxDyMbC0vJx0zQCXp6l_gpE_v2xZklGpk7XrgWJSEZ4aoj5Bg-WgAf76Do_x686UGFkg=w1024-h768'],\n",
              "      dtype=object)"
            ]
          },
          "metadata": {},
          "execution_count": 24
        }
      ],
      "source": [
        "pd.unique(X.image_thumbnail)"
      ]
    },
    {
      "source": [
        "## Qualitativos ordinais"
      ],
      "cell_type": "markdown",
      "metadata": {}
    },
    {
      "source": [
        "## Quantitativos Intervalares"
      ],
      "cell_type": "markdown",
      "metadata": {}
    },
    {
      "cell_type": "code",
      "execution_count": 25,
      "metadata": {},
      "outputs": [
        {
          "output_type": "execute_result",
          "data": {
            "text/plain": [
              "array(['2017-04-28', '2017-05-25', '2015-06-26', ..., '2015-03-06',\n",
              "       '2014-07-06', '2018-01-16'], dtype=object)"
            ]
          },
          "metadata": {},
          "execution_count": 25
        }
      ],
      "source": [
        "pd.unique(X.created_on)"
      ]
    },
    {
      "cell_type": "code",
      "execution_count": 26,
      "metadata": {},
      "outputs": [
        {
          "output_type": "execute_result",
          "data": {
            "text/plain": [
              "array(['2017-08', '2017-07', '2015-12', '2016-06', '2017-03', '2015-03',\n",
              "       '2017-02', '2017-10', '2015-07', '2016-02', '2016-07', '2015-10',\n",
              "       '2017-11', '2016-01', '2016-09', '2015-02', '2015-04', '2018-01',\n",
              "       '2017-06', '2017-09', '2016-08', '2015-06', '2017-01', '2016-12',\n",
              "       '2015-08', '2016-10', '2015-11', '2016-04', '2017-05', '2017-12',\n",
              "       '2016-11', '2016-05', '2015-05', '2016-03', '2015-09', '2017-04',\n",
              "       '2018-02', '2015-01'], dtype=object)"
            ]
          },
          "metadata": {},
          "execution_count": 26
        }
      ],
      "source": [
        "pd.unique(X.collected_on)"
      ]
    },
    {
      "cell_type": "code",
      "execution_count": 27,
      "metadata": {},
      "outputs": [
        {
          "output_type": "execute_result",
          "data": {
            "text/plain": [
              "       geonames_id            lat            lon  surface_total_in_m2  surface_covered_in_m2         floor          rooms      expenses         price\n",
              "count          0.0  496143.000000  496146.000000        241728.000000           7.615710e+05  4.369000e+04  657161.000000  3.333320e+05  1.000000e+06\n",
              "mean           NaN     -23.681619     -46.750357           338.202885           3.026068e+03  1.603409e+04       1.990888  2.236413e+03  8.548888e+05\n",
              "std            NaN       4.374563       3.185936          2763.691714           2.460865e+06  3.348937e+06       1.495585  5.048509e+04  1.604411e+06\n",
              "min            NaN     -34.337131    -119.417932             0.000000           0.000000e+00  1.000000e+00       1.000000  1.000000e+00  1.700000e+04\n",
              "25%            NaN     -23.711691     -47.060104            72.000000           6.500000e+01  3.000000e+00       1.000000  3.500000e+02  3.070000e+05\n",
              "50%            NaN     -23.593937     -46.655800           125.000000           9.900000e+01  5.000000e+00       2.000000  5.650000e+02  5.000000e+05\n",
              "75%            NaN     -23.271093     -46.502373           245.000000           1.700000e+02  1.000000e+01       2.000000  9.500000e+02  9.000000e+05\n",
              "max            NaN      36.778261       0.002000        200000.000000           2.147484e+09  7.000000e+08      40.000000  9.691000e+06  2.600000e+08"
            ],
            "text/html": "<div>\n<style scoped>\n    .dataframe tbody tr th:only-of-type {\n        vertical-align: middle;\n    }\n\n    .dataframe tbody tr th {\n        vertical-align: top;\n    }\n\n    .dataframe thead th {\n        text-align: right;\n    }\n</style>\n<table border=\"1\" class=\"dataframe\">\n  <thead>\n    <tr style=\"text-align: right;\">\n      <th></th>\n      <th>geonames_id</th>\n      <th>lat</th>\n      <th>lon</th>\n      <th>surface_total_in_m2</th>\n      <th>surface_covered_in_m2</th>\n      <th>floor</th>\n      <th>rooms</th>\n      <th>expenses</th>\n      <th>price</th>\n    </tr>\n  </thead>\n  <tbody>\n    <tr>\n      <th>count</th>\n      <td>0.0</td>\n      <td>496143.000000</td>\n      <td>496146.000000</td>\n      <td>241728.000000</td>\n      <td>7.615710e+05</td>\n      <td>4.369000e+04</td>\n      <td>657161.000000</td>\n      <td>3.333320e+05</td>\n      <td>1.000000e+06</td>\n    </tr>\n    <tr>\n      <th>mean</th>\n      <td>NaN</td>\n      <td>-23.681619</td>\n      <td>-46.750357</td>\n      <td>338.202885</td>\n      <td>3.026068e+03</td>\n      <td>1.603409e+04</td>\n      <td>1.990888</td>\n      <td>2.236413e+03</td>\n      <td>8.548888e+05</td>\n    </tr>\n    <tr>\n      <th>std</th>\n      <td>NaN</td>\n      <td>4.374563</td>\n      <td>3.185936</td>\n      <td>2763.691714</td>\n      <td>2.460865e+06</td>\n      <td>3.348937e+06</td>\n      <td>1.495585</td>\n      <td>5.048509e+04</td>\n      <td>1.604411e+06</td>\n    </tr>\n    <tr>\n      <th>min</th>\n      <td>NaN</td>\n      <td>-34.337131</td>\n      <td>-119.417932</td>\n      <td>0.000000</td>\n      <td>0.000000e+00</td>\n      <td>1.000000e+00</td>\n      <td>1.000000</td>\n      <td>1.000000e+00</td>\n      <td>1.700000e+04</td>\n    </tr>\n    <tr>\n      <th>25%</th>\n      <td>NaN</td>\n      <td>-23.711691</td>\n      <td>-47.060104</td>\n      <td>72.000000</td>\n      <td>6.500000e+01</td>\n      <td>3.000000e+00</td>\n      <td>1.000000</td>\n      <td>3.500000e+02</td>\n      <td>3.070000e+05</td>\n    </tr>\n    <tr>\n      <th>50%</th>\n      <td>NaN</td>\n      <td>-23.593937</td>\n      <td>-46.655800</td>\n      <td>125.000000</td>\n      <td>9.900000e+01</td>\n      <td>5.000000e+00</td>\n      <td>2.000000</td>\n      <td>5.650000e+02</td>\n      <td>5.000000e+05</td>\n    </tr>\n    <tr>\n      <th>75%</th>\n      <td>NaN</td>\n      <td>-23.271093</td>\n      <td>-46.502373</td>\n      <td>245.000000</td>\n      <td>1.700000e+02</td>\n      <td>1.000000e+01</td>\n      <td>2.000000</td>\n      <td>9.500000e+02</td>\n      <td>9.000000e+05</td>\n    </tr>\n    <tr>\n      <th>max</th>\n      <td>NaN</td>\n      <td>36.778261</td>\n      <td>0.002000</td>\n      <td>200000.000000</td>\n      <td>2.147484e+09</td>\n      <td>7.000000e+08</td>\n      <td>40.000000</td>\n      <td>9.691000e+06</td>\n      <td>2.600000e+08</td>\n    </tr>\n  </tbody>\n</table>\n</div>"
          },
          "metadata": {},
          "execution_count": 27
        }
      ],
      "source": [
        "X.describe()"
      ]
    },
    {
      "source": [
        "## Quantitativos Racionais"
      ],
      "cell_type": "markdown",
      "metadata": {}
    },
    {
      "cell_type": "code",
      "execution_count": 28,
      "metadata": {},
      "outputs": [
        {
          "output_type": "execute_result",
          "data": {
            "text/plain": [
              "array(['-23.616325,-46.67662', '-30.05175,-51.182068', nan, ...,\n",
              "       '-22.9658687,-47.0709945', '-23.6093644,-46.872209',\n",
              "       '-29.9482021332,-50.996219635'], dtype=object)"
            ]
          },
          "metadata": {},
          "execution_count": 28
        }
      ],
      "source": [
        "pd.unique(X.lat_lon)"
      ]
    },
    {
      "source": [
        "# Análises Univariadas"
      ],
      "cell_type": "markdown",
      "metadata": {
        "id": "zgjEATLTwniW"
      }
    },
    {
      "cell_type": "markdown",
      "metadata": {
        "id": "B0I-1ba1xNGa"
      },
      "source": [
        "# Análises Multivariadas"
      ]
    },
    {
      "cell_type": "markdown",
      "metadata": {
        "id": "sjTz6HNwxQQj"
      },
      "source": []
    },
    {
      "cell_type": "code",
      "execution_count": 29,
      "metadata": {},
      "outputs": [
        {
          "output_type": "execute_result",
          "data": {
            "text/plain": [
              "nan    1000000\n",
              "Name: geonames_id, dtype: int64"
            ]
          },
          "metadata": {},
          "execution_count": 29
        }
      ],
      "source": [
        "df.geonames_id.astype('str').value_counts()"
      ]
    },
    {
      "cell_type": "code",
      "execution_count": 30,
      "metadata": {},
      "outputs": [
        {
          "output_type": "execute_result",
          "data": {
            "text/plain": [
              "nan         666668\n",
              "500.0         9465\n",
              "600.0         8881\n",
              "350.0         8863\n",
              "400.0         8813\n",
              "             ...  \n",
              "2837.0           1\n",
              "1968.0           1\n",
              "145000.0         1\n",
              "1886.0           1\n",
              "3130.0           1\n",
              "Name: expenses, Length: 3873, dtype: int64"
            ]
          },
          "metadata": {},
          "execution_count": 30
        }
      ],
      "source": [
        "X.expenses.astype('str').value_counts()"
      ]
    },
    {
      "cell_type": "code",
      "execution_count": 31,
      "metadata": {},
      "outputs": [
        {
          "output_type": "execute_result",
          "data": {
            "text/plain": [
              "1.0        5331\n",
              "2.0        5310\n",
              "3.0        4546\n",
              "4.0        3588\n",
              "5.0        3112\n",
              "           ... \n",
              "30000.0       1\n",
              "143.0         1\n",
              "240.0         1\n",
              "3400.0        1\n",
              "1131.0        1\n",
              "Name: floor, Length: 230, dtype: int64"
            ]
          },
          "metadata": {},
          "execution_count": 31
        }
      ],
      "source": [
        "X.floor.dropna().value_counts()"
      ]
    },
    {
      "cell_type": "code",
      "execution_count": 32,
      "metadata": {},
      "outputs": [
        {
          "output_type": "execute_result",
          "data": {
            "text/plain": [
              "nan                    503857\n",
              "-30.0                    4808\n",
              "-23.0                    4520\n",
              "-26.985996000000004      2097\n",
              "-25.0                    1947\n",
              "                        ...  \n",
              "-22.921535100000003         1\n",
              "-22.9327818                 1\n",
              "-23.466127                  1\n",
              "-24.0122672                 1\n",
              "-25.41252136                1\n",
              "Name: lat, Length: 100369, dtype: int64"
            ]
          },
          "metadata": {},
          "execution_count": 32
        }
      ],
      "source": [
        "X.lat.astype('str').value_counts()"
      ]
    },
    {
      "cell_type": "code",
      "execution_count": 33,
      "metadata": {},
      "outputs": [
        {
          "output_type": "execute_result",
          "data": {
            "text/plain": [
              "id                           0.0000\n",
              "property_id                  0.0000\n",
              "created_on                   0.0000\n",
              "operation                    0.0000\n",
              "property_type                0.0000\n",
              "place_name                   0.0000\n",
              "place_with_parent_names      0.0000\n",
              "country_name                 0.0000\n",
              "state_name                   0.0000\n",
              "geonames_id                100.0000\n",
              "lat_lon                     50.3857\n",
              "lat                         50.3857\n",
              "lon                         50.3854\n",
              "currency                     0.0000\n",
              "surface_total_in_m2         75.8272\n",
              "surface_covered_in_m2       23.8429\n",
              "floor                       95.6310\n",
              "rooms                       34.2839\n",
              "expenses                    66.6668\n",
              "description                  0.0001\n",
              "title                        0.0000\n",
              "image_thumbnail              2.8477\n",
              "collected_on                 0.0000\n",
              "price                        0.0000\n",
              "dtype: float64"
            ]
          },
          "metadata": {},
          "execution_count": 33
        }
      ],
      "source": [
        "df.isnull().sum()*100/1_000_000"
      ]
    },
    {
      "cell_type": "code",
      "execution_count": 34,
      "metadata": {},
      "outputs": [
        {
          "output_type": "execute_result",
          "data": {
            "text/plain": [
              "nan        758272\n",
              "0.0         13598\n",
              "300.0        3986\n",
              "250.0        3302\n",
              "100.0        3252\n",
              "            ...  \n",
              "1479.0          1\n",
              "16980.0         1\n",
              "1646.0          1\n",
              "6860.0          1\n",
              "22813.0         1\n",
              "Name: surface_total_in_m2, Length: 2471, dtype: int64"
            ]
          },
          "metadata": {},
          "execution_count": 34
        }
      ],
      "source": [
        "X.surface_total_in_m2.astype('str').value_counts()"
      ]
    },
    {
      "cell_type": "code",
      "execution_count": 35,
      "metadata": {},
      "outputs": [
        {
          "output_type": "execute_result",
          "data": {
            "text/plain": [
              "nan         238429\n",
              "70.0         17861\n",
              "60.0         16373\n",
              "50.0         15073\n",
              "80.0         13525\n",
              "             ...  \n",
              "2052.0           1\n",
              "4140.0           1\n",
              "166315.0         1\n",
              "818.0            1\n",
              "3149.0           1\n",
              "Name: surface_covered_in_m2, Length: 1803, dtype: int64"
            ]
          },
          "metadata": {},
          "execution_count": 35
        }
      ],
      "source": [
        "X.surface_covered_in_m2.astype('str').value_counts()"
      ]
    },
    {
      "cell_type": "code",
      "execution_count": 36,
      "metadata": {},
      "outputs": [],
      "source": [
        "Xnumeric = X.select_dtypes(include=['int64', 'float64'])\n",
        "Xnumeric = Xnumeric.drop(columns = ['geonames_id'])"
      ]
    },
    {
      "cell_type": "code",
      "execution_count": 37,
      "metadata": {},
      "outputs": [
        {
          "output_type": "execute_result",
          "data": {
            "text/plain": [
              "(1000000, 8)"
            ]
          },
          "metadata": {},
          "execution_count": 37
        }
      ],
      "source": [
        "Xnumeric.shape"
      ]
    },
    {
      "cell_type": "code",
      "execution_count": 38,
      "metadata": {},
      "outputs": [
        {
          "output_type": "execute_result",
          "data": {
            "text/plain": [
              "                            lat       lon  surface_total_in_m2  surface_covered_in_m2     floor     rooms  expenses     price\n",
              "lat                    1.000000  0.576157             0.040662              -0.000099 -0.067876  0.067482 -0.000692  0.015471\n",
              "lon                    0.576157  1.000000             0.035675              -0.000057 -0.068874  0.043277  0.003794  0.050500\n",
              "surface_total_in_m2    0.040662  0.035675             1.000000               0.095252  0.374468  0.012484  0.011133  0.113595\n",
              "surface_covered_in_m2 -0.000099 -0.000057             0.095252               1.000000  0.010081  0.002791  0.002196 -0.000159\n",
              "floor                 -0.067876 -0.068874             0.374468               0.010081  1.000000 -0.005793       NaN -0.001662\n",
              "rooms                  0.067482  0.043277             0.012484               0.002791 -0.005793  1.000000  0.011541  0.256405\n",
              "expenses              -0.000692  0.003794             0.011133               0.002196       NaN  0.011541  1.000000  0.026419\n",
              "price                  0.015471  0.050500             0.113595              -0.000159 -0.001662  0.256405  0.026419  1.000000"
            ],
            "text/html": "<div>\n<style scoped>\n    .dataframe tbody tr th:only-of-type {\n        vertical-align: middle;\n    }\n\n    .dataframe tbody tr th {\n        vertical-align: top;\n    }\n\n    .dataframe thead th {\n        text-align: right;\n    }\n</style>\n<table border=\"1\" class=\"dataframe\">\n  <thead>\n    <tr style=\"text-align: right;\">\n      <th></th>\n      <th>lat</th>\n      <th>lon</th>\n      <th>surface_total_in_m2</th>\n      <th>surface_covered_in_m2</th>\n      <th>floor</th>\n      <th>rooms</th>\n      <th>expenses</th>\n      <th>price</th>\n    </tr>\n  </thead>\n  <tbody>\n    <tr>\n      <th>lat</th>\n      <td>1.000000</td>\n      <td>0.576157</td>\n      <td>0.040662</td>\n      <td>-0.000099</td>\n      <td>-0.067876</td>\n      <td>0.067482</td>\n      <td>-0.000692</td>\n      <td>0.015471</td>\n    </tr>\n    <tr>\n      <th>lon</th>\n      <td>0.576157</td>\n      <td>1.000000</td>\n      <td>0.035675</td>\n      <td>-0.000057</td>\n      <td>-0.068874</td>\n      <td>0.043277</td>\n      <td>0.003794</td>\n      <td>0.050500</td>\n    </tr>\n    <tr>\n      <th>surface_total_in_m2</th>\n      <td>0.040662</td>\n      <td>0.035675</td>\n      <td>1.000000</td>\n      <td>0.095252</td>\n      <td>0.374468</td>\n      <td>0.012484</td>\n      <td>0.011133</td>\n      <td>0.113595</td>\n    </tr>\n    <tr>\n      <th>surface_covered_in_m2</th>\n      <td>-0.000099</td>\n      <td>-0.000057</td>\n      <td>0.095252</td>\n      <td>1.000000</td>\n      <td>0.010081</td>\n      <td>0.002791</td>\n      <td>0.002196</td>\n      <td>-0.000159</td>\n    </tr>\n    <tr>\n      <th>floor</th>\n      <td>-0.067876</td>\n      <td>-0.068874</td>\n      <td>0.374468</td>\n      <td>0.010081</td>\n      <td>1.000000</td>\n      <td>-0.005793</td>\n      <td>NaN</td>\n      <td>-0.001662</td>\n    </tr>\n    <tr>\n      <th>rooms</th>\n      <td>0.067482</td>\n      <td>0.043277</td>\n      <td>0.012484</td>\n      <td>0.002791</td>\n      <td>-0.005793</td>\n      <td>1.000000</td>\n      <td>0.011541</td>\n      <td>0.256405</td>\n    </tr>\n    <tr>\n      <th>expenses</th>\n      <td>-0.000692</td>\n      <td>0.003794</td>\n      <td>0.011133</td>\n      <td>0.002196</td>\n      <td>NaN</td>\n      <td>0.011541</td>\n      <td>1.000000</td>\n      <td>0.026419</td>\n    </tr>\n    <tr>\n      <th>price</th>\n      <td>0.015471</td>\n      <td>0.050500</td>\n      <td>0.113595</td>\n      <td>-0.000159</td>\n      <td>-0.001662</td>\n      <td>0.256405</td>\n      <td>0.026419</td>\n      <td>1.000000</td>\n    </tr>\n  </tbody>\n</table>\n</div>"
          },
          "metadata": {},
          "execution_count": 38
        }
      ],
      "source": [
        "Xnumeric.corr()"
      ]
    },
    {
      "cell_type": "code",
      "execution_count": 43,
      "metadata": {},
      "outputs": [
        {
          "output_type": "display_data",
          "data": {
            "text/plain": "<Figure size 432x288 with 2 Axes>",
            "image/svg+xml": "<?xml version=\"1.0\" encoding=\"utf-8\" standalone=\"no\"?>\r\n<!DOCTYPE svg PUBLIC \"-//W3C//DTD SVG 1.1//EN\"\r\n  \"http://www.w3.org/Graphics/SVG/1.1/DTD/svg11.dtd\">\r\n<!-- Created with matplotlib (https://matplotlib.org/) -->\r\n<svg height=\"359.892344pt\" version=\"1.1\" viewBox=\"0 0 457.00825 359.892344\" width=\"457.00825pt\" xmlns=\"http://www.w3.org/2000/svg\" xmlns:xlink=\"http://www.w3.org/1999/xlink\">\r\n <metadata>\r\n  <rdf:RDF xmlns:cc=\"http://creativecommons.org/ns#\" xmlns:dc=\"http://purl.org/dc/elements/1.1/\" xmlns:rdf=\"http://www.w3.org/1999/02/22-rdf-syntax-ns#\">\r\n   <cc:Work>\r\n    <dc:type rdf:resource=\"http://purl.org/dc/dcmitype/StillImage\"/>\r\n    <dc:date>2021-04-04T12:12:58.002286</dc:date>\r\n    <dc:format>image/svg+xml</dc:format>\r\n    <dc:creator>\r\n     <cc:Agent>\r\n      <dc:title>Matplotlib v3.3.4, https://matplotlib.org/</dc:title>\r\n     </cc:Agent>\r\n    </dc:creator>\r\n   </cc:Work>\r\n  </rdf:RDF>\r\n </metadata>\r\n <defs>\r\n  <style type=\"text/css\">*{stroke-linecap:butt;stroke-linejoin:round;}</style>\r\n </defs>\r\n <g id=\"figure_1\">\r\n  <g id=\"patch_1\">\r\n   <path d=\"M 0 359.892344 \r\nL 457.00825 359.892344 \r\nL 457.00825 0 \r\nL 0 0 \r\nz\r\n\" style=\"fill:none;\"/>\r\n  </g>\r\n  <g id=\"axes_1\">\r\n   <g id=\"patch_2\">\r\n    <path d=\"M 131.453125 228.439219 \r\nL 399.293125 228.439219 \r\nL 399.293125 10.999219 \r\nL 131.453125 10.999219 \r\nz\r\n\" style=\"fill:#ffffff;\"/>\r\n   </g>\r\n   <g id=\"QuadMesh_1\">\r\n    <path clip-path=\"url(#pcecdb4081c)\" d=\"M 131.453125 10.999219 \r\nL 164.933125 10.999219 \r\nL 164.933125 38.179219 \r\nL 131.453125 38.179219 \r\nL 131.453125 10.999219 \r\n\" style=\"fill:#faebdd;\"/>\r\n    <path clip-path=\"url(#pcecdb4081c)\" d=\"M 164.933125 10.999219 \r\nL 198.413125 10.999219 \r\nL 198.413125 38.179219 \r\nL 164.933125 38.179219 \r\nL 164.933125 10.999219 \r\n\" style=\"fill:#e03143;\"/>\r\n    <path clip-path=\"url(#pcecdb4081c)\" d=\"M 198.413125 10.999219 \r\nL 231.893125 10.999219 \r\nL 231.893125 38.179219 \r\nL 198.413125 38.179219 \r\nL 198.413125 10.999219 \r\n\" style=\"fill:#2e1739;\"/>\r\n    <path clip-path=\"url(#pcecdb4081c)\" d=\"M 231.893125 10.999219 \r\nL 265.373125 10.999219 \r\nL 265.373125 38.179219 \r\nL 231.893125 38.179219 \r\nL 231.893125 10.999219 \r\n\" style=\"fill:#461c48;\"/>\r\n    <path clip-path=\"url(#pcecdb4081c)\" d=\"M 265.373125 10.999219 \r\nL 298.853125 10.999219 \r\nL 298.853125 38.179219 \r\nL 265.373125 38.179219 \r\nL 265.373125 10.999219 \r\n\" style=\"fill:#541e4e;\"/>\r\n    <path clip-path=\"url(#pcecdb4081c)\" d=\"M 298.853125 10.999219 \r\nL 332.333125 10.999219 \r\nL 332.333125 38.179219 \r\nL 298.853125 38.179219 \r\nL 298.853125 10.999219 \r\n\" style=\"fill:#451c47;\"/>\r\n    <path clip-path=\"url(#pcecdb4081c)\" d=\"M 332.333125 10.999219 \r\nL 365.813125 10.999219 \r\nL 365.813125 38.179219 \r\nL 332.333125 38.179219 \r\nL 332.333125 10.999219 \r\n\" style=\"fill:#241432;\"/>\r\n    <path clip-path=\"url(#pcecdb4081c)\" d=\"M 365.813125 10.999219 \r\nL 399.293125 10.999219 \r\nL 399.293125 38.179219 \r\nL 365.813125 38.179219 \r\nL 365.813125 10.999219 \r\n\" style=\"fill:#531e4d;\"/>\r\n    <path clip-path=\"url(#pcecdb4081c)\" d=\"M 131.453125 38.179219 \r\nL 164.933125 38.179219 \r\nL 164.933125 65.359219 \r\nL 131.453125 65.359219 \r\nL 131.453125 38.179219 \r\n\" style=\"fill:#e03143;\"/>\r\n    <path clip-path=\"url(#pcecdb4081c)\" d=\"M 164.933125 38.179219 \r\nL 198.413125 38.179219 \r\nL 198.413125 65.359219 \r\nL 164.933125 65.359219 \r\nL 164.933125 38.179219 \r\n\" style=\"fill:#faebdd;\"/>\r\n    <path clip-path=\"url(#pcecdb4081c)\" d=\"M 198.413125 38.179219 \r\nL 231.893125 38.179219 \r\nL 231.893125 65.359219 \r\nL 198.413125 65.359219 \r\nL 198.413125 38.179219 \r\n\" style=\"fill:#2a1636;\"/>\r\n    <path clip-path=\"url(#pcecdb4081c)\" d=\"M 231.893125 38.179219 \r\nL 265.373125 38.179219 \r\nL 265.373125 65.359219 \r\nL 231.893125 65.359219 \r\nL 231.893125 38.179219 \r\n\" style=\"fill:#1e122d;\"/>\r\n    <path clip-path=\"url(#pcecdb4081c)\" d=\"M 265.373125 38.179219 \r\nL 298.853125 38.179219 \r\nL 298.853125 65.359219 \r\nL 265.373125 65.359219 \r\nL 265.373125 38.179219 \r\n\" style=\"fill:#491d49;\"/>\r\n    <path clip-path=\"url(#pcecdb4081c)\" d=\"M 298.853125 38.179219 \r\nL 332.333125 38.179219 \r\nL 332.333125 65.359219 \r\nL 298.853125 65.359219 \r\nL 298.853125 38.179219 \r\n\" style=\"fill:#03051a;\"/>\r\n    <path clip-path=\"url(#pcecdb4081c)\" d=\"M 332.333125 38.179219 \r\nL 365.813125 38.179219 \r\nL 365.813125 65.359219 \r\nL 332.333125 65.359219 \r\nL 332.333125 38.179219 \r\n\" style=\"fill:#130d25;\"/>\r\n    <path clip-path=\"url(#pcecdb4081c)\" d=\"M 365.813125 38.179219 \r\nL 399.293125 38.179219 \r\nL 399.293125 65.359219 \r\nL 365.813125 65.359219 \r\nL 365.813125 38.179219 \r\n\" style=\"fill:#3c1a42;\"/>\r\n    <path clip-path=\"url(#pcecdb4081c)\" d=\"M 131.453125 65.359219 \r\nL 164.933125 65.359219 \r\nL 164.933125 92.539219 \r\nL 131.453125 92.539219 \r\nL 131.453125 65.359219 \r\n\" style=\"fill:#2e1739;\"/>\r\n    <path clip-path=\"url(#pcecdb4081c)\" d=\"M 164.933125 65.359219 \r\nL 198.413125 65.359219 \r\nL 198.413125 92.539219 \r\nL 164.933125 92.539219 \r\nL 164.933125 65.359219 \r\n\" style=\"fill:#2a1636;\"/>\r\n    <path clip-path=\"url(#pcecdb4081c)\" d=\"M 198.413125 65.359219 \r\nL 231.893125 65.359219 \r\nL 231.893125 92.539219 \r\nL 198.413125 92.539219 \r\nL 198.413125 65.359219 \r\n\" style=\"fill:#faebdd;\"/>\r\n    <path clip-path=\"url(#pcecdb4081c)\" d=\"M 231.893125 65.359219 \r\nL 265.373125 65.359219 \r\nL 265.373125 92.539219 \r\nL 231.893125 92.539219 \r\nL 231.893125 65.359219 \r\n\" style=\"fill:#f5966c;\"/>\r\n    <path clip-path=\"url(#pcecdb4081c)\" d=\"M 265.373125 65.359219 \r\nL 298.853125 65.359219 \r\nL 298.853125 92.539219 \r\nL 265.373125 92.539219 \r\nL 265.373125 65.359219 \r\n\" style=\"fill:#701f57;\"/>\r\n    <path clip-path=\"url(#pcecdb4081c)\" d=\"M 298.853125 65.359219 \r\nL 332.333125 65.359219 \r\nL 332.333125 92.539219 \r\nL 298.853125 92.539219 \r\nL 298.853125 65.359219 \r\n\" style=\"fill:#b71657;\"/>\r\n    <path clip-path=\"url(#pcecdb4081c)\" d=\"M 332.333125 65.359219 \r\nL 365.813125 65.359219 \r\nL 365.813125 92.539219 \r\nL 332.333125 92.539219 \r\nL 332.333125 65.359219 \r\n\" style=\"fill:#cb1b4f;\"/>\r\n    <path clip-path=\"url(#pcecdb4081c)\" d=\"M 365.813125 65.359219 \r\nL 399.293125 65.359219 \r\nL 399.293125 92.539219 \r\nL 365.813125 92.539219 \r\nL 365.813125 65.359219 \r\n\" style=\"fill:#ed4e3e;\"/>\r\n    <path clip-path=\"url(#pcecdb4081c)\" d=\"M 131.453125 92.539219 \r\nL 164.933125 92.539219 \r\nL 164.933125 119.719219 \r\nL 131.453125 119.719219 \r\nL 131.453125 92.539219 \r\n\" style=\"fill:#461c48;\"/>\r\n    <path clip-path=\"url(#pcecdb4081c)\" d=\"M 164.933125 92.539219 \r\nL 198.413125 92.539219 \r\nL 198.413125 119.719219 \r\nL 164.933125 119.719219 \r\nL 164.933125 92.539219 \r\n\" style=\"fill:#1e122d;\"/>\r\n    <path clip-path=\"url(#pcecdb4081c)\" d=\"M 198.413125 92.539219 \r\nL 231.893125 92.539219 \r\nL 231.893125 119.719219 \r\nL 198.413125 119.719219 \r\nL 198.413125 92.539219 \r\n\" style=\"fill:#f5966c;\"/>\r\n    <path clip-path=\"url(#pcecdb4081c)\" d=\"M 231.893125 92.539219 \r\nL 265.373125 92.539219 \r\nL 265.373125 119.719219 \r\nL 231.893125 119.719219 \r\nL 231.893125 92.539219 \r\n\" style=\"fill:#faebdd;\"/>\r\n    <path clip-path=\"url(#pcecdb4081c)\" d=\"M 265.373125 92.539219 \r\nL 298.853125 92.539219 \r\nL 298.853125 119.719219 \r\nL 265.373125 119.719219 \r\nL 265.373125 92.539219 \r\n\" style=\"fill:#601f52;\"/>\r\n    <path clip-path=\"url(#pcecdb4081c)\" d=\"M 298.853125 92.539219 \r\nL 332.333125 92.539219 \r\nL 332.333125 119.719219 \r\nL 298.853125 119.719219 \r\nL 298.853125 92.539219 \r\n\" style=\"fill:#c81951;\"/>\r\n    <path clip-path=\"url(#pcecdb4081c)\" d=\"M 332.333125 92.539219 \r\nL 365.813125 92.539219 \r\nL 365.813125 119.719219 \r\nL 332.333125 119.719219 \r\nL 332.333125 92.539219 \r\n\" style=\"fill:#ec4c3e;\"/>\r\n    <path clip-path=\"url(#pcecdb4081c)\" d=\"M 365.813125 92.539219 \r\nL 399.293125 92.539219 \r\nL 399.293125 119.719219 \r\nL 365.813125 119.719219 \r\nL 365.813125 92.539219 \r\n\" style=\"fill:#f58f66;\"/>\r\n    <path clip-path=\"url(#pcecdb4081c)\" d=\"M 131.453125 119.719219 \r\nL 164.933125 119.719219 \r\nL 164.933125 146.899219 \r\nL 131.453125 146.899219 \r\nL 131.453125 119.719219 \r\n\" style=\"fill:#541e4e;\"/>\r\n    <path clip-path=\"url(#pcecdb4081c)\" d=\"M 164.933125 119.719219 \r\nL 198.413125 119.719219 \r\nL 198.413125 146.899219 \r\nL 164.933125 146.899219 \r\nL 164.933125 119.719219 \r\n\" style=\"fill:#491d49;\"/>\r\n    <path clip-path=\"url(#pcecdb4081c)\" d=\"M 198.413125 119.719219 \r\nL 231.893125 119.719219 \r\nL 231.893125 146.899219 \r\nL 198.413125 146.899219 \r\nL 198.413125 119.719219 \r\n\" style=\"fill:#701f57;\"/>\r\n    <path clip-path=\"url(#pcecdb4081c)\" d=\"M 231.893125 119.719219 \r\nL 265.373125 119.719219 \r\nL 265.373125 146.899219 \r\nL 231.893125 146.899219 \r\nL 231.893125 119.719219 \r\n\" style=\"fill:#601f52;\"/>\r\n    <path clip-path=\"url(#pcecdb4081c)\" d=\"M 265.373125 119.719219 \r\nL 298.853125 119.719219 \r\nL 298.853125 146.899219 \r\nL 265.373125 146.899219 \r\nL 265.373125 119.719219 \r\n\" style=\"fill:#faebdd;\"/>\r\n    <path clip-path=\"url(#pcecdb4081c)\" d=\"M 298.853125 119.719219 \r\nL 332.333125 119.719219 \r\nL 332.333125 146.899219 \r\nL 298.853125 146.899219 \r\nL 298.853125 119.719219 \r\n\" style=\"fill:#401b44;\"/>\r\n    <path clip-path=\"url(#pcecdb4081c)\" d=\"M 332.333125 119.719219 \r\nL 365.813125 119.719219 \r\nL 365.813125 146.899219 \r\nL 332.333125 146.899219 \r\nL 332.333125 119.719219 \r\n\" style=\"fill:none;\"/>\r\n    <path clip-path=\"url(#pcecdb4081c)\" d=\"M 365.813125 119.719219 \r\nL 399.293125 119.719219 \r\nL 399.293125 146.899219 \r\nL 365.813125 146.899219 \r\nL 365.813125 119.719219 \r\n\" style=\"fill:#bc1656;\"/>\r\n    <path clip-path=\"url(#pcecdb4081c)\" d=\"M 131.453125 146.899219 \r\nL 164.933125 146.899219 \r\nL 164.933125 174.079219 \r\nL 131.453125 174.079219 \r\nL 131.453125 146.899219 \r\n\" style=\"fill:#451c47;\"/>\r\n    <path clip-path=\"url(#pcecdb4081c)\" d=\"M 164.933125 146.899219 \r\nL 198.413125 146.899219 \r\nL 198.413125 174.079219 \r\nL 164.933125 174.079219 \r\nL 164.933125 146.899219 \r\n\" style=\"fill:#03051a;\"/>\r\n    <path clip-path=\"url(#pcecdb4081c)\" d=\"M 198.413125 146.899219 \r\nL 231.893125 146.899219 \r\nL 231.893125 174.079219 \r\nL 198.413125 174.079219 \r\nL 198.413125 146.899219 \r\n\" style=\"fill:#b71657;\"/>\r\n    <path clip-path=\"url(#pcecdb4081c)\" d=\"M 231.893125 146.899219 \r\nL 265.373125 146.899219 \r\nL 265.373125 174.079219 \r\nL 231.893125 174.079219 \r\nL 231.893125 146.899219 \r\n\" style=\"fill:#c81951;\"/>\r\n    <path clip-path=\"url(#pcecdb4081c)\" d=\"M 265.373125 146.899219 \r\nL 298.853125 146.899219 \r\nL 298.853125 174.079219 \r\nL 265.373125 174.079219 \r\nL 265.373125 146.899219 \r\n\" style=\"fill:#401b44;\"/>\r\n    <path clip-path=\"url(#pcecdb4081c)\" d=\"M 298.853125 146.899219 \r\nL 332.333125 146.899219 \r\nL 332.333125 174.079219 \r\nL 298.853125 174.079219 \r\nL 298.853125 146.899219 \r\n\" style=\"fill:#faebdd;\"/>\r\n    <path clip-path=\"url(#pcecdb4081c)\" d=\"M 332.333125 146.899219 \r\nL 365.813125 146.899219 \r\nL 365.813125 174.079219 \r\nL 332.333125 174.079219 \r\nL 332.333125 146.899219 \r\n\" style=\"fill:#9c1b5b;\"/>\r\n    <path clip-path=\"url(#pcecdb4081c)\" d=\"M 365.813125 146.899219 \r\nL 399.293125 146.899219 \r\nL 399.293125 174.079219 \r\nL 365.813125 174.079219 \r\nL 365.813125 146.899219 \r\n\" style=\"fill:#bc1656;\"/>\r\n    <path clip-path=\"url(#pcecdb4081c)\" d=\"M 131.453125 174.079219 \r\nL 164.933125 174.079219 \r\nL 164.933125 201.259219 \r\nL 131.453125 201.259219 \r\nL 131.453125 174.079219 \r\n\" style=\"fill:#241432;\"/>\r\n    <path clip-path=\"url(#pcecdb4081c)\" d=\"M 164.933125 174.079219 \r\nL 198.413125 174.079219 \r\nL 198.413125 201.259219 \r\nL 164.933125 201.259219 \r\nL 164.933125 174.079219 \r\n\" style=\"fill:#130d25;\"/>\r\n    <path clip-path=\"url(#pcecdb4081c)\" d=\"M 198.413125 174.079219 \r\nL 231.893125 174.079219 \r\nL 231.893125 201.259219 \r\nL 198.413125 201.259219 \r\nL 198.413125 174.079219 \r\n\" style=\"fill:#cb1b4f;\"/>\r\n    <path clip-path=\"url(#pcecdb4081c)\" d=\"M 231.893125 174.079219 \r\nL 265.373125 174.079219 \r\nL 265.373125 201.259219 \r\nL 231.893125 201.259219 \r\nL 231.893125 174.079219 \r\n\" style=\"fill:#ec4c3e;\"/>\r\n    <path clip-path=\"url(#pcecdb4081c)\" d=\"M 265.373125 174.079219 \r\nL 298.853125 174.079219 \r\nL 298.853125 201.259219 \r\nL 265.373125 201.259219 \r\nL 265.373125 174.079219 \r\n\" style=\"fill:none;\"/>\r\n    <path clip-path=\"url(#pcecdb4081c)\" d=\"M 298.853125 174.079219 \r\nL 332.333125 174.079219 \r\nL 332.333125 201.259219 \r\nL 298.853125 201.259219 \r\nL 298.853125 174.079219 \r\n\" style=\"fill:#9c1b5b;\"/>\r\n    <path clip-path=\"url(#pcecdb4081c)\" d=\"M 332.333125 174.079219 \r\nL 365.813125 174.079219 \r\nL 365.813125 201.259219 \r\nL 332.333125 201.259219 \r\nL 332.333125 174.079219 \r\n\" style=\"fill:#faebdd;\"/>\r\n    <path clip-path=\"url(#pcecdb4081c)\" d=\"M 365.813125 174.079219 \r\nL 399.293125 174.079219 \r\nL 399.293125 201.259219 \r\nL 365.813125 201.259219 \r\nL 365.813125 174.079219 \r\n\" style=\"fill:#f59067;\"/>\r\n    <path clip-path=\"url(#pcecdb4081c)\" d=\"M 131.453125 201.259219 \r\nL 164.933125 201.259219 \r\nL 164.933125 228.439219 \r\nL 131.453125 228.439219 \r\nL 131.453125 201.259219 \r\n\" style=\"fill:#531e4d;\"/>\r\n    <path clip-path=\"url(#pcecdb4081c)\" d=\"M 164.933125 201.259219 \r\nL 198.413125 201.259219 \r\nL 198.413125 228.439219 \r\nL 164.933125 228.439219 \r\nL 164.933125 201.259219 \r\n\" style=\"fill:#3c1a42;\"/>\r\n    <path clip-path=\"url(#pcecdb4081c)\" d=\"M 198.413125 201.259219 \r\nL 231.893125 201.259219 \r\nL 231.893125 228.439219 \r\nL 198.413125 228.439219 \r\nL 198.413125 201.259219 \r\n\" style=\"fill:#ed4e3e;\"/>\r\n    <path clip-path=\"url(#pcecdb4081c)\" d=\"M 231.893125 201.259219 \r\nL 265.373125 201.259219 \r\nL 265.373125 228.439219 \r\nL 231.893125 228.439219 \r\nL 231.893125 201.259219 \r\n\" style=\"fill:#f58f66;\"/>\r\n    <path clip-path=\"url(#pcecdb4081c)\" d=\"M 265.373125 201.259219 \r\nL 298.853125 201.259219 \r\nL 298.853125 228.439219 \r\nL 265.373125 228.439219 \r\nL 265.373125 201.259219 \r\n\" style=\"fill:#bc1656;\"/>\r\n    <path clip-path=\"url(#pcecdb4081c)\" d=\"M 298.853125 201.259219 \r\nL 332.333125 201.259219 \r\nL 332.333125 228.439219 \r\nL 298.853125 228.439219 \r\nL 298.853125 201.259219 \r\n\" style=\"fill:#bc1656;\"/>\r\n    <path clip-path=\"url(#pcecdb4081c)\" d=\"M 332.333125 201.259219 \r\nL 365.813125 201.259219 \r\nL 365.813125 228.439219 \r\nL 332.333125 228.439219 \r\nL 332.333125 201.259219 \r\n\" style=\"fill:#f59067;\"/>\r\n    <path clip-path=\"url(#pcecdb4081c)\" d=\"M 365.813125 201.259219 \r\nL 399.293125 201.259219 \r\nL 399.293125 228.439219 \r\nL 365.813125 228.439219 \r\nL 365.813125 201.259219 \r\n\" style=\"fill:#faebdd;\"/>\r\n   </g>\r\n   <g id=\"matplotlib.axis_1\">\r\n    <g id=\"xtick_1\">\r\n     <g id=\"line2d_1\">\r\n      <defs>\r\n       <path d=\"M 0 0 \r\nL 0 3.5 \r\n\" id=\"m922f26682e\" style=\"stroke:#000000;stroke-width:0.8;\"/>\r\n      </defs>\r\n      <g>\r\n       <use style=\"stroke:#000000;stroke-width:0.8;\" x=\"148.193125\" xlink:href=\"#m922f26682e\" y=\"228.439219\"/>\r\n      </g>\r\n     </g>\r\n     <g id=\"text_1\">\r\n      <!-- lat -->\r\n      <g transform=\"translate(150.9525 248.265781)rotate(-90)scale(0.1 -0.1)\">\r\n       <defs>\r\n        <path d=\"M 9.421875 75.984375 \r\nL 18.40625 75.984375 \r\nL 18.40625 0 \r\nL 9.421875 0 \r\nz\r\n\" id=\"DejaVuSans-108\"/>\r\n        <path d=\"M 34.28125 27.484375 \r\nQ 23.390625 27.484375 19.1875 25 \r\nQ 14.984375 22.515625 14.984375 16.5 \r\nQ 14.984375 11.71875 18.140625 8.90625 \r\nQ 21.296875 6.109375 26.703125 6.109375 \r\nQ 34.1875 6.109375 38.703125 11.40625 \r\nQ 43.21875 16.703125 43.21875 25.484375 \r\nL 43.21875 27.484375 \r\nz\r\nM 52.203125 31.203125 \r\nL 52.203125 0 \r\nL 43.21875 0 \r\nL 43.21875 8.296875 \r\nQ 40.140625 3.328125 35.546875 0.953125 \r\nQ 30.953125 -1.421875 24.3125 -1.421875 \r\nQ 15.921875 -1.421875 10.953125 3.296875 \r\nQ 6 8.015625 6 15.921875 \r\nQ 6 25.140625 12.171875 29.828125 \r\nQ 18.359375 34.515625 30.609375 34.515625 \r\nL 43.21875 34.515625 \r\nL 43.21875 35.40625 \r\nQ 43.21875 41.609375 39.140625 45 \r\nQ 35.0625 48.390625 27.6875 48.390625 \r\nQ 23 48.390625 18.546875 47.265625 \r\nQ 14.109375 46.140625 10.015625 43.890625 \r\nL 10.015625 52.203125 \r\nQ 14.9375 54.109375 19.578125 55.046875 \r\nQ 24.21875 56 28.609375 56 \r\nQ 40.484375 56 46.34375 49.84375 \r\nQ 52.203125 43.703125 52.203125 31.203125 \r\nz\r\n\" id=\"DejaVuSans-97\"/>\r\n        <path d=\"M 18.3125 70.21875 \r\nL 18.3125 54.6875 \r\nL 36.8125 54.6875 \r\nL 36.8125 47.703125 \r\nL 18.3125 47.703125 \r\nL 18.3125 18.015625 \r\nQ 18.3125 11.328125 20.140625 9.421875 \r\nQ 21.96875 7.515625 27.59375 7.515625 \r\nL 36.8125 7.515625 \r\nL 36.8125 0 \r\nL 27.59375 0 \r\nQ 17.1875 0 13.234375 3.875 \r\nQ 9.28125 7.765625 9.28125 18.015625 \r\nL 9.28125 47.703125 \r\nL 2.6875 47.703125 \r\nL 2.6875 54.6875 \r\nL 9.28125 54.6875 \r\nL 9.28125 70.21875 \r\nz\r\n\" id=\"DejaVuSans-116\"/>\r\n       </defs>\r\n       <use xlink:href=\"#DejaVuSans-108\"/>\r\n       <use x=\"27.783203\" xlink:href=\"#DejaVuSans-97\"/>\r\n       <use x=\"89.0625\" xlink:href=\"#DejaVuSans-116\"/>\r\n      </g>\r\n     </g>\r\n    </g>\r\n    <g id=\"xtick_2\">\r\n     <g id=\"line2d_2\">\r\n      <g>\r\n       <use style=\"stroke:#000000;stroke-width:0.8;\" x=\"181.673125\" xlink:href=\"#m922f26682e\" y=\"228.439219\"/>\r\n      </g>\r\n     </g>\r\n     <g id=\"text_2\">\r\n      <!-- lon -->\r\n      <g transform=\"translate(184.4325 250.673594)rotate(-90)scale(0.1 -0.1)\">\r\n       <defs>\r\n        <path d=\"M 30.609375 48.390625 \r\nQ 23.390625 48.390625 19.1875 42.75 \r\nQ 14.984375 37.109375 14.984375 27.296875 \r\nQ 14.984375 17.484375 19.15625 11.84375 \r\nQ 23.34375 6.203125 30.609375 6.203125 \r\nQ 37.796875 6.203125 41.984375 11.859375 \r\nQ 46.1875 17.53125 46.1875 27.296875 \r\nQ 46.1875 37.015625 41.984375 42.703125 \r\nQ 37.796875 48.390625 30.609375 48.390625 \r\nz\r\nM 30.609375 56 \r\nQ 42.328125 56 49.015625 48.375 \r\nQ 55.71875 40.765625 55.71875 27.296875 \r\nQ 55.71875 13.875 49.015625 6.21875 \r\nQ 42.328125 -1.421875 30.609375 -1.421875 \r\nQ 18.84375 -1.421875 12.171875 6.21875 \r\nQ 5.515625 13.875 5.515625 27.296875 \r\nQ 5.515625 40.765625 12.171875 48.375 \r\nQ 18.84375 56 30.609375 56 \r\nz\r\n\" id=\"DejaVuSans-111\"/>\r\n        <path d=\"M 54.890625 33.015625 \r\nL 54.890625 0 \r\nL 45.90625 0 \r\nL 45.90625 32.71875 \r\nQ 45.90625 40.484375 42.875 44.328125 \r\nQ 39.84375 48.1875 33.796875 48.1875 \r\nQ 26.515625 48.1875 22.3125 43.546875 \r\nQ 18.109375 38.921875 18.109375 30.90625 \r\nL 18.109375 0 \r\nL 9.078125 0 \r\nL 9.078125 54.6875 \r\nL 18.109375 54.6875 \r\nL 18.109375 46.1875 \r\nQ 21.34375 51.125 25.703125 53.5625 \r\nQ 30.078125 56 35.796875 56 \r\nQ 45.21875 56 50.046875 50.171875 \r\nQ 54.890625 44.34375 54.890625 33.015625 \r\nz\r\n\" id=\"DejaVuSans-110\"/>\r\n       </defs>\r\n       <use xlink:href=\"#DejaVuSans-108\"/>\r\n       <use x=\"27.783203\" xlink:href=\"#DejaVuSans-111\"/>\r\n       <use x=\"88.964844\" xlink:href=\"#DejaVuSans-110\"/>\r\n      </g>\r\n     </g>\r\n    </g>\r\n    <g id=\"xtick_3\">\r\n     <g id=\"line2d_3\">\r\n      <g>\r\n       <use style=\"stroke:#000000;stroke-width:0.8;\" x=\"215.153125\" xlink:href=\"#m922f26682e\" y=\"228.439219\"/>\r\n      </g>\r\n     </g>\r\n     <g id=\"text_3\">\r\n      <!-- surface_total_in_m2 -->\r\n      <g transform=\"translate(217.773438 335.481406)rotate(-90)scale(0.1 -0.1)\">\r\n       <defs>\r\n        <path d=\"M 44.28125 53.078125 \r\nL 44.28125 44.578125 \r\nQ 40.484375 46.53125 36.375 47.5 \r\nQ 32.28125 48.484375 27.875 48.484375 \r\nQ 21.1875 48.484375 17.84375 46.4375 \r\nQ 14.5 44.390625 14.5 40.28125 \r\nQ 14.5 37.15625 16.890625 35.375 \r\nQ 19.28125 33.59375 26.515625 31.984375 \r\nL 29.59375 31.296875 \r\nQ 39.15625 29.25 43.1875 25.515625 \r\nQ 47.21875 21.78125 47.21875 15.09375 \r\nQ 47.21875 7.46875 41.1875 3.015625 \r\nQ 35.15625 -1.421875 24.609375 -1.421875 \r\nQ 20.21875 -1.421875 15.453125 -0.5625 \r\nQ 10.6875 0.296875 5.421875 2 \r\nL 5.421875 11.28125 \r\nQ 10.40625 8.6875 15.234375 7.390625 \r\nQ 20.0625 6.109375 24.8125 6.109375 \r\nQ 31.15625 6.109375 34.5625 8.28125 \r\nQ 37.984375 10.453125 37.984375 14.40625 \r\nQ 37.984375 18.0625 35.515625 20.015625 \r\nQ 33.0625 21.96875 24.703125 23.78125 \r\nL 21.578125 24.515625 \r\nQ 13.234375 26.265625 9.515625 29.90625 \r\nQ 5.8125 33.546875 5.8125 39.890625 \r\nQ 5.8125 47.609375 11.28125 51.796875 \r\nQ 16.75 56 26.8125 56 \r\nQ 31.78125 56 36.171875 55.265625 \r\nQ 40.578125 54.546875 44.28125 53.078125 \r\nz\r\n\" id=\"DejaVuSans-115\"/>\r\n        <path d=\"M 8.5 21.578125 \r\nL 8.5 54.6875 \r\nL 17.484375 54.6875 \r\nL 17.484375 21.921875 \r\nQ 17.484375 14.15625 20.5 10.265625 \r\nQ 23.53125 6.390625 29.59375 6.390625 \r\nQ 36.859375 6.390625 41.078125 11.03125 \r\nQ 45.3125 15.671875 45.3125 23.6875 \r\nL 45.3125 54.6875 \r\nL 54.296875 54.6875 \r\nL 54.296875 0 \r\nL 45.3125 0 \r\nL 45.3125 8.40625 \r\nQ 42.046875 3.421875 37.71875 1 \r\nQ 33.40625 -1.421875 27.6875 -1.421875 \r\nQ 18.265625 -1.421875 13.375 4.4375 \r\nQ 8.5 10.296875 8.5 21.578125 \r\nz\r\nM 31.109375 56 \r\nz\r\n\" id=\"DejaVuSans-117\"/>\r\n        <path d=\"M 41.109375 46.296875 \r\nQ 39.59375 47.171875 37.8125 47.578125 \r\nQ 36.03125 48 33.890625 48 \r\nQ 26.265625 48 22.1875 43.046875 \r\nQ 18.109375 38.09375 18.109375 28.8125 \r\nL 18.109375 0 \r\nL 9.078125 0 \r\nL 9.078125 54.6875 \r\nL 18.109375 54.6875 \r\nL 18.109375 46.1875 \r\nQ 20.953125 51.171875 25.484375 53.578125 \r\nQ 30.03125 56 36.53125 56 \r\nQ 37.453125 56 38.578125 55.875 \r\nQ 39.703125 55.765625 41.0625 55.515625 \r\nz\r\n\" id=\"DejaVuSans-114\"/>\r\n        <path d=\"M 37.109375 75.984375 \r\nL 37.109375 68.5 \r\nL 28.515625 68.5 \r\nQ 23.6875 68.5 21.796875 66.546875 \r\nQ 19.921875 64.59375 19.921875 59.515625 \r\nL 19.921875 54.6875 \r\nL 34.71875 54.6875 \r\nL 34.71875 47.703125 \r\nL 19.921875 47.703125 \r\nL 19.921875 0 \r\nL 10.890625 0 \r\nL 10.890625 47.703125 \r\nL 2.296875 47.703125 \r\nL 2.296875 54.6875 \r\nL 10.890625 54.6875 \r\nL 10.890625 58.5 \r\nQ 10.890625 67.625 15.140625 71.796875 \r\nQ 19.390625 75.984375 28.609375 75.984375 \r\nz\r\n\" id=\"DejaVuSans-102\"/>\r\n        <path d=\"M 48.78125 52.59375 \r\nL 48.78125 44.1875 \r\nQ 44.96875 46.296875 41.140625 47.34375 \r\nQ 37.3125 48.390625 33.40625 48.390625 \r\nQ 24.65625 48.390625 19.8125 42.84375 \r\nQ 14.984375 37.3125 14.984375 27.296875 \r\nQ 14.984375 17.28125 19.8125 11.734375 \r\nQ 24.65625 6.203125 33.40625 6.203125 \r\nQ 37.3125 6.203125 41.140625 7.25 \r\nQ 44.96875 8.296875 48.78125 10.40625 \r\nL 48.78125 2.09375 \r\nQ 45.015625 0.34375 40.984375 -0.53125 \r\nQ 36.96875 -1.421875 32.421875 -1.421875 \r\nQ 20.0625 -1.421875 12.78125 6.34375 \r\nQ 5.515625 14.109375 5.515625 27.296875 \r\nQ 5.515625 40.671875 12.859375 48.328125 \r\nQ 20.21875 56 33.015625 56 \r\nQ 37.15625 56 41.109375 55.140625 \r\nQ 45.0625 54.296875 48.78125 52.59375 \r\nz\r\n\" id=\"DejaVuSans-99\"/>\r\n        <path d=\"M 56.203125 29.59375 \r\nL 56.203125 25.203125 \r\nL 14.890625 25.203125 \r\nQ 15.484375 15.921875 20.484375 11.0625 \r\nQ 25.484375 6.203125 34.421875 6.203125 \r\nQ 39.59375 6.203125 44.453125 7.46875 \r\nQ 49.3125 8.734375 54.109375 11.28125 \r\nL 54.109375 2.78125 \r\nQ 49.265625 0.734375 44.1875 -0.34375 \r\nQ 39.109375 -1.421875 33.890625 -1.421875 \r\nQ 20.796875 -1.421875 13.15625 6.1875 \r\nQ 5.515625 13.8125 5.515625 26.8125 \r\nQ 5.515625 40.234375 12.765625 48.109375 \r\nQ 20.015625 56 32.328125 56 \r\nQ 43.359375 56 49.78125 48.890625 \r\nQ 56.203125 41.796875 56.203125 29.59375 \r\nz\r\nM 47.21875 32.234375 \r\nQ 47.125 39.59375 43.09375 43.984375 \r\nQ 39.0625 48.390625 32.421875 48.390625 \r\nQ 24.90625 48.390625 20.390625 44.140625 \r\nQ 15.875 39.890625 15.1875 32.171875 \r\nz\r\n\" id=\"DejaVuSans-101\"/>\r\n        <path d=\"M 50.984375 -16.609375 \r\nL 50.984375 -23.578125 \r\nL -0.984375 -23.578125 \r\nL -0.984375 -16.609375 \r\nz\r\n\" id=\"DejaVuSans-95\"/>\r\n        <path d=\"M 9.421875 54.6875 \r\nL 18.40625 54.6875 \r\nL 18.40625 0 \r\nL 9.421875 0 \r\nz\r\nM 9.421875 75.984375 \r\nL 18.40625 75.984375 \r\nL 18.40625 64.59375 \r\nL 9.421875 64.59375 \r\nz\r\n\" id=\"DejaVuSans-105\"/>\r\n        <path d=\"M 52 44.1875 \r\nQ 55.375 50.25 60.0625 53.125 \r\nQ 64.75 56 71.09375 56 \r\nQ 79.640625 56 84.28125 50.015625 \r\nQ 88.921875 44.046875 88.921875 33.015625 \r\nL 88.921875 0 \r\nL 79.890625 0 \r\nL 79.890625 32.71875 \r\nQ 79.890625 40.578125 77.09375 44.375 \r\nQ 74.3125 48.1875 68.609375 48.1875 \r\nQ 61.625 48.1875 57.5625 43.546875 \r\nQ 53.515625 38.921875 53.515625 30.90625 \r\nL 53.515625 0 \r\nL 44.484375 0 \r\nL 44.484375 32.71875 \r\nQ 44.484375 40.625 41.703125 44.40625 \r\nQ 38.921875 48.1875 33.109375 48.1875 \r\nQ 26.21875 48.1875 22.15625 43.53125 \r\nQ 18.109375 38.875 18.109375 30.90625 \r\nL 18.109375 0 \r\nL 9.078125 0 \r\nL 9.078125 54.6875 \r\nL 18.109375 54.6875 \r\nL 18.109375 46.1875 \r\nQ 21.1875 51.21875 25.484375 53.609375 \r\nQ 29.78125 56 35.6875 56 \r\nQ 41.65625 56 45.828125 52.96875 \r\nQ 50 49.953125 52 44.1875 \r\nz\r\n\" id=\"DejaVuSans-109\"/>\r\n        <path d=\"M 19.1875 8.296875 \r\nL 53.609375 8.296875 \r\nL 53.609375 0 \r\nL 7.328125 0 \r\nL 7.328125 8.296875 \r\nQ 12.9375 14.109375 22.625 23.890625 \r\nQ 32.328125 33.6875 34.8125 36.53125 \r\nQ 39.546875 41.84375 41.421875 45.53125 \r\nQ 43.3125 49.21875 43.3125 52.78125 \r\nQ 43.3125 58.59375 39.234375 62.25 \r\nQ 35.15625 65.921875 28.609375 65.921875 \r\nQ 23.96875 65.921875 18.8125 64.3125 \r\nQ 13.671875 62.703125 7.8125 59.421875 \r\nL 7.8125 69.390625 \r\nQ 13.765625 71.78125 18.9375 73 \r\nQ 24.125 74.21875 28.421875 74.21875 \r\nQ 39.75 74.21875 46.484375 68.546875 \r\nQ 53.21875 62.890625 53.21875 53.421875 \r\nQ 53.21875 48.921875 51.53125 44.890625 \r\nQ 49.859375 40.875 45.40625 35.40625 \r\nQ 44.1875 33.984375 37.640625 27.21875 \r\nQ 31.109375 20.453125 19.1875 8.296875 \r\nz\r\n\" id=\"DejaVuSans-50\"/>\r\n       </defs>\r\n       <use xlink:href=\"#DejaVuSans-115\"/>\r\n       <use x=\"52.099609\" xlink:href=\"#DejaVuSans-117\"/>\r\n       <use x=\"115.478516\" xlink:href=\"#DejaVuSans-114\"/>\r\n       <use x=\"156.591797\" xlink:href=\"#DejaVuSans-102\"/>\r\n       <use x=\"191.796875\" xlink:href=\"#DejaVuSans-97\"/>\r\n       <use x=\"253.076172\" xlink:href=\"#DejaVuSans-99\"/>\r\n       <use x=\"308.056641\" xlink:href=\"#DejaVuSans-101\"/>\r\n       <use x=\"369.580078\" xlink:href=\"#DejaVuSans-95\"/>\r\n       <use x=\"419.580078\" xlink:href=\"#DejaVuSans-116\"/>\r\n       <use x=\"458.789062\" xlink:href=\"#DejaVuSans-111\"/>\r\n       <use x=\"519.970703\" xlink:href=\"#DejaVuSans-116\"/>\r\n       <use x=\"559.179688\" xlink:href=\"#DejaVuSans-97\"/>\r\n       <use x=\"620.458984\" xlink:href=\"#DejaVuSans-108\"/>\r\n       <use x=\"648.242188\" xlink:href=\"#DejaVuSans-95\"/>\r\n       <use x=\"698.242188\" xlink:href=\"#DejaVuSans-105\"/>\r\n       <use x=\"726.025391\" xlink:href=\"#DejaVuSans-110\"/>\r\n       <use x=\"789.404297\" xlink:href=\"#DejaVuSans-95\"/>\r\n       <use x=\"839.404297\" xlink:href=\"#DejaVuSans-109\"/>\r\n       <use x=\"936.816406\" xlink:href=\"#DejaVuSans-50\"/>\r\n      </g>\r\n     </g>\r\n    </g>\r\n    <g id=\"xtick_4\">\r\n     <g id=\"line2d_4\">\r\n      <g>\r\n       <use style=\"stroke:#000000;stroke-width:0.8;\" x=\"248.633125\" xlink:href=\"#m922f26682e\" y=\"228.439219\"/>\r\n      </g>\r\n     </g>\r\n     <g id=\"text_4\">\r\n      <!-- surface_covered_in_m2 -->\r\n      <g transform=\"translate(251.253438 352.692344)rotate(-90)scale(0.1 -0.1)\">\r\n       <defs>\r\n        <path d=\"M 2.984375 54.6875 \r\nL 12.5 54.6875 \r\nL 29.59375 8.796875 \r\nL 46.6875 54.6875 \r\nL 56.203125 54.6875 \r\nL 35.6875 0 \r\nL 23.484375 0 \r\nz\r\n\" id=\"DejaVuSans-118\"/>\r\n        <path d=\"M 45.40625 46.390625 \r\nL 45.40625 75.984375 \r\nL 54.390625 75.984375 \r\nL 54.390625 0 \r\nL 45.40625 0 \r\nL 45.40625 8.203125 \r\nQ 42.578125 3.328125 38.25 0.953125 \r\nQ 33.9375 -1.421875 27.875 -1.421875 \r\nQ 17.96875 -1.421875 11.734375 6.484375 \r\nQ 5.515625 14.40625 5.515625 27.296875 \r\nQ 5.515625 40.1875 11.734375 48.09375 \r\nQ 17.96875 56 27.875 56 \r\nQ 33.9375 56 38.25 53.625 \r\nQ 42.578125 51.265625 45.40625 46.390625 \r\nz\r\nM 14.796875 27.296875 \r\nQ 14.796875 17.390625 18.875 11.75 \r\nQ 22.953125 6.109375 30.078125 6.109375 \r\nQ 37.203125 6.109375 41.296875 11.75 \r\nQ 45.40625 17.390625 45.40625 27.296875 \r\nQ 45.40625 37.203125 41.296875 42.84375 \r\nQ 37.203125 48.484375 30.078125 48.484375 \r\nQ 22.953125 48.484375 18.875 42.84375 \r\nQ 14.796875 37.203125 14.796875 27.296875 \r\nz\r\n\" id=\"DejaVuSans-100\"/>\r\n       </defs>\r\n       <use xlink:href=\"#DejaVuSans-115\"/>\r\n       <use x=\"52.099609\" xlink:href=\"#DejaVuSans-117\"/>\r\n       <use x=\"115.478516\" xlink:href=\"#DejaVuSans-114\"/>\r\n       <use x=\"156.591797\" xlink:href=\"#DejaVuSans-102\"/>\r\n       <use x=\"191.796875\" xlink:href=\"#DejaVuSans-97\"/>\r\n       <use x=\"253.076172\" xlink:href=\"#DejaVuSans-99\"/>\r\n       <use x=\"308.056641\" xlink:href=\"#DejaVuSans-101\"/>\r\n       <use x=\"369.580078\" xlink:href=\"#DejaVuSans-95\"/>\r\n       <use x=\"419.580078\" xlink:href=\"#DejaVuSans-99\"/>\r\n       <use x=\"474.560547\" xlink:href=\"#DejaVuSans-111\"/>\r\n       <use x=\"535.742188\" xlink:href=\"#DejaVuSans-118\"/>\r\n       <use x=\"594.921875\" xlink:href=\"#DejaVuSans-101\"/>\r\n       <use x=\"656.445312\" xlink:href=\"#DejaVuSans-114\"/>\r\n       <use x=\"695.308594\" xlink:href=\"#DejaVuSans-101\"/>\r\n       <use x=\"756.832031\" xlink:href=\"#DejaVuSans-100\"/>\r\n       <use x=\"820.308594\" xlink:href=\"#DejaVuSans-95\"/>\r\n       <use x=\"870.308594\" xlink:href=\"#DejaVuSans-105\"/>\r\n       <use x=\"898.091797\" xlink:href=\"#DejaVuSans-110\"/>\r\n       <use x=\"961.470703\" xlink:href=\"#DejaVuSans-95\"/>\r\n       <use x=\"1011.470703\" xlink:href=\"#DejaVuSans-109\"/>\r\n       <use x=\"1108.882812\" xlink:href=\"#DejaVuSans-50\"/>\r\n      </g>\r\n     </g>\r\n    </g>\r\n    <g id=\"xtick_5\">\r\n     <g id=\"line2d_5\">\r\n      <g>\r\n       <use style=\"stroke:#000000;stroke-width:0.8;\" x=\"282.113125\" xlink:href=\"#m922f26682e\" y=\"228.439219\"/>\r\n      </g>\r\n     </g>\r\n     <g id=\"text_5\">\r\n      <!-- floor -->\r\n      <g transform=\"translate(284.8725 258.086094)rotate(-90)scale(0.1 -0.1)\">\r\n       <use xlink:href=\"#DejaVuSans-102\"/>\r\n       <use x=\"35.205078\" xlink:href=\"#DejaVuSans-108\"/>\r\n       <use x=\"62.988281\" xlink:href=\"#DejaVuSans-111\"/>\r\n       <use x=\"124.169922\" xlink:href=\"#DejaVuSans-111\"/>\r\n       <use x=\"185.351562\" xlink:href=\"#DejaVuSans-114\"/>\r\n      </g>\r\n     </g>\r\n    </g>\r\n    <g id=\"xtick_6\">\r\n     <g id=\"line2d_6\">\r\n      <g>\r\n       <use style=\"stroke:#000000;stroke-width:0.8;\" x=\"315.593125\" xlink:href=\"#m922f26682e\" y=\"228.439219\"/>\r\n      </g>\r\n     </g>\r\n     <g id=\"text_6\">\r\n      <!-- rooms -->\r\n      <g transform=\"translate(318.3525 266.512656)rotate(-90)scale(0.1 -0.1)\">\r\n       <use xlink:href=\"#DejaVuSans-114\"/>\r\n       <use x=\"38.863281\" xlink:href=\"#DejaVuSans-111\"/>\r\n       <use x=\"100.044922\" xlink:href=\"#DejaVuSans-111\"/>\r\n       <use x=\"161.226562\" xlink:href=\"#DejaVuSans-109\"/>\r\n       <use x=\"258.638672\" xlink:href=\"#DejaVuSans-115\"/>\r\n      </g>\r\n     </g>\r\n    </g>\r\n    <g id=\"xtick_7\">\r\n     <g id=\"line2d_7\">\r\n      <g>\r\n       <use style=\"stroke:#000000;stroke-width:0.8;\" x=\"349.073125\" xlink:href=\"#m922f26682e\" y=\"228.439219\"/>\r\n      </g>\r\n     </g>\r\n     <g id=\"text_7\">\r\n      <!-- expenses -->\r\n      <g transform=\"translate(351.8325 282.747031)rotate(-90)scale(0.1 -0.1)\">\r\n       <defs>\r\n        <path d=\"M 54.890625 54.6875 \r\nL 35.109375 28.078125 \r\nL 55.90625 0 \r\nL 45.3125 0 \r\nL 29.390625 21.484375 \r\nL 13.484375 0 \r\nL 2.875 0 \r\nL 24.125 28.609375 \r\nL 4.6875 54.6875 \r\nL 15.28125 54.6875 \r\nL 29.78125 35.203125 \r\nL 44.28125 54.6875 \r\nz\r\n\" id=\"DejaVuSans-120\"/>\r\n        <path d=\"M 18.109375 8.203125 \r\nL 18.109375 -20.796875 \r\nL 9.078125 -20.796875 \r\nL 9.078125 54.6875 \r\nL 18.109375 54.6875 \r\nL 18.109375 46.390625 \r\nQ 20.953125 51.265625 25.265625 53.625 \r\nQ 29.59375 56 35.59375 56 \r\nQ 45.5625 56 51.78125 48.09375 \r\nQ 58.015625 40.1875 58.015625 27.296875 \r\nQ 58.015625 14.40625 51.78125 6.484375 \r\nQ 45.5625 -1.421875 35.59375 -1.421875 \r\nQ 29.59375 -1.421875 25.265625 0.953125 \r\nQ 20.953125 3.328125 18.109375 8.203125 \r\nz\r\nM 48.6875 27.296875 \r\nQ 48.6875 37.203125 44.609375 42.84375 \r\nQ 40.53125 48.484375 33.40625 48.484375 \r\nQ 26.265625 48.484375 22.1875 42.84375 \r\nQ 18.109375 37.203125 18.109375 27.296875 \r\nQ 18.109375 17.390625 22.1875 11.75 \r\nQ 26.265625 6.109375 33.40625 6.109375 \r\nQ 40.53125 6.109375 44.609375 11.75 \r\nQ 48.6875 17.390625 48.6875 27.296875 \r\nz\r\n\" id=\"DejaVuSans-112\"/>\r\n       </defs>\r\n       <use xlink:href=\"#DejaVuSans-101\"/>\r\n       <use x=\"59.773438\" xlink:href=\"#DejaVuSans-120\"/>\r\n       <use x=\"118.953125\" xlink:href=\"#DejaVuSans-112\"/>\r\n       <use x=\"182.429688\" xlink:href=\"#DejaVuSans-101\"/>\r\n       <use x=\"243.953125\" xlink:href=\"#DejaVuSans-110\"/>\r\n       <use x=\"307.332031\" xlink:href=\"#DejaVuSans-115\"/>\r\n       <use x=\"359.431641\" xlink:href=\"#DejaVuSans-101\"/>\r\n       <use x=\"420.955078\" xlink:href=\"#DejaVuSans-115\"/>\r\n      </g>\r\n     </g>\r\n    </g>\r\n    <g id=\"xtick_8\">\r\n     <g id=\"line2d_8\">\r\n      <g>\r\n       <use style=\"stroke:#000000;stroke-width:0.8;\" x=\"382.553125\" xlink:href=\"#m922f26682e\" y=\"228.439219\"/>\r\n      </g>\r\n     </g>\r\n     <g id=\"text_8\">\r\n      <!-- price -->\r\n      <g transform=\"translate(385.3125 260.328281)rotate(-90)scale(0.1 -0.1)\">\r\n       <use xlink:href=\"#DejaVuSans-112\"/>\r\n       <use x=\"63.476562\" xlink:href=\"#DejaVuSans-114\"/>\r\n       <use x=\"104.589844\" xlink:href=\"#DejaVuSans-105\"/>\r\n       <use x=\"132.373047\" xlink:href=\"#DejaVuSans-99\"/>\r\n       <use x=\"187.353516\" xlink:href=\"#DejaVuSans-101\"/>\r\n      </g>\r\n     </g>\r\n    </g>\r\n   </g>\r\n   <g id=\"matplotlib.axis_2\">\r\n    <g id=\"ytick_1\">\r\n     <g id=\"line2d_9\">\r\n      <defs>\r\n       <path d=\"M 0 0 \r\nL -3.5 0 \r\n\" id=\"mc413d24435\" style=\"stroke:#000000;stroke-width:0.8;\"/>\r\n      </defs>\r\n      <g>\r\n       <use style=\"stroke:#000000;stroke-width:0.8;\" x=\"131.453125\" xlink:href=\"#mc413d24435\" y=\"24.589219\"/>\r\n      </g>\r\n     </g>\r\n     <g id=\"text_9\">\r\n      <!-- lat -->\r\n      <g transform=\"translate(111.626563 28.388438)scale(0.1 -0.1)\">\r\n       <use xlink:href=\"#DejaVuSans-108\"/>\r\n       <use x=\"27.783203\" xlink:href=\"#DejaVuSans-97\"/>\r\n       <use x=\"89.0625\" xlink:href=\"#DejaVuSans-116\"/>\r\n      </g>\r\n     </g>\r\n    </g>\r\n    <g id=\"ytick_2\">\r\n     <g id=\"line2d_10\">\r\n      <g>\r\n       <use style=\"stroke:#000000;stroke-width:0.8;\" x=\"131.453125\" xlink:href=\"#mc413d24435\" y=\"51.769219\"/>\r\n      </g>\r\n     </g>\r\n     <g id=\"text_10\">\r\n      <!-- lon -->\r\n      <g transform=\"translate(109.21875 55.568438)scale(0.1 -0.1)\">\r\n       <use xlink:href=\"#DejaVuSans-108\"/>\r\n       <use x=\"27.783203\" xlink:href=\"#DejaVuSans-111\"/>\r\n       <use x=\"88.964844\" xlink:href=\"#DejaVuSans-110\"/>\r\n      </g>\r\n     </g>\r\n    </g>\r\n    <g id=\"ytick_3\">\r\n     <g id=\"line2d_11\">\r\n      <g>\r\n       <use style=\"stroke:#000000;stroke-width:0.8;\" x=\"131.453125\" xlink:href=\"#mc413d24435\" y=\"78.949219\"/>\r\n      </g>\r\n     </g>\r\n     <g id=\"text_11\">\r\n      <!-- surface_total_in_m2 -->\r\n      <g transform=\"translate(24.410937 82.748438)scale(0.1 -0.1)\">\r\n       <use xlink:href=\"#DejaVuSans-115\"/>\r\n       <use x=\"52.099609\" xlink:href=\"#DejaVuSans-117\"/>\r\n       <use x=\"115.478516\" xlink:href=\"#DejaVuSans-114\"/>\r\n       <use x=\"156.591797\" xlink:href=\"#DejaVuSans-102\"/>\r\n       <use x=\"191.796875\" xlink:href=\"#DejaVuSans-97\"/>\r\n       <use x=\"253.076172\" xlink:href=\"#DejaVuSans-99\"/>\r\n       <use x=\"308.056641\" xlink:href=\"#DejaVuSans-101\"/>\r\n       <use x=\"369.580078\" xlink:href=\"#DejaVuSans-95\"/>\r\n       <use x=\"419.580078\" xlink:href=\"#DejaVuSans-116\"/>\r\n       <use x=\"458.789062\" xlink:href=\"#DejaVuSans-111\"/>\r\n       <use x=\"519.970703\" xlink:href=\"#DejaVuSans-116\"/>\r\n       <use x=\"559.179688\" xlink:href=\"#DejaVuSans-97\"/>\r\n       <use x=\"620.458984\" xlink:href=\"#DejaVuSans-108\"/>\r\n       <use x=\"648.242188\" xlink:href=\"#DejaVuSans-95\"/>\r\n       <use x=\"698.242188\" xlink:href=\"#DejaVuSans-105\"/>\r\n       <use x=\"726.025391\" xlink:href=\"#DejaVuSans-110\"/>\r\n       <use x=\"789.404297\" xlink:href=\"#DejaVuSans-95\"/>\r\n       <use x=\"839.404297\" xlink:href=\"#DejaVuSans-109\"/>\r\n       <use x=\"936.816406\" xlink:href=\"#DejaVuSans-50\"/>\r\n      </g>\r\n     </g>\r\n    </g>\r\n    <g id=\"ytick_4\">\r\n     <g id=\"line2d_12\">\r\n      <g>\r\n       <use style=\"stroke:#000000;stroke-width:0.8;\" x=\"131.453125\" xlink:href=\"#mc413d24435\" y=\"106.129219\"/>\r\n      </g>\r\n     </g>\r\n     <g id=\"text_12\">\r\n      <!-- surface_covered_in_m2 -->\r\n      <g transform=\"translate(7.2 109.928438)scale(0.1 -0.1)\">\r\n       <use xlink:href=\"#DejaVuSans-115\"/>\r\n       <use x=\"52.099609\" xlink:href=\"#DejaVuSans-117\"/>\r\n       <use x=\"115.478516\" xlink:href=\"#DejaVuSans-114\"/>\r\n       <use x=\"156.591797\" xlink:href=\"#DejaVuSans-102\"/>\r\n       <use x=\"191.796875\" xlink:href=\"#DejaVuSans-97\"/>\r\n       <use x=\"253.076172\" xlink:href=\"#DejaVuSans-99\"/>\r\n       <use x=\"308.056641\" xlink:href=\"#DejaVuSans-101\"/>\r\n       <use x=\"369.580078\" xlink:href=\"#DejaVuSans-95\"/>\r\n       <use x=\"419.580078\" xlink:href=\"#DejaVuSans-99\"/>\r\n       <use x=\"474.560547\" xlink:href=\"#DejaVuSans-111\"/>\r\n       <use x=\"535.742188\" xlink:href=\"#DejaVuSans-118\"/>\r\n       <use x=\"594.921875\" xlink:href=\"#DejaVuSans-101\"/>\r\n       <use x=\"656.445312\" xlink:href=\"#DejaVuSans-114\"/>\r\n       <use x=\"695.308594\" xlink:href=\"#DejaVuSans-101\"/>\r\n       <use x=\"756.832031\" xlink:href=\"#DejaVuSans-100\"/>\r\n       <use x=\"820.308594\" xlink:href=\"#DejaVuSans-95\"/>\r\n       <use x=\"870.308594\" xlink:href=\"#DejaVuSans-105\"/>\r\n       <use x=\"898.091797\" xlink:href=\"#DejaVuSans-110\"/>\r\n       <use x=\"961.470703\" xlink:href=\"#DejaVuSans-95\"/>\r\n       <use x=\"1011.470703\" xlink:href=\"#DejaVuSans-109\"/>\r\n       <use x=\"1108.882812\" xlink:href=\"#DejaVuSans-50\"/>\r\n      </g>\r\n     </g>\r\n    </g>\r\n    <g id=\"ytick_5\">\r\n     <g id=\"line2d_13\">\r\n      <g>\r\n       <use style=\"stroke:#000000;stroke-width:0.8;\" x=\"131.453125\" xlink:href=\"#mc413d24435\" y=\"133.309219\"/>\r\n      </g>\r\n     </g>\r\n     <g id=\"text_13\">\r\n      <!-- floor -->\r\n      <g transform=\"translate(101.80625 137.108438)scale(0.1 -0.1)\">\r\n       <use xlink:href=\"#DejaVuSans-102\"/>\r\n       <use x=\"35.205078\" xlink:href=\"#DejaVuSans-108\"/>\r\n       <use x=\"62.988281\" xlink:href=\"#DejaVuSans-111\"/>\r\n       <use x=\"124.169922\" xlink:href=\"#DejaVuSans-111\"/>\r\n       <use x=\"185.351562\" xlink:href=\"#DejaVuSans-114\"/>\r\n      </g>\r\n     </g>\r\n    </g>\r\n    <g id=\"ytick_6\">\r\n     <g id=\"line2d_14\">\r\n      <g>\r\n       <use style=\"stroke:#000000;stroke-width:0.8;\" x=\"131.453125\" xlink:href=\"#mc413d24435\" y=\"160.489219\"/>\r\n      </g>\r\n     </g>\r\n     <g id=\"text_14\">\r\n      <!-- rooms -->\r\n      <g transform=\"translate(93.379688 164.288438)scale(0.1 -0.1)\">\r\n       <use xlink:href=\"#DejaVuSans-114\"/>\r\n       <use x=\"38.863281\" xlink:href=\"#DejaVuSans-111\"/>\r\n       <use x=\"100.044922\" xlink:href=\"#DejaVuSans-111\"/>\r\n       <use x=\"161.226562\" xlink:href=\"#DejaVuSans-109\"/>\r\n       <use x=\"258.638672\" xlink:href=\"#DejaVuSans-115\"/>\r\n      </g>\r\n     </g>\r\n    </g>\r\n    <g id=\"ytick_7\">\r\n     <g id=\"line2d_15\">\r\n      <g>\r\n       <use style=\"stroke:#000000;stroke-width:0.8;\" x=\"131.453125\" xlink:href=\"#mc413d24435\" y=\"187.669219\"/>\r\n      </g>\r\n     </g>\r\n     <g id=\"text_15\">\r\n      <!-- expenses -->\r\n      <g transform=\"translate(77.145312 191.468437)scale(0.1 -0.1)\">\r\n       <use xlink:href=\"#DejaVuSans-101\"/>\r\n       <use x=\"59.773438\" xlink:href=\"#DejaVuSans-120\"/>\r\n       <use x=\"118.953125\" xlink:href=\"#DejaVuSans-112\"/>\r\n       <use x=\"182.429688\" xlink:href=\"#DejaVuSans-101\"/>\r\n       <use x=\"243.953125\" xlink:href=\"#DejaVuSans-110\"/>\r\n       <use x=\"307.332031\" xlink:href=\"#DejaVuSans-115\"/>\r\n       <use x=\"359.431641\" xlink:href=\"#DejaVuSans-101\"/>\r\n       <use x=\"420.955078\" xlink:href=\"#DejaVuSans-115\"/>\r\n      </g>\r\n     </g>\r\n    </g>\r\n    <g id=\"ytick_8\">\r\n     <g id=\"line2d_16\">\r\n      <g>\r\n       <use style=\"stroke:#000000;stroke-width:0.8;\" x=\"131.453125\" xlink:href=\"#mc413d24435\" y=\"214.849219\"/>\r\n      </g>\r\n     </g>\r\n     <g id=\"text_16\">\r\n      <!-- price -->\r\n      <g transform=\"translate(99.564063 218.648438)scale(0.1 -0.1)\">\r\n       <use xlink:href=\"#DejaVuSans-112\"/>\r\n       <use x=\"63.476562\" xlink:href=\"#DejaVuSans-114\"/>\r\n       <use x=\"104.589844\" xlink:href=\"#DejaVuSans-105\"/>\r\n       <use x=\"132.373047\" xlink:href=\"#DejaVuSans-99\"/>\r\n       <use x=\"187.353516\" xlink:href=\"#DejaVuSans-101\"/>\r\n      </g>\r\n     </g>\r\n    </g>\r\n   </g>\r\n   <g id=\"text_17\">\r\n    <!-- 1 -->\r\n    <g style=\"fill:#262626;\" transform=\"translate(145.011875 27.348594)scale(0.1 -0.1)\">\r\n     <defs>\r\n      <path d=\"M 12.40625 8.296875 \r\nL 28.515625 8.296875 \r\nL 28.515625 63.921875 \r\nL 10.984375 60.40625 \r\nL 10.984375 69.390625 \r\nL 28.421875 72.90625 \r\nL 38.28125 72.90625 \r\nL 38.28125 8.296875 \r\nL 54.390625 8.296875 \r\nL 54.390625 0 \r\nL 12.40625 0 \r\nz\r\n\" id=\"DejaVuSans-49\"/>\r\n     </defs>\r\n     <use xlink:href=\"#DejaVuSans-49\"/>\r\n    </g>\r\n   </g>\r\n   <g id=\"text_18\">\r\n    <!-- 0.51 -->\r\n    <g style=\"fill:#ffffff;\" transform=\"translate(170.540312 27.348594)scale(0.1 -0.1)\">\r\n     <defs>\r\n      <path d=\"M 31.78125 66.40625 \r\nQ 24.171875 66.40625 20.328125 58.90625 \r\nQ 16.5 51.421875 16.5 36.375 \r\nQ 16.5 21.390625 20.328125 13.890625 \r\nQ 24.171875 6.390625 31.78125 6.390625 \r\nQ 39.453125 6.390625 43.28125 13.890625 \r\nQ 47.125 21.390625 47.125 36.375 \r\nQ 47.125 51.421875 43.28125 58.90625 \r\nQ 39.453125 66.40625 31.78125 66.40625 \r\nz\r\nM 31.78125 74.21875 \r\nQ 44.046875 74.21875 50.515625 64.515625 \r\nQ 56.984375 54.828125 56.984375 36.375 \r\nQ 56.984375 17.96875 50.515625 8.265625 \r\nQ 44.046875 -1.421875 31.78125 -1.421875 \r\nQ 19.53125 -1.421875 13.0625 8.265625 \r\nQ 6.59375 17.96875 6.59375 36.375 \r\nQ 6.59375 54.828125 13.0625 64.515625 \r\nQ 19.53125 74.21875 31.78125 74.21875 \r\nz\r\n\" id=\"DejaVuSans-48\"/>\r\n      <path d=\"M 10.6875 12.40625 \r\nL 21 12.40625 \r\nL 21 0 \r\nL 10.6875 0 \r\nz\r\n\" id=\"DejaVuSans-46\"/>\r\n      <path d=\"M 10.796875 72.90625 \r\nL 49.515625 72.90625 \r\nL 49.515625 64.59375 \r\nL 19.828125 64.59375 \r\nL 19.828125 46.734375 \r\nQ 21.96875 47.46875 24.109375 47.828125 \r\nQ 26.265625 48.1875 28.421875 48.1875 \r\nQ 40.625 48.1875 47.75 41.5 \r\nQ 54.890625 34.8125 54.890625 23.390625 \r\nQ 54.890625 11.625 47.5625 5.09375 \r\nQ 40.234375 -1.421875 26.90625 -1.421875 \r\nQ 22.3125 -1.421875 17.546875 -0.640625 \r\nQ 12.796875 0.140625 7.71875 1.703125 \r\nL 7.71875 11.625 \r\nQ 12.109375 9.234375 16.796875 8.0625 \r\nQ 21.484375 6.890625 26.703125 6.890625 \r\nQ 35.15625 6.890625 40.078125 11.328125 \r\nQ 45.015625 15.765625 45.015625 23.390625 \r\nQ 45.015625 31 40.078125 35.4375 \r\nQ 35.15625 39.890625 26.703125 39.890625 \r\nQ 22.75 39.890625 18.8125 39.015625 \r\nQ 14.890625 38.140625 10.796875 36.28125 \r\nz\r\n\" id=\"DejaVuSans-53\"/>\r\n     </defs>\r\n     <use xlink:href=\"#DejaVuSans-48\"/>\r\n     <use x=\"63.623047\" xlink:href=\"#DejaVuSans-46\"/>\r\n     <use x=\"95.410156\" xlink:href=\"#DejaVuSans-53\"/>\r\n     <use x=\"159.033203\" xlink:href=\"#DejaVuSans-49\"/>\r\n    </g>\r\n   </g>\r\n   <g id=\"text_19\">\r\n    <!-- -0.0064 -->\r\n    <g style=\"fill:#ffffff;\" transform=\"translate(195.853906 27.348594)scale(0.1 -0.1)\">\r\n     <defs>\r\n      <path d=\"M 4.890625 31.390625 \r\nL 31.203125 31.390625 \r\nL 31.203125 23.390625 \r\nL 4.890625 23.390625 \r\nz\r\n\" id=\"DejaVuSans-45\"/>\r\n      <path d=\"M 33.015625 40.375 \r\nQ 26.375 40.375 22.484375 35.828125 \r\nQ 18.609375 31.296875 18.609375 23.390625 \r\nQ 18.609375 15.53125 22.484375 10.953125 \r\nQ 26.375 6.390625 33.015625 6.390625 \r\nQ 39.65625 6.390625 43.53125 10.953125 \r\nQ 47.40625 15.53125 47.40625 23.390625 \r\nQ 47.40625 31.296875 43.53125 35.828125 \r\nQ 39.65625 40.375 33.015625 40.375 \r\nz\r\nM 52.59375 71.296875 \r\nL 52.59375 62.3125 \r\nQ 48.875 64.0625 45.09375 64.984375 \r\nQ 41.3125 65.921875 37.59375 65.921875 \r\nQ 27.828125 65.921875 22.671875 59.328125 \r\nQ 17.53125 52.734375 16.796875 39.40625 \r\nQ 19.671875 43.65625 24.015625 45.921875 \r\nQ 28.375 48.1875 33.59375 48.1875 \r\nQ 44.578125 48.1875 50.953125 41.515625 \r\nQ 57.328125 34.859375 57.328125 23.390625 \r\nQ 57.328125 12.15625 50.6875 5.359375 \r\nQ 44.046875 -1.421875 33.015625 -1.421875 \r\nQ 20.359375 -1.421875 13.671875 8.265625 \r\nQ 6.984375 17.96875 6.984375 36.375 \r\nQ 6.984375 53.65625 15.1875 63.9375 \r\nQ 23.390625 74.21875 37.203125 74.21875 \r\nQ 40.921875 74.21875 44.703125 73.484375 \r\nQ 48.484375 72.75 52.59375 71.296875 \r\nz\r\n\" id=\"DejaVuSans-54\"/>\r\n      <path d=\"M 37.796875 64.3125 \r\nL 12.890625 25.390625 \r\nL 37.796875 25.390625 \r\nz\r\nM 35.203125 72.90625 \r\nL 47.609375 72.90625 \r\nL 47.609375 25.390625 \r\nL 58.015625 25.390625 \r\nL 58.015625 17.1875 \r\nL 47.609375 17.1875 \r\nL 47.609375 0 \r\nL 37.796875 0 \r\nL 37.796875 17.1875 \r\nL 4.890625 17.1875 \r\nL 4.890625 26.703125 \r\nz\r\n\" id=\"DejaVuSans-52\"/>\r\n     </defs>\r\n     <use xlink:href=\"#DejaVuSans-45\"/>\r\n     <use x=\"36.083984\" xlink:href=\"#DejaVuSans-48\"/>\r\n     <use x=\"99.707031\" xlink:href=\"#DejaVuSans-46\"/>\r\n     <use x=\"131.494141\" xlink:href=\"#DejaVuSans-48\"/>\r\n     <use x=\"195.117188\" xlink:href=\"#DejaVuSans-48\"/>\r\n     <use x=\"258.740234\" xlink:href=\"#DejaVuSans-54\"/>\r\n     <use x=\"322.363281\" xlink:href=\"#DejaVuSans-52\"/>\r\n    </g>\r\n   </g>\r\n   <g id=\"text_20\">\r\n    <!-- 0.068 -->\r\n    <g style=\"fill:#ffffff;\" transform=\"translate(234.319063 27.348594)scale(0.1 -0.1)\">\r\n     <defs>\r\n      <path d=\"M 31.78125 34.625 \r\nQ 24.75 34.625 20.71875 30.859375 \r\nQ 16.703125 27.09375 16.703125 20.515625 \r\nQ 16.703125 13.921875 20.71875 10.15625 \r\nQ 24.75 6.390625 31.78125 6.390625 \r\nQ 38.8125 6.390625 42.859375 10.171875 \r\nQ 46.921875 13.96875 46.921875 20.515625 \r\nQ 46.921875 27.09375 42.890625 30.859375 \r\nQ 38.875 34.625 31.78125 34.625 \r\nz\r\nM 21.921875 38.8125 \r\nQ 15.578125 40.375 12.03125 44.71875 \r\nQ 8.5 49.078125 8.5 55.328125 \r\nQ 8.5 64.0625 14.71875 69.140625 \r\nQ 20.953125 74.21875 31.78125 74.21875 \r\nQ 42.671875 74.21875 48.875 69.140625 \r\nQ 55.078125 64.0625 55.078125 55.328125 \r\nQ 55.078125 49.078125 51.53125 44.71875 \r\nQ 48 40.375 41.703125 38.8125 \r\nQ 48.828125 37.15625 52.796875 32.3125 \r\nQ 56.78125 27.484375 56.78125 20.515625 \r\nQ 56.78125 9.90625 50.3125 4.234375 \r\nQ 43.84375 -1.421875 31.78125 -1.421875 \r\nQ 19.734375 -1.421875 13.25 4.234375 \r\nQ 6.78125 9.90625 6.78125 20.515625 \r\nQ 6.78125 27.484375 10.78125 32.3125 \r\nQ 14.796875 37.15625 21.921875 38.8125 \r\nz\r\nM 18.3125 54.390625 \r\nQ 18.3125 48.734375 21.84375 45.5625 \r\nQ 25.390625 42.390625 31.78125 42.390625 \r\nQ 38.140625 42.390625 41.71875 45.5625 \r\nQ 45.3125 48.734375 45.3125 54.390625 \r\nQ 45.3125 60.0625 41.71875 63.234375 \r\nQ 38.140625 66.40625 31.78125 66.40625 \r\nQ 25.390625 66.40625 21.84375 63.234375 \r\nQ 18.3125 60.0625 18.3125 54.390625 \r\nz\r\n\" id=\"DejaVuSans-56\"/>\r\n     </defs>\r\n     <use xlink:href=\"#DejaVuSans-48\"/>\r\n     <use x=\"63.623047\" xlink:href=\"#DejaVuSans-46\"/>\r\n     <use x=\"95.410156\" xlink:href=\"#DejaVuSans-48\"/>\r\n     <use x=\"159.033203\" xlink:href=\"#DejaVuSans-54\"/>\r\n     <use x=\"222.65625\" xlink:href=\"#DejaVuSans-56\"/>\r\n    </g>\r\n   </g>\r\n   <g id=\"text_21\">\r\n    <!-- 0.11 -->\r\n    <g style=\"fill:#ffffff;\" transform=\"translate(270.980313 27.348594)scale(0.1 -0.1)\">\r\n     <use xlink:href=\"#DejaVuSans-48\"/>\r\n     <use x=\"63.623047\" xlink:href=\"#DejaVuSans-46\"/>\r\n     <use x=\"95.410156\" xlink:href=\"#DejaVuSans-49\"/>\r\n     <use x=\"159.033203\" xlink:href=\"#DejaVuSans-49\"/>\r\n    </g>\r\n   </g>\r\n   <g id=\"text_22\">\r\n    <!-- 0.061 -->\r\n    <g style=\"fill:#ffffff;\" transform=\"translate(301.279063 27.348594)scale(0.1 -0.1)\">\r\n     <use xlink:href=\"#DejaVuSans-48\"/>\r\n     <use x=\"63.623047\" xlink:href=\"#DejaVuSans-46\"/>\r\n     <use x=\"95.410156\" xlink:href=\"#DejaVuSans-48\"/>\r\n     <use x=\"159.033203\" xlink:href=\"#DejaVuSans-54\"/>\r\n     <use x=\"222.65625\" xlink:href=\"#DejaVuSans-49\"/>\r\n    </g>\r\n   </g>\r\n   <g id=\"text_23\">\r\n    <!-- -0.036 -->\r\n    <g style=\"fill:#ffffff;\" transform=\"translate(332.955156 27.348594)scale(0.1 -0.1)\">\r\n     <defs>\r\n      <path d=\"M 40.578125 39.3125 \r\nQ 47.65625 37.796875 51.625 33 \r\nQ 55.609375 28.21875 55.609375 21.1875 \r\nQ 55.609375 10.40625 48.1875 4.484375 \r\nQ 40.765625 -1.421875 27.09375 -1.421875 \r\nQ 22.515625 -1.421875 17.65625 -0.515625 \r\nQ 12.796875 0.390625 7.625 2.203125 \r\nL 7.625 11.71875 \r\nQ 11.71875 9.328125 16.59375 8.109375 \r\nQ 21.484375 6.890625 26.8125 6.890625 \r\nQ 36.078125 6.890625 40.9375 10.546875 \r\nQ 45.796875 14.203125 45.796875 21.1875 \r\nQ 45.796875 27.640625 41.28125 31.265625 \r\nQ 36.765625 34.90625 28.71875 34.90625 \r\nL 20.21875 34.90625 \r\nL 20.21875 43.015625 \r\nL 29.109375 43.015625 \r\nQ 36.375 43.015625 40.234375 45.921875 \r\nQ 44.09375 48.828125 44.09375 54.296875 \r\nQ 44.09375 59.90625 40.109375 62.90625 \r\nQ 36.140625 65.921875 28.71875 65.921875 \r\nQ 24.65625 65.921875 20.015625 65.03125 \r\nQ 15.375 64.15625 9.8125 62.3125 \r\nL 9.8125 71.09375 \r\nQ 15.4375 72.65625 20.34375 73.4375 \r\nQ 25.25 74.21875 29.59375 74.21875 \r\nQ 40.828125 74.21875 47.359375 69.109375 \r\nQ 53.90625 64.015625 53.90625 55.328125 \r\nQ 53.90625 49.265625 50.4375 45.09375 \r\nQ 46.96875 40.921875 40.578125 39.3125 \r\nz\r\n\" id=\"DejaVuSans-51\"/>\r\n     </defs>\r\n     <use xlink:href=\"#DejaVuSans-45\"/>\r\n     <use x=\"36.083984\" xlink:href=\"#DejaVuSans-48\"/>\r\n     <use x=\"99.707031\" xlink:href=\"#DejaVuSans-46\"/>\r\n     <use x=\"131.494141\" xlink:href=\"#DejaVuSans-48\"/>\r\n     <use x=\"195.117188\" xlink:href=\"#DejaVuSans-51\"/>\r\n     <use x=\"258.740234\" xlink:href=\"#DejaVuSans-54\"/>\r\n    </g>\r\n   </g>\r\n   <g id=\"text_24\">\r\n    <!-- 0.1 -->\r\n    <g style=\"fill:#ffffff;\" transform=\"translate(374.601562 27.348594)scale(0.1 -0.1)\">\r\n     <use xlink:href=\"#DejaVuSans-48\"/>\r\n     <use x=\"63.623047\" xlink:href=\"#DejaVuSans-46\"/>\r\n     <use x=\"95.410156\" xlink:href=\"#DejaVuSans-49\"/>\r\n    </g>\r\n   </g>\r\n   <g id=\"text_25\">\r\n    <!-- 0.51 -->\r\n    <g style=\"fill:#ffffff;\" transform=\"translate(137.060313 54.528594)scale(0.1 -0.1)\">\r\n     <use xlink:href=\"#DejaVuSans-48\"/>\r\n     <use x=\"63.623047\" xlink:href=\"#DejaVuSans-46\"/>\r\n     <use x=\"95.410156\" xlink:href=\"#DejaVuSans-53\"/>\r\n     <use x=\"159.033203\" xlink:href=\"#DejaVuSans-49\"/>\r\n    </g>\r\n   </g>\r\n   <g id=\"text_26\">\r\n    <!-- 1 -->\r\n    <g style=\"fill:#262626;\" transform=\"translate(178.491875 54.528594)scale(0.1 -0.1)\">\r\n     <use xlink:href=\"#DejaVuSans-49\"/>\r\n    </g>\r\n   </g>\r\n   <g id=\"text_27\">\r\n    <!-- -0.017 -->\r\n    <g style=\"fill:#ffffff;\" transform=\"translate(199.035156 54.528594)scale(0.1 -0.1)\">\r\n     <defs>\r\n      <path d=\"M 8.203125 72.90625 \r\nL 55.078125 72.90625 \r\nL 55.078125 68.703125 \r\nL 28.609375 0 \r\nL 18.3125 0 \r\nL 43.21875 64.59375 \r\nL 8.203125 64.59375 \r\nz\r\n\" id=\"DejaVuSans-55\"/>\r\n     </defs>\r\n     <use xlink:href=\"#DejaVuSans-45\"/>\r\n     <use x=\"36.083984\" xlink:href=\"#DejaVuSans-48\"/>\r\n     <use x=\"99.707031\" xlink:href=\"#DejaVuSans-46\"/>\r\n     <use x=\"131.494141\" xlink:href=\"#DejaVuSans-48\"/>\r\n     <use x=\"195.117188\" xlink:href=\"#DejaVuSans-49\"/>\r\n     <use x=\"258.740234\" xlink:href=\"#DejaVuSans-55\"/>\r\n    </g>\r\n   </g>\r\n   <g id=\"text_28\">\r\n    <!-- -0.053 -->\r\n    <g style=\"fill:#ffffff;\" transform=\"translate(232.515156 54.528594)scale(0.1 -0.1)\">\r\n     <use xlink:href=\"#DejaVuSans-45\"/>\r\n     <use x=\"36.083984\" xlink:href=\"#DejaVuSans-48\"/>\r\n     <use x=\"99.707031\" xlink:href=\"#DejaVuSans-46\"/>\r\n     <use x=\"131.494141\" xlink:href=\"#DejaVuSans-48\"/>\r\n     <use x=\"195.117188\" xlink:href=\"#DejaVuSans-53\"/>\r\n     <use x=\"258.740234\" xlink:href=\"#DejaVuSans-51\"/>\r\n    </g>\r\n   </g>\r\n   <g id=\"text_29\">\r\n    <!-- 0.074 -->\r\n    <g style=\"fill:#ffffff;\" transform=\"translate(267.799063 54.528594)scale(0.1 -0.1)\">\r\n     <use xlink:href=\"#DejaVuSans-48\"/>\r\n     <use x=\"63.623047\" xlink:href=\"#DejaVuSans-46\"/>\r\n     <use x=\"95.410156\" xlink:href=\"#DejaVuSans-48\"/>\r\n     <use x=\"159.033203\" xlink:href=\"#DejaVuSans-55\"/>\r\n     <use x=\"222.65625\" xlink:href=\"#DejaVuSans-52\"/>\r\n    </g>\r\n   </g>\r\n   <g id=\"text_30\">\r\n    <!-- -0.15 -->\r\n    <g style=\"fill:#ffffff;\" transform=\"translate(302.656406 54.528594)scale(0.1 -0.1)\">\r\n     <use xlink:href=\"#DejaVuSans-45\"/>\r\n     <use x=\"36.083984\" xlink:href=\"#DejaVuSans-48\"/>\r\n     <use x=\"99.707031\" xlink:href=\"#DejaVuSans-46\"/>\r\n     <use x=\"131.494141\" xlink:href=\"#DejaVuSans-49\"/>\r\n     <use x=\"195.117188\" xlink:href=\"#DejaVuSans-53\"/>\r\n    </g>\r\n   </g>\r\n   <g id=\"text_31\">\r\n    <!-- -0.089 -->\r\n    <g style=\"fill:#ffffff;\" transform=\"translate(332.955156 54.528594)scale(0.1 -0.1)\">\r\n     <defs>\r\n      <path d=\"M 10.984375 1.515625 \r\nL 10.984375 10.5 \r\nQ 14.703125 8.734375 18.5 7.8125 \r\nQ 22.3125 6.890625 25.984375 6.890625 \r\nQ 35.75 6.890625 40.890625 13.453125 \r\nQ 46.046875 20.015625 46.78125 33.40625 \r\nQ 43.953125 29.203125 39.59375 26.953125 \r\nQ 35.25 24.703125 29.984375 24.703125 \r\nQ 19.046875 24.703125 12.671875 31.3125 \r\nQ 6.296875 37.9375 6.296875 49.421875 \r\nQ 6.296875 60.640625 12.9375 67.421875 \r\nQ 19.578125 74.21875 30.609375 74.21875 \r\nQ 43.265625 74.21875 49.921875 64.515625 \r\nQ 56.59375 54.828125 56.59375 36.375 \r\nQ 56.59375 19.140625 48.40625 8.859375 \r\nQ 40.234375 -1.421875 26.421875 -1.421875 \r\nQ 22.703125 -1.421875 18.890625 -0.6875 \r\nQ 15.09375 0.046875 10.984375 1.515625 \r\nz\r\nM 30.609375 32.421875 \r\nQ 37.25 32.421875 41.125 36.953125 \r\nQ 45.015625 41.5 45.015625 49.421875 \r\nQ 45.015625 57.28125 41.125 61.84375 \r\nQ 37.25 66.40625 30.609375 66.40625 \r\nQ 23.96875 66.40625 20.09375 61.84375 \r\nQ 16.21875 57.28125 16.21875 49.421875 \r\nQ 16.21875 41.5 20.09375 36.953125 \r\nQ 23.96875 32.421875 30.609375 32.421875 \r\nz\r\n\" id=\"DejaVuSans-57\"/>\r\n     </defs>\r\n     <use xlink:href=\"#DejaVuSans-45\"/>\r\n     <use x=\"36.083984\" xlink:href=\"#DejaVuSans-48\"/>\r\n     <use x=\"99.707031\" xlink:href=\"#DejaVuSans-46\"/>\r\n     <use x=\"131.494141\" xlink:href=\"#DejaVuSans-48\"/>\r\n     <use x=\"195.117188\" xlink:href=\"#DejaVuSans-56\"/>\r\n     <use x=\"258.740234\" xlink:href=\"#DejaVuSans-57\"/>\r\n    </g>\r\n   </g>\r\n   <g id=\"text_32\">\r\n    <!-- 0.034 -->\r\n    <g style=\"fill:#ffffff;\" transform=\"translate(368.239063 54.528594)scale(0.1 -0.1)\">\r\n     <use xlink:href=\"#DejaVuSans-48\"/>\r\n     <use x=\"63.623047\" xlink:href=\"#DejaVuSans-46\"/>\r\n     <use x=\"95.410156\" xlink:href=\"#DejaVuSans-48\"/>\r\n     <use x=\"159.033203\" xlink:href=\"#DejaVuSans-51\"/>\r\n     <use x=\"222.65625\" xlink:href=\"#DejaVuSans-52\"/>\r\n    </g>\r\n   </g>\r\n   <g id=\"text_33\">\r\n    <!-- -0.0064 -->\r\n    <g style=\"fill:#ffffff;\" transform=\"translate(128.893906 81.708594)scale(0.1 -0.1)\">\r\n     <use xlink:href=\"#DejaVuSans-45\"/>\r\n     <use x=\"36.083984\" xlink:href=\"#DejaVuSans-48\"/>\r\n     <use x=\"99.707031\" xlink:href=\"#DejaVuSans-46\"/>\r\n     <use x=\"131.494141\" xlink:href=\"#DejaVuSans-48\"/>\r\n     <use x=\"195.117188\" xlink:href=\"#DejaVuSans-48\"/>\r\n     <use x=\"258.740234\" xlink:href=\"#DejaVuSans-54\"/>\r\n     <use x=\"322.363281\" xlink:href=\"#DejaVuSans-52\"/>\r\n    </g>\r\n   </g>\r\n   <g id=\"text_34\">\r\n    <!-- -0.017 -->\r\n    <g style=\"fill:#ffffff;\" transform=\"translate(165.555156 81.708594)scale(0.1 -0.1)\">\r\n     <use xlink:href=\"#DejaVuSans-45\"/>\r\n     <use x=\"36.083984\" xlink:href=\"#DejaVuSans-48\"/>\r\n     <use x=\"99.707031\" xlink:href=\"#DejaVuSans-46\"/>\r\n     <use x=\"131.494141\" xlink:href=\"#DejaVuSans-48\"/>\r\n     <use x=\"195.117188\" xlink:href=\"#DejaVuSans-49\"/>\r\n     <use x=\"258.740234\" xlink:href=\"#DejaVuSans-55\"/>\r\n    </g>\r\n   </g>\r\n   <g id=\"text_35\">\r\n    <!-- 1 -->\r\n    <g style=\"fill:#262626;\" transform=\"translate(211.971875 81.708594)scale(0.1 -0.1)\">\r\n     <use xlink:href=\"#DejaVuSans-49\"/>\r\n    </g>\r\n   </g>\r\n   <g id=\"text_36\">\r\n    <!-- 0.75 -->\r\n    <g style=\"fill:#262626;\" transform=\"translate(237.500313 81.708594)scale(0.1 -0.1)\">\r\n     <use xlink:href=\"#DejaVuSans-48\"/>\r\n     <use x=\"63.623047\" xlink:href=\"#DejaVuSans-46\"/>\r\n     <use x=\"95.410156\" xlink:href=\"#DejaVuSans-55\"/>\r\n     <use x=\"159.033203\" xlink:href=\"#DejaVuSans-53\"/>\r\n    </g>\r\n   </g>\r\n   <g id=\"text_37\">\r\n    <!-- 0.18 -->\r\n    <g style=\"fill:#ffffff;\" transform=\"translate(270.980313 81.708594)scale(0.1 -0.1)\">\r\n     <use xlink:href=\"#DejaVuSans-48\"/>\r\n     <use x=\"63.623047\" xlink:href=\"#DejaVuSans-46\"/>\r\n     <use x=\"95.410156\" xlink:href=\"#DejaVuSans-49\"/>\r\n     <use x=\"159.033203\" xlink:href=\"#DejaVuSans-56\"/>\r\n    </g>\r\n   </g>\r\n   <g id=\"text_38\">\r\n    <!-- 0.37 -->\r\n    <g style=\"fill:#ffffff;\" transform=\"translate(304.460312 81.708594)scale(0.1 -0.1)\">\r\n     <use xlink:href=\"#DejaVuSans-48\"/>\r\n     <use x=\"63.623047\" xlink:href=\"#DejaVuSans-46\"/>\r\n     <use x=\"95.410156\" xlink:href=\"#DejaVuSans-51\"/>\r\n     <use x=\"159.033203\" xlink:href=\"#DejaVuSans-55\"/>\r\n    </g>\r\n   </g>\r\n   <g id=\"text_39\">\r\n    <!-- 0.43 -->\r\n    <g style=\"fill:#ffffff;\" transform=\"translate(337.940313 81.708594)scale(0.1 -0.1)\">\r\n     <use xlink:href=\"#DejaVuSans-48\"/>\r\n     <use x=\"63.623047\" xlink:href=\"#DejaVuSans-46\"/>\r\n     <use x=\"95.410156\" xlink:href=\"#DejaVuSans-52\"/>\r\n     <use x=\"159.033203\" xlink:href=\"#DejaVuSans-51\"/>\r\n    </g>\r\n   </g>\r\n   <g id=\"text_40\">\r\n    <!-- 0.58 -->\r\n    <g style=\"fill:#ffffff;\" transform=\"translate(371.420313 81.708594)scale(0.1 -0.1)\">\r\n     <use xlink:href=\"#DejaVuSans-48\"/>\r\n     <use x=\"63.623047\" xlink:href=\"#DejaVuSans-46\"/>\r\n     <use x=\"95.410156\" xlink:href=\"#DejaVuSans-53\"/>\r\n     <use x=\"159.033203\" xlink:href=\"#DejaVuSans-56\"/>\r\n    </g>\r\n   </g>\r\n   <g id=\"text_41\">\r\n    <!-- 0.068 -->\r\n    <g style=\"fill:#ffffff;\" transform=\"translate(133.879063 108.888594)scale(0.1 -0.1)\">\r\n     <use xlink:href=\"#DejaVuSans-48\"/>\r\n     <use x=\"63.623047\" xlink:href=\"#DejaVuSans-46\"/>\r\n     <use x=\"95.410156\" xlink:href=\"#DejaVuSans-48\"/>\r\n     <use x=\"159.033203\" xlink:href=\"#DejaVuSans-54\"/>\r\n     <use x=\"222.65625\" xlink:href=\"#DejaVuSans-56\"/>\r\n    </g>\r\n   </g>\r\n   <g id=\"text_42\">\r\n    <!-- -0.053 -->\r\n    <g style=\"fill:#ffffff;\" transform=\"translate(165.555156 108.888594)scale(0.1 -0.1)\">\r\n     <use xlink:href=\"#DejaVuSans-45\"/>\r\n     <use x=\"36.083984\" xlink:href=\"#DejaVuSans-48\"/>\r\n     <use x=\"99.707031\" xlink:href=\"#DejaVuSans-46\"/>\r\n     <use x=\"131.494141\" xlink:href=\"#DejaVuSans-48\"/>\r\n     <use x=\"195.117188\" xlink:href=\"#DejaVuSans-53\"/>\r\n     <use x=\"258.740234\" xlink:href=\"#DejaVuSans-51\"/>\r\n    </g>\r\n   </g>\r\n   <g id=\"text_43\">\r\n    <!-- 0.75 -->\r\n    <g style=\"fill:#262626;\" transform=\"translate(204.020313 108.888594)scale(0.1 -0.1)\">\r\n     <use xlink:href=\"#DejaVuSans-48\"/>\r\n     <use x=\"63.623047\" xlink:href=\"#DejaVuSans-46\"/>\r\n     <use x=\"95.410156\" xlink:href=\"#DejaVuSans-55\"/>\r\n     <use x=\"159.033203\" xlink:href=\"#DejaVuSans-53\"/>\r\n    </g>\r\n   </g>\r\n   <g id=\"text_44\">\r\n    <!-- 1 -->\r\n    <g style=\"fill:#262626;\" transform=\"translate(245.451875 108.888594)scale(0.1 -0.1)\">\r\n     <use xlink:href=\"#DejaVuSans-49\"/>\r\n    </g>\r\n   </g>\r\n   <g id=\"text_45\">\r\n    <!-- 0.14 -->\r\n    <g style=\"fill:#ffffff;\" transform=\"translate(270.980313 108.888594)scale(0.1 -0.1)\">\r\n     <use xlink:href=\"#DejaVuSans-48\"/>\r\n     <use x=\"63.623047\" xlink:href=\"#DejaVuSans-46\"/>\r\n     <use x=\"95.410156\" xlink:href=\"#DejaVuSans-49\"/>\r\n     <use x=\"159.033203\" xlink:href=\"#DejaVuSans-52\"/>\r\n    </g>\r\n   </g>\r\n   <g id=\"text_46\">\r\n    <!-- 0.42 -->\r\n    <g style=\"fill:#ffffff;\" transform=\"translate(304.460312 108.888594)scale(0.1 -0.1)\">\r\n     <use xlink:href=\"#DejaVuSans-48\"/>\r\n     <use x=\"63.623047\" xlink:href=\"#DejaVuSans-46\"/>\r\n     <use x=\"95.410156\" xlink:href=\"#DejaVuSans-52\"/>\r\n     <use x=\"159.033203\" xlink:href=\"#DejaVuSans-50\"/>\r\n    </g>\r\n   </g>\r\n   <g id=\"text_47\">\r\n    <!-- 0.57 -->\r\n    <g style=\"fill:#ffffff;\" transform=\"translate(337.940313 108.888594)scale(0.1 -0.1)\">\r\n     <use xlink:href=\"#DejaVuSans-48\"/>\r\n     <use x=\"63.623047\" xlink:href=\"#DejaVuSans-46\"/>\r\n     <use x=\"95.410156\" xlink:href=\"#DejaVuSans-53\"/>\r\n     <use x=\"159.033203\" xlink:href=\"#DejaVuSans-55\"/>\r\n    </g>\r\n   </g>\r\n   <g id=\"text_48\">\r\n    <!-- 0.73 -->\r\n    <g style=\"fill:#ffffff;\" transform=\"translate(371.420313 108.888594)scale(0.1 -0.1)\">\r\n     <use xlink:href=\"#DejaVuSans-48\"/>\r\n     <use x=\"63.623047\" xlink:href=\"#DejaVuSans-46\"/>\r\n     <use x=\"95.410156\" xlink:href=\"#DejaVuSans-55\"/>\r\n     <use x=\"159.033203\" xlink:href=\"#DejaVuSans-51\"/>\r\n    </g>\r\n   </g>\r\n   <g id=\"text_49\">\r\n    <!-- 0.11 -->\r\n    <g style=\"fill:#ffffff;\" transform=\"translate(137.060313 136.068594)scale(0.1 -0.1)\">\r\n     <use xlink:href=\"#DejaVuSans-48\"/>\r\n     <use x=\"63.623047\" xlink:href=\"#DejaVuSans-46\"/>\r\n     <use x=\"95.410156\" xlink:href=\"#DejaVuSans-49\"/>\r\n     <use x=\"159.033203\" xlink:href=\"#DejaVuSans-49\"/>\r\n    </g>\r\n   </g>\r\n   <g id=\"text_50\">\r\n    <!-- 0.074 -->\r\n    <g style=\"fill:#ffffff;\" transform=\"translate(167.359062 136.068594)scale(0.1 -0.1)\">\r\n     <use xlink:href=\"#DejaVuSans-48\"/>\r\n     <use x=\"63.623047\" xlink:href=\"#DejaVuSans-46\"/>\r\n     <use x=\"95.410156\" xlink:href=\"#DejaVuSans-48\"/>\r\n     <use x=\"159.033203\" xlink:href=\"#DejaVuSans-55\"/>\r\n     <use x=\"222.65625\" xlink:href=\"#DejaVuSans-52\"/>\r\n    </g>\r\n   </g>\r\n   <g id=\"text_51\">\r\n    <!-- 0.18 -->\r\n    <g style=\"fill:#ffffff;\" transform=\"translate(204.020313 136.068594)scale(0.1 -0.1)\">\r\n     <use xlink:href=\"#DejaVuSans-48\"/>\r\n     <use x=\"63.623047\" xlink:href=\"#DejaVuSans-46\"/>\r\n     <use x=\"95.410156\" xlink:href=\"#DejaVuSans-49\"/>\r\n     <use x=\"159.033203\" xlink:href=\"#DejaVuSans-56\"/>\r\n    </g>\r\n   </g>\r\n   <g id=\"text_52\">\r\n    <!-- 0.14 -->\r\n    <g style=\"fill:#ffffff;\" transform=\"translate(237.500313 136.068594)scale(0.1 -0.1)\">\r\n     <use xlink:href=\"#DejaVuSans-48\"/>\r\n     <use x=\"63.623047\" xlink:href=\"#DejaVuSans-46\"/>\r\n     <use x=\"95.410156\" xlink:href=\"#DejaVuSans-49\"/>\r\n     <use x=\"159.033203\" xlink:href=\"#DejaVuSans-52\"/>\r\n    </g>\r\n   </g>\r\n   <g id=\"text_53\">\r\n    <!-- 1 -->\r\n    <g style=\"fill:#262626;\" transform=\"translate(278.931875 136.068594)scale(0.1 -0.1)\">\r\n     <use xlink:href=\"#DejaVuSans-49\"/>\r\n    </g>\r\n   </g>\r\n   <g id=\"text_54\">\r\n    <!-- 0.047 -->\r\n    <g style=\"fill:#ffffff;\" transform=\"translate(301.279063 136.068594)scale(0.1 -0.1)\">\r\n     <use xlink:href=\"#DejaVuSans-48\"/>\r\n     <use x=\"63.623047\" xlink:href=\"#DejaVuSans-46\"/>\r\n     <use x=\"95.410156\" xlink:href=\"#DejaVuSans-48\"/>\r\n     <use x=\"159.033203\" xlink:href=\"#DejaVuSans-52\"/>\r\n     <use x=\"222.65625\" xlink:href=\"#DejaVuSans-55\"/>\r\n    </g>\r\n   </g>\r\n   <g id=\"text_55\">\r\n    <!-- 0.38 -->\r\n    <g style=\"fill:#ffffff;\" transform=\"translate(371.420313 136.068594)scale(0.1 -0.1)\">\r\n     <use xlink:href=\"#DejaVuSans-48\"/>\r\n     <use x=\"63.623047\" xlink:href=\"#DejaVuSans-46\"/>\r\n     <use x=\"95.410156\" xlink:href=\"#DejaVuSans-51\"/>\r\n     <use x=\"159.033203\" xlink:href=\"#DejaVuSans-56\"/>\r\n    </g>\r\n   </g>\r\n   <g id=\"text_56\">\r\n    <!-- 0.061 -->\r\n    <g style=\"fill:#ffffff;\" transform=\"translate(133.879063 163.248594)scale(0.1 -0.1)\">\r\n     <use xlink:href=\"#DejaVuSans-48\"/>\r\n     <use x=\"63.623047\" xlink:href=\"#DejaVuSans-46\"/>\r\n     <use x=\"95.410156\" xlink:href=\"#DejaVuSans-48\"/>\r\n     <use x=\"159.033203\" xlink:href=\"#DejaVuSans-54\"/>\r\n     <use x=\"222.65625\" xlink:href=\"#DejaVuSans-49\"/>\r\n    </g>\r\n   </g>\r\n   <g id=\"text_57\">\r\n    <!-- -0.15 -->\r\n    <g style=\"fill:#ffffff;\" transform=\"translate(168.736406 163.248594)scale(0.1 -0.1)\">\r\n     <use xlink:href=\"#DejaVuSans-45\"/>\r\n     <use x=\"36.083984\" xlink:href=\"#DejaVuSans-48\"/>\r\n     <use x=\"99.707031\" xlink:href=\"#DejaVuSans-46\"/>\r\n     <use x=\"131.494141\" xlink:href=\"#DejaVuSans-49\"/>\r\n     <use x=\"195.117188\" xlink:href=\"#DejaVuSans-53\"/>\r\n    </g>\r\n   </g>\r\n   <g id=\"text_58\">\r\n    <!-- 0.37 -->\r\n    <g style=\"fill:#ffffff;\" transform=\"translate(204.020313 163.248594)scale(0.1 -0.1)\">\r\n     <use xlink:href=\"#DejaVuSans-48\"/>\r\n     <use x=\"63.623047\" xlink:href=\"#DejaVuSans-46\"/>\r\n     <use x=\"95.410156\" xlink:href=\"#DejaVuSans-51\"/>\r\n     <use x=\"159.033203\" xlink:href=\"#DejaVuSans-55\"/>\r\n    </g>\r\n   </g>\r\n   <g id=\"text_59\">\r\n    <!-- 0.42 -->\r\n    <g style=\"fill:#ffffff;\" transform=\"translate(237.500313 163.248594)scale(0.1 -0.1)\">\r\n     <use xlink:href=\"#DejaVuSans-48\"/>\r\n     <use x=\"63.623047\" xlink:href=\"#DejaVuSans-46\"/>\r\n     <use x=\"95.410156\" xlink:href=\"#DejaVuSans-52\"/>\r\n     <use x=\"159.033203\" xlink:href=\"#DejaVuSans-50\"/>\r\n    </g>\r\n   </g>\r\n   <g id=\"text_60\">\r\n    <!-- 0.047 -->\r\n    <g style=\"fill:#ffffff;\" transform=\"translate(267.799063 163.248594)scale(0.1 -0.1)\">\r\n     <use xlink:href=\"#DejaVuSans-48\"/>\r\n     <use x=\"63.623047\" xlink:href=\"#DejaVuSans-46\"/>\r\n     <use x=\"95.410156\" xlink:href=\"#DejaVuSans-48\"/>\r\n     <use x=\"159.033203\" xlink:href=\"#DejaVuSans-52\"/>\r\n     <use x=\"222.65625\" xlink:href=\"#DejaVuSans-55\"/>\r\n    </g>\r\n   </g>\r\n   <g id=\"text_61\">\r\n    <!-- 1 -->\r\n    <g style=\"fill:#262626;\" transform=\"translate(312.411875 163.248594)scale(0.1 -0.1)\">\r\n     <use xlink:href=\"#DejaVuSans-49\"/>\r\n    </g>\r\n   </g>\r\n   <g id=\"text_62\">\r\n    <!-- 0.3 -->\r\n    <g style=\"fill:#ffffff;\" transform=\"translate(341.121562 163.248594)scale(0.1 -0.1)\">\r\n     <use xlink:href=\"#DejaVuSans-48\"/>\r\n     <use x=\"63.623047\" xlink:href=\"#DejaVuSans-46\"/>\r\n     <use x=\"95.410156\" xlink:href=\"#DejaVuSans-51\"/>\r\n    </g>\r\n   </g>\r\n   <g id=\"text_63\">\r\n    <!-- 0.38 -->\r\n    <g style=\"fill:#ffffff;\" transform=\"translate(371.420313 163.248594)scale(0.1 -0.1)\">\r\n     <use xlink:href=\"#DejaVuSans-48\"/>\r\n     <use x=\"63.623047\" xlink:href=\"#DejaVuSans-46\"/>\r\n     <use x=\"95.410156\" xlink:href=\"#DejaVuSans-51\"/>\r\n     <use x=\"159.033203\" xlink:href=\"#DejaVuSans-56\"/>\r\n    </g>\r\n   </g>\r\n   <g id=\"text_64\">\r\n    <!-- -0.036 -->\r\n    <g style=\"fill:#ffffff;\" transform=\"translate(132.075156 190.428594)scale(0.1 -0.1)\">\r\n     <use xlink:href=\"#DejaVuSans-45\"/>\r\n     <use x=\"36.083984\" xlink:href=\"#DejaVuSans-48\"/>\r\n     <use x=\"99.707031\" xlink:href=\"#DejaVuSans-46\"/>\r\n     <use x=\"131.494141\" xlink:href=\"#DejaVuSans-48\"/>\r\n     <use x=\"195.117188\" xlink:href=\"#DejaVuSans-51\"/>\r\n     <use x=\"258.740234\" xlink:href=\"#DejaVuSans-54\"/>\r\n    </g>\r\n   </g>\r\n   <g id=\"text_65\">\r\n    <!-- -0.089 -->\r\n    <g style=\"fill:#ffffff;\" transform=\"translate(165.555156 190.428594)scale(0.1 -0.1)\">\r\n     <use xlink:href=\"#DejaVuSans-45\"/>\r\n     <use x=\"36.083984\" xlink:href=\"#DejaVuSans-48\"/>\r\n     <use x=\"99.707031\" xlink:href=\"#DejaVuSans-46\"/>\r\n     <use x=\"131.494141\" xlink:href=\"#DejaVuSans-48\"/>\r\n     <use x=\"195.117188\" xlink:href=\"#DejaVuSans-56\"/>\r\n     <use x=\"258.740234\" xlink:href=\"#DejaVuSans-57\"/>\r\n    </g>\r\n   </g>\r\n   <g id=\"text_66\">\r\n    <!-- 0.43 -->\r\n    <g style=\"fill:#ffffff;\" transform=\"translate(204.020313 190.428594)scale(0.1 -0.1)\">\r\n     <use xlink:href=\"#DejaVuSans-48\"/>\r\n     <use x=\"63.623047\" xlink:href=\"#DejaVuSans-46\"/>\r\n     <use x=\"95.410156\" xlink:href=\"#DejaVuSans-52\"/>\r\n     <use x=\"159.033203\" xlink:href=\"#DejaVuSans-51\"/>\r\n    </g>\r\n   </g>\r\n   <g id=\"text_67\">\r\n    <!-- 0.57 -->\r\n    <g style=\"fill:#ffffff;\" transform=\"translate(237.500313 190.428594)scale(0.1 -0.1)\">\r\n     <use xlink:href=\"#DejaVuSans-48\"/>\r\n     <use x=\"63.623047\" xlink:href=\"#DejaVuSans-46\"/>\r\n     <use x=\"95.410156\" xlink:href=\"#DejaVuSans-53\"/>\r\n     <use x=\"159.033203\" xlink:href=\"#DejaVuSans-55\"/>\r\n    </g>\r\n   </g>\r\n   <g id=\"text_68\">\r\n    <!-- 0.3 -->\r\n    <g style=\"fill:#ffffff;\" transform=\"translate(307.641562 190.428594)scale(0.1 -0.1)\">\r\n     <use xlink:href=\"#DejaVuSans-48\"/>\r\n     <use x=\"63.623047\" xlink:href=\"#DejaVuSans-46\"/>\r\n     <use x=\"95.410156\" xlink:href=\"#DejaVuSans-51\"/>\r\n    </g>\r\n   </g>\r\n   <g id=\"text_69\">\r\n    <!-- 1 -->\r\n    <g style=\"fill:#262626;\" transform=\"translate(345.891875 190.428594)scale(0.1 -0.1)\">\r\n     <use xlink:href=\"#DejaVuSans-49\"/>\r\n    </g>\r\n   </g>\r\n   <g id=\"text_70\">\r\n    <!-- 0.74 -->\r\n    <g style=\"fill:#ffffff;\" transform=\"translate(371.420313 190.428594)scale(0.1 -0.1)\">\r\n     <use xlink:href=\"#DejaVuSans-48\"/>\r\n     <use x=\"63.623047\" xlink:href=\"#DejaVuSans-46\"/>\r\n     <use x=\"95.410156\" xlink:href=\"#DejaVuSans-55\"/>\r\n     <use x=\"159.033203\" xlink:href=\"#DejaVuSans-52\"/>\r\n    </g>\r\n   </g>\r\n   <g id=\"text_71\">\r\n    <!-- 0.1 -->\r\n    <g style=\"fill:#ffffff;\" transform=\"translate(140.241563 217.608594)scale(0.1 -0.1)\">\r\n     <use xlink:href=\"#DejaVuSans-48\"/>\r\n     <use x=\"63.623047\" xlink:href=\"#DejaVuSans-46\"/>\r\n     <use x=\"95.410156\" xlink:href=\"#DejaVuSans-49\"/>\r\n    </g>\r\n   </g>\r\n   <g id=\"text_72\">\r\n    <!-- 0.034 -->\r\n    <g style=\"fill:#ffffff;\" transform=\"translate(167.359062 217.608594)scale(0.1 -0.1)\">\r\n     <use xlink:href=\"#DejaVuSans-48\"/>\r\n     <use x=\"63.623047\" xlink:href=\"#DejaVuSans-46\"/>\r\n     <use x=\"95.410156\" xlink:href=\"#DejaVuSans-48\"/>\r\n     <use x=\"159.033203\" xlink:href=\"#DejaVuSans-51\"/>\r\n     <use x=\"222.65625\" xlink:href=\"#DejaVuSans-52\"/>\r\n    </g>\r\n   </g>\r\n   <g id=\"text_73\">\r\n    <!-- 0.58 -->\r\n    <g style=\"fill:#ffffff;\" transform=\"translate(204.020313 217.608594)scale(0.1 -0.1)\">\r\n     <use xlink:href=\"#DejaVuSans-48\"/>\r\n     <use x=\"63.623047\" xlink:href=\"#DejaVuSans-46\"/>\r\n     <use x=\"95.410156\" xlink:href=\"#DejaVuSans-53\"/>\r\n     <use x=\"159.033203\" xlink:href=\"#DejaVuSans-56\"/>\r\n    </g>\r\n   </g>\r\n   <g id=\"text_74\">\r\n    <!-- 0.73 -->\r\n    <g style=\"fill:#ffffff;\" transform=\"translate(237.500313 217.608594)scale(0.1 -0.1)\">\r\n     <use xlink:href=\"#DejaVuSans-48\"/>\r\n     <use x=\"63.623047\" xlink:href=\"#DejaVuSans-46\"/>\r\n     <use x=\"95.410156\" xlink:href=\"#DejaVuSans-55\"/>\r\n     <use x=\"159.033203\" xlink:href=\"#DejaVuSans-51\"/>\r\n    </g>\r\n   </g>\r\n   <g id=\"text_75\">\r\n    <!-- 0.38 -->\r\n    <g style=\"fill:#ffffff;\" transform=\"translate(270.980313 217.608594)scale(0.1 -0.1)\">\r\n     <use xlink:href=\"#DejaVuSans-48\"/>\r\n     <use x=\"63.623047\" xlink:href=\"#DejaVuSans-46\"/>\r\n     <use x=\"95.410156\" xlink:href=\"#DejaVuSans-51\"/>\r\n     <use x=\"159.033203\" xlink:href=\"#DejaVuSans-56\"/>\r\n    </g>\r\n   </g>\r\n   <g id=\"text_76\">\r\n    <!-- 0.38 -->\r\n    <g style=\"fill:#ffffff;\" transform=\"translate(304.460312 217.608594)scale(0.1 -0.1)\">\r\n     <use xlink:href=\"#DejaVuSans-48\"/>\r\n     <use x=\"63.623047\" xlink:href=\"#DejaVuSans-46\"/>\r\n     <use x=\"95.410156\" xlink:href=\"#DejaVuSans-51\"/>\r\n     <use x=\"159.033203\" xlink:href=\"#DejaVuSans-56\"/>\r\n    </g>\r\n   </g>\r\n   <g id=\"text_77\">\r\n    <!-- 0.74 -->\r\n    <g style=\"fill:#ffffff;\" transform=\"translate(337.940313 217.608594)scale(0.1 -0.1)\">\r\n     <use xlink:href=\"#DejaVuSans-48\"/>\r\n     <use x=\"63.623047\" xlink:href=\"#DejaVuSans-46\"/>\r\n     <use x=\"95.410156\" xlink:href=\"#DejaVuSans-55\"/>\r\n     <use x=\"159.033203\" xlink:href=\"#DejaVuSans-52\"/>\r\n    </g>\r\n   </g>\r\n   <g id=\"text_78\">\r\n    <!-- 1 -->\r\n    <g style=\"fill:#262626;\" transform=\"translate(379.371875 217.608594)scale(0.1 -0.1)\">\r\n     <use xlink:href=\"#DejaVuSans-49\"/>\r\n    </g>\r\n   </g>\r\n  </g>\r\n  <g id=\"axes_2\">\r\n   <g id=\"patch_3\">\r\n    <path clip-path=\"url(#pf0de0e34e3)\" d=\"M 416.033125 228.439219 \r\nL 416.033125 227.589844 \r\nL 416.033125 11.848594 \r\nL 416.033125 10.999219 \r\nL 426.905125 10.999219 \r\nL 426.905125 11.848594 \r\nL 426.905125 227.589844 \r\nL 426.905125 228.439219 \r\nz\r\n\" style=\"fill:#ffffff;stroke:#ffffff;stroke-linejoin:miter;stroke-width:0.01;\"/>\r\n   </g>\r\n   <image height=\"218\" id=\"imagede17cbe3ea\" transform=\"scale(1 -1)translate(0 -218)\" width=\"11\" x=\"416\" xlink:href=\"data:image/png;base64,\r\niVBORw0KGgoAAAANSUhEUgAAAAsAAADaCAYAAABwzrisAAABVElEQVR4nO3a0Y3DMAyDYctWl7j952xvBX8HEFCDy7NAUL9oJTVa5/XzWZdP123lWqur7st7144pQ3GtlPIZ0iApCw1SDtKIeSblXUeKR0R0SvjJxoxxW/jXiPBbg9elOu4pEzR09080/GAjyRlsUPhJObg3xEbnVq7YGBKk84UN0riRRkp5SIN9/VvCbVBx6nTbrhMa2KAUx4bSUlyPpxEM/720NZjbG/0Bz0NolChb+MlzUFmKYSp9RLlgF/SWYgsSKUvxgdglacgErcHzTtkYgg4OYe8hNAxdysaG7x7jjDRAeVGQYPWjDaMxQrlg6aqNlPISZWxQlK3BmA25spDPk16bimegk/s6olExGuaZlOHSImhjCjqjQREdcayIRgWzESumoZz7N/0YzzkbRCM37iFBejqNOq+Q8hgasr5i4y75q8AUzpSNXET/G/yrcuyk/AI94SsnAtymuQAAAABJRU5ErkJggg==\" y=\"-10\"/>\r\n   <g id=\"matplotlib.axis_3\"/>\r\n   <g id=\"matplotlib.axis_4\">\r\n    <g id=\"ytick_9\">\r\n     <g id=\"line2d_17\">\r\n      <defs>\r\n       <path d=\"M 0 0 \r\nL 3.5 0 \r\n\" id=\"m73b0129eda\" style=\"stroke:#000000;stroke-width:0.8;\"/>\r\n      </defs>\r\n      <g>\r\n       <use style=\"stroke:#000000;stroke-width:0.8;\" x=\"426.905125\" xlink:href=\"#m73b0129eda\" y=\"200.687265\"/>\r\n      </g>\r\n     </g>\r\n     <g id=\"text_79\">\r\n      <!-- 0.0 -->\r\n      <g transform=\"translate(433.905125 204.486484)scale(0.1 -0.1)\">\r\n       <use xlink:href=\"#DejaVuSans-48\"/>\r\n       <use x=\"63.623047\" xlink:href=\"#DejaVuSans-46\"/>\r\n       <use x=\"95.410156\" xlink:href=\"#DejaVuSans-48\"/>\r\n      </g>\r\n     </g>\r\n    </g>\r\n    <g id=\"ytick_10\">\r\n     <g id=\"line2d_18\">\r\n      <g>\r\n       <use style=\"stroke:#000000;stroke-width:0.8;\" x=\"426.905125\" xlink:href=\"#m73b0129eda\" y=\"162.749656\"/>\r\n      </g>\r\n     </g>\r\n     <g id=\"text_80\">\r\n      <!-- 0.2 -->\r\n      <g transform=\"translate(433.905125 166.548875)scale(0.1 -0.1)\">\r\n       <use xlink:href=\"#DejaVuSans-48\"/>\r\n       <use x=\"63.623047\" xlink:href=\"#DejaVuSans-46\"/>\r\n       <use x=\"95.410156\" xlink:href=\"#DejaVuSans-50\"/>\r\n      </g>\r\n     </g>\r\n    </g>\r\n    <g id=\"ytick_11\">\r\n     <g id=\"line2d_19\">\r\n      <g>\r\n       <use style=\"stroke:#000000;stroke-width:0.8;\" x=\"426.905125\" xlink:href=\"#m73b0129eda\" y=\"124.812047\"/>\r\n      </g>\r\n     </g>\r\n     <g id=\"text_81\">\r\n      <!-- 0.4 -->\r\n      <g transform=\"translate(433.905125 128.611265)scale(0.1 -0.1)\">\r\n       <use xlink:href=\"#DejaVuSans-48\"/>\r\n       <use x=\"63.623047\" xlink:href=\"#DejaVuSans-46\"/>\r\n       <use x=\"95.410156\" xlink:href=\"#DejaVuSans-52\"/>\r\n      </g>\r\n     </g>\r\n    </g>\r\n    <g id=\"ytick_12\">\r\n     <g id=\"line2d_20\">\r\n      <g>\r\n       <use style=\"stroke:#000000;stroke-width:0.8;\" x=\"426.905125\" xlink:href=\"#m73b0129eda\" y=\"86.874437\"/>\r\n      </g>\r\n     </g>\r\n     <g id=\"text_82\">\r\n      <!-- 0.6 -->\r\n      <g transform=\"translate(433.905125 90.673656)scale(0.1 -0.1)\">\r\n       <use xlink:href=\"#DejaVuSans-48\"/>\r\n       <use x=\"63.623047\" xlink:href=\"#DejaVuSans-46\"/>\r\n       <use x=\"95.410156\" xlink:href=\"#DejaVuSans-54\"/>\r\n      </g>\r\n     </g>\r\n    </g>\r\n    <g id=\"ytick_13\">\r\n     <g id=\"line2d_21\">\r\n      <g>\r\n       <use style=\"stroke:#000000;stroke-width:0.8;\" x=\"426.905125\" xlink:href=\"#m73b0129eda\" y=\"48.936828\"/>\r\n      </g>\r\n     </g>\r\n     <g id=\"text_83\">\r\n      <!-- 0.8 -->\r\n      <g transform=\"translate(433.905125 52.736047)scale(0.1 -0.1)\">\r\n       <use xlink:href=\"#DejaVuSans-48\"/>\r\n       <use x=\"63.623047\" xlink:href=\"#DejaVuSans-46\"/>\r\n       <use x=\"95.410156\" xlink:href=\"#DejaVuSans-56\"/>\r\n      </g>\r\n     </g>\r\n    </g>\r\n    <g id=\"ytick_14\">\r\n     <g id=\"line2d_22\">\r\n      <g>\r\n       <use style=\"stroke:#000000;stroke-width:0.8;\" x=\"426.905125\" xlink:href=\"#m73b0129eda\" y=\"10.999219\"/>\r\n      </g>\r\n     </g>\r\n     <g id=\"text_84\">\r\n      <!-- 1.0 -->\r\n      <g transform=\"translate(433.905125 14.798437)scale(0.1 -0.1)\">\r\n       <use xlink:href=\"#DejaVuSans-49\"/>\r\n       <use x=\"63.623047\" xlink:href=\"#DejaVuSans-46\"/>\r\n       <use x=\"95.410156\" xlink:href=\"#DejaVuSans-48\"/>\r\n      </g>\r\n     </g>\r\n    </g>\r\n   </g>\r\n   <g id=\"patch_4\">\r\n    <path d=\"M 416.033125 228.439219 \r\nL 416.033125 227.589844 \r\nL 416.033125 11.848594 \r\nL 416.033125 10.999219 \r\nL 426.905125 10.999219 \r\nL 426.905125 11.848594 \r\nL 426.905125 227.589844 \r\nL 426.905125 228.439219 \r\nz\r\n\" style=\"fill:none;\"/>\r\n   </g>\r\n  </g>\r\n </g>\r\n <defs>\r\n  <clipPath id=\"pcecdb4081c\">\r\n   <rect height=\"217.44\" width=\"267.84\" x=\"131.453125\" y=\"10.999219\"/>\r\n  </clipPath>\r\n  <clipPath id=\"pf0de0e34e3\">\r\n   <rect height=\"217.44\" width=\"10.872\" x=\"416.033125\" y=\"10.999219\"/>\r\n  </clipPath>\r\n </defs>\r\n</svg>\r\n",
            "image/png": "[encoded data removed]"
          },
          "metadata": {
            "needs_background": "light"
          }
        }
      ],
      "source": [
        "plot = sns.heatmap(Xnumeric.corr(method='spearman'), annot=True)"
      ]
    },
    {
      "cell_type": "code",
      "execution_count": 44,
      "metadata": {},
      "outputs": [],
      "source": [
        "plot.figure.tight_layout()"
      ]
    },
    {
      "cell_type": "code",
      "execution_count": 46,
      "metadata": {},
      "outputs": [],
      "source": [
        "plot.figure.savefig('heatmap.eps')"
      ]
    }
  ]
}
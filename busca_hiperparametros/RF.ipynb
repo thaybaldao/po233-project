{
 "cells": [
  {
   "source": [
    "# Busca de Hiperparâmetros Promissores\n",
    "\n",
    "## Título:\n",
    "\n",
    "**Predição de preço de imóveis**\n",
    "\n",
    "## Membros:\n",
    "\n",
    "*   Adrisson Rogério Samersla\n",
    "*   Nickolas Batista Mendonça Machado\n",
    "*   Thayna Pires Baldão\n",
    "\n"
   ],
   "cell_type": "markdown",
   "metadata": {}
  },
  {
   "source": [
    "# SETUP"
   ],
   "cell_type": "markdown",
   "metadata": {}
  },
  {
   "cell_type": "code",
   "execution_count": 1,
   "metadata": {},
   "outputs": [],
   "source": [
    "# Importando os pacotes necessários para a análise\n",
    "\n",
    "import time\n",
    "\n",
    "import pandas   as pd\n",
    "import numpy    as np\n",
    "\n",
    "pd.set_option('display.max_columns', None)  \n",
    "pd.set_option('display.expand_frame_repr', False)\n",
    "pd.reset_option('max_colwidth')\n",
    "\n",
    "# Configurações globais do treinamento\n",
    "NUM_JOBS = 8\n",
    "SEED = 21"
   ]
  },
  {
   "cell_type": "code",
   "execution_count": 2,
   "metadata": {},
   "outputs": [
    {
     "output_type": "stream",
     "name": "stdout",
     "text": [
      "Formato dos dados:  (449633, 12)\n#Exemplos: 449633\n#Atributos: 12\n"
     ]
    }
   ],
   "source": [
    "# Lendo a base de dados\n",
    "\n",
    "df = pd.read_csv(\"../dataset/preprocessed.csv\")\n",
    "print(\"Formato dos dados: \", df.shape)\n",
    "print(\"#Exemplos: {}\".format(df.shape[0]))\n",
    "print(\"#Atributos: {}\".format(df.shape[1]))"
   ]
  },
  {
   "cell_type": "code",
   "execution_count": 3,
   "metadata": {},
   "outputs": [
    {
     "output_type": "stream",
     "name": "stdout",
     "text": [
      "Tipo dos atributos:\n\ncreated_on               float64\nlat                      float64\nlon                      float64\nsurface_total_in_m2      float64\nsurface_covered_in_m2    float64\nrooms                    float64\nexpenses                 float64\nPH                       float64\napartment                float64\nhouse                    float64\nstore                    float64\nprice                    float64\ndtype: object\n\n#Valores nulos:\n\ncreated_on               0\nlat                      0\nlon                      0\nsurface_total_in_m2      0\nsurface_covered_in_m2    0\nrooms                    0\nexpenses                 0\nPH                       0\napartment                0\nhouse                    0\nstore                    0\nprice                    0\ndtype: int64\n\nAlguns exemplo:\n\n"
     ]
    },
    {
     "output_type": "execute_result",
     "data": {
      "text/plain": [
       "   created_on        lat        lon  surface_total_in_m2  surface_covered_in_m2  rooms  expenses   PH  apartment  house  store     price\n",
       "0       981.0 -23.616325 -46.676620                 80.0                   80.0    2.0    1065.0  0.0        1.0    0.0    0.0  900000.0\n",
       "1      1008.0 -30.051750 -51.182068                 91.0                   91.0    2.0       0.0  0.0        1.0    0.0    0.0  750000.0\n",
       "2       568.0 -25.413214 -49.271294                168.0                  168.0    2.0       0.0  0.0        1.0    0.0    0.0  880000.0\n",
       "3       755.0 -23.562290 -46.521248                145.0                  145.0    2.0       0.0  0.0        0.0    1.0    0.0  580000.0\n",
       "4       764.0 -21.809600 -46.544624                138.0                  260.0    3.0       0.0  0.0        0.0    1.0    0.0  420000.0"
      ],
      "text/html": "<div>\n<style scoped>\n    .dataframe tbody tr th:only-of-type {\n        vertical-align: middle;\n    }\n\n    .dataframe tbody tr th {\n        vertical-align: top;\n    }\n\n    .dataframe thead th {\n        text-align: right;\n    }\n</style>\n<table border=\"1\" class=\"dataframe\">\n  <thead>\n    <tr style=\"text-align: right;\">\n      <th></th>\n      <th>created_on</th>\n      <th>lat</th>\n      <th>lon</th>\n      <th>surface_total_in_m2</th>\n      <th>surface_covered_in_m2</th>\n      <th>rooms</th>\n      <th>expenses</th>\n      <th>PH</th>\n      <th>apartment</th>\n      <th>house</th>\n      <th>store</th>\n      <th>price</th>\n    </tr>\n  </thead>\n  <tbody>\n    <tr>\n      <th>0</th>\n      <td>981.0</td>\n      <td>-23.616325</td>\n      <td>-46.676620</td>\n      <td>80.0</td>\n      <td>80.0</td>\n      <td>2.0</td>\n      <td>1065.0</td>\n      <td>0.0</td>\n      <td>1.0</td>\n      <td>0.0</td>\n      <td>0.0</td>\n      <td>900000.0</td>\n    </tr>\n    <tr>\n      <th>1</th>\n      <td>1008.0</td>\n      <td>-30.051750</td>\n      <td>-51.182068</td>\n      <td>91.0</td>\n      <td>91.0</td>\n      <td>2.0</td>\n      <td>0.0</td>\n      <td>0.0</td>\n      <td>1.0</td>\n      <td>0.0</td>\n      <td>0.0</td>\n      <td>750000.0</td>\n    </tr>\n    <tr>\n      <th>2</th>\n      <td>568.0</td>\n      <td>-25.413214</td>\n      <td>-49.271294</td>\n      <td>168.0</td>\n      <td>168.0</td>\n      <td>2.0</td>\n      <td>0.0</td>\n      <td>0.0</td>\n      <td>1.0</td>\n      <td>0.0</td>\n      <td>0.0</td>\n      <td>880000.0</td>\n    </tr>\n    <tr>\n      <th>3</th>\n      <td>755.0</td>\n      <td>-23.562290</td>\n      <td>-46.521248</td>\n      <td>145.0</td>\n      <td>145.0</td>\n      <td>2.0</td>\n      <td>0.0</td>\n      <td>0.0</td>\n      <td>0.0</td>\n      <td>1.0</td>\n      <td>0.0</td>\n      <td>580000.0</td>\n    </tr>\n    <tr>\n      <th>4</th>\n      <td>764.0</td>\n      <td>-21.809600</td>\n      <td>-46.544624</td>\n      <td>138.0</td>\n      <td>260.0</td>\n      <td>3.0</td>\n      <td>0.0</td>\n      <td>0.0</td>\n      <td>0.0</td>\n      <td>1.0</td>\n      <td>0.0</td>\n      <td>420000.0</td>\n    </tr>\n  </tbody>\n</table>\n</div>"
     },
     "metadata": {},
     "execution_count": 3
    }
   ],
   "source": [
    "# Breve descrição da base de dados\n",
    "\n",
    "print('Tipo dos atributos:\\n')\n",
    "print(df.dtypes)\n",
    "\n",
    "print('\\n#Valores nulos:\\n')\n",
    "print(df.isnull().sum())\n",
    "\n",
    "print('\\nAlguns exemplo:\\n')\n",
    "df.head()"
   ]
  },
  {
   "cell_type": "markdown",
   "metadata": {},
   "source": [
    "# Random Forest (RF)"
   ]
  },
  {
   "cell_type": "code",
   "execution_count": 14,
   "metadata": {},
   "outputs": [],
   "source": [
    "# Importando os pacotes necessários para o treinamento\n",
    "\n",
    "from sklearn.ensemble import RandomForestRegressor\n",
    "\n",
    "from sklearn.pipeline import Pipeline\n",
    "\n",
    "from sklearn.preprocessing import StandardScaler\n",
    "\n",
    "from sklearn.model_selection import RandomizedSearchCV, GridSearchCV, KFold, train_test_split, cross_validate\n",
    "from sklearn.metrics import make_scorer, mean_squared_log_error, mean_squared_error"
   ]
  },
  {
   "source": [
    "## Aquecimento"
   ],
   "cell_type": "markdown",
   "metadata": {}
  },
  {
   "cell_type": "code",
   "execution_count": 5,
   "metadata": {},
   "outputs": [],
   "source": [
    "# Separando a base de dados (holdout)\n",
    "\n",
    "X = df.drop(\"price\",1)\n",
    "y = df.price\n",
    "X_train, X_test, y_train, y_test = train_test_split(X, y, test_size=0.33)"
   ]
  },
  {
   "cell_type": "code",
   "execution_count": 6,
   "metadata": {},
   "outputs": [
    {
     "output_type": "stream",
     "name": "stdout",
     "text": [
      "Took 38.20 seconds to train!\n"
     ]
    }
   ],
   "source": [
    "# Treinando e avaliando o modelo\n",
    "#   Importante para avaliar o tempo de treinamento\n",
    "\n",
    "model = Pipeline([\n",
    "    ('scaler', StandardScaler()), \n",
    "    ('rf', RandomForestRegressor(\n",
    "                random_state=SEED,\n",
    "                n_estimators=100,\n",
    "                max_depth=21,\n",
    "                max_features='auto',\n",
    "                min_samples_leaf=1,\n",
    "                n_jobs=NUM_JOBS))])\n",
    "\n",
    "start = time.time()\n",
    "y_predicted = model.fit(X_train, y_train).predict(X_test)\n",
    "end = time.time()\n",
    "\n",
    "print('Took {:.2f} seconds to train!'.format(end - start))"
   ]
  },
  {
   "cell_type": "code",
   "execution_count": 7,
   "metadata": {},
   "outputs": [
    {
     "output_type": "execute_result",
     "data": {
      "text/plain": [
       "0.2791683890782046"
      ]
     },
     "metadata": {},
     "execution_count": 7
    }
   ],
   "source": [
    "# Valor de erro obtido: RMSLE\n",
    "\n",
    "np.sqrt(mean_squared_log_error(y_test,y_predicted))"
   ]
  },
  {
   "source": [
    "## Buscando hiperparâmetros"
   ],
   "cell_type": "markdown",
   "metadata": {}
  },
  {
   "cell_type": "code",
   "execution_count": 8,
   "metadata": {},
   "outputs": [],
   "source": [
    "# Definição dos modelos e hiperparâmetros a serem avaliados\n",
    "\n",
    "scorer = make_scorer(mean_squared_log_error, greater_is_better=False)\n",
    "cv = KFold(n_splits=5, shuffle=True, random_state=SEED)\n",
    "\n",
    "# number of trees\n",
    "n_estimators = [100, 200, 500]\n",
    "\n",
    "# max number of features to consider at every split\n",
    "max_features = ['auto', 'sqrt', 'log2']\n",
    "\n",
    "# max number of levels in tree\n",
    "max_depth = [11, 16, 21]\n",
    "\n",
    "# minimum number of samples required to split a node\n",
    "min_samples_split = [2, 5, 10, 15]\n",
    "\n",
    "# minimum number of samples required at each leaf node\n",
    "min_samples_leaf = [1, 2, 5, 10]\n",
    "\n",
    "random_grid_params = {\n",
    "    'n_estimators': n_estimators,\n",
    "    'max_features': max_features,\n",
    "    'max_depth': max_depth,\n",
    "    'min_samples_split': min_samples_split,\n",
    "    'min_samples_leaf': min_samples_leaf,\n",
    "}\n",
    "\n",
    "# create the base model to tune\n",
    "rfr = RandomForestRegressor()\n",
    "\n",
    "# use the random grid to search for best hyperparameters,\n",
    "rfr_random = RandomizedSearchCV(\n",
    "    estimator=rfr, param_distributions=random_grid_params, \n",
    "    scoring=scorer, n_iter=20, cv=cv, \n",
    "    random_state=SEED, n_jobs=NUM_JOBS)"
   ]
  },
  {
   "cell_type": "code",
   "execution_count": 9,
   "metadata": {},
   "outputs": [
    {
     "output_type": "stream",
     "name": "stderr",
     "text": [
      "/home/adrissonsamersla/.local/lib/python3.8/site-packages/joblib/externals/loky/process_executor.py:688: UserWarning: A worker stopped while some jobs were given to the executor. This can be caused by a too short worker timeout or by a memory leak.\n",
      "  warnings.warn(\n",
      "Total Time: 5884.66 s\n",
      "\n"
     ]
    }
   ],
   "source": [
    "# Executando o experimento\n",
    "\n",
    "start = time.time()\n",
    "rs_results = rfr_random.fit(X, y)\n",
    "end = time.time()\n",
    "\n",
    "print(\"Total Time: {:.2f} s\\n\".format(end - start))"
   ]
  },
  {
   "cell_type": "code",
   "execution_count": 10,
   "metadata": {},
   "outputs": [
    {
     "output_type": "execute_result",
     "data": {
      "text/plain": [
       "-0.08615651909832953"
      ]
     },
     "metadata": {},
     "execution_count": 10
    }
   ],
   "source": [
    "# Inspecionando os resultados\n",
    "\n",
    "rs_results.best_score_"
   ]
  },
  {
   "source": [
    "## Conjunto promissor de hiperparâmetros"
   ],
   "cell_type": "markdown",
   "metadata": {}
  },
  {
   "cell_type": "code",
   "execution_count": 11,
   "metadata": {},
   "outputs": [
    {
     "output_type": "execute_result",
     "data": {
      "text/plain": [
       "{'n_estimators': 200,\n",
       " 'min_samples_split': 5,\n",
       " 'min_samples_leaf': 5,\n",
       " 'max_features': 'auto',\n",
       " 'max_depth': 21}"
      ]
     },
     "metadata": {},
     "execution_count": 11
    }
   ],
   "source": [
    "# Inspecionando os melhores resultados obtidos\n",
    "\n",
    "rs_results.best_params_"
   ]
  },
  {
   "cell_type": "code",
   "execution_count": 15,
   "metadata": {},
   "outputs": [
    {
     "output_type": "stream",
     "name": "stdout",
     "text": [
      "Total Time: 1643.63 s\n\n"
     ]
    }
   ],
   "source": [
    "# Refinando a busca\n",
    "\n",
    "model = GridSearchCV(\n",
    "        Pipeline([\n",
    "            ('scaler', StandardScaler()),\n",
    "            ('rf', RandomForestRegressor(\n",
    "                random_state=SEED,\n",
    "                n_estimators=100,\n",
    "                max_depth=21,\n",
    "                max_features='auto',\n",
    "                min_samples_leaf=1,\n",
    "                n_jobs=NUM_JOBS))]), \n",
    "        param_grid= {\n",
    "            'rf__min_samples_split': [2, 5, 10],\n",
    "        },\n",
    "        scoring=scorer,\n",
    "        cv=KFold(n_splits=10, shuffle=True, random_state=SEED),\n",
    "        n_jobs=NUM_JOBS)\n",
    "\n",
    "start = time.time()\n",
    "model.fit(X,y)\n",
    "end = time.time()\n",
    "print(\"Total Time: {:.2f} s\\n\".format(end - start))"
   ]
  },
  {
   "cell_type": "code",
   "execution_count": 17,
   "metadata": {},
   "outputs": [
    {
     "output_type": "execute_result",
     "data": {
      "text/plain": [
       "0.2638208144925809"
      ]
     },
     "metadata": {},
     "execution_count": 17
    }
   ],
   "source": [
    "# Valor de erro obtido: RMSLE\n",
    "\n",
    "np.sqrt(-model.best_score_)"
   ]
  },
  {
   "cell_type": "code",
   "execution_count": 18,
   "metadata": {},
   "outputs": [
    {
     "output_type": "execute_result",
     "data": {
      "text/plain": [
       "{'rf__min_samples_split': 2}"
      ]
     },
     "metadata": {},
     "execution_count": 18
    }
   ],
   "source": [
    "# Inspecionando os melhores hiperparâmetros obtidos\n",
    "\n",
    "model.best_params_"
   ]
  }
 ],
 "metadata": {
  "interpreter": {
   "hash": "39a99e6402a5e3089e52d8af32288dc93e4162e81faf72116ca75d773f310577"
  },
  "kernelspec": {
   "name": "python3",
   "display_name": "Python 3.8.8 64-bit (conda)"
  },
  "language_info": {
   "codemirror_mode": {
    "name": "ipython",
    "version": 3
   },
   "file_extension": ".py",
   "mimetype": "text/x-python",
   "name": "python",
   "nbconvert_exporter": "python",
   "pygments_lexer": "ipython3",
   "version": "3.8.8"
  }
 },
 "nbformat": 4,
 "nbformat_minor": 2
}
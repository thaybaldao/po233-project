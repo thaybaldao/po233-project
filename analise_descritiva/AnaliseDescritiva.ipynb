{
 "cells": [
  {
   "cell_type": "markdown",
   "metadata": {
    "id": "y40PalnFrwGT"
   },
   "source": [
    "# Análise Descritiva dos Dados\n",
    "\n",
    "## Título:\n",
    "\n",
    "**Predição de preço de imóveis**\n",
    "\n",
    "## Membros:\n",
    "\n",
    "*   Adrisson Rogério Samersla\n",
    "*   Nickolas Batista Mendonça Machado\n",
    "*   Thayna Pires Baldão\n",
    "\n"
   ]
  },
  {
   "cell_type": "markdown",
   "metadata": {
    "id": "as1SgF6i-3uZ"
   },
   "source": [
    "# Setup"
   ]
  },
  {
   "cell_type": "code",
   "execution_count": null,
   "metadata": {
    "colab": {
     "base_uri": "https://localhost:8080/"
    },
    "executionInfo": {
     "elapsed": 4428,
     "status": "ok",
     "timestamp": 1619332762547,
     "user": {
      "displayName": "Adrisson Rogerio Samersla",
      "photoUrl": "",
      "userId": "12300874730852390967"
     },
     "user_tz": 180
    },
    "id": "r9Z6uxAi-akL",
    "outputId": "37f833ff-db8c-4f33-8563-a89731701931"
   },
   "outputs": [],
   "source": [
    "# Instalando os pacotes necessários para a análise\n",
    "\n",
    "!pip3 install geopandas mapclassify googledrivedownloader"
   ]
  },
  {
   "cell_type": "code",
   "execution_count": null,
   "metadata": {
    "executionInfo": {
     "elapsed": 4425,
     "status": "ok",
     "timestamp": 1619332762547,
     "user": {
      "displayName": "Adrisson Rogerio Samersla",
      "photoUrl": "",
      "userId": "12300874730852390967"
     },
     "user_tz": 180
    },
    "id": "W5huXHPK-zbp"
   },
   "outputs": [],
   "source": [
    "# Importando os pacotes necessários para a análise\n",
    "\n",
    "import os\n",
    "\n",
    "import pandas            as pd\n",
    "import geopandas         as gpd\n",
    "import numpy             as np\n",
    "import scipy             as sc\n",
    "import matplotlib.pyplot as plt\n",
    "import seaborn           as sns\n",
    "\n",
    "from google_drive_downloader import GoogleDriveDownloader as gdd\n",
    "\n",
    "import mapclassify\n",
    "\n",
    "pd.set_option('display.max_columns', None)  \n",
    "pd.set_option('display.expand_frame_repr', False)\n",
    "pd.reset_option('max_colwidth')"
   ]
  },
  {
   "cell_type": "code",
   "execution_count": null,
   "metadata": {
    "executionInfo": {
     "elapsed": 4424,
     "status": "ok",
     "timestamp": 1619332762548,
     "user": {
      "displayName": "Adrisson Rogerio Samersla",
      "photoUrl": "",
      "userId": "12300874730852390967"
     },
     "user_tz": 180
    },
    "id": "LTltBWv458Pb"
   },
   "outputs": [],
   "source": [
    "# Baixando o dataset\n",
    "\n",
    "dataset_dir = \"../dataset\"\n",
    "has_dataset_dir = os.path.isdir(dataset_dir)\n",
    "if (not has_dataset_dir):\n",
    "  # Link of dataset folder: \n",
    "  # https://drive.google.com/file/d/1oymNGU7E7adnwqIkZ0W_zxcuzj-KFIqb/view?usp=sharing\n",
    "  gdd.download_file_from_google_drive(file_id='1oymNGU7E7adnwqIkZ0W_zxcuzj-KFIqb',\n",
    "                                      dest_path='../dataset.zip',\n",
    "                                      showsize=True,\n",
    "                                      unzip=True)"
   ]
  },
  {
   "cell_type": "code",
   "execution_count": null,
   "metadata": {
    "executionInfo": {
     "elapsed": 4412,
     "status": "ok",
     "timestamp": 1619332762549,
     "user": {
      "displayName": "Adrisson Rogerio Samersla",
      "photoUrl": "",
      "userId": "12300874730852390967"
     },
     "user_tz": 180
    },
    "id": "kyipYCzGtOh9"
   },
   "outputs": [],
   "source": [
    "# Criando pasta para as análises\n",
    "\n",
    "images_dir = \"./imagens/\"\n",
    "has_images_dir = os.path.isdir(images_dir)\n",
    "if (not has_images_dir):\n",
    "  os.mkdir(images_dir)"
   ]
  },
  {
   "cell_type": "markdown",
   "metadata": {
    "id": "O-eEqrR4vk-F"
   },
   "source": [
    "# Entendendo a Base de Dados"
   ]
  },
  {
   "cell_type": "code",
   "execution_count": null,
   "metadata": {
    "colab": {
     "base_uri": "https://localhost:8080/"
    },
    "executionInfo": {
     "elapsed": 22767,
     "status": "ok",
     "timestamp": 1619332780907,
     "user": {
      "displayName": "Adrisson Rogerio Samersla",
      "photoUrl": "",
      "userId": "12300874730852390967"
     },
     "user_tz": 180
    },
    "id": "uNz5BC6k-_yY",
    "outputId": "6a683815-557a-4deb-a931-e84e97d91b31"
   },
   "outputs": [],
   "source": [
    "# Lendo a base de dados\n",
    "\n",
    "df = pd.read_csv(dataset_dir + '/dataset.csv')\n",
    "print(\"Formato dos dados: \", df.shape)\n",
    "print(\"#Exemplos: {}\".format(df.shape[0]))\n",
    "print(\"#Atributos: {}\".format(df.shape[1]))"
   ]
  },
  {
   "cell_type": "code",
   "execution_count": null,
   "metadata": {
    "colab": {
     "base_uri": "https://localhost:8080/"
    },
    "executionInfo": {
     "elapsed": 22764,
     "status": "ok",
     "timestamp": 1619332780910,
     "user": {
      "displayName": "Adrisson Rogerio Samersla",
      "photoUrl": "",
      "userId": "12300874730852390967"
     },
     "user_tz": 180
    },
    "id": "4BNidWOkAFXj",
    "outputId": "16629b44-405e-458f-8bbd-b024d9566e93"
   },
   "outputs": [],
   "source": [
    "# Inspecionando os atributos\n",
    "\n",
    "df.dtypes"
   ]
  },
  {
   "cell_type": "code",
   "execution_count": null,
   "metadata": {
    "colab": {
     "base_uri": "https://localhost:8080/",
     "height": 539
    },
    "executionInfo": {
     "elapsed": 22758,
     "status": "ok",
     "timestamp": 1619332780912,
     "user": {
      "displayName": "Adrisson Rogerio Samersla",
      "photoUrl": "",
      "userId": "12300874730852390967"
     },
     "user_tz": 180
    },
    "id": "kwu9aRU3BOFM",
    "outputId": "062cab60-3ecf-4016-9203-265a5ca165e1"
   },
   "outputs": [],
   "source": [
    "# Inspecionando os exemplos\n",
    "\n",
    "df.head()"
   ]
  },
  {
   "cell_type": "code",
   "execution_count": null,
   "metadata": {
    "colab": {
     "base_uri": "https://localhost:8080/"
    },
    "executionInfo": {
     "elapsed": 23076,
     "status": "ok",
     "timestamp": 1619332781234,
     "user": {
      "displayName": "Adrisson Rogerio Samersla",
      "photoUrl": "",
      "userId": "12300874730852390967"
     },
     "user_tz": 180
    },
    "id": "OVpZIEGFBOFN",
    "outputId": "6fed75c8-9c7f-44bb-f363-7e8be45a672d"
   },
   "outputs": [],
   "source": [
    "# Removendo os atributos `id` e `property_id` \n",
    "# pois são inúteis para a tarefa de aprendizado\n",
    "\n",
    "X = df.drop(columns=['id','property_id'])\n",
    "X.dtypes"
   ]
  },
  {
   "cell_type": "markdown",
   "metadata": {
    "id": "V_crjd7NBOFP"
   },
   "source": [
    "# Tipo e Escala de Atributos\n",
    "\n",
    "A seguir, cada atributo será detalhado conforme seu tipo e escala"
   ]
  },
  {
   "cell_type": "markdown",
   "metadata": {
    "id": "vBeb1CEPBOFR"
   },
   "source": [
    "## Qualitativos Nominais"
   ]
  },
  {
   "cell_type": "markdown",
   "metadata": {
    "id": "hut6p1ZoJxJk"
   },
   "source": [
    "### Atributo: operation"
   ]
  },
  {
   "cell_type": "code",
   "execution_count": null,
   "metadata": {
    "colab": {
     "base_uri": "https://localhost:8080/"
    },
    "executionInfo": {
     "elapsed": 23072,
     "status": "ok",
     "timestamp": 1619332781235,
     "user": {
      "displayName": "Adrisson Rogerio Samersla",
      "photoUrl": "",
      "userId": "12300874730852390967"
     },
     "user_tz": 180
    },
    "id": "_A_aT2lPBOFR",
    "outputId": "1e998788-4b95-4d09-8c77-e50aa7714434"
   },
   "outputs": [],
   "source": [
    "pd.unique(X.operation)"
   ]
  },
  {
   "cell_type": "code",
   "execution_count": null,
   "metadata": {
    "colab": {
     "base_uri": "https://localhost:8080/"
    },
    "executionInfo": {
     "elapsed": 23356,
     "status": "ok",
     "timestamp": 1619332781522,
     "user": {
      "displayName": "Adrisson Rogerio Samersla",
      "photoUrl": "",
      "userId": "12300874730852390967"
     },
     "user_tz": 180
    },
    "id": "gXBMTjLgBOFS",
    "outputId": "940d1947-df0a-4c95-e001-84e397d5cb68"
   },
   "outputs": [],
   "source": [
    "X.operation.astype('str').value_counts()"
   ]
  },
  {
   "cell_type": "markdown",
   "metadata": {
    "id": "Zx9OanfOJ8mD"
   },
   "source": [
    "### Atributo: property_type"
   ]
  },
  {
   "cell_type": "code",
   "execution_count": null,
   "metadata": {
    "colab": {
     "base_uri": "https://localhost:8080/"
    },
    "executionInfo": {
     "elapsed": 23353,
     "status": "ok",
     "timestamp": 1619332781523,
     "user": {
      "displayName": "Adrisson Rogerio Samersla",
      "photoUrl": "",
      "userId": "12300874730852390967"
     },
     "user_tz": 180
    },
    "id": "a1pd2WskBOFT",
    "outputId": "4b83d650-600a-48a0-e8c0-a76980cd44d0"
   },
   "outputs": [],
   "source": [
    "pd.unique(X.property_type)"
   ]
  },
  {
   "cell_type": "code",
   "execution_count": null,
   "metadata": {
    "colab": {
     "base_uri": "https://localhost:8080/"
    },
    "executionInfo": {
     "elapsed": 23568,
     "status": "ok",
     "timestamp": 1619332781741,
     "user": {
      "displayName": "Adrisson Rogerio Samersla",
      "photoUrl": "",
      "userId": "12300874730852390967"
     },
     "user_tz": 180
    },
    "id": "Fmnt26wYBOFT",
    "outputId": "892fcbc8-cb79-4099-fdf9-491215cde0e6"
   },
   "outputs": [],
   "source": [
    "X.property_type.astype('str').value_counts()"
   ]
  },
  {
   "cell_type": "markdown",
   "metadata": {
    "id": "AwtCm9kXKB1I"
   },
   "source": [
    "### Atributo: place_name"
   ]
  },
  {
   "cell_type": "code",
   "execution_count": null,
   "metadata": {
    "colab": {
     "base_uri": "https://localhost:8080/"
    },
    "executionInfo": {
     "elapsed": 23567,
     "status": "ok",
     "timestamp": 1619332781743,
     "user": {
      "displayName": "Adrisson Rogerio Samersla",
      "photoUrl": "",
      "userId": "12300874730852390967"
     },
     "user_tz": 180
    },
    "id": "2Pbc3n5jBOFU",
    "outputId": "470622ea-fc5a-4122-fda6-13759a92b90a"
   },
   "outputs": [],
   "source": [
    "pd.unique(X.place_name)"
   ]
  },
  {
   "cell_type": "code",
   "execution_count": null,
   "metadata": {
    "colab": {
     "base_uri": "https://localhost:8080/"
    },
    "executionInfo": {
     "elapsed": 24214,
     "status": "ok",
     "timestamp": 1619332782393,
     "user": {
      "displayName": "Adrisson Rogerio Samersla",
      "photoUrl": "",
      "userId": "12300874730852390967"
     },
     "user_tz": 180
    },
    "id": "cNHyC-AGBOFV",
    "outputId": "b552aa87-91ef-4a03-8206-60bdbb8d3be3"
   },
   "outputs": [],
   "source": [
    "X.place_name.astype('str').value_counts()"
   ]
  },
  {
   "cell_type": "markdown",
   "metadata": {
    "id": "HAiqAALHKIpT"
   },
   "source": [
    "### Atributo: place_with_parent_names"
   ]
  },
  {
   "cell_type": "code",
   "execution_count": null,
   "metadata": {
    "colab": {
     "base_uri": "https://localhost:8080/"
    },
    "executionInfo": {
     "elapsed": 24213,
     "status": "ok",
     "timestamp": 1619332782395,
     "user": {
      "displayName": "Adrisson Rogerio Samersla",
      "photoUrl": "",
      "userId": "12300874730852390967"
     },
     "user_tz": 180
    },
    "id": "TguaHe_3BOFW",
    "outputId": "04eb17b2-90b1-4c1f-84b8-a3cf1475f979"
   },
   "outputs": [],
   "source": [
    "pd.unique(X.place_with_parent_names)"
   ]
  },
  {
   "cell_type": "code",
   "execution_count": null,
   "metadata": {
    "colab": {
     "base_uri": "https://localhost:8080/"
    },
    "executionInfo": {
     "elapsed": 24591,
     "status": "ok",
     "timestamp": 1619332782776,
     "user": {
      "displayName": "Adrisson Rogerio Samersla",
      "photoUrl": "",
      "userId": "12300874730852390967"
     },
     "user_tz": 180
    },
    "id": "KuP3JtD9BOFW",
    "outputId": "34c4901d-9ce4-4557-d9a6-822c6f724462"
   },
   "outputs": [],
   "source": [
    "X.place_with_parent_names.astype('str').value_counts()"
   ]
  },
  {
   "cell_type": "markdown",
   "metadata": {
    "id": "Xu5uLw0DKLip"
   },
   "source": [
    "### Atributo: country_name"
   ]
  },
  {
   "cell_type": "code",
   "execution_count": null,
   "metadata": {
    "colab": {
     "base_uri": "https://localhost:8080/"
    },
    "executionInfo": {
     "elapsed": 24589,
     "status": "ok",
     "timestamp": 1619332782778,
     "user": {
      "displayName": "Adrisson Rogerio Samersla",
      "photoUrl": "",
      "userId": "12300874730852390967"
     },
     "user_tz": 180
    },
    "id": "LxcTtRa4BOFX",
    "outputId": "0a33dcb8-b8e8-4180-bc67-df720dd46e33"
   },
   "outputs": [],
   "source": [
    "pd.unique(X.country_name)"
   ]
  },
  {
   "cell_type": "code",
   "execution_count": null,
   "metadata": {
    "colab": {
     "base_uri": "https://localhost:8080/"
    },
    "executionInfo": {
     "elapsed": 24948,
     "status": "ok",
     "timestamp": 1619332783140,
     "user": {
      "displayName": "Adrisson Rogerio Samersla",
      "photoUrl": "",
      "userId": "12300874730852390967"
     },
     "user_tz": 180
    },
    "id": "lMAqCf0eBOFX",
    "outputId": "b4eea1c1-1907-4367-c107-f53698f2f5c9"
   },
   "outputs": [],
   "source": [
    "X.country_name.astype('str').value_counts()"
   ]
  },
  {
   "cell_type": "markdown",
   "metadata": {
    "id": "6bc5L5i6KRNL"
   },
   "source": [
    "### Atributo: state_name"
   ]
  },
  {
   "cell_type": "code",
   "execution_count": null,
   "metadata": {
    "colab": {
     "base_uri": "https://localhost:8080/"
    },
    "executionInfo": {
     "elapsed": 24948,
     "status": "ok",
     "timestamp": 1619332783142,
     "user": {
      "displayName": "Adrisson Rogerio Samersla",
      "photoUrl": "",
      "userId": "12300874730852390967"
     },
     "user_tz": 180
    },
    "id": "DPw2UrloBOFY",
    "outputId": "f70b7783-5e89-4be3-9777-bc8ad9d54ace"
   },
   "outputs": [],
   "source": [
    "pd.unique(X.state_name)"
   ]
  },
  {
   "cell_type": "code",
   "execution_count": null,
   "metadata": {
    "colab": {
     "base_uri": "https://localhost:8080/"
    },
    "executionInfo": {
     "elapsed": 25196,
     "status": "ok",
     "timestamp": 1619332783395,
     "user": {
      "displayName": "Adrisson Rogerio Samersla",
      "photoUrl": "",
      "userId": "12300874730852390967"
     },
     "user_tz": 180
    },
    "id": "DWiuwGZ-BOFZ",
    "outputId": "8b8d8ded-e7d5-49bb-bd90-0991fb6e3394"
   },
   "outputs": [],
   "source": [
    "X.state_name.astype('str').value_counts()"
   ]
  },
  {
   "cell_type": "markdown",
   "metadata": {
    "id": "EqZ4vFoQKYOF"
   },
   "source": [
    "### Atributo: currency"
   ]
  },
  {
   "cell_type": "code",
   "execution_count": null,
   "metadata": {
    "colab": {
     "base_uri": "https://localhost:8080/"
    },
    "executionInfo": {
     "elapsed": 25475,
     "status": "ok",
     "timestamp": 1619332783678,
     "user": {
      "displayName": "Adrisson Rogerio Samersla",
      "photoUrl": "",
      "userId": "12300874730852390967"
     },
     "user_tz": 180
    },
    "id": "sNBVkVNVBOFZ",
    "outputId": "71221948-211c-4881-c249-3c55381102a9"
   },
   "outputs": [],
   "source": [
    "pd.unique(X.currency)"
   ]
  },
  {
   "cell_type": "code",
   "execution_count": null,
   "metadata": {
    "colab": {
     "base_uri": "https://localhost:8080/"
    },
    "executionInfo": {
     "elapsed": 25474,
     "status": "ok",
     "timestamp": 1619332783680,
     "user": {
      "displayName": "Adrisson Rogerio Samersla",
      "photoUrl": "",
      "userId": "12300874730852390967"
     },
     "user_tz": 180
    },
    "id": "atDWdrKRBOFa",
    "outputId": "be8f4c87-c34f-493b-e8d1-657ba7a109e1"
   },
   "outputs": [],
   "source": [
    "X.currency.astype('str').value_counts()"
   ]
  },
  {
   "cell_type": "markdown",
   "metadata": {
    "id": "yUpYjgfsKaF8"
   },
   "source": [
    "### Atributo: description"
   ]
  },
  {
   "cell_type": "code",
   "execution_count": null,
   "metadata": {
    "colab": {
     "base_uri": "https://localhost:8080/"
    },
    "executionInfo": {
     "elapsed": 26656,
     "status": "ok",
     "timestamp": 1619332784865,
     "user": {
      "displayName": "Adrisson Rogerio Samersla",
      "photoUrl": "",
      "userId": "12300874730852390967"
     },
     "user_tz": 180
    },
    "id": "GLpV-JdyBOFb",
    "outputId": "1b6ba828-ac38-41f1-d80b-e515a22d3834"
   },
   "outputs": [],
   "source": [
    "pd.unique(X.description)"
   ]
  },
  {
   "cell_type": "markdown",
   "metadata": {
    "id": "4WpR9mvmKeKz"
   },
   "source": [
    "### Atributo: title"
   ]
  },
  {
   "cell_type": "code",
   "execution_count": null,
   "metadata": {
    "colab": {
     "base_uri": "https://localhost:8080/"
    },
    "executionInfo": {
     "elapsed": 27264,
     "status": "ok",
     "timestamp": 1619332785477,
     "user": {
      "displayName": "Adrisson Rogerio Samersla",
      "photoUrl": "",
      "userId": "12300874730852390967"
     },
     "user_tz": 180
    },
    "id": "XrS3GQFBBOFb",
    "outputId": "18a59370-ef43-4f11-977e-04ecf7e6650a"
   },
   "outputs": [],
   "source": [
    "pd.unique(X.title)"
   ]
  },
  {
   "cell_type": "markdown",
   "metadata": {
    "id": "WGLKTE4jKgXs"
   },
   "source": [
    "### Atributo: thumbnail"
   ]
  },
  {
   "cell_type": "code",
   "execution_count": null,
   "metadata": {
    "colab": {
     "base_uri": "https://localhost:8080/"
    },
    "executionInfo": {
     "elapsed": 28092,
     "status": "ok",
     "timestamp": 1619332786307,
     "user": {
      "displayName": "Adrisson Rogerio Samersla",
      "photoUrl": "",
      "userId": "12300874730852390967"
     },
     "user_tz": 180
    },
    "id": "CqQy4S-KBOFb",
    "outputId": "4fabfe4c-98c7-49cf-caf0-2f1f44009c83"
   },
   "outputs": [],
   "source": [
    "pd.unique(X.image_thumbnail)"
   ]
  },
  {
   "cell_type": "markdown",
   "metadata": {
    "id": "zGgurU8MBOFc"
   },
   "source": [
    "## Quantitativos Intervalares"
   ]
  },
  {
   "cell_type": "code",
   "execution_count": null,
   "metadata": {
    "colab": {
     "base_uri": "https://localhost:8080/"
    },
    "executionInfo": {
     "elapsed": 28089,
     "status": "ok",
     "timestamp": 1619332786308,
     "user": {
      "displayName": "Adrisson Rogerio Samersla",
      "photoUrl": "",
      "userId": "12300874730852390967"
     },
     "user_tz": 180
    },
    "id": "4J45QbnOBOFc",
    "outputId": "37555aa8-1012-4cff-d35d-e7490032c922"
   },
   "outputs": [],
   "source": [
    "pd.unique(X.created_on)"
   ]
  },
  {
   "cell_type": "code",
   "execution_count": null,
   "metadata": {
    "colab": {
     "base_uri": "https://localhost:8080/"
    },
    "executionInfo": {
     "elapsed": 28087,
     "status": "ok",
     "timestamp": 1619332786309,
     "user": {
      "displayName": "Adrisson Rogerio Samersla",
      "photoUrl": "",
      "userId": "12300874730852390967"
     },
     "user_tz": 180
    },
    "id": "HExfv-gsBOFc",
    "outputId": "78e96869-8e85-4097-d801-9d4dd93e036b"
   },
   "outputs": [],
   "source": [
    "pd.unique(X.collected_on)"
   ]
  },
  {
   "cell_type": "markdown",
   "metadata": {
    "id": "tXuYcwtNBOFe"
   },
   "source": [
    "## Quantitativos Racionais"
   ]
  },
  {
   "cell_type": "code",
   "execution_count": null,
   "metadata": {
    "colab": {
     "base_uri": "https://localhost:8080/"
    },
    "executionInfo": {
     "elapsed": 28083,
     "status": "ok",
     "timestamp": 1619332786310,
     "user": {
      "displayName": "Adrisson Rogerio Samersla",
      "photoUrl": "",
      "userId": "12300874730852390967"
     },
     "user_tz": 180
    },
    "id": "ny5OD6jeBOFe",
    "outputId": "82cac997-91d9-40e9-cfe3-6c2dd298354a"
   },
   "outputs": [],
   "source": [
    "pd.unique(X.lat_lon)"
   ]
  },
  {
   "cell_type": "markdown",
   "metadata": {
    "id": "zgjEATLTwniW"
   },
   "source": [
    "# Análises Univariadas"
   ]
  },
  {
   "cell_type": "markdown",
   "metadata": {
    "id": "akqxDw1fjrRZ"
   },
   "source": [
    "## Valores Ausentes"
   ]
  },
  {
   "cell_type": "code",
   "execution_count": null,
   "metadata": {
    "colab": {
     "base_uri": "https://localhost:8080/"
    },
    "executionInfo": {
     "elapsed": 29155,
     "status": "ok",
     "timestamp": 1619332787386,
     "user": {
      "displayName": "Adrisson Rogerio Samersla",
      "photoUrl": "",
      "userId": "12300874730852390967"
     },
     "user_tz": 180
    },
    "id": "VorHkihOju_i",
    "outputId": "1bac703c-88ce-47da-b670-a8414abaa735"
   },
   "outputs": [],
   "source": [
    "# Porcentagem de valores nulos no dataset\n",
    "\n",
    "df.isnull().sum()*100/1_000_000"
   ]
  },
  {
   "cell_type": "code",
   "execution_count": null,
   "metadata": {
    "colab": {
     "base_uri": "https://localhost:8080/"
    },
    "executionInfo": {
     "elapsed": 29505,
     "status": "ok",
     "timestamp": 1619332787742,
     "user": {
      "displayName": "Adrisson Rogerio Samersla",
      "photoUrl": "",
      "userId": "12300874730852390967"
     },
     "user_tz": 180
    },
    "id": "XKbFpBrEkhty",
    "outputId": "4de25998-7264-41f7-bde5-e475062ee382"
   },
   "outputs": [],
   "source": [
    "# Analisando o atributo geonames_id\n",
    "\n",
    "df.geonames_id.astype('str').value_counts()"
   ]
  },
  {
   "cell_type": "markdown",
   "metadata": {
    "id": "Ni4fPnjUoIpR"
   },
   "source": [
    "## Distribuição dos Valores Numéricos"
   ]
  },
  {
   "cell_type": "code",
   "execution_count": null,
   "metadata": {
    "colab": {
     "base_uri": "https://localhost:8080/",
     "height": 300
    },
    "executionInfo": {
     "elapsed": 30521,
     "status": "ok",
     "timestamp": 1619332788763,
     "user": {
      "displayName": "Adrisson Rogerio Samersla",
      "photoUrl": "",
      "userId": "12300874730852390967"
     },
     "user_tz": 180
    },
    "id": "RDZI-2QqoUJe",
    "outputId": "567ec9a8-9b46-4ffe-e1f9-de5826e6fdc6"
   },
   "outputs": [],
   "source": [
    "# Algumas métricas para os atributos numéricos\n",
    "\n",
    "X.drop(columns=['geonames_id']).describe()"
   ]
  },
  {
   "cell_type": "markdown",
   "metadata": {
    "id": "Mu6kwYNMk1SI"
   },
   "source": [
    "## Distribuição Geográfica"
   ]
  },
  {
   "cell_type": "code",
   "execution_count": null,
   "metadata": {
    "colab": {
     "base_uri": "https://localhost:8080/",
     "height": 947
    },
    "executionInfo": {
     "elapsed": 31825,
     "status": "ok",
     "timestamp": 1619332790073,
     "user": {
      "displayName": "Adrisson Rogerio Samersla",
      "photoUrl": "",
      "userId": "12300874730852390967"
     },
     "user_tz": 180
    },
    "id": "nT0aqn2lKt-E",
    "outputId": "d038cf7e-4708-44a3-f139-c9a6dd0abfce"
   },
   "outputs": [],
   "source": [
    "# Histograma dos estados\n",
    "\n",
    "print(X.state_name.astype('str').value_counts())\n",
    "print()\n",
    "\n",
    "fig, ax = plt.subplots(figsize=(20,5))\n",
    "ax = sns.histplot(data=X, x='state_name', stat='probability', shrink=.8, ax=ax)\n",
    "plt.xticks(rotation=90)\n",
    "plt.show()\n",
    "fig.savefig(images_dir + 'hist_states.png', format='png')"
   ]
  },
  {
   "cell_type": "code",
   "execution_count": null,
   "metadata": {
    "colab": {
     "base_uri": "https://localhost:8080/"
    },
    "executionInfo": {
     "elapsed": 31822,
     "status": "ok",
     "timestamp": 1619332790074,
     "user": {
      "displayName": "Adrisson Rogerio Samersla",
      "photoUrl": "",
      "userId": "12300874730852390967"
     },
     "user_tz": 180
    },
    "id": "AM1YHJV2vqsP",
    "outputId": "9918cfff-0a48-494d-d557-c1149707f2d0"
   },
   "outputs": [],
   "source": [
    "# Valores extremos de latitude e longitude\n",
    "\n",
    "vals = X.lat.dropna()\n",
    "print(\"Latitude: \")\n",
    "print(\"Min: \", vals.min())\n",
    "print(\"Max: \", vals.max())\n",
    "\n",
    "print()\n",
    "\n",
    "vals = X.lon.dropna()\n",
    "print(\"Longitude: \")\n",
    "print(\"Min: \", vals.min())\n",
    "print(\"Max: \", vals.max())"
   ]
  },
  {
   "cell_type": "code",
   "execution_count": null,
   "metadata": {
    "colab": {
     "base_uri": "https://localhost:8080/",
     "height": 1000
    },
    "executionInfo": {
     "elapsed": 91332,
     "status": "ok",
     "timestamp": 1619332849591,
     "user": {
      "displayName": "Adrisson Rogerio Samersla",
      "photoUrl": "",
      "userId": "12300874730852390967"
     },
     "user_tz": 180
    },
    "id": "i2-JNra7vqsP",
    "outputId": "f7c4ab42-cc68-46e3-f36a-1144c3d4916b"
   },
   "outputs": [],
   "source": [
    "# Plotando a posição dos imóveis no mapa do Brasil\n",
    "\n",
    "map_file = dataset_dir + '/GIS_UFEBRASIL/UFEBRASIL.shp'\n",
    "map_df = gpd.read_file(map_file)\n",
    "\n",
    "fig, ax = plt.subplots(figsize=(20,20))\n",
    "ax = map_df.plot(color='white', edgecolor='black', ax=ax)\n",
    "\n",
    "\n",
    "data = X[['lat', 'lon']]\n",
    "data['price'] = np.log10(X.price)\n",
    "data = data.dropna()\n",
    "\n",
    "lon_max = -30.0\n",
    "lon_min = -80.0\n",
    "lat_min = -40.0\n",
    "lat_max = 10.0\n",
    "data = data.loc[((data.lat > lat_min) & (data.lat < lat_max)) & ((data.lon > lon_min) & (data.lon < lon_max))]\n",
    "\n",
    "gdf = gpd.GeoDataFrame(\n",
    "    data, geometry=gpd.points_from_xy(data.lon, data.lat))\n",
    "# classifier = mapclassify.Quantiles(gdf.price, k=5)\n",
    "\n",
    "# gdf.plot(ax=ax, column='price', cmap='Greens', markersize=1, scheme=classifier)\n",
    "gdf.plot(ax=ax, column='price', markersize=10, alpha=0.1, cmap='OrRd', scheme='quantiles')\n",
    "\n",
    "plt.title('Localização dos imóveis', fontsize=18)\n",
    "plt.xlabel('Longitude', fontsize=18)\n",
    "plt.ylabel('Latitude', fontsize=18)\n",
    "fig.savefig(images_dir + 'mapa.png', format='png')"
   ]
  },
  {
   "cell_type": "markdown",
   "metadata": {
    "id": "5kjWUFKNmTge"
   },
   "source": [
    "## Distribuição das Datas"
   ]
  },
  {
   "cell_type": "code",
   "execution_count": null,
   "metadata": {
    "colab": {
     "base_uri": "https://localhost:8080/"
    },
    "executionInfo": {
     "elapsed": 99941,
     "status": "ok",
     "timestamp": 1619332858204,
     "user": {
      "displayName": "Adrisson Rogerio Samersla",
      "photoUrl": "",
      "userId": "12300874730852390967"
     },
     "user_tz": 180
    },
    "id": "VHsBx_1evqyA",
    "outputId": "cafd4675-7c99-4cda-9043-55b3990a5ad4"
   },
   "outputs": [],
   "source": [
    "# A data precisa ser, primeiramente, parseada para um formato numérico\n",
    "\n",
    "def parse(line):\n",
    "    parts = line.split('-')\n",
    "    return '{}-{}'.format(parts[0], parts[1])\n",
    "\n",
    "def format(date):\n",
    "    return \"{}/{}\".format(date.month, date.year)\n",
    "\n",
    "dates = X.created_on.apply(parse)\n",
    "dates = pd.to_datetime(dates)\n",
    "\n",
    "start = dates.min()\n",
    "end = dates.max()\n",
    "seq = pd.date_range(start=start, end=end, freq=\"M\")\n",
    "\n",
    "print('Min: ', format(start))\n",
    "print('Max: ', format(end))\n",
    "print('#Months: ', len(seq))\n",
    "\n",
    "dates = pd.DataFrame({'datetime': dates.apply(format)})"
   ]
  },
  {
   "cell_type": "code",
   "execution_count": null,
   "metadata": {
    "colab": {
     "base_uri": "https://localhost:8080/",
     "height": 381
    },
    "executionInfo": {
     "elapsed": 101665,
     "status": "ok",
     "timestamp": 1619332859934,
     "user": {
      "displayName": "Adrisson Rogerio Samersla",
      "photoUrl": "",
      "userId": "12300874730852390967"
     },
     "user_tz": 180
    },
    "id": "qN3IQlg4s4tQ",
    "outputId": "0c9ae77d-248b-42d7-c7da-377c3b8b3d3c"
   },
   "outputs": [],
   "source": [
    "fig, ax = plt.subplots(figsize=(20,5))\n",
    "ax = sns.histplot(data=dates, x='datetime', stat='probability', shrink=.8, ax=ax)\n",
    "\n",
    "labels = map(format, seq.to_list())\n",
    "ax.set_xticklabels(list(labels), rotation=90)\n",
    "\n",
    "plt.title('Datas de criação dos anúncios')\n",
    "plt.xlabel('Mês')\n",
    "plt.ylabel('Fração dos objetos')\n",
    "plt.show()\n",
    "fig.savefig(images_dir + 'created_on.png', format='png')"
   ]
  },
  {
   "cell_type": "markdown",
   "metadata": {
    "id": "gZ-eDt9smlLH"
   },
   "source": [
    "## Distribuição dos tipos de propriedade"
   ]
  },
  {
   "cell_type": "code",
   "execution_count": null,
   "metadata": {
    "colab": {
     "base_uri": "https://localhost:8080/",
     "height": 424
    },
    "executionInfo": {
     "elapsed": 102228,
     "status": "ok",
     "timestamp": 1619332860503,
     "user": {
      "displayName": "Adrisson Rogerio Samersla",
      "photoUrl": "",
      "userId": "12300874730852390967"
     },
     "user_tz": 180
    },
    "id": "WEWxR9k4vqyA",
    "outputId": "fb50e7e2-db49-4b11-a184-fd80bfb2d9c4"
   },
   "outputs": [],
   "source": [
    "data = X.property_type.value_counts()\n",
    "print(data)\n",
    "\n",
    "print()\n",
    "\n",
    "pie, ax = plt.subplots(figsize=[5,5])\n",
    "labels = data.keys()\n",
    "plt.pie(x=data, autopct=\"%.1f%%\", explode=[0.05]*4, labels=labels, pctdistance=0.5)\n",
    "plt.title(\"Tipos de propriedades\", fontsize=14);\n",
    "pie.savefig(images_dir + \"property_type.png\")"
   ]
  },
  {
   "cell_type": "markdown",
   "metadata": {
    "id": "1278GaIomww0"
   },
   "source": [
    "## Distribuição das Áreas"
   ]
  },
  {
   "cell_type": "code",
   "execution_count": null,
   "metadata": {
    "colab": {
     "base_uri": "https://localhost:8080/"
    },
    "executionInfo": {
     "elapsed": 102225,
     "status": "ok",
     "timestamp": 1619332860505,
     "user": {
      "displayName": "Adrisson Rogerio Samersla",
      "photoUrl": "",
      "userId": "12300874730852390967"
     },
     "user_tz": 180
    },
    "id": "g23swMlXvqyA",
    "outputId": "aa82d21f-d2d1-4b7d-a2e2-bc6667498fa3"
   },
   "outputs": [],
   "source": [
    "data = X[['surface_total_in_m2', 'surface_covered_in_m2']].dropna()\n",
    "data.rename(columns = {'surface_total_in_m2': 'total', 'surface_covered_in_m2': 'contruída'}, inplace=True)\n",
    "print(\"Valores de Skew: \")\n",
    "print(\"total    : \", sc.stats.skew(data['total']))\n",
    "print(\"contruída: \", sc.stats.skew(data['contruída']))\n",
    "\n",
    "print()\n",
    "\n",
    "print(\"Valores máximos: \")\n",
    "print(data.max())\n",
    "\n",
    "print()\n",
    "\n",
    "print(\"Valores ordenados por área total:\")\n",
    "print(data.sort_values(by=['total'], ascending=True).head(n=5))\n",
    "print(data.sort_values(by=['total'], ascending=True).tail(n=5))\n",
    "\n",
    "print()\n",
    "\n",
    "print(\"Valores ordenados por área construíída:\")\n",
    "print(data.sort_values(by=['contruída'], ascending=True).head(n=5))\n",
    "print(data.sort_values(by=['contruída'], ascending=True).tail(n=5))"
   ]
  },
  {
   "cell_type": "code",
   "execution_count": null,
   "metadata": {
    "colab": {
     "base_uri": "https://localhost:8080/",
     "height": 350
    },
    "executionInfo": {
     "elapsed": 103178,
     "status": "ok",
     "timestamp": 1619332861464,
     "user": {
      "displayName": "Adrisson Rogerio Samersla",
      "photoUrl": "",
      "userId": "12300874730852390967"
     },
     "user_tz": 180
    },
    "id": "F19ymtb5n_nb",
    "outputId": "576a7f62-d0e8-4bfb-da0f-69e84cb23530"
   },
   "outputs": [],
   "source": [
    "fig, ax = plt.subplots(figsize=(10,5))\n",
    "sns.boxplot(data=data.apply(np.log10), orient='h', palette=\"Set2\", ax=ax)\n",
    "\n",
    "plt.title('Boxplots do tamanho total do imóvel e da área construída.')\n",
    "plt.xlabel('Log Tamanho')\n",
    "plt.show()\n",
    "fig.savefig(images_dir + 'boxplot_surfaces.png', format='png')"
   ]
  },
  {
   "cell_type": "markdown",
   "metadata": {
    "id": "mMOK3tBBo7Uq"
   },
   "source": [
    "## Distribuição dos Quartos "
   ]
  },
  {
   "cell_type": "code",
   "execution_count": null,
   "metadata": {
    "colab": {
     "base_uri": "https://localhost:8080/"
    },
    "executionInfo": {
     "elapsed": 103810,
     "status": "ok",
     "timestamp": 1619332862101,
     "user": {
      "displayName": "Adrisson Rogerio Samersla",
      "photoUrl": "",
      "userId": "12300874730852390967"
     },
     "user_tz": 180
    },
    "id": "yE2rFB-YvqyB",
    "outputId": "58cec533-0831-4240-e8ab-b6e1a76fa29e"
   },
   "outputs": [],
   "source": [
    "print(X.rooms.astype('str').value_counts())\n",
    "\n",
    "print()\n",
    "\n",
    "data = X['rooms'].dropna()\n",
    "print('Max(rooms)', data.max())\n",
    "print('Min(rooms)', data.min())"
   ]
  },
  {
   "cell_type": "code",
   "execution_count": null,
   "metadata": {
    "colab": {
     "base_uri": "https://localhost:8080/",
     "height": 350
    },
    "executionInfo": {
     "elapsed": 1025,
     "status": "ok",
     "timestamp": 1619332940751,
     "user": {
      "displayName": "Adrisson Rogerio Samersla",
      "photoUrl": "",
      "userId": "12300874730852390967"
     },
     "user_tz": 180
    },
    "id": "1rfPB9g_vqyB",
    "outputId": "3336c08c-5ea5-4439-f3f5-1d9e7101d5da"
   },
   "outputs": [],
   "source": [
    "data = X[['rooms']].dropna()\n",
    "fig, ax = plt.subplots(figsize=(10,5))\n",
    "ax = sns.histplot(data=data, x='rooms', stat='probability', bins=40, shrink=0.8, ax=ax)\n",
    "\n",
    "plt.title('Histograma de Quartos')\n",
    "plt.xlabel('Número de Quartos')\n",
    "plt.ylabel('Fração dos objetos')\n",
    "plt.show()\n",
    "fig.savefig(images_dir + 'hist_rooms.png', format='png')"
   ]
  },
  {
   "cell_type": "markdown",
   "metadata": {
    "id": "O2jVpuAPp-f1"
   },
   "source": [
    "## Distribuição dos Andares"
   ]
  },
  {
   "cell_type": "code",
   "execution_count": null,
   "metadata": {
    "colab": {
     "base_uri": "https://localhost:8080/"
    },
    "executionInfo": {
     "elapsed": 1841,
     "status": "ok",
     "timestamp": 1619332941574,
     "user": {
      "displayName": "Adrisson Rogerio Samersla",
      "photoUrl": "",
      "userId": "12300874730852390967"
     },
     "user_tz": 180
    },
    "id": "5VTUyy7CqFl5",
    "outputId": "1e4c05f9-c8c5-4ff8-aa4c-4fb165968c93"
   },
   "outputs": [],
   "source": [
    "print(X.floor.astype('str').value_counts())\n",
    "\n",
    "print()\n",
    "\n",
    "print(\"Porcentagem de valores presentes: \", \n",
    "      X.floor.dropna().count()*100/1_000_000, \"%\")\n",
    "\n",
    "print(\"Porcentagem de valores acima de 5 andares: \", \n",
    "      (X['floor'] > 5.0).sum()*100/1_000_000, \"%\")\n",
    "\n",
    "print()\n",
    "\n",
    "print('Max(floor)', X.floor.max())\n",
    "print('Min(floor)', X.floor.min())"
   ]
  },
  {
   "cell_type": "markdown",
   "metadata": {
    "id": "ZxQsGtFUpr4K"
   },
   "source": [
    "## Distribuição das Despesas e do Preço"
   ]
  },
  {
   "cell_type": "code",
   "execution_count": null,
   "metadata": {
    "colab": {
     "base_uri": "https://localhost:8080/"
    },
    "executionInfo": {
     "elapsed": 3139,
     "status": "ok",
     "timestamp": 1619332942877,
     "user": {
      "displayName": "Adrisson Rogerio Samersla",
      "photoUrl": "",
      "userId": "12300874730852390967"
     },
     "user_tz": 180
    },
    "id": "HAknNOGPqSk3",
    "outputId": "593e44e8-7722-4570-8399-b48b5431f89b"
   },
   "outputs": [],
   "source": [
    "print(\"Despesas: \")\n",
    "print(X.expenses.astype('str').value_counts())\n",
    "\n",
    "print()\n",
    "\n",
    "print(\"Preço: \")\n",
    "print(X.price.astype('str').value_counts())\n",
    "\n",
    "print()\n",
    "\n",
    "print('Max(expenses)', X.expenses.max())\n",
    "print('Max(price)', X.price.max())\n",
    "print('Min(expenses)', X.expenses.min())\n",
    "print('Min(price)', X.price.min())"
   ]
  },
  {
   "cell_type": "code",
   "execution_count": null,
   "metadata": {
    "colab": {
     "base_uri": "https://localhost:8080/",
     "height": 350
    },
    "executionInfo": {
     "elapsed": 3610,
     "status": "ok",
     "timestamp": 1619332943352,
     "user": {
      "displayName": "Adrisson Rogerio Samersla",
      "photoUrl": "",
      "userId": "12300874730852390967"
     },
     "user_tz": 180
    },
    "id": "tmW02UlNvqyC",
    "outputId": "a309599d-287f-44fc-d49d-1e1d1052dcb2"
   },
   "outputs": [],
   "source": [
    "data = X[['expenses', 'price']].dropna()\n",
    "data.rename(columns={'expenses': 'despesas', 'price': 'preço'}, inplace=True)\n",
    "\n",
    "fig, ax = plt.subplots(figsize=(10,5))\n",
    "sns.boxplot(data=data.apply(np.log10), orient='h', palette=\"Set2\", ax=ax)\n",
    "\n",
    "plt.title('Boxplots das despesas e do custo do imóvel')\n",
    "plt.xlabel('Log Valor')\n",
    "plt.show()\n",
    "fig.savefig(images_dir + 'boxplot_price.png', format='png')"
   ]
  },
  {
   "cell_type": "markdown",
   "metadata": {
    "id": "B0I-1ba1xNGa"
   },
   "source": [
    "# Análises Multivariadas"
   ]
  },
  {
   "cell_type": "markdown",
   "metadata": {
    "id": "xWOJAzZcjBpk"
   },
   "source": [
    "## Correlação"
   ]
  },
  {
   "cell_type": "code",
   "execution_count": null,
   "metadata": {
    "colab": {
     "base_uri": "https://localhost:8080/"
    },
    "executionInfo": {
     "elapsed": 3942,
     "status": "ok",
     "timestamp": 1619332943687,
     "user": {
      "displayName": "Adrisson Rogerio Samersla",
      "photoUrl": "",
      "userId": "12300874730852390967"
     },
     "user_tz": 180
    },
    "id": "8-2ry8aoBOFi",
    "outputId": "c57a9659-2484-408e-b6ff-252a3d273cfd"
   },
   "outputs": [],
   "source": [
    "# Selecionando os atributos numééricos desejados\n",
    "\n",
    "Xnumeric = X.select_dtypes(include=['int64', 'float64'])\n",
    "Xnumeric = Xnumeric.drop(columns = ['geonames_id','floor'])\n",
    "Xnumeric.shape"
   ]
  },
  {
   "cell_type": "code",
   "execution_count": null,
   "metadata": {
    "colab": {
     "base_uri": "https://localhost:8080/",
     "height": 269
    },
    "executionInfo": {
     "elapsed": 4260,
     "status": "ok",
     "timestamp": 1619332944008,
     "user": {
      "displayName": "Adrisson Rogerio Samersla",
      "photoUrl": "",
      "userId": "12300874730852390967"
     },
     "user_tz": 180
    },
    "id": "p7BzM-k3BOFj",
    "outputId": "82b9e75e-7422-4847-9143-2319678f9303"
   },
   "outputs": [],
   "source": [
    "# Matriz de correlação (Pearson)\n",
    "\n",
    "Xnumeric.corr()"
   ]
  },
  {
   "cell_type": "code",
   "execution_count": null,
   "metadata": {
    "colab": {
     "base_uri": "https://localhost:8080/",
     "height": 297
    },
    "executionInfo": {
     "elapsed": 9580,
     "status": "ok",
     "timestamp": 1619332949331,
     "user": {
      "displayName": "Adrisson Rogerio Samersla",
      "photoUrl": "",
      "userId": "12300874730852390967"
     },
     "user_tz": 180
    },
    "id": "CxdBJ3eUva8M",
    "outputId": "914ccfba-b73c-41cf-a83e-95f988e463ed"
   },
   "outputs": [],
   "source": [
    "# Matriz de correlação (Spearman)\n",
    "\n",
    "plot = sns.heatmap(Xnumeric.corr(method='spearman'), annot=True)\n",
    "plot.figure.tight_layout()\n",
    "plot.figure.savefig(images_dir + 'heatmap.eps')"
   ]
  }
 ],
 "metadata": {
  "colab": {
   "collapsed_sections": [
    "hut6p1ZoJxJk",
    "Zx9OanfOJ8mD",
    "AwtCm9kXKB1I",
    "HAiqAALHKIpT",
    "Xu5uLw0DKLip",
    "EqZ4vFoQKYOF",
    "yUpYjgfsKaF8",
    "4WpR9mvmKeKz",
    "WGLKTE4jKgXs"
   ],
   "name": "PO233_AnaliseDescritiva.ipynb",
   "provenance": [],
   "toc_visible": true
  },
  "kernelspec": {
   "name": "python388jvsc74a57bd039a99e6402a5e3089e52d8af32288dc93e4162e81faf72116ca75d773f310577",
   "display_name": "Python 3.8.8 64-bit (conda)"
  },
  "language_info": {
   "codemirror_mode": {
    "name": "ipython",
    "version": 3
   },
   "file_extension": ".py",
   "mimetype": "text/x-python",
   "name": "python",
   "nbconvert_exporter": "python",
   "pygments_lexer": "ipython3",
   "version": "3.8.8"
  },
  "metadata": {
   "interpreter": {
    "hash": "39a99e6402a5e3089e52d8af32288dc93e4162e81faf72116ca75d773f310577"
   }
  }
 },
 "nbformat": 4,
 "nbformat_minor": 1
}
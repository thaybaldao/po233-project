{
 "cells": [
  {
   "source": [
    "# Análise Estatística dos Resultados\n",
    "\n",
    "## Título:\n",
    "\n",
    "**Predição de preço de imóveis**\n",
    "\n",
    "## Membros:\n",
    "\n",
    "*   Adrisson Rogério Samersla\n",
    "*   Nickolas Batista Mendonça Machado\n",
    "*   Thayna Pires Baldão"
   ],
   "cell_type": "markdown",
   "metadata": {}
  },
  {
   "source": [
    "# SETUP"
   ],
   "cell_type": "markdown",
   "metadata": {}
  },
  {
   "cell_type": "code",
   "execution_count": 6,
   "metadata": {},
   "outputs": [],
   "source": [
    "# Importando os pacotes necessários para a análise\n",
    "\n",
    "import pandas as pd\n",
    "import numpy as np\n",
    "\n",
    "from scipy.stats import friedmanchisquare\n",
    "from scikit_posthocs import posthoc_nemenyi_friedman"
   ]
  },
  {
   "source": [
    "# Resultados"
   ],
   "cell_type": "markdown",
   "metadata": {}
  },
  {
   "cell_type": "code",
   "execution_count": 7,
   "metadata": {},
   "outputs": [],
   "source": [
    "# Resultados obtidos durante o treinamento (validação cruzada com 10 compartimentos)\n",
    "\n",
    "results = {\n",
    "    'svr': [0.802877, 0.807873, 0.812891, 0.809556, 0.803907, 0.810099, 0.804643, 0.802833, 0.800687, 0.805134],\n",
    "    'rf':  [0.262215, 0.266238, 0.260584, 0.256295, 0.262849, 0.267443, 0.263141, 0.264610, 0.270638, 0.263935],\n",
    "    'knn': [0.368359, 0.373111, 0.372610, 0.309161, 0.369953, 0.372822, 0.373051, 0.376343, 0.371901, 0.370750],\n",
    "}\n",
    "\n",
    "results = pd.DataFrame.from_dict(results)"
   ]
  },
  {
   "source": [
    "# Análises"
   ],
   "cell_type": "markdown",
   "metadata": {}
  },
  {
   "cell_type": "code",
   "execution_count": 8,
   "metadata": {},
   "outputs": [
    {
     "output_type": "execute_result",
     "data": {
      "text/plain": [
       "FriedmanchisquareResult(statistic=20.0, pvalue=4.539992976248486e-05)"
      ]
     },
     "metadata": {},
     "execution_count": 8
    }
   ],
   "source": [
    "# Teste de Friedman\n",
    "\n",
    "friedmanchisquare(results.svr, results.rf, results.knn)"
   ]
  },
  {
   "cell_type": "code",
   "execution_count": 9,
   "metadata": {},
   "outputs": [
    {
     "output_type": "execute_result",
     "data": {
      "text/plain": [
       "          svr        rf       knn\n",
       "svr  1.000000  0.001000  0.065303\n",
       "rf   0.001000  1.000000  0.065303\n",
       "knn  0.065303  0.065303  1.000000"
      ],
      "text/html": "<div>\n<style scoped>\n    .dataframe tbody tr th:only-of-type {\n        vertical-align: middle;\n    }\n\n    .dataframe tbody tr th {\n        vertical-align: top;\n    }\n\n    .dataframe thead th {\n        text-align: right;\n    }\n</style>\n<table border=\"1\" class=\"dataframe\">\n  <thead>\n    <tr style=\"text-align: right;\">\n      <th></th>\n      <th>svr</th>\n      <th>rf</th>\n      <th>knn</th>\n    </tr>\n  </thead>\n  <tbody>\n    <tr>\n      <th>svr</th>\n      <td>1.000000</td>\n      <td>0.001000</td>\n      <td>0.065303</td>\n    </tr>\n    <tr>\n      <th>rf</th>\n      <td>0.001000</td>\n      <td>1.000000</td>\n      <td>0.065303</td>\n    </tr>\n    <tr>\n      <th>knn</th>\n      <td>0.065303</td>\n      <td>0.065303</td>\n      <td>1.000000</td>\n    </tr>\n  </tbody>\n</table>\n</div>"
     },
     "metadata": {},
     "execution_count": 9
    }
   ],
   "source": [
    "# Pós-teste: Estatística de Nemenyi\n",
    "\n",
    "posthoc_nemenyi_friedman(results)"
   ]
  }
 ],
 "metadata": {
  "interpreter": {
   "hash": "39a99e6402a5e3089e52d8af32288dc93e4162e81faf72116ca75d773f310577"
  },
  "kernelspec": {
   "name": "python3",
   "display_name": "Python 3.8.8 64-bit (conda)"
  },
  "language_info": {
   "codemirror_mode": {
    "name": "ipython",
    "version": 3
   },
   "file_extension": ".py",
   "mimetype": "text/x-python",
   "name": "python",
   "nbconvert_exporter": "python",
   "pygments_lexer": "ipython3",
   "version": "3.8.8"
  }
 },
 "nbformat": 4,
 "nbformat_minor": 2
}
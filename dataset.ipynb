{
 "metadata": {
  "language_info": {
   "codemirror_mode": {
    "name": "ipython",
    "version": 3
   },
   "file_extension": ".py",
   "mimetype": "text/x-python",
   "name": "python",
   "nbconvert_exporter": "python",
   "pygments_lexer": "ipython3",
   "version": "3.8.8"
  },
  "orig_nbformat": 4,
  "kernelspec": {
   "name": "python3",
   "display_name": "Python 3.8.8 64-bit (conda)"
  },
  "interpreter": {
   "hash": "39a99e6402a5e3089e52d8af32288dc93e4162e81faf72116ca75d773f310577"
  }
 },
 "nbformat": 4,
 "nbformat_minor": 2,
 "cells": [
  {
   "source": [
    "# Baixando o Dataset\n",
    "\n",
    "## Título:\n",
    "\n",
    "**Predição de preço de imóveis**\n",
    "\n",
    "## Membros:\n",
    "\n",
    "*   Adrisson Rogério Samersla\n",
    "*   Nickolas Batista Mendonça Machado\n",
    "*   Thayna Pires Baldão\n",
    "\n"
   ],
   "cell_type": "markdown",
   "metadata": {}
  },
  {
   "cell_type": "code",
   "execution_count": 2,
   "metadata": {},
   "outputs": [],
   "source": [
    "# Importando os pacotes necessários para o download\n",
    "\n",
    "import os\n",
    "\n",
    "from google_drive_downloader import GoogleDriveDownloader as gdd"
   ]
  },
  {
   "cell_type": "code",
   "execution_count": 3,
   "metadata": {},
   "outputs": [
    {
     "output_type": "stream",
     "name": "stdout",
     "text": [
      "Downloading 1oymNGU7E7adnwqIkZ0W_zxcuzj-KFIqb into ./dataset.zip... \n",
      "317.6 MiB Done.\n",
      "Unzipping...Done.\n"
     ]
    }
   ],
   "source": [
    "# Baixando o dataset\n",
    "\n",
    "dataset_dir = \"./dataset\"\n",
    "has_dataset_dir = os.path.isdir(dataset_dir)\n",
    "if (not has_dataset_dir):\n",
    "  # Link of dataset folder: \n",
    "  # https://drive.google.com/file/d/1oymNGU7E7adnwqIkZ0W_zxcuzj-KFIqb/view?usp=sharing\n",
    "  gdd.download_file_from_google_drive(file_id='1oymNGU7E7adnwqIkZ0W_zxcuzj-KFIqb',\n",
    "                                      dest_path='./dataset.zip',\n",
    "                                      showsize=True,\n",
    "                                      unzip=True)"
   ]
  }
 ]
}
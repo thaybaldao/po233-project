{
 "cells": [
  {
   "cell_type": "code",
   "execution_count": 1,
   "metadata": {},
   "outputs": [],
   "source": [
    "# Algoritmos a serem utilizados\n",
    "# k-Nearest Neighbors (kNN), Random Fo-rests, XGBoost, Support Vector Regression (SVR) e Neural Networks."
   ]
  },
  {
   "cell_type": "code",
   "execution_count": 1,
   "metadata": {},
   "outputs": [],
   "source": [
    "# Importando os pacotes necessários para a análise\n",
    "\n",
    "import os\n",
    "\n",
    "import pandas            as pd\n",
    "# import geopandas         as gpd\n",
    "import numpy             as np\n",
    "import scipy             as sc\n",
    "import matplotlib.pyplot as plt\n",
    "from sklearn.model_selection import train_test_split, GridSearchCV\n",
    "from sklearn.metrics import mean_squared_log_error,make_scorer\n",
    "# import seaborn           as sns\n",
    "\n",
    "# from google_drive_downloader import GoogleDriveDownloader as gdd\n",
    "# from sklearn.preprocessing import OneHotEncoder\n",
    "# from sklearn.preprocessing import OrdinalEncoder\n",
    "\n",
    "# import mapclassify\n",
    "\n",
    "pd.set_option('display.max_columns', None)  \n",
    "pd.set_option('display.expand_frame_repr', False)\n",
    "pd.reset_option('max_colwidth')"
   ]
  },
  {
   "cell_type": "code",
   "execution_count": 2,
   "metadata": {},
   "outputs": [
    {
     "name": "stdout",
     "output_type": "stream",
     "text": [
      "Formato dos dados:  (449633, 12)\n",
      "#Exemplos: 449633\n",
      "#Atributos: 12\n"
     ]
    }
   ],
   "source": [
    "# Lendo a base de dados\n",
    "df = pd.read_csv(\"dataset/preprocessed.csv\")\n",
    "print(\"Formato dos dados: \", df.shape)\n",
    "print(\"#Exemplos: {}\".format(df.shape[0]))\n",
    "print(\"#Atributos: {}\".format(df.shape[1]))"
   ]
  },
  {
   "cell_type": "code",
   "execution_count": 5,
   "metadata": {},
   "outputs": [
    {
     "data": {
      "text/html": [
       "<div>\n",
       "<style scoped>\n",
       "    .dataframe tbody tr th:only-of-type {\n",
       "        vertical-align: middle;\n",
       "    }\n",
       "\n",
       "    .dataframe tbody tr th {\n",
       "        vertical-align: top;\n",
       "    }\n",
       "\n",
       "    .dataframe thead th {\n",
       "        text-align: right;\n",
       "    }\n",
       "</style>\n",
       "<table border=\"1\" class=\"dataframe\">\n",
       "  <thead>\n",
       "    <tr style=\"text-align: right;\">\n",
       "      <th></th>\n",
       "      <th>created_on</th>\n",
       "      <th>lat</th>\n",
       "      <th>lon</th>\n",
       "      <th>surface_total_in_m2</th>\n",
       "      <th>surface_covered_in_m2</th>\n",
       "      <th>rooms</th>\n",
       "      <th>expenses</th>\n",
       "      <th>PH</th>\n",
       "      <th>apartment</th>\n",
       "      <th>house</th>\n",
       "      <th>store</th>\n",
       "      <th>price</th>\n",
       "    </tr>\n",
       "  </thead>\n",
       "  <tbody>\n",
       "    <tr>\n",
       "      <th>0</th>\n",
       "      <td>0.786688</td>\n",
       "      <td>0.311355</td>\n",
       "      <td>0.664401</td>\n",
       "      <td>-0.001542</td>\n",
       "      <td>-0.001534</td>\n",
       "      <td>0.2</td>\n",
       "      <td>0.005237</td>\n",
       "      <td>0.0</td>\n",
       "      <td>1.0</td>\n",
       "      <td>0.0</td>\n",
       "      <td>0.0</td>\n",
       "      <td>900000.0</td>\n",
       "    </tr>\n",
       "    <tr>\n",
       "      <th>1</th>\n",
       "      <td>0.808340</td>\n",
       "      <td>0.124457</td>\n",
       "      <td>0.537113</td>\n",
       "      <td>-0.001539</td>\n",
       "      <td>-0.001531</td>\n",
       "      <td>0.2</td>\n",
       "      <td>-0.026410</td>\n",
       "      <td>0.0</td>\n",
       "      <td>1.0</td>\n",
       "      <td>0.0</td>\n",
       "      <td>0.0</td>\n",
       "      <td>750000.0</td>\n",
       "    </tr>\n",
       "    <tr>\n",
       "      <th>2</th>\n",
       "      <td>0.455493</td>\n",
       "      <td>0.259170</td>\n",
       "      <td>0.591096</td>\n",
       "      <td>-0.001515</td>\n",
       "      <td>-0.001507</td>\n",
       "      <td>0.2</td>\n",
       "      <td>-0.026410</td>\n",
       "      <td>0.0</td>\n",
       "      <td>1.0</td>\n",
       "      <td>0.0</td>\n",
       "      <td>0.0</td>\n",
       "      <td>880000.0</td>\n",
       "    </tr>\n",
       "    <tr>\n",
       "      <th>3</th>\n",
       "      <td>0.605453</td>\n",
       "      <td>0.312925</td>\n",
       "      <td>0.668791</td>\n",
       "      <td>-0.001522</td>\n",
       "      <td>-0.001514</td>\n",
       "      <td>0.2</td>\n",
       "      <td>-0.026410</td>\n",
       "      <td>0.0</td>\n",
       "      <td>0.0</td>\n",
       "      <td>1.0</td>\n",
       "      <td>0.0</td>\n",
       "      <td>580000.0</td>\n",
       "    </tr>\n",
       "    <tr>\n",
       "      <th>4</th>\n",
       "      <td>0.612670</td>\n",
       "      <td>0.363826</td>\n",
       "      <td>0.668130</td>\n",
       "      <td>-0.001524</td>\n",
       "      <td>-0.001478</td>\n",
       "      <td>0.4</td>\n",
       "      <td>-0.026410</td>\n",
       "      <td>0.0</td>\n",
       "      <td>0.0</td>\n",
       "      <td>1.0</td>\n",
       "      <td>0.0</td>\n",
       "      <td>420000.0</td>\n",
       "    </tr>\n",
       "  </tbody>\n",
       "</table>\n",
       "</div>"
      ],
      "text/plain": [
       "   created_on       lat       lon  surface_total_in_m2  surface_covered_in_m2  rooms  expenses   PH  apartment  house  store     price\n",
       "0    0.786688  0.311355  0.664401            -0.001542              -0.001534    0.2  0.005237  0.0        1.0    0.0    0.0  900000.0\n",
       "1    0.808340  0.124457  0.537113            -0.001539              -0.001531    0.2 -0.026410  0.0        1.0    0.0    0.0  750000.0\n",
       "2    0.455493  0.259170  0.591096            -0.001515              -0.001507    0.2 -0.026410  0.0        1.0    0.0    0.0  880000.0\n",
       "3    0.605453  0.312925  0.668791            -0.001522              -0.001514    0.2 -0.026410  0.0        0.0    1.0    0.0  580000.0\n",
       "4    0.612670  0.363826  0.668130            -0.001524              -0.001478    0.4 -0.026410  0.0        0.0    1.0    0.0  420000.0"
      ]
     },
     "execution_count": 5,
     "metadata": {},
     "output_type": "execute_result"
    }
   ],
   "source": [
    "df.head()"
   ]
  },
  {
   "cell_type": "markdown",
   "metadata": {},
   "source": [
    "# k-Nearest Neighbors (kNN)"
   ]
  },
  {
   "cell_type": "code",
   "execution_count": 24,
   "metadata": {},
   "outputs": [],
   "source": [
    "from sklearn.neighbors import KNeighborsRegressor"
   ]
  },
  {
   "cell_type": "code",
   "execution_count": 25,
   "metadata": {},
   "outputs": [],
   "source": [
    "train, test = train_test_split(df, test_size=0.25)\n",
    "\n",
    "x_train = train.drop('price', axis=1)\n",
    "y_train = train['price']\n",
    "\n",
    "x_test = test.drop('price', axis=1)\n",
    "y_test = test['price']"
   ]
  },
  {
   "cell_type": "code",
   "execution_count": 23,
   "metadata": {},
   "outputs": [],
   "source": [
    "grid_params = {\n",
    "'n_neighbors': [5,7,9,11,13],\n",
    "'p': [1,2],\n",
    "\n",
    "}\n",
    "\n",
    "scorer = make_scorer(mean_squared_log_error, greater_is_better=False)\n",
    "\n",
    "knn = Pipeline(['scaler', \n",
    "                \n",
    "                KNeighborsRegressor(algorithm='auto', weights='distance')\n",
    "\n",
    "gs = GridSearchCV(knn, grid_params, verbose=4, n_jobs=-1, scoring=scorer, return_train_score=True)"
   ]
  },
  {
   "cell_type": "code",
   "execution_count": 24,
   "metadata": {},
   "outputs": [
    {
     "name": "stdout",
     "output_type": "stream",
     "text": [
      "Fitting 5 folds for each of 10 candidates, totalling 50 fits\n"
     ]
    }
   ],
   "source": [
    "gs_results = gs.fit(x_train, y_train)"
   ]
  },
  {
   "cell_type": "code",
   "execution_count": 25,
   "metadata": {},
   "outputs": [
    {
     "data": {
      "text/plain": [
       "-0.18013264645552116"
      ]
     },
     "execution_count": 25,
     "metadata": {},
     "output_type": "execute_result"
    }
   ],
   "source": [
    "gs_results.best_score_"
   ]
  },
  {
   "cell_type": "code",
   "execution_count": 26,
   "metadata": {},
   "outputs": [
    {
     "data": {
      "text/plain": [
       "KNeighborsRegressor(n_neighbors=11, p=1, weights='distance')"
      ]
     },
     "execution_count": 26,
     "metadata": {},
     "output_type": "execute_result"
    }
   ],
   "source": [
    "gs_results.best_estimator_"
   ]
  },
  {
   "cell_type": "code",
   "execution_count": 27,
   "metadata": {},
   "outputs": [
    {
     "data": {
      "text/plain": [
       "{'n_neighbors': 11, 'p': 1}"
      ]
     },
     "execution_count": 27,
     "metadata": {},
     "output_type": "execute_result"
    }
   ],
   "source": [
    "gs_results.best_params_"
   ]
  },
  {
   "cell_type": "code",
   "execution_count": 26,
   "metadata": {},
   "outputs": [],
   "source": [
    "model = KNeighborsRegressor(n_neighbors=11,p=1,weights='distance')\n",
    "y_predicted = model.fit(x_train, y_train).predict(x_test)"
   ]
  },
  {
   "cell_type": "code",
   "execution_count": 27,
   "metadata": {},
   "outputs": [
    {
     "data": {
      "text/plain": [
       "0.3862371701271055"
      ]
     },
     "execution_count": 27,
     "metadata": {},
     "output_type": "execute_result"
    }
   ],
   "source": [
    "np.sqrt(mean_squared_log_error(y_test, y_predicted))"
   ]
  },
  {
   "cell_type": "code",
   "execution_count": 28,
   "metadata": {},
   "outputs": [
    {
     "data": {
      "text/plain": [
       "72.40720144388901"
      ]
     },
     "execution_count": 28,
     "metadata": {},
     "output_type": "execute_result"
    }
   ],
   "source": [
    "# Calculate the absolute errors\n",
    "errors = abs(y_predicted - y_test)\n",
    "\n",
    "# Calculate mean absolute percentage error (MAPE)\n",
    "mape = 100 * (errors / y_test)# Calculate and display accuracy\n",
    "accuracy = 100 - np.mean(mape)\n",
    "\n",
    "accuracy"
   ]
  },
  {
   "cell_type": "markdown",
   "metadata": {},
   "source": [
    "# Random Forest"
   ]
  },
  {
   "cell_type": "code",
   "execution_count": 80,
   "metadata": {},
   "outputs": [],
   "source": [
    "from sklearn.ensemble import RandomForestRegressor\n",
    "from pprint import pprint\n",
    "from sklearn.model_selection import RandomizedSearchCV"
   ]
  },
  {
   "cell_type": "code",
   "execution_count": 81,
   "metadata": {},
   "outputs": [],
   "source": [
    "train, test = train_test_split(df, test_size=0.25)\n",
    "\n",
    "x_train = train.drop('price', axis=1)\n",
    "y_train = train['price']\n",
    "\n",
    "x_test = test.drop('price', axis=1)\n",
    "y_test = test['price']"
   ]
  },
  {
   "cell_type": "code",
   "execution_count": 7,
   "metadata": {},
   "outputs": [
    {
     "name": "stdout",
     "output_type": "stream",
     "text": [
      "{'max_depth': [10, 20, 50, None],\n",
      " 'max_features': ['auto', 'sqrt', 'log2'],\n",
      " 'min_samples_leaf': [1, 2, 5, 10],\n",
      " 'min_samples_split': [2, 5, 10, 15],\n",
      " 'n_estimators': [100, 200, 500]}\n"
     ]
    }
   ],
   "source": [
    "# number of trees\n",
    "n_estimators = [100, 200, 500]\n",
    "\n",
    "# max number of features to consider at every split\n",
    "max_features = ['auto', 'sqrt', 'log2']\n",
    "\n",
    "# max number of levels in tree\n",
    "max_depth = [10, 20, 50]\n",
    "max_depth.append(None)\n",
    "\n",
    "# minimum number of samples required to split a node\n",
    "min_samples_split = [2, 5, 10, 15]\n",
    "\n",
    "# minimum number of samples required at each leaf node\n",
    "min_samples_leaf = [1, 2, 5, 10]\n",
    "\n",
    "random_grid_params = {\n",
    "    'n_estimators': n_estimators,\n",
    "    'max_features': max_features,\n",
    "    'max_depth': max_depth,\n",
    "    'min_samples_split': min_samples_split,\n",
    "    'min_samples_leaf': min_samples_leaf,\n",
    "}\n",
    "\n",
    "pprint(random_grid_params)"
   ]
  },
  {
   "cell_type": "code",
   "execution_count": 8,
   "metadata": {},
   "outputs": [],
   "source": [
    "# create the base model to tune\n",
    "rfr = RandomForestRegressor()\n",
    "\n",
    "# use the random grid to search for best hyperparameters,\n",
    "# using 5 fold cross validation, earch across 20 different combinations, and use all available cores\n",
    "rfr_random = RandomizedSearchCV(estimator=rfr, param_distributions=random_grid_params, n_iter=20, cv=3, verbose=2, random_state=42, n_jobs=-1)"
   ]
  },
  {
   "cell_type": "code",
   "execution_count": 9,
   "metadata": {},
   "outputs": [
    {
     "name": "stdout",
     "output_type": "stream",
     "text": [
      "Fitting 3 folds for each of 20 candidates, totalling 60 fits\n"
     ]
    },
    {
     "name": "stderr",
     "output_type": "stream",
     "text": [
      "/home/thay/anaconda3/lib/python3.8/site-packages/joblib/externals/loky/process_executor.py:688: UserWarning: A worker stopped while some jobs were given to the executor. This can be caused by a too short worker timeout or by a memory leak.\n",
      "  warnings.warn(\n"
     ]
    }
   ],
   "source": [
    "# fit the random search model\n",
    "rfr_random_results = rfr_random.fit(x_train, y_train)"
   ]
  },
  {
   "cell_type": "code",
   "execution_count": 10,
   "metadata": {},
   "outputs": [
    {
     "data": {
      "text/plain": [
       "0.6869087933350606"
      ]
     },
     "execution_count": 10,
     "metadata": {},
     "output_type": "execute_result"
    }
   ],
   "source": [
    "rfr_random_results.best_score_"
   ]
  },
  {
   "cell_type": "code",
   "execution_count": 11,
   "metadata": {},
   "outputs": [
    {
     "data": {
      "text/plain": [
       "{'n_estimators': 100,\n",
       " 'min_samples_split': 10,\n",
       " 'min_samples_leaf': 1,\n",
       " 'max_features': 'log2',\n",
       " 'max_depth': None}"
      ]
     },
     "execution_count": 11,
     "metadata": {},
     "output_type": "execute_result"
    }
   ],
   "source": [
    "rfr_random_results.best_params_"
   ]
  },
  {
   "cell_type": "code",
   "execution_count": 82,
   "metadata": {},
   "outputs": [
    {
     "name": "stdout",
     "output_type": "stream",
     "text": [
      "{'max_features': ['auto', 'log2'], 'min_samples_split': [2, 5, 10]}\n"
     ]
    }
   ],
   "source": [
    "# # max number of features to consider at every split\n",
    "max_features = ['auto', 'log2']\n",
    "\n",
    "# minimum number of samples required at each leaf node\n",
    "min_samples_split = [2, 5, 10]\n",
    "\n",
    "grid_params = {\n",
    "     'max_features': max_features,\n",
    "    'min_samples_split': min_samples_split,\n",
    "}\n",
    "\n",
    "pprint(grid_params)"
   ]
  },
  {
   "cell_type": "code",
   "execution_count": 6,
   "metadata": {},
   "outputs": [],
   "source": [
    "scorer = make_scorer(mean_squared_log_error,greater_is_better=False)\n",
    "\n",
    "rfr = RandomForestRegressor()\n",
    "\n",
    "gs = GridSearchCV(rfr, grid_params, verbose=4, n_jobs=-1, scoring=scorer, return_train_score=True)"
   ]
  },
  {
   "cell_type": "code",
   "execution_count": null,
   "metadata": {},
   "outputs": [
    {
     "name": "stdout",
     "output_type": "stream",
     "text": [
      "Fitting 5 folds for each of 3 candidates, totalling 15 fits\n"
     ]
    }
   ],
   "source": [
    "gs_results = gs.fit(x_train, y_train)"
   ]
  },
  {
   "cell_type": "code",
   "execution_count": 19,
   "metadata": {},
   "outputs": [
    {
     "data": {
      "text/plain": [
       "-0.08600977146548427"
      ]
     },
     "execution_count": 19,
     "metadata": {},
     "output_type": "execute_result"
    }
   ],
   "source": [
    "gs_results.best_score_"
   ]
  },
  {
   "cell_type": "code",
   "execution_count": 20,
   "metadata": {},
   "outputs": [
    {
     "data": {
      "text/plain": [
       "RandomForestRegressor(n_jobs=-1)"
      ]
     },
     "execution_count": 20,
     "metadata": {},
     "output_type": "execute_result"
    }
   ],
   "source": [
    "gs_results.best_estimator_"
   ]
  },
  {
   "cell_type": "code",
   "execution_count": 21,
   "metadata": {},
   "outputs": [
    {
     "data": {
      "text/plain": [
       "{'min_samples_split': 2}"
      ]
     },
     "execution_count": 21,
     "metadata": {},
     "output_type": "execute_result"
    }
   ],
   "source": [
    "gs_results.best_params_"
   ]
  },
  {
   "cell_type": "code",
   "execution_count": 18,
   "metadata": {},
   "outputs": [],
   "source": [
    "model = RandomForestRegressor(n_jobs=-1, n_estimators=100, min_samples_split=2, min_samples_leaf=1, max_features='auto', max_depth=None)\n",
    "y_predicted = model.fit(x_train, y_train).predict(x_test)"
   ]
  },
  {
   "cell_type": "code",
   "execution_count": 19,
   "metadata": {},
   "outputs": [
    {
     "data": {
      "text/plain": [
       "0.2561500180491964"
      ]
     },
     "execution_count": 19,
     "metadata": {},
     "output_type": "execute_result"
    }
   ],
   "source": [
    "np.sqrt(mean_squared_log_error(y_test, y_predicted))"
   ]
  },
  {
   "cell_type": "code",
   "execution_count": 20,
   "metadata": {},
   "outputs": [
    {
     "data": {
      "text/plain": [
       "81.64378991846057"
      ]
     },
     "execution_count": 20,
     "metadata": {},
     "output_type": "execute_result"
    }
   ],
   "source": [
    "# Calculate the absolute errors\n",
    "errors = abs(y_predicted - y_test)\n",
    "\n",
    "# Calculate mean absolute percentage error (MAPE)\n",
    "mape = 100 * (errors / y_test)# Calculate and display accuracy\n",
    "accuracy = 100 - np.mean(mape)\n",
    "\n",
    "accuracy"
   ]
  },
  {
   "cell_type": "markdown",
   "metadata": {},
   "source": [
    "# Support Vector Regression (SVR)"
   ]
  },
  {
   "cell_type": "code",
   "execution_count": 39,
   "metadata": {},
   "outputs": [],
   "source": [
    "from sklearn.svm import SVR"
   ]
  },
  {
   "cell_type": "code",
   "execution_count": 40,
   "metadata": {},
   "outputs": [],
   "source": [
    "X = df.drop(\"price\",1)\n",
    "y = df.price\n",
    "X_train, X_test, y_train, y_test = train_test_split(X, y, test_size=0.33)"
   ]
  },
  {
   "cell_type": "code",
   "execution_count": 42,
   "metadata": {},
   "outputs": [],
   "source": [
    "model = SVR()\n",
    "y_predicted = model.fit(X_train, y_train).predict(X_test)"
   ]
  },
  {
   "cell_type": "code",
   "execution_count": null,
   "metadata": {},
   "outputs": [],
   "source": [
    "np.sqrt(mean_squared_log_error(y_test,y_predicted))"
   ]
  },
  {
   "cell_type": "markdown",
   "metadata": {},
   "source": [
    "# XGBoost"
   ]
  },
  {
   "cell_type": "code",
   "execution_count": 60,
   "metadata": {},
   "outputs": [],
   "source": [
    "from xgboost import XGBRegressor\n",
    "from sklearn.model_selection import KFold"
   ]
  },
  {
   "cell_type": "code",
   "execution_count": 61,
   "metadata": {},
   "outputs": [],
   "source": [
    "train, test = train_test_split(df, test_size=0.25)\n",
    "\n",
    "x_train = train.drop('price', axis=1)\n",
    "y_train = train['price']\n",
    "\n",
    "x_test = test.drop('price', axis=1)\n",
    "y_test = test['price']"
   ]
  },
  {
   "cell_type": "code",
   "execution_count": 62,
   "metadata": {},
   "outputs": [],
   "source": [
    "xgboost = XGBRegressor(n_jobs=-1)\n",
    "\n",
    "random_grid_params = {\n",
    "        'min_child_weight': [1, 5, 10],\n",
    "        'gamma': [0.5, 1, 1.5, 2, 5],\n",
    "        'subsample': [0.6, 0.8, 1.0],\n",
    "        'colsample_bytree': [0.6, 0.8, 1.0],\n",
    "        'max_depth': [3, 4, 5]\n",
    "}\n",
    "\n",
    "xgboost_random = RandomizedSearchCV(estimator=xgboost, param_distributions=random_grid_params, n_iter=30, cv=3, verbose=2, random_state=42, n_jobs=-1)"
   ]
  },
  {
   "cell_type": "code",
   "execution_count": 63,
   "metadata": {},
   "outputs": [
    {
     "name": "stdout",
     "output_type": "stream",
     "text": [
      "Fitting 3 folds for each of 30 candidates, totalling 90 fits\n"
     ]
    }
   ],
   "source": [
    "# fit the random search model\n",
    "xgboost_random_results = xgboost_random.fit(x_train, y_train)"
   ]
  },
  {
   "cell_type": "code",
   "execution_count": 64,
   "metadata": {},
   "outputs": [
    {
     "data": {
      "text/plain": [
       "0.6452017695916566"
      ]
     },
     "execution_count": 64,
     "metadata": {},
     "output_type": "execute_result"
    }
   ],
   "source": [
    "xgboost_random_results.best_score_"
   ]
  },
  {
   "cell_type": "code",
   "execution_count": 65,
   "metadata": {},
   "outputs": [
    {
     "data": {
      "text/plain": [
       "{'subsample': 1.0,\n",
       " 'min_child_weight': 1,\n",
       " 'max_depth': 5,\n",
       " 'gamma': 0.5,\n",
       " 'colsample_bytree': 0.8}"
      ]
     },
     "execution_count": 65,
     "metadata": {},
     "output_type": "execute_result"
    }
   ],
   "source": [
    "xgboost_random_results.best_params_"
   ]
  },
  {
   "cell_type": "code",
   "execution_count": 67,
   "metadata": {},
   "outputs": [],
   "source": [
    "model = XGBRegressor(n_jobs=-1,subsample=1.0, min_child_weight=1,max_depth=5, gamma=0.5, colsample_bytree=0.8)\n",
    "y_predicted = model.fit(x_train, y_train).predict(x_test)"
   ]
  },
  {
   "cell_type": "code",
   "execution_count": 73,
   "metadata": {},
   "outputs": [],
   "source": [
    "y_predicted[y_predicted < 0] = 0"
   ]
  },
  {
   "cell_type": "code",
   "execution_count": 78,
   "metadata": {},
   "outputs": [
    {
     "data": {
      "text/plain": [
       "0.5638860220847428"
      ]
     },
     "execution_count": 78,
     "metadata": {},
     "output_type": "execute_result"
    }
   ],
   "source": [
    "np.sqrt(mean_squared_log_error(y_test, y_predicted))"
   ]
  },
  {
   "cell_type": "code",
   "execution_count": 76,
   "metadata": {},
   "outputs": [
    {
     "data": {
      "text/plain": [
       "65.91542190885194"
      ]
     },
     "execution_count": 76,
     "metadata": {},
     "output_type": "execute_result"
    }
   ],
   "source": [
    "# Calculate the absolute errors\n",
    "errors = abs(y_predicted - y_test)\n",
    "\n",
    "# Calculate mean absolute percentage error (MAPE)\n",
    "mape = 100 * (errors / y_test)# Calculate and display accuracy\n",
    "accuracy = 100 - np.mean(mape)\n",
    "\n",
    "accuracy"
   ]
  },
  {
   "cell_type": "markdown",
   "metadata": {},
   "source": [
    "# Neural Networks\n",
    "## Will use the same NN as shown in https://www.kaggle.com/luckeciano/nn-with-tabular-data-baseline"
   ]
  },
  {
   "cell_type": "code",
   "execution_count": 35,
   "metadata": {},
   "outputs": [],
   "source": [
    "#Import Keras \n",
    "from keras.layers import Input, Dense, BatchNormalization\n",
    "from keras.models import Model, Sequential\n",
    "from keras.layers import LeakyReLU\n",
    "from keras.optimizers import Adam\n",
    "from keras import backend as K\n",
    "from keras.utils.vis_utils import plot_model\n",
    "from keras.callbacks import LearningRateScheduler, TensorBoard\n",
    "from sklearn.metrics import mean_squared_error\n",
    "from keras.losses import MeanSquaredLogarithmicError\n",
    "from keras.metrics import mean_squared_logarithmic_error"
   ]
  },
  {
   "cell_type": "code",
   "execution_count": 43,
   "metadata": {},
   "outputs": [],
   "source": [
    "#Hyperparameters\n",
    "ACTIVATION = 'relu'\n",
    "EPOCHS = 2\n",
    "BATCH_SIZE = 128\n",
    "LEARNING_RATE= 0.01\n",
    "LOSS_FUNCTION = 'mean_squared_error'\n",
    "BETA_1 = 0.9\n",
    "BETA_2 = 0.999\n",
    "EPSILON = 1e-08\n",
    "EPOCHS_DROP = 20\n",
    "DROP = 0.8"
   ]
  },
  {
   "cell_type": "code",
   "execution_count": 13,
   "metadata": {},
   "outputs": [],
   "source": [
    "X = df.drop(\"price\",1)\n",
    "y = df.price\n",
    "X_train, X_test, y_train, y_test = train_test_split(X, y, test_size=0.33)"
   ]
  },
  {
   "cell_type": "code",
   "execution_count": 18,
   "metadata": {},
   "outputs": [],
   "source": [
    "#Build Neural Network\n",
    "model =  Sequential()\n",
    "model.add(Dense(128,  input_dim=10,  activation = ACTIVATION))\n",
    "model.add(Dense(128, activation = ACTIVATION))\n",
    "model.add(Dense(64,  activation = ACTIVATION))\n",
    "model.add(Dense(1))"
   ]
  },
  {
   "cell_type": "code",
   "execution_count": 27,
   "metadata": {},
   "outputs": [],
   "source": [
    "#Define loss metric\n",
    "def root_mean_squared_error(y_true, y_pred):\n",
    "    return np.sqrt(mean_squared_log_error(y_true,y_pred))"
   ]
  },
  {
   "cell_type": "code",
   "execution_count": 44,
   "metadata": {},
   "outputs": [
    {
     "name": "stdout",
     "output_type": "stream",
     "text": [
      "Epoch 1/2\n",
      "2119/2119 [==============================] - 4s 2ms/step - loss: 0.3581 - val_loss: 0.3522\n",
      "Epoch 2/2\n",
      "2119/2119 [==============================] - 4s 2ms/step - loss: 0.3582 - val_loss: 0.3508\n"
     ]
    },
    {
     "data": {
      "text/plain": [
       "<tensorflow.python.keras.callbacks.History at 0x1c4745f8af0>"
      ]
     },
     "execution_count": 44,
     "metadata": {},
     "output_type": "execute_result"
    }
   ],
   "source": [
    "# adam = Adam(lr=LEARNING_RATE, beta_1=BETA_1, beta_2=BETA_2, epsilon=EPSILON)\n",
    "# model.compile (loss = MeanSquaredLogarithmicError(), optimizer = adam)\n",
    "# model.fit (X_train, y_train, epochs = EPOCHS, batch_size = BATCH_SIZE, verbose = 1, validation_split=0.1)"
   ]
  },
  {
   "cell_type": "code",
   "execution_count": 46,
   "metadata": {},
   "outputs": [
    {
     "name": "stdout",
     "output_type": "stream",
     "text": [
      "Model: \"sequential_3\"\n",
      "_________________________________________________________________\n",
      "Layer (type)                 Output Shape              Param #   \n",
      "=================================================================\n",
      "dense_12 (Dense)             (None, 128)               1408      \n",
      "_________________________________________________________________\n",
      "dense_13 (Dense)             (None, 256)               33024     \n",
      "_________________________________________________________________\n",
      "dense_14 (Dense)             (None, 256)               65792     \n",
      "_________________________________________________________________\n",
      "dense_15 (Dense)             (None, 256)               65792     \n",
      "_________________________________________________________________\n",
      "dense_16 (Dense)             (None, 1)                 257       \n",
      "=================================================================\n",
      "Total params: 166,273\n",
      "Trainable params: 166,273\n",
      "Non-trainable params: 0\n",
      "_________________________________________________________________\n"
     ]
    }
   ],
   "source": [
    "model = Sequential()\n",
    "\n",
    "# The Input Layer :\n",
    "model.add(Dense(128, kernel_initializer='normal',input_dim = 10, activation='relu'))\n",
    "\n",
    "# The Hidden Layers :\n",
    "model.add(Dense(256, kernel_initializer='normal',activation='relu'))\n",
    "model.add(Dense(256, kernel_initializer='normal',activation='relu'))\n",
    "model.add(Dense(256, kernel_initializer='normal',activation='relu'))\n",
    "\n",
    "# The Output Layer :\n",
    "model.add(Dense(1, kernel_initializer='normal',activation='linear'))\n",
    "\n",
    "# Compile the network :\n",
    "model.compile(loss=MeanSquaredLogarithmicError(), optimizer='adam', metrics=['mean_squared_error'])\n",
    "model.summary()"
   ]
  },
  {
   "cell_type": "code",
   "execution_count": 50,
   "metadata": {},
   "outputs": [
    {
     "name": "stdout",
     "output_type": "stream",
     "text": [
      "Epoch 1/15\n",
      "7532/7532 [==============================] - 20s 3ms/step - loss: 0.3790 - mean_squared_error: 2262695673856.0000 - val_loss: 0.3839 - val_mean_squared_error: 47172785453137920.0000\n",
      "Epoch 2/15\n",
      "7532/7532 [==============================] - 23s 3ms/step - loss: 0.3777 - mean_squared_error: 2252686753792.0000 - val_loss: 0.3800 - val_mean_squared_error: 55737577306587136.0000\n",
      "Epoch 3/15\n",
      "7532/7532 [==============================] - 24s 3ms/step - loss: 0.3759 - mean_squared_error: 2243038019584.0000 - val_loss: 0.3746 - val_mean_squared_error: 64208618613899264.0000\n",
      "Epoch 4/15\n",
      "7532/7532 [==============================] - 24s 3ms/step - loss: 0.3747 - mean_squared_error: 2234653081600.0000 - val_loss: 0.3761 - val_mean_squared_error: 72057903275573248.0000\n",
      "Epoch 5/15\n",
      "7532/7532 [==============================] - 24s 3ms/step - loss: 0.3730 - mean_squared_error: 2227799588864.0000 - val_loss: 0.3739 - val_mean_squared_error: 71138535461093376.0000\n",
      "Epoch 6/15\n",
      "7532/7532 [==============================] - 20s 3ms/step - loss: 0.3716 - mean_squared_error: 2220971786240.0000 - val_loss: 0.3773 - val_mean_squared_error: 71301344786382848.0000\n",
      "Epoch 7/15\n",
      "7532/7532 [==============================] - 19s 3ms/step - loss: 0.3704 - mean_squared_error: 2214188810240.0000 - val_loss: 0.3703 - val_mean_squared_error: 70934687723290624.0000\n",
      "Epoch 8/15\n",
      "7532/7532 [==============================] - 19s 2ms/step - loss: 0.3691 - mean_squared_error: 2212683841536.0000 - val_loss: 0.3665 - val_mean_squared_error: 69889541791547392.0000\n",
      "Epoch 9/15\n",
      "7532/7532 [==============================] - 19s 2ms/step - loss: 0.3671 - mean_squared_error: 2204334817280.0000 - val_loss: 0.3662 - val_mean_squared_error: 52703453494902784.0000\n",
      "Epoch 10/15\n",
      "7532/7532 [==============================] - 19s 2ms/step - loss: 0.3653 - mean_squared_error: 2197758541824.0000 - val_loss: 0.3713 - val_mean_squared_error: 40724205590806528.0000\n",
      "Epoch 11/15\n",
      "7532/7532 [==============================] - 19s 2ms/step - loss: 0.3629 - mean_squared_error: 2189225754624.0000 - val_loss: 0.3703 - val_mean_squared_error: 24414022187089920.0000\n",
      "Epoch 12/15\n",
      "7532/7532 [==============================] - 19s 2ms/step - loss: 0.3608 - mean_squared_error: 2183101153280.0000 - val_loss: 0.3591 - val_mean_squared_error: 16176355443998720.0000\n",
      "Epoch 13/15\n",
      "7532/7532 [==============================] - 19s 3ms/step - loss: 0.3593 - mean_squared_error: 2177656291328.0000 - val_loss: 0.3916 - val_mean_squared_error: 11333311666323456.0000\n",
      "Epoch 14/15\n",
      "7532/7532 [==============================] - 19s 3ms/step - loss: 0.3578 - mean_squared_error: 2173383606272.0000 - val_loss: 0.3637 - val_mean_squared_error: 9211717007441920.0000\n",
      "Epoch 15/15\n",
      "7532/7532 [==============================] - 19s 2ms/step - loss: 0.3559 - mean_squared_error: 2169025200128.0000 - val_loss: 0.3602 - val_mean_squared_error: 5864070783696896.0000\n"
     ]
    },
    {
     "data": {
      "text/plain": [
       "<tensorflow.python.keras.callbacks.History at 0x1c4793ded90>"
      ]
     },
     "execution_count": 50,
     "metadata": {},
     "output_type": "execute_result"
    }
   ],
   "source": [
    "model.fit(X_train, y_train, epochs=15, batch_size=32, validation_split = 0.2)"
   ]
  },
  {
   "cell_type": "code",
   "execution_count": 51,
   "metadata": {},
   "outputs": [
    {
     "data": {
      "text/plain": [
       "0.5995757353337279"
      ]
     },
     "execution_count": 51,
     "metadata": {},
     "output_type": "execute_result"
    }
   ],
   "source": [
    "y_predicted = model.predict(X_test)\n",
    "np.sqrt(mean_squared_log_error(y_test,y_predicted))"
   ]
  }
 ],
 "metadata": {
  "interpreter": {
   "hash": "144762e96ae07dfd72ac09e6b5ab033ed6d8ce30e36c5e495fd9bc099278cfa7"
  },
  "kernelspec": {
   "display_name": "Python 3",
   "language": "python",
   "name": "python3"
  },
  "language_info": {
   "codemirror_mode": {
    "name": "ipython",
    "version": 3
   },
   "file_extension": ".py",
   "mimetype": "text/x-python",
   "name": "python",
   "nbconvert_exporter": "python",
   "pygments_lexer": "ipython3",
   "version": "3.8.5"
  }
 },
 "nbformat": 4,
 "nbformat_minor": 2
}

{
 "cells": [
  {
   "cell_type": "code",
   "execution_count": 1,
   "metadata": {},
   "outputs": [],
   "source": [
    "# Algoritmos a serem utilizados\n",
    "# k-Nearest Neighbors (kNN), Random Fo-rests, XGBoost, Support Vector Regression (SVR) e Neural Networks."
   ]
  },
  {
   "cell_type": "code",
   "execution_count": 1,
   "metadata": {},
   "outputs": [],
   "source": [
    "# Importando os pacotes necessários para a análise\n",
    "\n",
    "import os\n",
    "\n",
    "import pandas            as pd\n",
    "# import geopandas         as gpd\n",
    "import numpy             as np\n",
    "import scipy             as sc\n",
    "import matplotlib.pyplot as plt\n",
    "from sklearn.model_selection import train_test_split, GridSearchCV\n",
    "from sklearn.metrics import mean_squared_log_error,make_scorer\n",
    "# import seaborn           as sns\n",
    "\n",
    "# from google_drive_downloader import GoogleDriveDownloader as gdd\n",
    "# from sklearn.preprocessing import OneHotEncoder\n",
    "# from sklearn.preprocessing import OrdinalEncoder\n",
    "\n",
    "# import mapclassify\n",
    "\n",
    "pd.set_option('display.max_columns', None)  \n",
    "pd.set_option('display.expand_frame_repr', False)\n",
    "pd.reset_option('max_colwidth')"
   ]
  },
  {
   "cell_type": "code",
   "execution_count": 2,
   "metadata": {},
   "outputs": [
    {
     "name": "stdout",
     "output_type": "stream",
     "text": [
      "Formato dos dados:  (449633, 12)\n",
      "#Exemplos: 449633\n",
      "#Atributos: 12\n"
     ]
    }
   ],
   "source": [
    "# Lendo a base de dados\n",
    "df = pd.read_csv(\"dataset/preprocessed.csv\")\n",
    "print(\"Formato dos dados: \", df.shape)\n",
    "print(\"#Exemplos: {}\".format(df.shape[0]))\n",
    "print(\"#Atributos: {}\".format(df.shape[1]))"
   ]
  },
  {
   "cell_type": "code",
   "execution_count": 5,
   "metadata": {},
   "outputs": [
    {
     "data": {
      "text/html": [
       "<div>\n",
       "<style scoped>\n",
       "    .dataframe tbody tr th:only-of-type {\n",
       "        vertical-align: middle;\n",
       "    }\n",
       "\n",
       "    .dataframe tbody tr th {\n",
       "        vertical-align: top;\n",
       "    }\n",
       "\n",
       "    .dataframe thead th {\n",
       "        text-align: right;\n",
       "    }\n",
       "</style>\n",
       "<table border=\"1\" class=\"dataframe\">\n",
       "  <thead>\n",
       "    <tr style=\"text-align: right;\">\n",
       "      <th></th>\n",
       "      <th>created_on</th>\n",
       "      <th>lat</th>\n",
       "      <th>lon</th>\n",
       "      <th>surface_total_in_m2</th>\n",
       "      <th>surface_covered_in_m2</th>\n",
       "      <th>rooms</th>\n",
       "      <th>expenses</th>\n",
       "      <th>PH</th>\n",
       "      <th>apartment</th>\n",
       "      <th>house</th>\n",
       "      <th>store</th>\n",
       "      <th>price</th>\n",
       "    </tr>\n",
       "  </thead>\n",
       "  <tbody>\n",
       "    <tr>\n",
       "      <th>0</th>\n",
       "      <td>0.786688</td>\n",
       "      <td>0.311355</td>\n",
       "      <td>0.664401</td>\n",
       "      <td>-0.001542</td>\n",
       "      <td>-0.001534</td>\n",
       "      <td>0.2</td>\n",
       "      <td>0.005237</td>\n",
       "      <td>0.0</td>\n",
       "      <td>1.0</td>\n",
       "      <td>0.0</td>\n",
       "      <td>0.0</td>\n",
       "      <td>900000.0</td>\n",
       "    </tr>\n",
       "    <tr>\n",
       "      <th>1</th>\n",
       "      <td>0.808340</td>\n",
       "      <td>0.124457</td>\n",
       "      <td>0.537113</td>\n",
       "      <td>-0.001539</td>\n",
       "      <td>-0.001531</td>\n",
       "      <td>0.2</td>\n",
       "      <td>-0.026410</td>\n",
       "      <td>0.0</td>\n",
       "      <td>1.0</td>\n",
       "      <td>0.0</td>\n",
       "      <td>0.0</td>\n",
       "      <td>750000.0</td>\n",
       "    </tr>\n",
       "    <tr>\n",
       "      <th>2</th>\n",
       "      <td>0.455493</td>\n",
       "      <td>0.259170</td>\n",
       "      <td>0.591096</td>\n",
       "      <td>-0.001515</td>\n",
       "      <td>-0.001507</td>\n",
       "      <td>0.2</td>\n",
       "      <td>-0.026410</td>\n",
       "      <td>0.0</td>\n",
       "      <td>1.0</td>\n",
       "      <td>0.0</td>\n",
       "      <td>0.0</td>\n",
       "      <td>880000.0</td>\n",
       "    </tr>\n",
       "    <tr>\n",
       "      <th>3</th>\n",
       "      <td>0.605453</td>\n",
       "      <td>0.312925</td>\n",
       "      <td>0.668791</td>\n",
       "      <td>-0.001522</td>\n",
       "      <td>-0.001514</td>\n",
       "      <td>0.2</td>\n",
       "      <td>-0.026410</td>\n",
       "      <td>0.0</td>\n",
       "      <td>0.0</td>\n",
       "      <td>1.0</td>\n",
       "      <td>0.0</td>\n",
       "      <td>580000.0</td>\n",
       "    </tr>\n",
       "    <tr>\n",
       "      <th>4</th>\n",
       "      <td>0.612670</td>\n",
       "      <td>0.363826</td>\n",
       "      <td>0.668130</td>\n",
       "      <td>-0.001524</td>\n",
       "      <td>-0.001478</td>\n",
       "      <td>0.4</td>\n",
       "      <td>-0.026410</td>\n",
       "      <td>0.0</td>\n",
       "      <td>0.0</td>\n",
       "      <td>1.0</td>\n",
       "      <td>0.0</td>\n",
       "      <td>420000.0</td>\n",
       "    </tr>\n",
       "  </tbody>\n",
       "</table>\n",
       "</div>"
      ],
      "text/plain": [
       "   created_on       lat       lon  surface_total_in_m2  surface_covered_in_m2  rooms  expenses   PH  apartment  house  store     price\n",
       "0    0.786688  0.311355  0.664401            -0.001542              -0.001534    0.2  0.005237  0.0        1.0    0.0    0.0  900000.0\n",
       "1    0.808340  0.124457  0.537113            -0.001539              -0.001531    0.2 -0.026410  0.0        1.0    0.0    0.0  750000.0\n",
       "2    0.455493  0.259170  0.591096            -0.001515              -0.001507    0.2 -0.026410  0.0        1.0    0.0    0.0  880000.0\n",
       "3    0.605453  0.312925  0.668791            -0.001522              -0.001514    0.2 -0.026410  0.0        0.0    1.0    0.0  580000.0\n",
       "4    0.612670  0.363826  0.668130            -0.001524              -0.001478    0.4 -0.026410  0.0        0.0    1.0    0.0  420000.0"
      ]
     },
     "execution_count": 5,
     "metadata": {},
     "output_type": "execute_result"
    }
   ],
   "source": [
    "df.head()"
   ]
  },
  {
   "cell_type": "markdown",
   "metadata": {},
   "source": [
    "# Random Forest"
   ]
  },
  {
   "cell_type": "code",
   "execution_count": 80,
   "metadata": {},
   "outputs": [],
   "source": [
    "from sklearn.ensemble import RandomForestRegressor\n",
    "from pprint import pprint\n",
    "from sklearn.model_selection import RandomizedSearchCV"
   ]
  },
  {
   "cell_type": "code",
   "execution_count": 81,
   "metadata": {},
   "outputs": [],
   "source": [
    "train, test = train_test_split(df, test_size=0.25)\n",
    "\n",
    "x_train = train.drop('price', axis=1)\n",
    "y_train = train['price']\n",
    "\n",
    "x_test = test.drop('price', axis=1)\n",
    "y_test = test['price']"
   ]
  },
  {
   "cell_type": "code",
   "execution_count": 7,
   "metadata": {},
   "outputs": [
    {
     "name": "stdout",
     "output_type": "stream",
     "text": [
      "{'max_depth': [10, 20, 50, None],\n",
      " 'max_features': ['auto', 'sqrt', 'log2'],\n",
      " 'min_samples_leaf': [1, 2, 5, 10],\n",
      " 'min_samples_split': [2, 5, 10, 15],\n",
      " 'n_estimators': [100, 200, 500]}\n"
     ]
    }
   ],
   "source": [
    "# number of trees\n",
    "n_estimators = [100, 200, 500]\n",
    "\n",
    "# max number of features to consider at every split\n",
    "max_features = ['auto', 'sqrt', 'log2']\n",
    "\n",
    "# max number of levels in tree\n",
    "max_depth = [10, 20, 50]\n",
    "max_depth.append(None)\n",
    "\n",
    "# minimum number of samples required to split a node\n",
    "min_samples_split = [2, 5, 10, 15]\n",
    "\n",
    "# minimum number of samples required at each leaf node\n",
    "min_samples_leaf = [1, 2, 5, 10]\n",
    "\n",
    "random_grid_params = {\n",
    "    'n_estimators': n_estimators,\n",
    "    'max_features': max_features,\n",
    "    'max_depth': max_depth,\n",
    "    'min_samples_split': min_samples_split,\n",
    "    'min_samples_leaf': min_samples_leaf,\n",
    "}\n",
    "\n",
    "pprint(random_grid_params)"
   ]
  },
  {
   "cell_type": "code",
   "execution_count": 8,
   "metadata": {},
   "outputs": [],
   "source": [
    "# create the base model to tune\n",
    "rfr = RandomForestRegressor()\n",
    "\n",
    "# use the random grid to search for best hyperparameters,\n",
    "# using 5 fold cross validation, earch across 20 different combinations, and use all available cores\n",
    "rfr_random = RandomizedSearchCV(estimator=rfr, param_distributions=random_grid_params, n_iter=20, cv=3, verbose=2, random_state=42, n_jobs=-1)"
   ]
  },
  {
   "cell_type": "code",
   "execution_count": 9,
   "metadata": {},
   "outputs": [
    {
     "name": "stdout",
     "output_type": "stream",
     "text": [
      "Fitting 3 folds for each of 20 candidates, totalling 60 fits\n"
     ]
    },
    {
     "name": "stderr",
     "output_type": "stream",
     "text": [
      "/home/thay/anaconda3/lib/python3.8/site-packages/joblib/externals/loky/process_executor.py:688: UserWarning: A worker stopped while some jobs were given to the executor. This can be caused by a too short worker timeout or by a memory leak.\n",
      "  warnings.warn(\n"
     ]
    }
   ],
   "source": [
    "# fit the random search model\n",
    "rfr_random_results = rfr_random.fit(x_train, y_train)"
   ]
  },
  {
   "cell_type": "code",
   "execution_count": 10,
   "metadata": {},
   "outputs": [
    {
     "data": {
      "text/plain": [
       "0.6869087933350606"
      ]
     },
     "execution_count": 10,
     "metadata": {},
     "output_type": "execute_result"
    }
   ],
   "source": [
    "rfr_random_results.best_score_"
   ]
  },
  {
   "cell_type": "code",
   "execution_count": 11,
   "metadata": {},
   "outputs": [
    {
     "data": {
      "text/plain": [
       "{'n_estimators': 100,\n",
       " 'min_samples_split': 10,\n",
       " 'min_samples_leaf': 1,\n",
       " 'max_features': 'log2',\n",
       " 'max_depth': None}"
      ]
     },
     "execution_count": 11,
     "metadata": {},
     "output_type": "execute_result"
    }
   ],
   "source": [
    "rfr_random_results.best_params_"
   ]
  },
  {
   "cell_type": "code",
   "execution_count": 18,
   "metadata": {},
   "outputs": [],
   "source": [
    "model = RandomForestRegressor(n_jobs=-1, n_estimators=100, min_samples_split=2, min_samples_leaf=1, max_features='auto', max_depth=None)\n",
    "y_predicted = model.fit(x_train, y_train).predict(x_test)"
   ]
  },
  {
   "cell_type": "code",
   "execution_count": 19,
   "metadata": {},
   "outputs": [
    {
     "data": {
      "text/plain": [
       "0.2561500180491964"
      ]
     },
     "execution_count": 19,
     "metadata": {},
     "output_type": "execute_result"
    }
   ],
   "source": [
    "np.sqrt(mean_squared_log_error(y_test, y_predicted))"
   ]
  }
 ],
 "metadata": {
  "interpreter": {
   "hash": "144762e96ae07dfd72ac09e6b5ab033ed6d8ce30e36c5e495fd9bc099278cfa7"
  },
  "kernelspec": {
   "display_name": "Python 3",
   "language": "python",
   "name": "python3"
  },
  "language_info": {
   "codemirror_mode": {
    "name": "ipython",
    "version": 3
   },
   "file_extension": ".py",
   "mimetype": "text/x-python",
   "name": "python",
   "nbconvert_exporter": "python",
   "pygments_lexer": "ipython3",
   "version": "3.8.5"
  }
 },
 "nbformat": 4,
 "nbformat_minor": 2
}

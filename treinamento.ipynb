{
 "cells": [
  {
   "source": [
    "# Geração dos Modelos de AM\n",
    "\n",
    "## Título:\n",
    "\n",
    "**Predição de preço de imóveis**\n",
    "\n",
    "## Membros:\n",
    "\n",
    "*   Adrisson Rogério Samersla\n",
    "*   Nickolas Batista Mendonça Machado\n",
    "*   Thayna Pires Baldão"
   ],
   "cell_type": "markdown",
   "metadata": {}
  },
  {
   "cell_type": "markdown",
   "metadata": {},
   "source": [
    "# SETUP"
   ]
  },
  {
   "cell_type": "code",
   "execution_count": 1,
   "metadata": {},
   "outputs": [],
   "source": [
    "# Importando os pacotes necessários para a análise\n",
    "\n",
    "import time\n",
    "\n",
    "import pandas   as pd\n",
    "import numpy    as np\n",
    "\n",
    "pd.set_option('display.max_columns', None)  \n",
    "pd.set_option('display.expand_frame_repr', False)\n",
    "pd.reset_option('max_colwidth')\n",
    "\n",
    "# Configurações globais do treinamento\n",
    "NUM_JOBS = 8\n",
    "SEED = 21"
   ]
  },
  {
   "cell_type": "code",
   "execution_count": 2,
   "metadata": {},
   "outputs": [
    {
     "output_type": "stream",
     "name": "stdout",
     "text": [
      "Formato dos dados:  (449633, 12)\n#Exemplos: 449633\n#Atributos: 12\n"
     ]
    }
   ],
   "source": [
    "# Lendo a base de dados\n",
    "\n",
    "df = pd.read_csv('./dataset/preprocessed.csv')\n",
    "print(\"Formato dos dados: \", df.shape)\n",
    "print(\"#Exemplos: {}\".format(df.shape[0]))\n",
    "print(\"#Atributos: {}\".format(df.shape[1]))"
   ]
  },
  {
   "cell_type": "code",
   "execution_count": 3,
   "metadata": {},
   "outputs": [
    {
     "output_type": "stream",
     "name": "stdout",
     "text": [
      "created_on               float64\nlat                      float64\nlon                      float64\nsurface_total_in_m2      float64\nsurface_covered_in_m2    float64\nrooms                    float64\nexpenses                 float64\nPH                       float64\napartment                float64\nhouse                    float64\nstore                    float64\nprice                    float64\ndtype: object\ncreated_on               0\nlat                      0\nlon                      0\nsurface_total_in_m2      0\nsurface_covered_in_m2    0\nrooms                    0\nexpenses                 0\nPH                       0\napartment                0\nhouse                    0\nstore                    0\nprice                    0\ndtype: int64\n"
     ]
    },
    {
     "output_type": "execute_result",
     "data": {
      "text/plain": [
       "   created_on        lat        lon  surface_total_in_m2  surface_covered_in_m2  rooms  expenses   PH  apartment  house  store     price\n",
       "0       981.0 -23.616325 -46.676620                 80.0                   80.0    2.0    1065.0  0.0        1.0    0.0    0.0  900000.0\n",
       "1      1008.0 -30.051750 -51.182068                 91.0                   91.0    2.0       0.0  0.0        1.0    0.0    0.0  750000.0\n",
       "2       568.0 -25.413214 -49.271294                168.0                  168.0    2.0       0.0  0.0        1.0    0.0    0.0  880000.0\n",
       "3       755.0 -23.562290 -46.521248                145.0                  145.0    2.0       0.0  0.0        0.0    1.0    0.0  580000.0\n",
       "4       764.0 -21.809600 -46.544624                138.0                  260.0    3.0       0.0  0.0        0.0    1.0    0.0  420000.0"
      ],
      "text/html": "<div>\n<style scoped>\n    .dataframe tbody tr th:only-of-type {\n        vertical-align: middle;\n    }\n\n    .dataframe tbody tr th {\n        vertical-align: top;\n    }\n\n    .dataframe thead th {\n        text-align: right;\n    }\n</style>\n<table border=\"1\" class=\"dataframe\">\n  <thead>\n    <tr style=\"text-align: right;\">\n      <th></th>\n      <th>created_on</th>\n      <th>lat</th>\n      <th>lon</th>\n      <th>surface_total_in_m2</th>\n      <th>surface_covered_in_m2</th>\n      <th>rooms</th>\n      <th>expenses</th>\n      <th>PH</th>\n      <th>apartment</th>\n      <th>house</th>\n      <th>store</th>\n      <th>price</th>\n    </tr>\n  </thead>\n  <tbody>\n    <tr>\n      <th>0</th>\n      <td>981.0</td>\n      <td>-23.616325</td>\n      <td>-46.676620</td>\n      <td>80.0</td>\n      <td>80.0</td>\n      <td>2.0</td>\n      <td>1065.0</td>\n      <td>0.0</td>\n      <td>1.0</td>\n      <td>0.0</td>\n      <td>0.0</td>\n      <td>900000.0</td>\n    </tr>\n    <tr>\n      <th>1</th>\n      <td>1008.0</td>\n      <td>-30.051750</td>\n      <td>-51.182068</td>\n      <td>91.0</td>\n      <td>91.0</td>\n      <td>2.0</td>\n      <td>0.0</td>\n      <td>0.0</td>\n      <td>1.0</td>\n      <td>0.0</td>\n      <td>0.0</td>\n      <td>750000.0</td>\n    </tr>\n    <tr>\n      <th>2</th>\n      <td>568.0</td>\n      <td>-25.413214</td>\n      <td>-49.271294</td>\n      <td>168.0</td>\n      <td>168.0</td>\n      <td>2.0</td>\n      <td>0.0</td>\n      <td>0.0</td>\n      <td>1.0</td>\n      <td>0.0</td>\n      <td>0.0</td>\n      <td>880000.0</td>\n    </tr>\n    <tr>\n      <th>3</th>\n      <td>755.0</td>\n      <td>-23.562290</td>\n      <td>-46.521248</td>\n      <td>145.0</td>\n      <td>145.0</td>\n      <td>2.0</td>\n      <td>0.0</td>\n      <td>0.0</td>\n      <td>0.0</td>\n      <td>1.0</td>\n      <td>0.0</td>\n      <td>580000.0</td>\n    </tr>\n    <tr>\n      <th>4</th>\n      <td>764.0</td>\n      <td>-21.809600</td>\n      <td>-46.544624</td>\n      <td>138.0</td>\n      <td>260.0</td>\n      <td>3.0</td>\n      <td>0.0</td>\n      <td>0.0</td>\n      <td>0.0</td>\n      <td>1.0</td>\n      <td>0.0</td>\n      <td>420000.0</td>\n    </tr>\n  </tbody>\n</table>\n</div>"
     },
     "metadata": {},
     "execution_count": 3
    }
   ],
   "source": [
    "# Breve descrição da base de dados\n",
    "\n",
    "print('Tipo dos atributos:\\n')\n",
    "print(df.dtypes)\n",
    "\n",
    "print('\\n#Valores nulos:\\n')\n",
    "print(df.isnull().sum())\n",
    "\n",
    "print('\\nAlguns exemplo:\\n')\n",
    "df.head()"
   ]
  },
  {
   "source": [
    "# Geração dos Modelos de AM"
   ],
   "cell_type": "markdown",
   "metadata": {}
  },
  {
   "cell_type": "code",
   "execution_count": 4,
   "metadata": {},
   "outputs": [],
   "source": [
    "# Importando os pacotes necessários para o treinamento\n",
    "\n",
    "from sklearn.svm import LinearSVR\n",
    "from sklearn.ensemble import RandomForestRegressor\n",
    "from sklearn.neighbors import KNeighborsRegressor\n",
    "\n",
    "from sklearn.pipeline import Pipeline\n",
    "\n",
    "from sklearn.preprocessing import StandardScaler\n",
    "\n",
    "from sklearn.model_selection import GridSearchCV, KFold, cross_validate\n",
    "from sklearn.metrics import mean_squared_log_error\n",
    "from sklearn.metrics import make_scorer"
   ]
  },
  {
   "cell_type": "code",
   "execution_count": 5,
   "metadata": {},
   "outputs": [],
   "source": [
    "# Preparando o conjunto de dados\n",
    "\n",
    "X = df.drop(\"price\",1)\n",
    "y = df.price"
   ]
  },
  {
   "cell_type": "code",
   "execution_count": 6,
   "metadata": {},
   "outputs": [],
   "source": [
    "# Definição dos modelos e hiperparâmetros a serem avaliados\n",
    "\n",
    "scorer = make_scorer(mean_squared_log_error, greater_is_better=False)\n",
    "\n",
    "gscv = KFold(n_splits=3, shuffle=True, random_state=SEED)\n",
    "cv = KFold(n_splits=10, shuffle=True, random_state=SEED)\n",
    "\n",
    "algorithms = {\n",
    "    'rf': GridSearchCV(\n",
    "        Pipeline([\n",
    "            ('scaler', StandardScaler()),\n",
    "            ('rf', RandomForestRegressor(\n",
    "                random_state=SEED,\n",
    "                n_estimators=100,\n",
    "                max_depth=16,\n",
    "                max_features='auto',\n",
    "                min_samples_leaf=1,\n",
    "                n_jobs=NUM_JOBS))]), \n",
    "        param_grid= {\n",
    "            'rf__min_samples_split': [2, 5, 10],\n",
    "        },\n",
    "        scoring=scorer,\n",
    "        cv=gscv,\n",
    "        n_jobs=NUM_JOBS,\n",
    "        verbose=4),\n",
    "    'knn': GridSearchCV(\n",
    "        Pipeline([\n",
    "            ('scaler', StandardScaler()),\n",
    "            ('knn', KNeighborsRegressor(\n",
    "                weights='distance',\n",
    "                p=1, \n",
    "                n_jobs=NUM_JOBS))]), \n",
    "        param_grid={\n",
    "            'knn__n_neighbors': [7, 11, 15], \n",
    "        },\n",
    "        scoring=scorer,\n",
    "        cv=gscv,\n",
    "        n_jobs=NUM_JOBS,\n",
    "        verbose=4),\n",
    "    'svr': GridSearchCV(\n",
    "        Pipeline([\n",
    "            ('scaler', StandardScaler()),\n",
    "            ('svr', LinearSVR(\n",
    "                random_state=SEED, \n",
    "                max_iter=1E+6))]), \n",
    "        param_grid={\n",
    "            'svr__epsilon': [-1.5, -1.0, -0.5, 0.0, 0.5, 1.0, 10.0, 50.0, 75.0, 90.0],\n",
    "            'svr__C': [0.01, 0.1, 1.0, 5.0],\n",
    "        },\n",
    "        scoring=scorer,\n",
    "        cv=gscv,\n",
    "        n_jobs=NUM_JOBS,\n",
    "        verbose=4),\n",
    "}"
   ]
  },
  {
   "cell_type": "code",
   "execution_count": 7,
   "metadata": {},
   "outputs": [
    {
     "output_type": "stream",
     "name": "stdout",
     "text": [
      "Algorithm rf: starting...\n",
      "[Parallel(n_jobs=-1)]: Using backend LokyBackend with 8 concurrent workers.\n",
      "[Parallel(n_jobs=-1)]: Done  10 out of  10 | elapsed: 77.1min finished\n",
      "[Parallel(n_jobs=-1)]: Using backend LokyBackend with 8 concurrent workers.\n",
      "Algorithm rf: DONE!\n",
      "Train set: 460.81 s\n",
      "Test set : 0.26 s\n",
      "Total    : 461.06 s\n",
      "\n",
      "Algorithm knn: starting...\n",
      "[Parallel(n_jobs=-1)]: Done  10 out of  10 | elapsed: 184.2min finished\n",
      "[Parallel(n_jobs=-1)]: Using backend LokyBackend with 8 concurrent workers.\n",
      "Algorithm knn: DONE!\n",
      "Train set: 1083.32 s\n",
      "Test set : 21.31 s\n",
      "Total    : 1104.63 s\n",
      "\n",
      "Algorithm svr: starting...\n",
      "[Parallel(n_jobs=-1)]: Done  10 out of  10 | elapsed:  2.9min finished\n",
      "Algorithm svr: DONE!\n",
      "Train set: 16.65 s\n",
      "Test set : 0.01 s\n",
      "Total    : 16.65 s\n",
      "\n"
     ]
    }
   ],
   "source": [
    "# Executando o experimento\n",
    "\n",
    "results = {}\n",
    "best_algs = {}\n",
    "for alg, clf in algorithms.items():\n",
    "    print(f\"Algorithm {alg}: starting...\")\n",
    "    cv_res = cross_validate(clf, X, y, cv=cv, return_estimator=True, n_jobs=NUM_JOBS, pre_dispatch=1, verbose=4)\n",
    "    print(f\"Algorithm {alg}: DONE!\")\n",
    "    print(\"Train set: {:.2f} s\".format(np.mean(cv_res['fit_time'])))\n",
    "    print(\"Test set : {:.2f} s\".format(np.mean(cv_res['score_time'])))\n",
    "    print(\"Total    : {:.2f} s\".format(np.mean(cv_res['fit_time']) + np.mean(cv_res['score_time'])))\n",
    "    print()\n",
    "\n",
    "    results[alg] = np.sqrt(-cv_res['test_score'])\n",
    "    best_algs[alg] = cv_res['estimator']\n",
    "\n",
    "results = pd.DataFrame.from_dict(results)"
   ]
  },
  {
   "cell_type": "code",
   "execution_count": 8,
   "metadata": {},
   "outputs": [
    {
     "output_type": "execute_result",
     "data": {
      "text/plain": [
       "         rf       knn       svr\n",
       "0  0.306643  0.368359  0.802882\n",
       "1  0.308204  0.373111  0.807845\n",
       "2  0.304374  0.372610  0.812891\n",
       "3  0.299823  0.309161  0.809532\n",
       "4  0.305305  0.369953  0.803771\n",
       "5  0.309946  0.372822  0.809968\n",
       "6  0.306582  0.373051  0.804598\n",
       "7  0.306919  0.376341  0.802869\n",
       "8  0.312270  0.371901  0.800743\n",
       "9  0.306453  0.370750  0.805180"
      ],
      "text/html": "<div>\n<style scoped>\n    .dataframe tbody tr th:only-of-type {\n        vertical-align: middle;\n    }\n\n    .dataframe tbody tr th {\n        vertical-align: top;\n    }\n\n    .dataframe thead th {\n        text-align: right;\n    }\n</style>\n<table border=\"1\" class=\"dataframe\">\n  <thead>\n    <tr style=\"text-align: right;\">\n      <th></th>\n      <th>rf</th>\n      <th>knn</th>\n      <th>svr</th>\n    </tr>\n  </thead>\n  <tbody>\n    <tr>\n      <th>0</th>\n      <td>0.306643</td>\n      <td>0.368359</td>\n      <td>0.802882</td>\n    </tr>\n    <tr>\n      <th>1</th>\n      <td>0.308204</td>\n      <td>0.373111</td>\n      <td>0.807845</td>\n    </tr>\n    <tr>\n      <th>2</th>\n      <td>0.304374</td>\n      <td>0.372610</td>\n      <td>0.812891</td>\n    </tr>\n    <tr>\n      <th>3</th>\n      <td>0.299823</td>\n      <td>0.309161</td>\n      <td>0.809532</td>\n    </tr>\n    <tr>\n      <th>4</th>\n      <td>0.305305</td>\n      <td>0.369953</td>\n      <td>0.803771</td>\n    </tr>\n    <tr>\n      <th>5</th>\n      <td>0.309946</td>\n      <td>0.372822</td>\n      <td>0.809968</td>\n    </tr>\n    <tr>\n      <th>6</th>\n      <td>0.306582</td>\n      <td>0.373051</td>\n      <td>0.804598</td>\n    </tr>\n    <tr>\n      <th>7</th>\n      <td>0.306919</td>\n      <td>0.376341</td>\n      <td>0.802869</td>\n    </tr>\n    <tr>\n      <th>8</th>\n      <td>0.312270</td>\n      <td>0.371901</td>\n      <td>0.800743</td>\n    </tr>\n    <tr>\n      <th>9</th>\n      <td>0.306453</td>\n      <td>0.370750</td>\n      <td>0.805180</td>\n    </tr>\n  </tbody>\n</table>\n</div>"
     },
     "metadata": {},
     "execution_count": 8
    }
   ],
   "source": [
    "# Inspecionando os resultados\n",
    "\n",
    "results"
   ]
  }
 ],
 "metadata": {
  "interpreter": {
   "hash": "39a99e6402a5e3089e52d8af32288dc93e4162e81faf72116ca75d773f310577"
  },
  "kernelspec": {
   "name": "python3",
   "display_name": "Python 3.8.8 64-bit (conda)"
  },
  "language_info": {
   "codemirror_mode": {
    "name": "ipython",
    "version": 3
   },
   "file_extension": ".py",
   "mimetype": "text/x-python",
   "name": "python",
   "nbconvert_exporter": "python",
   "pygments_lexer": "ipython3",
   "version": "3.8.8"
  }
 },
 "nbformat": 4,
 "nbformat_minor": 2
}